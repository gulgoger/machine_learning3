{
 "cells": [
  {
   "cell_type": "code",
   "execution_count": 1,
   "id": "6300e754-cbc0-409f-97e6-2e262b07d58c",
   "metadata": {},
   "outputs": [],
   "source": [
    "import numpy as np\n",
    "import pandas as pd\n",
    "import statsmodels.api as sm\n",
    "import statsmodels.formula.api as smf\n",
    "import seaborn as sns\n",
    "from sklearn.preprocessing import scale\n",
    "from sklearn.model_selection import train_test_split, GridSearchCV, cross_val_score, cross_val_predict\n",
    "from sklearn.metrics import confusion_matrix, accuracy_score, classification_report, log_loss\n",
    "from sklearn.metrics import roc_auc_score, roc_curve\n",
    "import matplotlib.pyplot as plt\n",
    "from sklearn.neighbors import KNeighborsClassifier\n",
    "from sklearn.discriminant_analysis import LinearDiscriminantAnalysis\n",
    "from sklearn.linear_model import LogisticRegression\n",
    "from sklearn.svm import SVC\n",
    "from sklearn.naive_bayes import GaussianNB\n",
    "from sklearn import tree\n",
    "from sklearn.ensemble import RandomForestClassifier\n",
    "from sklearn.ensemble import GradientBoostingClassifier\n",
    "from xgboost import XGBClassifier\n",
    "from lightgbm import LGBMClassifier\n",
    "from catboost import CatBoostClassifier\n",
    "\n",
    "from warnings import filterwarnings\n",
    "filterwarnings(\"ignore\")"
   ]
  },
  {
   "cell_type": "markdown",
   "id": "efe9aca0-b625-4747-bfcf-a990a23fb34a",
   "metadata": {},
   "source": [
    "## Logistic Regression"
   ]
  },
  {
   "cell_type": "code",
   "execution_count": 2,
   "id": "121738ca-2d5e-40ca-9d98-00b66cf26a55",
   "metadata": {
    "tags": []
   },
   "outputs": [
    {
     "data": {
      "text/html": [
       "<div>\n",
       "<style scoped>\n",
       "    .dataframe tbody tr th:only-of-type {\n",
       "        vertical-align: middle;\n",
       "    }\n",
       "\n",
       "    .dataframe tbody tr th {\n",
       "        vertical-align: top;\n",
       "    }\n",
       "\n",
       "    .dataframe thead th {\n",
       "        text-align: right;\n",
       "    }\n",
       "</style>\n",
       "<table border=\"1\" class=\"dataframe\">\n",
       "  <thead>\n",
       "    <tr style=\"text-align: right;\">\n",
       "      <th></th>\n",
       "      <th>Pregnancies</th>\n",
       "      <th>Glucose</th>\n",
       "      <th>BloodPressure</th>\n",
       "      <th>SkinThickness</th>\n",
       "      <th>Insulin</th>\n",
       "      <th>BMI</th>\n",
       "      <th>DiabetesPedigreeFunction</th>\n",
       "      <th>Age</th>\n",
       "      <th>Outcome</th>\n",
       "    </tr>\n",
       "  </thead>\n",
       "  <tbody>\n",
       "    <tr>\n",
       "      <th>0</th>\n",
       "      <td>6</td>\n",
       "      <td>148</td>\n",
       "      <td>72</td>\n",
       "      <td>35</td>\n",
       "      <td>0</td>\n",
       "      <td>33.6</td>\n",
       "      <td>0.627</td>\n",
       "      <td>50</td>\n",
       "      <td>1</td>\n",
       "    </tr>\n",
       "    <tr>\n",
       "      <th>1</th>\n",
       "      <td>1</td>\n",
       "      <td>85</td>\n",
       "      <td>66</td>\n",
       "      <td>29</td>\n",
       "      <td>0</td>\n",
       "      <td>26.6</td>\n",
       "      <td>0.351</td>\n",
       "      <td>31</td>\n",
       "      <td>0</td>\n",
       "    </tr>\n",
       "    <tr>\n",
       "      <th>2</th>\n",
       "      <td>8</td>\n",
       "      <td>183</td>\n",
       "      <td>64</td>\n",
       "      <td>0</td>\n",
       "      <td>0</td>\n",
       "      <td>23.3</td>\n",
       "      <td>0.672</td>\n",
       "      <td>32</td>\n",
       "      <td>1</td>\n",
       "    </tr>\n",
       "    <tr>\n",
       "      <th>3</th>\n",
       "      <td>1</td>\n",
       "      <td>89</td>\n",
       "      <td>66</td>\n",
       "      <td>23</td>\n",
       "      <td>94</td>\n",
       "      <td>28.1</td>\n",
       "      <td>0.167</td>\n",
       "      <td>21</td>\n",
       "      <td>0</td>\n",
       "    </tr>\n",
       "    <tr>\n",
       "      <th>4</th>\n",
       "      <td>0</td>\n",
       "      <td>137</td>\n",
       "      <td>40</td>\n",
       "      <td>35</td>\n",
       "      <td>168</td>\n",
       "      <td>43.1</td>\n",
       "      <td>2.288</td>\n",
       "      <td>33</td>\n",
       "      <td>1</td>\n",
       "    </tr>\n",
       "  </tbody>\n",
       "</table>\n",
       "</div>"
      ],
      "text/plain": [
       "   Pregnancies  Glucose  BloodPressure  SkinThickness  Insulin   BMI  \\\n",
       "0            6      148             72             35        0  33.6   \n",
       "1            1       85             66             29        0  26.6   \n",
       "2            8      183             64              0        0  23.3   \n",
       "3            1       89             66             23       94  28.1   \n",
       "4            0      137             40             35      168  43.1   \n",
       "\n",
       "   DiabetesPedigreeFunction  Age  Outcome  \n",
       "0                     0.627   50        1  \n",
       "1                     0.351   31        0  \n",
       "2                     0.672   32        1  \n",
       "3                     0.167   21        0  \n",
       "4                     2.288   33        1  "
      ]
     },
     "execution_count": 2,
     "metadata": {},
     "output_type": "execute_result"
    }
   ],
   "source": [
    "diabetes = pd.read_csv(\"diabetes.csv\")\n",
    "df = diabetes.copy()\n",
    "df = df.dropna()\n",
    "df.head()"
   ]
  },
  {
   "cell_type": "code",
   "execution_count": 3,
   "id": "3282b714-906b-4878-97ca-29a809c42378",
   "metadata": {},
   "outputs": [
    {
     "name": "stdout",
     "output_type": "stream",
     "text": [
      "<class 'pandas.core.frame.DataFrame'>\n",
      "RangeIndex: 768 entries, 0 to 767\n",
      "Data columns (total 9 columns):\n",
      " #   Column                    Non-Null Count  Dtype  \n",
      "---  ------                    --------------  -----  \n",
      " 0   Pregnancies               768 non-null    int64  \n",
      " 1   Glucose                   768 non-null    int64  \n",
      " 2   BloodPressure             768 non-null    int64  \n",
      " 3   SkinThickness             768 non-null    int64  \n",
      " 4   Insulin                   768 non-null    int64  \n",
      " 5   BMI                       768 non-null    float64\n",
      " 6   DiabetesPedigreeFunction  768 non-null    float64\n",
      " 7   Age                       768 non-null    int64  \n",
      " 8   Outcome                   768 non-null    int64  \n",
      "dtypes: float64(2), int64(7)\n",
      "memory usage: 54.1 KB\n"
     ]
    }
   ],
   "source": [
    "df.info()"
   ]
  },
  {
   "cell_type": "code",
   "execution_count": 4,
   "id": "e887bc8e-505e-4623-aed7-53d723088722",
   "metadata": {},
   "outputs": [
    {
     "data": {
      "text/plain": [
       "0    500\n",
       "1    268\n",
       "Name: Outcome, dtype: int64"
      ]
     },
     "execution_count": 4,
     "metadata": {},
     "output_type": "execute_result"
    }
   ],
   "source": [
    "df[\"Outcome\"].value_counts()"
   ]
  },
  {
   "cell_type": "code",
   "execution_count": 5,
   "id": "7663f413-4dc5-4615-9cee-d8e421bf0453",
   "metadata": {},
   "outputs": [
    {
     "data": {
      "image/png": "[encoded data removed]",
      "text/plain": [
       "<Figure size 432x288 with 1 Axes>"
      ]
     },
     "metadata": {
      "needs_background": "light"
     },
     "output_type": "display_data"
    }
   ],
   "source": [
    "df[\"Outcome\"].value_counts().plot.barh();"
   ]
  },
  {
   "cell_type": "code",
   "execution_count": 6,
   "id": "ffb56686-886e-47ee-a1e5-55b04ef098fc",
   "metadata": {},
   "outputs": [
    {
     "data": {
      "text/html": [
       "<div>\n",
       "<style scoped>\n",
       "    .dataframe tbody tr th:only-of-type {\n",
       "        vertical-align: middle;\n",
       "    }\n",
       "\n",
       "    .dataframe tbody tr th {\n",
       "        vertical-align: top;\n",
       "    }\n",
       "\n",
       "    .dataframe thead th {\n",
       "        text-align: right;\n",
       "    }\n",
       "</style>\n",
       "<table border=\"1\" class=\"dataframe\">\n",
       "  <thead>\n",
       "    <tr style=\"text-align: right;\">\n",
       "      <th></th>\n",
       "      <th>count</th>\n",
       "      <th>mean</th>\n",
       "      <th>std</th>\n",
       "      <th>min</th>\n",
       "      <th>25%</th>\n",
       "      <th>50%</th>\n",
       "      <th>75%</th>\n",
       "      <th>max</th>\n",
       "    </tr>\n",
       "  </thead>\n",
       "  <tbody>\n",
       "    <tr>\n",
       "      <th>Pregnancies</th>\n",
       "      <td>768.0</td>\n",
       "      <td>3.845052</td>\n",
       "      <td>3.369578</td>\n",
       "      <td>0.000</td>\n",
       "      <td>1.00000</td>\n",
       "      <td>3.0000</td>\n",
       "      <td>6.00000</td>\n",
       "      <td>17.00</td>\n",
       "    </tr>\n",
       "    <tr>\n",
       "      <th>Glucose</th>\n",
       "      <td>768.0</td>\n",
       "      <td>120.894531</td>\n",
       "      <td>31.972618</td>\n",
       "      <td>0.000</td>\n",
       "      <td>99.00000</td>\n",
       "      <td>117.0000</td>\n",
       "      <td>140.25000</td>\n",
       "      <td>199.00</td>\n",
       "    </tr>\n",
       "    <tr>\n",
       "      <th>BloodPressure</th>\n",
       "      <td>768.0</td>\n",
       "      <td>69.105469</td>\n",
       "      <td>19.355807</td>\n",
       "      <td>0.000</td>\n",
       "      <td>62.00000</td>\n",
       "      <td>72.0000</td>\n",
       "      <td>80.00000</td>\n",
       "      <td>122.00</td>\n",
       "    </tr>\n",
       "    <tr>\n",
       "      <th>SkinThickness</th>\n",
       "      <td>768.0</td>\n",
       "      <td>20.536458</td>\n",
       "      <td>15.952218</td>\n",
       "      <td>0.000</td>\n",
       "      <td>0.00000</td>\n",
       "      <td>23.0000</td>\n",
       "      <td>32.00000</td>\n",
       "      <td>99.00</td>\n",
       "    </tr>\n",
       "    <tr>\n",
       "      <th>Insulin</th>\n",
       "      <td>768.0</td>\n",
       "      <td>79.799479</td>\n",
       "      <td>115.244002</td>\n",
       "      <td>0.000</td>\n",
       "      <td>0.00000</td>\n",
       "      <td>30.5000</td>\n",
       "      <td>127.25000</td>\n",
       "      <td>846.00</td>\n",
       "    </tr>\n",
       "    <tr>\n",
       "      <th>BMI</th>\n",
       "      <td>768.0</td>\n",
       "      <td>31.992578</td>\n",
       "      <td>7.884160</td>\n",
       "      <td>0.000</td>\n",
       "      <td>27.30000</td>\n",
       "      <td>32.0000</td>\n",
       "      <td>36.60000</td>\n",
       "      <td>67.10</td>\n",
       "    </tr>\n",
       "    <tr>\n",
       "      <th>DiabetesPedigreeFunction</th>\n",
       "      <td>768.0</td>\n",
       "      <td>0.471876</td>\n",
       "      <td>0.331329</td>\n",
       "      <td>0.078</td>\n",
       "      <td>0.24375</td>\n",
       "      <td>0.3725</td>\n",
       "      <td>0.62625</td>\n",
       "      <td>2.42</td>\n",
       "    </tr>\n",
       "    <tr>\n",
       "      <th>Age</th>\n",
       "      <td>768.0</td>\n",
       "      <td>33.240885</td>\n",
       "      <td>11.760232</td>\n",
       "      <td>21.000</td>\n",
       "      <td>24.00000</td>\n",
       "      <td>29.0000</td>\n",
       "      <td>41.00000</td>\n",
       "      <td>81.00</td>\n",
       "    </tr>\n",
       "    <tr>\n",
       "      <th>Outcome</th>\n",
       "      <td>768.0</td>\n",
       "      <td>0.348958</td>\n",
       "      <td>0.476951</td>\n",
       "      <td>0.000</td>\n",
       "      <td>0.00000</td>\n",
       "      <td>0.0000</td>\n",
       "      <td>1.00000</td>\n",
       "      <td>1.00</td>\n",
       "    </tr>\n",
       "  </tbody>\n",
       "</table>\n",
       "</div>"
      ],
      "text/plain": [
       "                          count        mean         std     min       25%  \\\n",
       "Pregnancies               768.0    3.845052    3.369578   0.000   1.00000   \n",
       "Glucose                   768.0  120.894531   31.972618   0.000  99.00000   \n",
       "BloodPressure             768.0   69.105469   19.355807   0.000  62.00000   \n",
       "SkinThickness             768.0   20.536458   15.952218   0.000   0.00000   \n",
       "Insulin                   768.0   79.799479  115.244002   0.000   0.00000   \n",
       "BMI                       768.0   31.992578    7.884160   0.000  27.30000   \n",
       "DiabetesPedigreeFunction  768.0    0.471876    0.331329   0.078   0.24375   \n",
       "Age                       768.0   33.240885   11.760232  21.000  24.00000   \n",
       "Outcome                   768.0    0.348958    0.476951   0.000   0.00000   \n",
       "\n",
       "                               50%        75%     max  \n",
       "Pregnancies                 3.0000    6.00000   17.00  \n",
       "Glucose                   117.0000  140.25000  199.00  \n",
       "BloodPressure              72.0000   80.00000  122.00  \n",
       "SkinThickness              23.0000   32.00000   99.00  \n",
       "Insulin                    30.5000  127.25000  846.00  \n",
       "BMI                        32.0000   36.60000   67.10  \n",
       "DiabetesPedigreeFunction    0.3725    0.62625    2.42  \n",
       "Age                        29.0000   41.00000   81.00  \n",
       "Outcome                     0.0000    1.00000    1.00  "
      ]
     },
     "execution_count": 6,
     "metadata": {},
     "output_type": "execute_result"
    }
   ],
   "source": [
    "df.describe().T"
   ]
  },
  {
   "cell_type": "code",
   "execution_count": 7,
   "id": "e69b7c60-036d-4a25-a1f6-96a03bacf668",
   "metadata": {},
   "outputs": [],
   "source": [
    "y = df[\"Outcome\"]\n",
    "X = df.drop([\"Outcome\"], axis=1)"
   ]
  },
  {
   "cell_type": "code",
   "execution_count": 8,
   "id": "a1a8ff43-c159-4eaa-943d-3c2918c77554",
   "metadata": {},
   "outputs": [],
   "source": [
    "# statsmodel"
   ]
  },
  {
   "cell_type": "code",
   "execution_count": 9,
   "id": "ac9caf2f-1deb-4ee5-91ff-1a1dee81fc83",
   "metadata": {},
   "outputs": [
    {
     "name": "stdout",
     "output_type": "stream",
     "text": [
      "Optimization terminated successfully.\n",
      "         Current function value: 0.608498\n",
      "         Iterations 5\n"
     ]
    },
    {
     "data": {
      "text/html": [
       "<table class=\"simpletable\">\n",
       "<caption>Logit Regression Results</caption>\n",
       "<tr>\n",
       "  <th>Dep. Variable:</th>        <td>Outcome</td>     <th>  No. Observations:  </th>  <td>   768</td>  \n",
       "</tr>\n",
       "<tr>\n",
       "  <th>Model:</th>                 <td>Logit</td>      <th>  Df Residuals:      </th>  <td>   760</td>  \n",
       "</tr>\n",
       "<tr>\n",
       "  <th>Method:</th>                 <td>MLE</td>       <th>  Df Model:          </th>  <td>     7</td>  \n",
       "</tr>\n",
       "<tr>\n",
       "  <th>Date:</th>            <td>Wed, 25 Oct 2023</td> <th>  Pseudo R-squ.:     </th>  <td>0.05922</td> \n",
       "</tr>\n",
       "<tr>\n",
       "  <th>Time:</th>                <td>13:40:28</td>     <th>  Log-Likelihood:    </th> <td> -467.33</td> \n",
       "</tr>\n",
       "<tr>\n",
       "  <th>converged:</th>             <td>True</td>       <th>  LL-Null:           </th> <td> -496.74</td> \n",
       "</tr>\n",
       "<tr>\n",
       "  <th>Covariance Type:</th>     <td>nonrobust</td>    <th>  LLR p-value:       </th> <td>2.583e-10</td>\n",
       "</tr>\n",
       "</table>\n",
       "<table class=\"simpletable\">\n",
       "<tr>\n",
       "              <td></td>                <th>coef</th>     <th>std err</th>      <th>z</th>      <th>P>|z|</th>  <th>[0.025</th>    <th>0.975]</th>  \n",
       "</tr>\n",
       "<tr>\n",
       "  <th>Pregnancies</th>              <td>    0.1284</td> <td>    0.029</td> <td>    4.484</td> <td> 0.000</td> <td>    0.072</td> <td>    0.185</td>\n",
       "</tr>\n",
       "<tr>\n",
       "  <th>Glucose</th>                  <td>    0.0129</td> <td>    0.003</td> <td>    4.757</td> <td> 0.000</td> <td>    0.008</td> <td>    0.018</td>\n",
       "</tr>\n",
       "<tr>\n",
       "  <th>BloodPressure</th>            <td>   -0.0303</td> <td>    0.005</td> <td>   -6.481</td> <td> 0.000</td> <td>   -0.039</td> <td>   -0.021</td>\n",
       "</tr>\n",
       "<tr>\n",
       "  <th>SkinThickness</th>            <td>    0.0002</td> <td>    0.006</td> <td>    0.032</td> <td> 0.974</td> <td>   -0.012</td> <td>    0.012</td>\n",
       "</tr>\n",
       "<tr>\n",
       "  <th>Insulin</th>                  <td>    0.0007</td> <td>    0.001</td> <td>    0.942</td> <td> 0.346</td> <td>   -0.001</td> <td>    0.002</td>\n",
       "</tr>\n",
       "<tr>\n",
       "  <th>BMI</th>                      <td>   -0.0048</td> <td>    0.011</td> <td>   -0.449</td> <td> 0.653</td> <td>   -0.026</td> <td>    0.016</td>\n",
       "</tr>\n",
       "<tr>\n",
       "  <th>DiabetesPedigreeFunction</th> <td>    0.3203</td> <td>    0.240</td> <td>    1.335</td> <td> 0.182</td> <td>   -0.150</td> <td>    0.790</td>\n",
       "</tr>\n",
       "<tr>\n",
       "  <th>Age</th>                      <td>   -0.0156</td> <td>    0.008</td> <td>   -1.852</td> <td> 0.064</td> <td>   -0.032</td> <td>    0.001</td>\n",
       "</tr>\n",
       "</table>"
      ],
      "text/plain": [
       "<class 'statsmodels.iolib.summary.Summary'>\n",
       "\"\"\"\n",
       "                           Logit Regression Results                           \n",
       "==============================================================================\n",
       "Dep. Variable:                Outcome   No. Observations:                  768\n",
       "Model:                          Logit   Df Residuals:                      760\n",
       "Method:                           MLE   Df Model:                            7\n",
       "Date:                Wed, 25 Oct 2023   Pseudo R-squ.:                 0.05922\n",
       "Time:                        13:40:28   Log-Likelihood:                -467.33\n",
       "converged:                       True   LL-Null:                       -496.74\n",
       "Covariance Type:            nonrobust   LLR p-value:                 2.583e-10\n",
       "============================================================================================\n",
       "                               coef    std err          z      P>|z|      [0.025      0.975]\n",
       "--------------------------------------------------------------------------------------------\n",
       "Pregnancies                  0.1284      0.029      4.484      0.000       0.072       0.185\n",
       "Glucose                      0.0129      0.003      4.757      0.000       0.008       0.018\n",
       "BloodPressure               -0.0303      0.005     -6.481      0.000      -0.039      -0.021\n",
       "SkinThickness                0.0002      0.006      0.032      0.974      -0.012       0.012\n",
       "Insulin                      0.0007      0.001      0.942      0.346      -0.001       0.002\n",
       "BMI                         -0.0048      0.011     -0.449      0.653      -0.026       0.016\n",
       "DiabetesPedigreeFunction     0.3203      0.240      1.335      0.182      -0.150       0.790\n",
       "Age                         -0.0156      0.008     -1.852      0.064      -0.032       0.001\n",
       "============================================================================================\n",
       "\"\"\""
      ]
     },
     "execution_count": 9,
     "metadata": {},
     "output_type": "execute_result"
    }
   ],
   "source": [
    "loj = sm.Logit(y,X)\n",
    "loj_model = loj.fit()\n",
    "loj_model.summary()"
   ]
  },
  {
   "cell_type": "code",
   "execution_count": 10,
   "id": "20af3d6d-2809-4f65-a8f2-ca2384ae1f88",
   "metadata": {},
   "outputs": [],
   "source": [
    "# scikit-learn"
   ]
  },
  {
   "cell_type": "code",
   "execution_count": 11,
   "id": "f7836163-0755-482a-a619-2b970dbc2326",
   "metadata": {},
   "outputs": [
    {
     "data": {
      "text/plain": [
       "LogisticRegression(solver='liblinear')"
      ]
     },
     "execution_count": 11,
     "metadata": {},
     "output_type": "execute_result"
    }
   ],
   "source": [
    "from sklearn.linear_model import LogisticRegression\n",
    "loj = LogisticRegression(solver = \"liblinear\")\n",
    "loj_model = loj.fit(X,y)\n",
    "loj_model"
   ]
  },
  {
   "cell_type": "code",
   "execution_count": 12,
   "id": "aff0aa12-e318-4387-b828-fbbb957598ea",
   "metadata": {},
   "outputs": [
    {
     "data": {
      "text/plain": [
       "array([-5.88679617])"
      ]
     },
     "execution_count": 12,
     "metadata": {},
     "output_type": "execute_result"
    }
   ],
   "source": [
    "loj_model.intercept_"
   ]
  },
  {
   "cell_type": "code",
   "execution_count": 13,
   "id": "decf7134-8ca0-4614-853f-cd602c563371",
   "metadata": {},
   "outputs": [
    {
     "data": {
      "text/plain": [
       "array([[ 1.16994476e-01,  2.83733435e-02, -1.68981359e-02,\n",
       "         7.55145090e-04, -6.41407258e-04,  5.97201268e-02,\n",
       "         6.76128123e-01,  7.23498971e-03]])"
      ]
     },
     "execution_count": 13,
     "metadata": {},
     "output_type": "execute_result"
    }
   ],
   "source": [
    "loj_model.coef_"
   ]
  },
  {
   "cell_type": "markdown",
   "id": "8eab76c3-efa2-42c0-b5d8-68f355ef58b0",
   "metadata": {},
   "source": [
    "## Tahmin & Model Tuning"
   ]
  },
  {
   "cell_type": "code",
   "execution_count": 14,
   "id": "800179c7-1651-4664-a51f-1e1662baf548",
   "metadata": {},
   "outputs": [],
   "source": [
    "y_pred = loj_model.predict(X)"
   ]
  },
  {
   "cell_type": "code",
   "execution_count": 15,
   "id": "12a96e73-9884-4c7c-a677-96e732004502",
   "metadata": {},
   "outputs": [
    {
     "data": {
      "text/plain": [
       "array([[448,  52],\n",
       "       [121, 147]], dtype=int64)"
      ]
     },
     "execution_count": 15,
     "metadata": {},
     "output_type": "execute_result"
    }
   ],
   "source": [
    "confusion_matrix(y,y_pred)"
   ]
  },
  {
   "cell_type": "code",
   "execution_count": 16,
   "id": "eb307942-f7da-4ab4-bc23-ad87f413aaaa",
   "metadata": {},
   "outputs": [
    {
     "data": {
      "text/plain": [
       "0.7747395833333334"
      ]
     },
     "execution_count": 16,
     "metadata": {},
     "output_type": "execute_result"
    }
   ],
   "source": [
    "accuracy_score(y, y_pred)"
   ]
  },
  {
   "cell_type": "code",
   "execution_count": 17,
   "id": "901f7261-1cb8-4305-a65c-04c0195d49cc",
   "metadata": {},
   "outputs": [
    {
     "name": "stdout",
     "output_type": "stream",
     "text": [
      "              precision    recall  f1-score   support\n",
      "\n",
      "           0       0.79      0.90      0.84       500\n",
      "           1       0.74      0.55      0.63       268\n",
      "\n",
      "    accuracy                           0.77       768\n",
      "   macro avg       0.76      0.72      0.73       768\n",
      "weighted avg       0.77      0.77      0.77       768\n",
      "\n"
     ]
    }
   ],
   "source": [
    "print(classification_report(y, y_pred))"
   ]
  },
  {
   "cell_type": "code",
   "execution_count": 18,
   "id": "db73fdc6-1765-4c6a-b708-5d0c65851612",
   "metadata": {},
   "outputs": [
    {
     "data": {
      "text/plain": [
       "array([1, 0, 1, 0, 1, 0, 0, 1, 1, 0], dtype=int64)"
      ]
     },
     "execution_count": 18,
     "metadata": {},
     "output_type": "execute_result"
    }
   ],
   "source": [
    "loj_model.predict(X)[:10]"
   ]
  },
  {
   "cell_type": "code",
   "execution_count": 19,
   "id": "bd7f9164-6f36-4d68-9a1b-36d0840e443d",
   "metadata": {},
   "outputs": [
    {
     "data": {
      "text/plain": [
       "array([[0.3505852 ],\n",
       "       [0.91692518],\n",
       "       [0.22489628],\n",
       "       [0.92127453],\n",
       "       [0.16759435],\n",
       "       [0.79886109],\n",
       "       [0.8800353 ],\n",
       "       [0.27795677],\n",
       "       [0.32053464],\n",
       "       [0.92264521]])"
      ]
     },
     "execution_count": 19,
     "metadata": {},
     "output_type": "execute_result"
    }
   ],
   "source": [
    "loj_model.predict_proba(X)[0:10][:,0:1]"
   ]
  },
  {
   "cell_type": "code",
   "execution_count": 20,
   "id": "f5aba5c2-02c9-4973-a917-d4be25e2a64e",
   "metadata": {},
   "outputs": [
    {
     "data": {
      "text/plain": [
       "0    1\n",
       "1    0\n",
       "2    1\n",
       "3    0\n",
       "4    1\n",
       "5    0\n",
       "6    1\n",
       "7    0\n",
       "8    1\n",
       "9    1\n",
       "Name: Outcome, dtype: int64"
      ]
     },
     "execution_count": 20,
     "metadata": {},
     "output_type": "execute_result"
    }
   ],
   "source": [
    "y[0:10]"
   ]
  },
  {
   "cell_type": "code",
   "execution_count": 21,
   "id": "1c128a6f-504c-49c0-b69b-9f36b0965703",
   "metadata": {},
   "outputs": [],
   "source": [
    "y_probs = loj_model.predict_proba(X)\n",
    "y_probs = y_probs[:,1]"
   ]
  },
  {
   "cell_type": "code",
   "execution_count": 22,
   "id": "e4ee9725-dea7-4674-b7f9-9554c1b711c6",
   "metadata": {},
   "outputs": [
    {
     "data": {
      "text/plain": [
       "array([0.6494148 , 0.08307482, 0.77510372, 0.07872547, 0.83240565,\n",
       "       0.20113891, 0.1199647 , 0.72204323, 0.67946536, 0.07735479])"
      ]
     },
     "execution_count": 22,
     "metadata": {},
     "output_type": "execute_result"
    }
   ],
   "source": [
    "y_probs[0:10]"
   ]
  },
  {
   "cell_type": "code",
   "execution_count": 23,
   "id": "77321fbc-b77d-4160-b1be-1752a460ebea",
   "metadata": {},
   "outputs": [],
   "source": [
    "y_pred = [1 if i > 0.5 else 0 for i in y_probs]"
   ]
  },
  {
   "cell_type": "code",
   "execution_count": 24,
   "id": "8907a88a-4b02-4a04-9e06-e791b669d34d",
   "metadata": {},
   "outputs": [
    {
     "data": {
      "text/plain": [
       "[1, 0, 1, 0, 1, 0, 0, 1, 1, 0]"
      ]
     },
     "execution_count": 24,
     "metadata": {},
     "output_type": "execute_result"
    }
   ],
   "source": [
    "y_pred[0:10]"
   ]
  },
  {
   "cell_type": "code",
   "execution_count": 25,
   "id": "1f5abd92-10dd-4182-9be6-41fa5d07d112",
   "metadata": {},
   "outputs": [
    {
     "data": {
      "text/plain": [
       "array([[448,  52],\n",
       "       [121, 147]], dtype=int64)"
      ]
     },
     "execution_count": 25,
     "metadata": {},
     "output_type": "execute_result"
    }
   ],
   "source": [
    "confusion_matrix(y,y_pred)"
   ]
  },
  {
   "cell_type": "code",
   "execution_count": 26,
   "id": "bdbe2d96-32f7-4fa0-b53d-0d7a1e79ef3e",
   "metadata": {},
   "outputs": [
    {
     "data": {
      "text/plain": [
       "0.7747395833333334"
      ]
     },
     "execution_count": 26,
     "metadata": {},
     "output_type": "execute_result"
    }
   ],
   "source": [
    "accuracy_score(y, y_pred)"
   ]
  },
  {
   "cell_type": "code",
   "execution_count": 27,
   "id": "b24cccb3-49da-4134-b2ea-eddf48f5285d",
   "metadata": {},
   "outputs": [
    {
     "name": "stdout",
     "output_type": "stream",
     "text": [
      "              precision    recall  f1-score   support\n",
      "\n",
      "           0       0.79      0.90      0.84       500\n",
      "           1       0.74      0.55      0.63       268\n",
      "\n",
      "    accuracy                           0.77       768\n",
      "   macro avg       0.76      0.72      0.73       768\n",
      "weighted avg       0.77      0.77      0.77       768\n",
      "\n"
     ]
    }
   ],
   "source": [
    "print(classification_report(y, y_pred))"
   ]
  },
  {
   "cell_type": "code",
   "execution_count": 28,
   "id": "660f7db7-c3f4-41e0-9c31-a4fddfbf3bc0",
   "metadata": {},
   "outputs": [
    {
     "data": {
      "text/plain": [
       "array([0.6494148 , 0.08307482, 0.77510372, 0.07872547, 0.83240565])"
      ]
     },
     "execution_count": 28,
     "metadata": {},
     "output_type": "execute_result"
    }
   ],
   "source": [
    "loj_model.predict_proba(X)[:,1][0:5]"
   ]
  },
  {
   "cell_type": "code",
   "execution_count": 29,
   "id": "fe750215-b41a-49f0-a70c-84c7836d1003",
   "metadata": {},
   "outputs": [
    {
     "data": {
      "image/png": "[encoded data removed]",
      "text/plain": [
       "<Figure size 432x288 with 1 Axes>"
      ]
     },
     "metadata": {
      "needs_background": "light"
     },
     "output_type": "display_data"
    }
   ],
   "source": [
    "logit_roc_auc = roc_auc_score(y, loj_model.predict(X))\n",
    "\n",
    "fpr, tpr, thresholds = roc_curve(y, loj_model.predict_proba(X)[:,1])\n",
    "plt.figure()\n",
    "plt.plot(fpr, tpr, label= \"AUC (area = %0.2f)\" % logit_roc_auc)\n",
    "plt.plot([0,1], [0,1], \"r--\")\n",
    "plt.xlim([0.0, 1.0])\n",
    "plt.ylim([0.0, 1.05])\n",
    "plt.xlabel(\"False Positive Oranı\")\n",
    "plt.ylabel(\"True Positive Oranı\")\n",
    "plt.title(\"ROC\")\n",
    "plt.show()"
   ]
  },
  {
   "cell_type": "code",
   "execution_count": 30,
   "id": "7464bd59-8e70-4aaf-b091-4b038c0ba0be",
   "metadata": {},
   "outputs": [],
   "source": [
    "X_train, X_test, y_train, y_test = train_test_split(X,y,test_size =0.30, random_state=42)"
   ]
  },
  {
   "cell_type": "code",
   "execution_count": 31,
   "id": "6d0900ac-cf8f-4666-8409-018ad8d8349d",
   "metadata": {},
   "outputs": [
    {
     "data": {
      "text/plain": [
       "LogisticRegression(solver='liblinear')"
      ]
     },
     "execution_count": 31,
     "metadata": {},
     "output_type": "execute_result"
    }
   ],
   "source": [
    "loj = LogisticRegression(solver=\"liblinear\")\n",
    "loj_model = loj.fit(X_train,y_train)\n",
    "loj_model"
   ]
  },
  {
   "cell_type": "code",
   "execution_count": 32,
   "id": "c46676ef-521a-4cb8-b735-fa6351cd5ef3",
   "metadata": {},
   "outputs": [
    {
     "data": {
      "text/plain": [
       "0.7532467532467533"
      ]
     },
     "execution_count": 32,
     "metadata": {},
     "output_type": "execute_result"
    }
   ],
   "source": [
    "accuracy_score(y_test, loj_model.predict(X_test))"
   ]
  },
  {
   "cell_type": "code",
   "execution_count": 33,
   "id": "2aee1606-dae9-4e37-bea3-0b7708c2815b",
   "metadata": {},
   "outputs": [
    {
     "data": {
      "text/plain": [
       "0.7704710144927536"
      ]
     },
     "execution_count": 33,
     "metadata": {},
     "output_type": "execute_result"
    }
   ],
   "source": [
    "cross_val_score(loj_model, X_test, y_test, cv=10).mean()"
   ]
  },
  {
   "cell_type": "markdown",
   "id": "1d59577e-841e-4608-a9d9-05e661a24bfe",
   "metadata": {},
   "source": [
    "## Gaussian Naive Bayes"
   ]
  },
  {
   "cell_type": "code",
   "execution_count": 34,
   "id": "99107e21-1226-4ebb-8562-8295df0da095",
   "metadata": {},
   "outputs": [],
   "source": [
    "df = diabetes.copy()\n",
    "df = df.dropna()\n",
    "y = df[\"Outcome\"]\n",
    "X = df.drop([\"Outcome\"], axis=1)\n",
    "X_train, X_test, y_train, y_test = train_test_split(X,y,test_size =0.30, random_state=42)"
   ]
  },
  {
   "cell_type": "code",
   "execution_count": 35,
   "id": "13b8ed8a-f900-4b89-b8dd-ef0432a14b52",
   "metadata": {},
   "outputs": [],
   "source": [
    "from sklearn.naive_bayes import GaussianNB"
   ]
  },
  {
   "cell_type": "code",
   "execution_count": 36,
   "id": "75287631-59c0-46d0-8b8f-48530310a824",
   "metadata": {},
   "outputs": [
    {
     "data": {
      "text/plain": [
       "GaussianNB()"
      ]
     },
     "execution_count": 36,
     "metadata": {},
     "output_type": "execute_result"
    }
   ],
   "source": [
    "nb = GaussianNB()\n",
    "nb_model = nb.fit(X_train,y_train)\n",
    "nb_model"
   ]
  },
  {
   "cell_type": "code",
   "execution_count": 37,
   "id": "198f3aa8-0151-43d4-965a-7a5e52afe479",
   "metadata": {},
   "outputs": [
    {
     "data": {
      "text/plain": [
       "array([0, 0, 0, 0, 1, 1, 0, 0, 0, 1], dtype=int64)"
      ]
     },
     "execution_count": 37,
     "metadata": {},
     "output_type": "execute_result"
    }
   ],
   "source": [
    "nb_model.predict(X_test)[0:10]"
   ]
  },
  {
   "cell_type": "code",
   "execution_count": 38,
   "id": "525a3fc3-1f3f-4035-abf8-41da01a13a18",
   "metadata": {},
   "outputs": [
    {
     "data": {
      "text/plain": [
       "array([[0.73815858, 0.26184142],\n",
       "       [0.94027894, 0.05972106],\n",
       "       [0.97242831, 0.02757169],\n",
       "       [0.82840069, 0.17159931],\n",
       "       [0.47153473, 0.52846527],\n",
       "       [0.47274458, 0.52725542],\n",
       "       [0.99607705, 0.00392295],\n",
       "       [0.69925055, 0.30074945],\n",
       "       [0.53838117, 0.46161883],\n",
       "       [0.25004536, 0.74995464]])"
      ]
     },
     "execution_count": 38,
     "metadata": {},
     "output_type": "execute_result"
    }
   ],
   "source": [
    "nb_model.predict_proba(X_test)[0:10]"
   ]
  },
  {
   "cell_type": "code",
   "execution_count": 39,
   "id": "fd9aa73a-1997-49fe-88f1-32bf4a05cca7",
   "metadata": {},
   "outputs": [],
   "source": [
    "y_pred = nb_model.predict(X_test)"
   ]
  },
  {
   "cell_type": "code",
   "execution_count": 40,
   "id": "a75963a0-9dd7-4133-bac6-ccad869f56c2",
   "metadata": {},
   "outputs": [
    {
     "data": {
      "text/plain": [
       "0.7445887445887446"
      ]
     },
     "execution_count": 40,
     "metadata": {},
     "output_type": "execute_result"
    }
   ],
   "source": [
    "accuracy_score(y_test, y_pred)"
   ]
  },
  {
   "cell_type": "code",
   "execution_count": 41,
   "id": "4d634813-6923-4a56-bd5e-14e2303f7aac",
   "metadata": {},
   "outputs": [
    {
     "data": {
      "text/plain": [
       "0.775"
      ]
     },
     "execution_count": 41,
     "metadata": {},
     "output_type": "execute_result"
    }
   ],
   "source": [
    "cross_val_score(nb_model, X_test, y_test, cv=10).mean()"
   ]
  },
  {
   "cell_type": "markdown",
   "id": "a79f8e40-d0e7-47a3-a1a5-d62b1cd0d162",
   "metadata": {},
   "source": [
    "## KNN"
   ]
  },
  {
   "cell_type": "markdown",
   "id": "5715d48a-e86b-43ef-8e5e-e4d91e382ebb",
   "metadata": {},
   "source": [
    "### Model & Tahmin"
   ]
  },
  {
   "cell_type": "code",
   "execution_count": 42,
   "id": "bc627016-6430-428f-9dea-9ef80165d08a",
   "metadata": {},
   "outputs": [],
   "source": [
    "df = diabetes.copy()\n",
    "df = df.dropna()\n",
    "y = df[\"Outcome\"]\n",
    "X = df.drop([\"Outcome\"], axis=1)\n",
    "X_train, X_test, y_train, y_test = train_test_split(X,y,test_size =0.30, random_state=42)"
   ]
  },
  {
   "cell_type": "code",
   "execution_count": 43,
   "id": "e7b1b7a8-dec5-4b66-87a6-f1bc4a97ae8a",
   "metadata": {},
   "outputs": [
    {
     "data": {
      "text/plain": [
       "KNeighborsClassifier()"
      ]
     },
     "execution_count": 43,
     "metadata": {},
     "output_type": "execute_result"
    }
   ],
   "source": [
    "knn = KNeighborsClassifier()\n",
    "knn_model = knn.fit(X_train, y_train)\n",
    "knn_model"
   ]
  },
  {
   "cell_type": "code",
   "execution_count": 44,
   "id": "da370289-16c9-480e-9c29-15c4c2a35e5b",
   "metadata": {},
   "outputs": [],
   "source": [
    "y_pred = knn_model.predict(X_test)"
   ]
  },
  {
   "cell_type": "code",
   "execution_count": 45,
   "id": "60fa9981-5642-4449-aa94-77cd4c962acc",
   "metadata": {},
   "outputs": [
    {
     "data": {
      "text/plain": [
       "0.6883116883116883"
      ]
     },
     "execution_count": 45,
     "metadata": {},
     "output_type": "execute_result"
    }
   ],
   "source": [
    "accuracy_score(y_test, y_pred)"
   ]
  },
  {
   "cell_type": "code",
   "execution_count": 46,
   "id": "2a261dde-84cd-4ce5-89df-e9e555d160b3",
   "metadata": {},
   "outputs": [
    {
     "name": "stdout",
     "output_type": "stream",
     "text": [
      "              precision    recall  f1-score   support\n",
      "\n",
      "           0       0.77      0.75      0.76       151\n",
      "           1       0.55      0.56      0.56        80\n",
      "\n",
      "    accuracy                           0.69       231\n",
      "   macro avg       0.66      0.66      0.66       231\n",
      "weighted avg       0.69      0.69      0.69       231\n",
      "\n"
     ]
    }
   ],
   "source": [
    "print(classification_report(y_test, y_pred))"
   ]
  },
  {
   "cell_type": "markdown",
   "id": "a91057cd-c157-491e-8c0c-933740e5dec4",
   "metadata": {},
   "source": [
    "## Model Tuning"
   ]
  },
  {
   "cell_type": "code",
   "execution_count": 47,
   "id": "201c11e3-ae48-4d00-b34f-bbfcd4069c1c",
   "metadata": {},
   "outputs": [],
   "source": [
    "knn_params = {\"n_neighbors\": np.arange(1,50)}"
   ]
  },
  {
   "cell_type": "code",
   "execution_count": 48,
   "id": "0087e4e4-5ba2-4b12-b031-560f9f8780be",
   "metadata": {},
   "outputs": [
    {
     "data": {
      "text/plain": [
       "GridSearchCV(cv=10, estimator=KNeighborsClassifier(),\n",
       "             param_grid={'n_neighbors': array([ 1,  2,  3,  4,  5,  6,  7,  8,  9, 10, 11, 12, 13, 14, 15, 16, 17,\n",
       "       18, 19, 20, 21, 22, 23, 24, 25, 26, 27, 28, 29, 30, 31, 32, 33, 34,\n",
       "       35, 36, 37, 38, 39, 40, 41, 42, 43, 44, 45, 46, 47, 48, 49])})"
      ]
     },
     "execution_count": 48,
     "metadata": {},
     "output_type": "execute_result"
    }
   ],
   "source": [
    "knn = KNeighborsClassifier()\n",
    "knn_cv = GridSearchCV(knn, knn_params, cv=10)\n",
    "knn_cv.fit(X_train,y_train)"
   ]
  },
  {
   "cell_type": "code",
   "execution_count": 49,
   "id": "3394d23d-14df-43f8-aec9-0baf240606b5",
   "metadata": {},
   "outputs": [
    {
     "name": "stdout",
     "output_type": "stream",
     "text": [
      "En iyi skor:0.748637316561845\n",
      "En iyi parametreler: {'n_neighbors': 11}\n"
     ]
    }
   ],
   "source": [
    "print(\"En iyi skor:\" + str(knn_cv.best_score_))\n",
    "print(\"En iyi parametreler: \" + str(knn_cv.best_params_))"
   ]
  },
  {
   "cell_type": "code",
   "execution_count": 50,
   "id": "9e33aaa9-36e6-4892-ab77-de12ece12759",
   "metadata": {},
   "outputs": [],
   "source": [
    "knn = KNeighborsClassifier(11)\n",
    "knn_tuned = knn.fit(X_train, y_train)"
   ]
  },
  {
   "cell_type": "code",
   "execution_count": 51,
   "id": "3cbea01a-e551-4695-ba81-9c082802734a",
   "metadata": {},
   "outputs": [
    {
     "data": {
      "text/plain": [
       "0.7316017316017316"
      ]
     },
     "execution_count": 51,
     "metadata": {},
     "output_type": "execute_result"
    }
   ],
   "source": [
    "knn_tuned.score(X_test, y_test)"
   ]
  },
  {
   "cell_type": "code",
   "execution_count": 52,
   "id": "a146b332-1ac7-428a-83b7-e39d2e074201",
   "metadata": {},
   "outputs": [],
   "source": [
    "y_pred = knn_tuned.predict(X_test)"
   ]
  },
  {
   "cell_type": "code",
   "execution_count": 53,
   "id": "9ccc7b95-a6f6-491b-992d-1490345a2f96",
   "metadata": {},
   "outputs": [
    {
     "data": {
      "text/plain": [
       "0.7316017316017316"
      ]
     },
     "execution_count": 53,
     "metadata": {},
     "output_type": "execute_result"
    }
   ],
   "source": [
    "accuracy_score(y_test, y_pred)"
   ]
  },
  {
   "cell_type": "markdown",
   "id": "bc5ed2ae-fafc-46a2-9f73-18a252462ede",
   "metadata": {},
   "source": [
    "## SVC"
   ]
  },
  {
   "cell_type": "markdown",
   "id": "d2466a75-9686-4c3a-a19c-9f17012de5f0",
   "metadata": {},
   "source": [
    "## Model & Tahmin"
   ]
  },
  {
   "cell_type": "code",
   "execution_count": 54,
   "id": "24f7d8dd-b52f-4524-a5d8-3bc5227e82e5",
   "metadata": {},
   "outputs": [],
   "source": [
    "df = diabetes.copy()\n",
    "df = df.dropna()\n",
    "y = df[\"Outcome\"]\n",
    "X = df.drop([\"Outcome\"], axis=1)\n",
    "X_train, X_test, y_train, y_test = train_test_split(X,y,test_size =0.30, random_state=42)"
   ]
  },
  {
   "cell_type": "code",
   "execution_count": 55,
   "id": "51b9fc66-9491-4a50-9d2d-4807238ad69f",
   "metadata": {},
   "outputs": [],
   "source": [
    "svm_model = SVC(kernel = \"linear\").fit(X_train, y_train)"
   ]
  },
  {
   "cell_type": "code",
   "execution_count": 56,
   "id": "a6b2f7f3-d2d1-4447-8d23-1875f580fbc4",
   "metadata": {},
   "outputs": [
    {
     "data": {
      "text/plain": [
       "SVC(kernel='linear')"
      ]
     },
     "execution_count": 56,
     "metadata": {},
     "output_type": "execute_result"
    }
   ],
   "source": [
    "svm_model"
   ]
  },
  {
   "cell_type": "code",
   "execution_count": 57,
   "id": "3fb2265a-9547-46c1-9dd9-1769afdb00dc",
   "metadata": {},
   "outputs": [],
   "source": [
    "y_pred = svm_model.predict(X_test)"
   ]
  },
  {
   "cell_type": "code",
   "execution_count": 58,
   "id": "e77d90f2-594a-42f3-9df9-16c69f18f64a",
   "metadata": {},
   "outputs": [
    {
     "data": {
      "text/plain": [
       "0.7445887445887446"
      ]
     },
     "execution_count": 58,
     "metadata": {},
     "output_type": "execute_result"
    }
   ],
   "source": [
    "accuracy_score(y_test,y_pred)"
   ]
  },
  {
   "cell_type": "markdown",
   "id": "568e974f-4eb3-4090-8d95-3bcb26a6b775",
   "metadata": {},
   "source": [
    "## Model Tuning"
   ]
  },
  {
   "cell_type": "code",
   "execution_count": 59,
   "id": "b2961cc2-3060-404d-83d0-9ceffbce9415",
   "metadata": {},
   "outputs": [
    {
     "name": "stdout",
     "output_type": "stream",
     "text": [
      "Fitting 10 folds for each of 9 candidates, totalling 90 fits\n"
     ]
    },
    {
     "data": {
      "text/plain": [
       "GridSearchCV(cv=10, estimator=SVC(kernel='linear'), n_jobs=-1,\n",
       "             param_grid={'C': array([1, 2, 3, 4, 5, 6, 7, 8, 9])}, verbose=2)"
      ]
     },
     "execution_count": 59,
     "metadata": {},
     "output_type": "execute_result"
    }
   ],
   "source": [
    "svc_params = {\"C\": np.arange(1,10)}\n",
    "\n",
    "svc = SVC(kernel=\"linear\")\n",
    "\n",
    "svc_cv_model = GridSearchCV(svc, svc_params, cv=10, n_jobs=-1, verbose=2)\n",
    "\n",
    "svc_cv_model.fit(X_train, y_train)"
   ]
  },
  {
   "cell_type": "code",
   "execution_count": 60,
   "id": "6d157820-be84-42bf-a950-94a60e8f7d87",
   "metadata": {},
   "outputs": [
    {
     "name": "stdout",
     "output_type": "stream",
     "text": [
      "En iyi parametreler:{'C': 5}\n"
     ]
    }
   ],
   "source": [
    "print(\"En iyi parametreler:\" +str(svc_cv_model.best_params_))"
   ]
  },
  {
   "cell_type": "code",
   "execution_count": 61,
   "id": "5f7bdb70-cc4a-49f0-95b1-08b3ad802b3a",
   "metadata": {},
   "outputs": [],
   "source": [
    "svc_tuned = SVC(kernel=\"linear\", C=5).fit(X_train, y_train)"
   ]
  },
  {
   "cell_type": "code",
   "execution_count": 62,
   "id": "31b13c19-9f5c-4153-b12e-a98d1b1bbd15",
   "metadata": {},
   "outputs": [
    {
     "data": {
      "text/plain": [
       "0.7445887445887446"
      ]
     },
     "execution_count": 62,
     "metadata": {},
     "output_type": "execute_result"
    }
   ],
   "source": [
    "y_pred = svc_tuned.predict(X_test)\n",
    "accuracy_score(y_test,y_pred)"
   ]
  },
  {
   "cell_type": "markdown",
   "id": "1d48e5eb-7d68-4ac3-847d-9f724d33dd76",
   "metadata": {},
   "source": [
    "## RADIAL BASIS FUNCTION & SUPPORT VECTOR CLASSIFICATION (RBF & SVC)"
   ]
  },
  {
   "cell_type": "code",
   "execution_count": 63,
   "id": "c3412da5-5788-4be1-a0c1-948285660577",
   "metadata": {},
   "outputs": [],
   "source": [
    "df = diabetes.copy()\n",
    "df = df.dropna()\n",
    "y = df[\"Outcome\"]\n",
    "X = df.drop([\"Outcome\"], axis=1)\n",
    "X_train, X_test, y_train, y_test = train_test_split(X,y,test_size =0.30, random_state=42)"
   ]
  },
  {
   "cell_type": "code",
   "execution_count": 64,
   "id": "28d799bf-f074-4a22-b2e7-d952740dbbcc",
   "metadata": {},
   "outputs": [],
   "source": [
    "svc_model = SVC(kernel=\"rbf\").fit(X_train, y_train)"
   ]
  },
  {
   "cell_type": "code",
   "execution_count": 65,
   "id": "c646ff73-519d-4321-8504-38c1127efaf0",
   "metadata": {},
   "outputs": [
    {
     "data": {
      "text/plain": [
       "SVC()"
      ]
     },
     "execution_count": 65,
     "metadata": {},
     "output_type": "execute_result"
    }
   ],
   "source": [
    "svc_model"
   ]
  },
  {
   "cell_type": "code",
   "execution_count": 66,
   "id": "631a76ae-c9aa-4dbc-bde4-a78a416222cd",
   "metadata": {},
   "outputs": [
    {
     "data": {
      "text/plain": [
       "0.7359307359307359"
      ]
     },
     "execution_count": 66,
     "metadata": {},
     "output_type": "execute_result"
    }
   ],
   "source": [
    "y_pred = svc_model.predict(X_test)\n",
    "accuracy_score(y_test,y_pred)"
   ]
  },
  {
   "cell_type": "markdown",
   "id": "82041282-a3b8-4a24-94bf-4db88ab5221e",
   "metadata": {},
   "source": [
    "## Model Tuning"
   ]
  },
  {
   "cell_type": "code",
   "execution_count": 67,
   "id": "35421043-008e-4bb4-ac7c-3b421f9eeab2",
   "metadata": {},
   "outputs": [],
   "source": [
    "svc_params = {\"C\": [0.0001, 0.001, 0.01, 1, 5, 10, 50, 100],\n",
    "              \"gamma\": [0.0001, 0.001, 0.01, 1, 5, 10, 50, 100]}"
   ]
  },
  {
   "cell_type": "code",
   "execution_count": 68,
   "id": "32af57b3-22b6-4685-adb9-323d548e8db0",
   "metadata": {},
   "outputs": [
    {
     "name": "stdout",
     "output_type": "stream",
     "text": [
      "Fitting 10 folds for each of 64 candidates, totalling 640 fits\n"
     ]
    },
    {
     "data": {
      "text/plain": [
       "GridSearchCV(cv=10, estimator=SVC(), n_jobs=-2,\n",
       "             param_grid={'C': [0.0001, 0.001, 0.01, 1, 5, 10, 50, 100],\n",
       "                         'gamma': [0.0001, 0.001, 0.01, 1, 5, 10, 50, 100]},\n",
       "             verbose=2)"
      ]
     },
     "execution_count": 68,
     "metadata": {},
     "output_type": "execute_result"
    }
   ],
   "source": [
    "svc = SVC()\n",
    "svc_cv_model = GridSearchCV(svc, svc_params, cv=10, n_jobs=-2, verbose=2)\n",
    "svc_cv_model.fit(X_train, y_train)"
   ]
  },
  {
   "cell_type": "code",
   "execution_count": 69,
   "id": "38f75bb7-6c2f-4f2c-8a30-593ac5ae071d",
   "metadata": {},
   "outputs": [
    {
     "name": "stdout",
     "output_type": "stream",
     "text": [
      "En iyi parametreler:{'C': 10, 'gamma': 0.0001}\n"
     ]
    }
   ],
   "source": [
    "print(\"En iyi parametreler:\" +str(svc_cv_model.best_params_))"
   ]
  },
  {
   "cell_type": "code",
   "execution_count": 70,
   "id": "56bfd0b2-4432-4034-b079-fc9063a4eb9d",
   "metadata": {},
   "outputs": [],
   "source": [
    "svc_tuned = SVC(C=10, gamma= 0.0001).fit(X_train, y_train)"
   ]
  },
  {
   "cell_type": "code",
   "execution_count": 71,
   "id": "9dcc9ba1-743e-4daf-8ed7-4b4b87adb90b",
   "metadata": {},
   "outputs": [
    {
     "data": {
      "text/plain": [
       "0.7359307359307359"
      ]
     },
     "execution_count": 71,
     "metadata": {},
     "output_type": "execute_result"
    }
   ],
   "source": [
    "y_pred = svc_tuned.predict(X_test)\n",
    "accuracy_score(y_test,y_pred)"
   ]
  },
  {
   "cell_type": "markdown",
   "id": "da05ab81-375d-4d69-906c-7b14f783e623",
   "metadata": {},
   "source": [
    "## Artificial Neural Network"
   ]
  },
  {
   "cell_type": "code",
   "execution_count": 72,
   "id": "f40115f0-4e34-4b2e-baf0-ecc726493467",
   "metadata": {},
   "outputs": [],
   "source": [
    "df = diabetes.copy()\n",
    "df = df.dropna()\n",
    "y = df[\"Outcome\"]\n",
    "X = df.drop([\"Outcome\"], axis=1)\n",
    "X_train, X_test, y_train, y_test = train_test_split(X,y,test_size =0.30, random_state=42)"
   ]
  },
  {
   "cell_type": "code",
   "execution_count": 73,
   "id": "baa3fa92-83c3-493f-9f0b-3bba290be739",
   "metadata": {},
   "outputs": [],
   "source": [
    "from sklearn.preprocessing import StandardScaler"
   ]
  },
  {
   "cell_type": "code",
   "execution_count": 74,
   "id": "9c1c5479-1730-41fa-9ca0-888398ef6905",
   "metadata": {},
   "outputs": [],
   "source": [
    "scaler = StandardScaler()"
   ]
  },
  {
   "cell_type": "code",
   "execution_count": 75,
   "id": "3773134c-724c-4d68-945b-9196f36399aa",
   "metadata": {},
   "outputs": [],
   "source": [
    "scaler.fit(X_train)\n",
    "X_train_scaled = scaler.transform(X_train)\n",
    "X_test_scaled = scaler.transform(X_test)"
   ]
  },
  {
   "cell_type": "code",
   "execution_count": 76,
   "id": "c1718fab-e23d-43ab-b928-b45b4cd9c2d8",
   "metadata": {},
   "outputs": [
    {
     "data": {
      "text/plain": [
       "array([[ 0.69748316, -0.70719864, -0.64639893,  0.81207927,  0.95720244,\n",
       "         0.26575953, -0.11680393,  0.85019217],\n",
       "       [-0.52953881, -0.27388818,  0.29399563,  0.74746428, -0.6936878 ,\n",
       "         0.488933  , -0.94192338, -1.03426754],\n",
       "       [-0.52953881, -0.39769117, -0.31449497, -1.3202154 , -0.6936878 ,\n",
       "        -0.1543317 , -0.91266382, -1.03426754],\n",
       "       [ 1.31099414, -0.42864191,  0.57058226, -1.3202154 , -0.6936878 ,\n",
       "        -0.96825847,  1.12965312,  0.07927683],\n",
       "       [ 1.00423865,  0.46892976,  1.12375553, -1.3202154 , -0.6936878 ,\n",
       "        -0.27248236, -0.76051413,  1.44979298]])"
      ]
     },
     "execution_count": 76,
     "metadata": {},
     "output_type": "execute_result"
    }
   ],
   "source": [
    "X_test_scaled[0:5]"
   ]
  },
  {
   "cell_type": "code",
   "execution_count": 77,
   "id": "b37db32f-4e58-4f5f-b2dd-5689445fa2ca",
   "metadata": {},
   "outputs": [],
   "source": [
    "from sklearn.neural_network import MLPClassifier"
   ]
  },
  {
   "cell_type": "code",
   "execution_count": 78,
   "id": "c120b465-8cca-45e5-a544-30edc2a0f884",
   "metadata": {},
   "outputs": [],
   "source": [
    "mlpc = MLPClassifier().fit(X_train_scaled, y_train)"
   ]
  },
  {
   "cell_type": "code",
   "execution_count": 79,
   "id": "b50d5f9d-4a0b-4ceb-a00e-32a26267db75",
   "metadata": {},
   "outputs": [
    {
     "data": {
      "text/plain": [
       "0.7402597402597403"
      ]
     },
     "execution_count": 79,
     "metadata": {},
     "output_type": "execute_result"
    }
   ],
   "source": [
    "y_pred = mlpc.predict(X_test_scaled)\n",
    "accuracy_score(y_test, y_pred)"
   ]
  },
  {
   "cell_type": "markdown",
   "id": "445da837-24d3-4f9e-91f9-bee8c19d569d",
   "metadata": {},
   "source": [
    "## Model"
   ]
  },
  {
   "cell_type": "code",
   "execution_count": 80,
   "id": "43a03a2c-7f5f-4269-93dd-2fabb1634256",
   "metadata": {},
   "outputs": [
    {
     "data": {
      "text/plain": [
       "MLPClassifier()"
      ]
     },
     "execution_count": 80,
     "metadata": {},
     "output_type": "execute_result"
    }
   ],
   "source": [
    "mlpc"
   ]
  },
  {
   "cell_type": "code",
   "execution_count": 81,
   "id": "eb92f252-1673-4671-af58-f915d09943f3",
   "metadata": {
    "collapsed": true,
    "jupyter": {
     "outputs_hidden": true
    },
    "tags": []
   },
   "outputs": [
    {
     "data": {
      "text/plain": [
       "\u001b[1;31mType:\u001b[0m        MLPClassifier\n",
       "\u001b[1;31mString form:\u001b[0m MLPClassifier()\n",
       "\u001b[1;31mFile:\u001b[0m        c:\\users\\asus_\\anaconda3\\lib\\site-packages\\sklearn\\neural_network\\_multilayer_perceptron.py\n",
       "\u001b[1;31mDocstring:\u001b[0m  \n",
       "Multi-layer Perceptron classifier.\n",
       "\n",
       "This model optimizes the log-loss function using LBFGS or stochastic\n",
       "gradient descent.\n",
       "\n",
       ".. versionadded:: 0.18\n",
       "\n",
       "Parameters\n",
       "----------\n",
       "hidden_layer_sizes : tuple, length = n_layers - 2, default=(100,)\n",
       "    The ith element represents the number of neurons in the ith\n",
       "    hidden layer.\n",
       "\n",
       "activation : {'identity', 'logistic', 'tanh', 'relu'}, default='relu'\n",
       "    Activation function for the hidden layer.\n",
       "\n",
       "    - 'identity', no-op activation, useful to implement linear bottleneck,\n",
       "      returns f(x) = x\n",
       "\n",
       "    - 'logistic', the logistic sigmoid function,\n",
       "      returns f(x) = 1 / (1 + exp(-x)).\n",
       "\n",
       "    - 'tanh', the hyperbolic tan function,\n",
       "      returns f(x) = tanh(x).\n",
       "\n",
       "    - 'relu', the rectified linear unit function,\n",
       "      returns f(x) = max(0, x)\n",
       "\n",
       "solver : {'lbfgs', 'sgd', 'adam'}, default='adam'\n",
       "    The solver for weight optimization.\n",
       "\n",
       "    - 'lbfgs' is an optimizer in the family of quasi-Newton methods.\n",
       "\n",
       "    - 'sgd' refers to stochastic gradient descent.\n",
       "\n",
       "    - 'adam' refers to a stochastic gradient-based optimizer proposed\n",
       "      by Kingma, Diederik, and Jimmy Ba\n",
       "\n",
       "    Note: The default solver 'adam' works pretty well on relatively\n",
       "    large datasets (with thousands of training samples or more) in terms of\n",
       "    both training time and validation score.\n",
       "    For small datasets, however, 'lbfgs' can converge faster and perform\n",
       "    better.\n",
       "\n",
       "alpha : float, default=0.0001\n",
       "    L2 penalty (regularization term) parameter.\n",
       "\n",
       "batch_size : int, default='auto'\n",
       "    Size of minibatches for stochastic optimizers.\n",
       "    If the solver is 'lbfgs', the classifier will not use minibatch.\n",
       "    When set to \"auto\", `batch_size=min(200, n_samples)`.\n",
       "\n",
       "learning_rate : {'constant', 'invscaling', 'adaptive'}, default='constant'\n",
       "    Learning rate schedule for weight updates.\n",
       "\n",
       "    - 'constant' is a constant learning rate given by\n",
       "      'learning_rate_init'.\n",
       "\n",
       "    - 'invscaling' gradually decreases the learning rate at each\n",
       "      time step 't' using an inverse scaling exponent of 'power_t'.\n",
       "      effective_learning_rate = learning_rate_init / pow(t, power_t)\n",
       "\n",
       "    - 'adaptive' keeps the learning rate constant to\n",
       "      'learning_rate_init' as long as training loss keeps decreasing.\n",
       "      Each time two consecutive epochs fail to decrease training loss by at\n",
       "      least tol, or fail to increase validation score by at least tol if\n",
       "      'early_stopping' is on, the current learning rate is divided by 5.\n",
       "\n",
       "    Only used when ``solver='sgd'``.\n",
       "\n",
       "learning_rate_init : float, default=0.001\n",
       "    The initial learning rate used. It controls the step-size\n",
       "    in updating the weights. Only used when solver='sgd' or 'adam'.\n",
       "\n",
       "power_t : float, default=0.5\n",
       "    The exponent for inverse scaling learning rate.\n",
       "    It is used in updating effective learning rate when the learning_rate\n",
       "    is set to 'invscaling'. Only used when solver='sgd'.\n",
       "\n",
       "max_iter : int, default=200\n",
       "    Maximum number of iterations. The solver iterates until convergence\n",
       "    (determined by 'tol') or this number of iterations. For stochastic\n",
       "    solvers ('sgd', 'adam'), note that this determines the number of epochs\n",
       "    (how many times each data point will be used), not the number of\n",
       "    gradient steps.\n",
       "\n",
       "shuffle : bool, default=True\n",
       "    Whether to shuffle samples in each iteration. Only used when\n",
       "    solver='sgd' or 'adam'.\n",
       "\n",
       "random_state : int, RandomState instance, default=None\n",
       "    Determines random number generation for weights and bias\n",
       "    initialization, train-test split if early stopping is used, and batch\n",
       "    sampling when solver='sgd' or 'adam'.\n",
       "    Pass an int for reproducible results across multiple function calls.\n",
       "    See :term:`Glossary <random_state>`.\n",
       "\n",
       "tol : float, default=1e-4\n",
       "    Tolerance for the optimization. When the loss or score is not improving\n",
       "    by at least ``tol`` for ``n_iter_no_change`` consecutive iterations,\n",
       "    unless ``learning_rate`` is set to 'adaptive', convergence is\n",
       "    considered to be reached and training stops.\n",
       "\n",
       "verbose : bool, default=False\n",
       "    Whether to print progress messages to stdout.\n",
       "\n",
       "warm_start : bool, default=False\n",
       "    When set to True, reuse the solution of the previous\n",
       "    call to fit as initialization, otherwise, just erase the\n",
       "    previous solution. See :term:`the Glossary <warm_start>`.\n",
       "\n",
       "momentum : float, default=0.9\n",
       "    Momentum for gradient descent update. Should be between 0 and 1. Only\n",
       "    used when solver='sgd'.\n",
       "\n",
       "nesterovs_momentum : bool, default=True\n",
       "    Whether to use Nesterov's momentum. Only used when solver='sgd' and\n",
       "    momentum > 0.\n",
       "\n",
       "early_stopping : bool, default=False\n",
       "    Whether to use early stopping to terminate training when validation\n",
       "    score is not improving. If set to true, it will automatically set\n",
       "    aside 10% of training data as validation and terminate training when\n",
       "    validation score is not improving by at least tol for\n",
       "    ``n_iter_no_change`` consecutive epochs. The split is stratified,\n",
       "    except in a multilabel setting.\n",
       "    If early stopping is False, then the training stops when the training\n",
       "    loss does not improve by more than tol for n_iter_no_change consecutive\n",
       "    passes over the training set.\n",
       "    Only effective when solver='sgd' or 'adam'.\n",
       "\n",
       "validation_fraction : float, default=0.1\n",
       "    The proportion of training data to set aside as validation set for\n",
       "    early stopping. Must be between 0 and 1.\n",
       "    Only used if early_stopping is True.\n",
       "\n",
       "beta_1 : float, default=0.9\n",
       "    Exponential decay rate for estimates of first moment vector in adam,\n",
       "    should be in [0, 1). Only used when solver='adam'.\n",
       "\n",
       "beta_2 : float, default=0.999\n",
       "    Exponential decay rate for estimates of second moment vector in adam,\n",
       "    should be in [0, 1). Only used when solver='adam'.\n",
       "\n",
       "epsilon : float, default=1e-8\n",
       "    Value for numerical stability in adam. Only used when solver='adam'.\n",
       "\n",
       "n_iter_no_change : int, default=10\n",
       "    Maximum number of epochs to not meet ``tol`` improvement.\n",
       "    Only effective when solver='sgd' or 'adam'.\n",
       "\n",
       "    .. versionadded:: 0.20\n",
       "\n",
       "max_fun : int, default=15000\n",
       "    Only used when solver='lbfgs'. Maximum number of loss function calls.\n",
       "    The solver iterates until convergence (determined by 'tol'), number\n",
       "    of iterations reaches max_iter, or this number of loss function calls.\n",
       "    Note that number of loss function calls will be greater than or equal\n",
       "    to the number of iterations for the `MLPClassifier`.\n",
       "\n",
       "    .. versionadded:: 0.22\n",
       "\n",
       "Attributes\n",
       "----------\n",
       "classes_ : ndarray or list of ndarray of shape (n_classes,)\n",
       "    Class labels for each output.\n",
       "\n",
       "loss_ : float\n",
       "    The current loss computed with the loss function.\n",
       "\n",
       "best_loss_ : float\n",
       "    The minimum loss reached by the solver throughout fitting.\n",
       "\n",
       "loss_curve_ : list of shape (`n_iter_`,)\n",
       "    The ith element in the list represents the loss at the ith iteration.\n",
       "\n",
       "t_ : int\n",
       "    The number of training samples seen by the solver during fitting.\n",
       "\n",
       "coefs_ : list of shape (n_layers - 1,)\n",
       "    The ith element in the list represents the weight matrix corresponding\n",
       "    to layer i.\n",
       "\n",
       "intercepts_ : list of shape (n_layers - 1,)\n",
       "    The ith element in the list represents the bias vector corresponding to\n",
       "    layer i + 1.\n",
       "\n",
       "n_features_in_ : int\n",
       "    Number of features seen during :term:`fit`.\n",
       "\n",
       "    .. versionadded:: 0.24\n",
       "\n",
       "feature_names_in_ : ndarray of shape (`n_features_in_`,)\n",
       "    Names of features seen during :term:`fit`. Defined only when `X`\n",
       "    has feature names that are all strings.\n",
       "\n",
       "    .. versionadded:: 1.0\n",
       "\n",
       "n_iter_ : int\n",
       "    The number of iterations the solver has run.\n",
       "\n",
       "n_layers_ : int\n",
       "    Number of layers.\n",
       "\n",
       "n_outputs_ : int\n",
       "    Number of outputs.\n",
       "\n",
       "out_activation_ : str\n",
       "    Name of the output activation function.\n",
       "\n",
       "See Also\n",
       "--------\n",
       "MLPRegressor : Multi-layer Perceptron regressor.\n",
       "BernoulliRBM : Bernoulli Restricted Boltzmann Machine (RBM).\n",
       "\n",
       "Notes\n",
       "-----\n",
       "MLPClassifier trains iteratively since at each time step\n",
       "the partial derivatives of the loss function with respect to the model\n",
       "parameters are computed to update the parameters.\n",
       "\n",
       "It can also have a regularization term added to the loss function\n",
       "that shrinks model parameters to prevent overfitting.\n",
       "\n",
       "This implementation works with data represented as dense numpy arrays or\n",
       "sparse scipy arrays of floating point values.\n",
       "\n",
       "References\n",
       "----------\n",
       "Hinton, Geoffrey E.\n",
       "    \"Connectionist learning procedures.\" Artificial intelligence 40.1\n",
       "    (1989): 185-234.\n",
       "\n",
       "Glorot, Xavier, and Yoshua Bengio. \"Understanding the difficulty of\n",
       "    training deep feedforward neural networks.\" International Conference\n",
       "    on Artificial Intelligence and Statistics. 2010.\n",
       "\n",
       "He, Kaiming, et al. \"Delving deep into rectifiers: Surpassing human-level\n",
       "    performance on imagenet classification.\" arXiv preprint\n",
       "    arXiv:1502.01852 (2015).\n",
       "\n",
       "Kingma, Diederik, and Jimmy Ba. \"Adam: A method for stochastic\n",
       "    optimization.\" arXiv preprint arXiv:1412.6980 (2014).\n",
       "\n",
       "Examples\n",
       "--------\n",
       ">>> from sklearn.neural_network import MLPClassifier\n",
       ">>> from sklearn.datasets import make_classification\n",
       ">>> from sklearn.model_selection import train_test_split\n",
       ">>> X, y = make_classification(n_samples=100, random_state=1)\n",
       ">>> X_train, X_test, y_train, y_test = train_test_split(X, y, stratify=y,\n",
       "...                                                     random_state=1)\n",
       ">>> clf = MLPClassifier(random_state=1, max_iter=300).fit(X_train, y_train)\n",
       ">>> clf.predict_proba(X_test[:1])\n",
       "array([[0.038..., 0.961...]])\n",
       ">>> clf.predict(X_test[:5, :])\n",
       "array([1, 0, 1, 0, 1])\n",
       ">>> clf.score(X_test, y_test)\n",
       "0.8...\n"
      ]
     },
     "metadata": {},
     "output_type": "display_data"
    }
   ],
   "source": [
    "?mlpc"
   ]
  },
  {
   "cell_type": "code",
   "execution_count": 82,
   "id": "88bbee7a-e54d-4a7f-9a79-56f3c959f83d",
   "metadata": {},
   "outputs": [],
   "source": [
    "mlpc_params = {\"alpha\" : [0.1, 0.01, 0.02, 0.005, 0.0001, 0.00001],\n",
    "               \"hidden_layer_sizes\": [(10,10,10),(100,100,100),(100,100),(3,5),(5,3)],\n",
    "               \"solver\": [\"lbfgs\",\"adam\",\"sgd\"],\n",
    "               \"activation\": [\"relu\",\"logistic\"]}"
   ]
  },
  {
   "cell_type": "code",
   "execution_count": 83,
   "id": "4524e8d5-83ca-4f30-93b5-b094f21c76a4",
   "metadata": {},
   "outputs": [
    {
     "name": "stdout",
     "output_type": "stream",
     "text": [
      "Fitting 10 folds for each of 180 candidates, totalling 1800 fits\n"
     ]
    },
    {
     "data": {
      "text/plain": [
       "GridSearchCV(cv=10, estimator=MLPClassifier(), n_jobs=-1,\n",
       "             param_grid={'activation': ['relu', 'logistic'],\n",
       "                         'alpha': [0.1, 0.01, 0.02, 0.005, 0.0001, 1e-05],\n",
       "                         'hidden_layer_sizes': [(10, 10, 10), (100, 100, 100),\n",
       "                                                (100, 100), (3, 5), (5, 3)],\n",
       "                         'solver': ['lbfgs', 'adam', 'sgd']},\n",
       "             verbose=2)"
      ]
     },
     "execution_count": 83,
     "metadata": {},
     "output_type": "execute_result"
    }
   ],
   "source": [
    "mlpc = MLPClassifier()\n",
    "mlpc_cv_model = GridSearchCV(mlpc, mlpc_params, cv=10, n_jobs= -1, verbose=2)\n",
    "mlpc_cv_model.fit(X_train_scaled, y_train)"
   ]
  },
  {
   "cell_type": "code",
   "execution_count": 84,
   "id": "ce97c839-29b3-4d14-a8f6-bf2dbc14fa5d",
   "metadata": {},
   "outputs": [
    {
     "name": "stdout",
     "output_type": "stream",
     "text": [
      "En iyi parametreler:{'activation': 'relu', 'alpha': 0.02, 'hidden_layer_sizes': (10, 10, 10), 'solver': 'adam'}\n"
     ]
    }
   ],
   "source": [
    "print(\"En iyi parametreler:\" +str(mlpc_cv_model.best_params_))"
   ]
  },
  {
   "cell_type": "code",
   "execution_count": 85,
   "id": "ea25d390-be69-4a5a-bb09-1ad3c7195d6c",
   "metadata": {},
   "outputs": [],
   "source": [
    "mlpc_tuned = MLPClassifier(activation=\"relu\", alpha=0.1, hidden_layer_sizes = (10,10,10), solver=\"adam\")"
   ]
  },
  {
   "cell_type": "code",
   "execution_count": 86,
   "id": "72681f7e-b6ce-4b5c-91b9-7fa5b64d31f1",
   "metadata": {},
   "outputs": [
    {
     "data": {
      "text/plain": [
       "MLPClassifier(alpha=0.1, hidden_layer_sizes=(10, 10, 10))"
      ]
     },
     "execution_count": 86,
     "metadata": {},
     "output_type": "execute_result"
    }
   ],
   "source": [
    "mlpc_tuned.fit(X_train_scaled, y_train)"
   ]
  },
  {
   "cell_type": "code",
   "execution_count": 87,
   "id": "3a429247-57b9-418e-a8d8-1c359866f1ca",
   "metadata": {},
   "outputs": [
    {
     "data": {
      "text/plain": [
       "0.7662337662337663"
      ]
     },
     "execution_count": 87,
     "metadata": {},
     "output_type": "execute_result"
    }
   ],
   "source": [
    "y_pred = mlpc_tuned.predict(X_test_scaled)\n",
    "accuracy_score(y_test, y_pred)"
   ]
  },
  {
   "cell_type": "markdown",
   "id": "9774e57d-fdb3-426f-9778-958b79292729",
   "metadata": {},
   "source": [
    "## CART"
   ]
  },
  {
   "cell_type": "code",
   "execution_count": 88,
   "id": "8aed330d-a5b7-498a-87e0-fdf78e3c010a",
   "metadata": {},
   "outputs": [],
   "source": [
    "df = diabetes.copy()\n",
    "df = df.dropna()\n",
    "y = df[\"Outcome\"]\n",
    "X = df.drop([\"Outcome\"], axis=1)\n",
    "#X = df[\"Pregnancies\"]\n",
    "X = pd.DataFrame(X)\n",
    "X_train, X_test, y_train, y_test = train_test_split(X,y,test_size =0.30, random_state=42)"
   ]
  },
  {
   "cell_type": "code",
   "execution_count": 89,
   "id": "bbb9d045-8b14-44bb-a94d-cca38a72c605",
   "metadata": {},
   "outputs": [],
   "source": [
    "from sklearn.tree import DecisionTreeClassifier"
   ]
  },
  {
   "cell_type": "code",
   "execution_count": 90,
   "id": "265c3718-b066-44f8-86e3-3d636de06264",
   "metadata": {},
   "outputs": [],
   "source": [
    "cart = DecisionTreeClassifier()\n",
    "cart_model = cart.fit(X_train, y_train)"
   ]
  },
  {
   "cell_type": "code",
   "execution_count": 91,
   "id": "c36d631a-4852-4498-aa54-c1c732940b98",
   "metadata": {},
   "outputs": [
    {
     "data": {
      "text/plain": [
       "DecisionTreeClassifier()"
      ]
     },
     "execution_count": 91,
     "metadata": {},
     "output_type": "execute_result"
    }
   ],
   "source": [
    "cart_model"
   ]
  },
  {
   "cell_type": "code",
   "execution_count": 92,
   "id": "d955f850-5c15-45c9-ac7f-a3405b936eb5",
   "metadata": {
    "tags": []
   },
   "outputs": [
    {
     "name": "stdout",
     "output_type": "stream",
     "text": [
      "((((((0 if x[6] <= 0.671999990940094 else 1 if x[6] <= 0.6974999904632568 else\n",
      "    0) if x[5] <= 31.40000057220459 else ((0 if x[3] <= 40.5 else 1) if x[1\n",
      "    ] <= 111.5 else ((0 if x[5] <= 32.59999942779541 else 1) if x[2] <= \n",
      "    65.0 else 0) if x[2] <= 72.0 else 1) if x[4] <= 9.0 else (0 if x[6] <= \n",
      "    0.6395000219345093 else 1 if x[6] <= 0.6759999990463257 else 0) if x[0] <=\n",
      "    4.5 else 1 if x[2] <= 67.0 else 0) if x[5] <= 49.10000038146973 else 1) if\n",
      "    x[1] <= 127.5 else 1 if x[2] <= 56.0 else (0 if x[7] <= 27.5 else 1 if \n",
      "    x[6] <= 0.32649999111890793 else 0) if x[5] <= 30.300000190734863 else \n",
      "    1 if x[5] <= 32.000000953674316 else ((0 if x[5] <= 33.75 else 1) if x[\n",
      "    0] <= 0.5 else 1 if x[5] <= 32.45000076293945 else 0) if x[2] <= 85.0 else\n",
      "    1) if x[7] <= 28.5 else (1 if x[7] <= 29.5 else (0 if x[1] <= 133.0 else\n",
      "    (1 if x[6] <= 0.3685000091791153 else 0) if x[1] <= 135.0 else 0) if x[\n",
      "    2] <= 94.0 else 1 if x[2] <= 97.0 else 0) if x[5] <= 26.949999809265137\n",
      "     else (1 if x[1] <= 28.5 else 0 if x[0] <= 9.5 else 0 if x[6] <= \n",
      "    0.29099999368190765 else 1 if x[4] <= 27.0 else 0) if x[1] <= 94.5 else\n",
      "    ((((0 if x[6] <= 0.24950000643730164 else 1 if x[4] <= 115.5 else 0) if\n",
      "    x[5] <= 28.34999942779541 else 1 if x[5] <= 31.15000057220459 else (1 if\n",
      "    x[6] <= 0.29499999433755875 else 0) if x[7] <= 36.5 else (1 if x[6] <= \n",
      "    0.13649999350309372 else 0) if x[6] <= 0.21000000089406967 else 1 if x[\n",
      "    0] <= 9.0 else 0 if x[6] <= 0.26500000059604645 else 1) if x[3] <= 26.5\n",
      "     else ((1 if x[4] <= 41.5 else 0 if x[1] <= 112.0 else 1) if x[2] <= \n",
      "    67.0 else 0 if x[2] <= 80.0 else 1 if x[7] <= 37.0 else 0) if x[1] <= \n",
      "    127.5 else (1 if x[5] <= 29.399999618530273 else 0) if x[3] <= 31.0 else\n",
      "    1) if x[2] <= 83.0 else ((0 if x[3] <= 39.5 else 1 if x[2] <= 87.0 else\n",
      "    0) if x[5] <= 41.19999885559082 else 1) if x[4] <= 124.0 else 0 if x[3] <=\n",
      "    19.5 else 1) if x[6] <= 0.527999997138977 else ((((0 if x[5] <= \n",
      "    27.59999942779541 else 1) if x[0] <= 2.0 else 1) if x[1] <= 132.0 else \n",
      "    0) if x[5] <= 29.09999942779541 else 0 if x[2] <= 86.0 else 1) if x[5] <=\n",
      "    31.600000381469727 else ((1 if x[2] <= 87.0 else 0 if x[1] <= 117.5 else\n",
      "    1) if x[3] <= 54.5 else 0) if x[6] <= 1.1489999890327454 else 1 if x[7] <=\n",
      "    36.0 else 0) if x[1] <= 154.5 else (1 if x[5] <= 25.350000381469727 else\n",
      "    0 if x[6] <= 0.3684999942779541 else (0 if x[6] <= 0.9229999780654907 else\n",
      "    1) if x[3] <= 16.5 else 1) if x[5] <= 28.700000762939453 else (((((0 if\n",
      "    x[2] <= 67.0 else 1) if x[4] <= 180.0 else 0) if x[4] <= 457.0 else 1) if\n",
      "    x[7] <= 30.5 else 1) if x[6] <= 0.3044999986886978 else (1 if x[1] <= \n",
      "    164.5 else 0) if x[1] <= 165.5 else 1) if x[6] <= 1.4275000095367432 else\n",
      "    1 if x[7] <= 28.0 else 0)\n",
      "\n"
     ]
    }
   ],
   "source": [
    "from skompiler import skompile\n",
    "print(skompile(cart_model.predict).to(\"python/code\"))"
   ]
  },
  {
   "cell_type": "code",
   "execution_count": 93,
   "id": "082b77a6-4ffe-4c73-88b2-e6e4b52fc9a2",
   "metadata": {},
   "outputs": [],
   "source": [
    "x = [3]"
   ]
  },
  {
   "cell_type": "code",
   "execution_count": 94,
   "id": "5d38c64f-1a26-4a77-9d0c-f7e2aec84b58",
   "metadata": {},
   "outputs": [
    {
     "data": {
      "text/plain": [
       "0"
      ]
     },
     "execution_count": 94,
     "metadata": {},
     "output_type": "execute_result"
    }
   ],
   "source": [
    "((0 if x[0] <= 2.5 else 0) if x[0] <= 6.5 else 1 if x[0] <= 13.5 else 1)"
   ]
  },
  {
   "cell_type": "code",
   "execution_count": 95,
   "id": "d49ba851-9e05-4599-b9e1-a5f30fe3ac58",
   "metadata": {},
   "outputs": [
    {
     "data": {
      "text/plain": [
       "0.7229437229437229"
      ]
     },
     "execution_count": 95,
     "metadata": {},
     "output_type": "execute_result"
    }
   ],
   "source": [
    "y_pred = cart_model.predict(X_test)\n",
    "accuracy_score(y_test, y_pred)"
   ]
  },
  {
   "cell_type": "markdown",
   "id": "dc17e905-519b-42c1-a6d8-95a9ba7da24a",
   "metadata": {},
   "source": [
    "## Model Tuning"
   ]
  },
  {
   "cell_type": "code",
   "execution_count": 96,
   "id": "878cbbe0-7454-4f3e-b99e-4b7f076ac5b5",
   "metadata": {},
   "outputs": [
    {
     "data": {
      "text/plain": [
       "DecisionTreeClassifier()"
      ]
     },
     "execution_count": 96,
     "metadata": {},
     "output_type": "execute_result"
    }
   ],
   "source": [
    "cart_model"
   ]
  },
  {
   "cell_type": "code",
   "execution_count": 97,
   "id": "562c61ba-1eea-450a-8b77-2a1db09da721",
   "metadata": {
    "collapsed": true,
    "jupyter": {
     "outputs_hidden": true
    },
    "tags": []
   },
   "outputs": [
    {
     "data": {
      "text/plain": [
       "\u001b[1;31mType:\u001b[0m        DecisionTreeClassifier\n",
       "\u001b[1;31mString form:\u001b[0m DecisionTreeClassifier()\n",
       "\u001b[1;31mFile:\u001b[0m        c:\\users\\asus_\\anaconda3\\lib\\site-packages\\sklearn\\tree\\_classes.py\n",
       "\u001b[1;31mDocstring:\u001b[0m  \n",
       "A decision tree classifier.\n",
       "\n",
       "Read more in the :ref:`User Guide <tree>`.\n",
       "\n",
       "Parameters\n",
       "----------\n",
       "criterion : {\"gini\", \"entropy\"}, default=\"gini\"\n",
       "    The function to measure the quality of a split. Supported criteria are\n",
       "    \"gini\" for the Gini impurity and \"entropy\" for the information gain.\n",
       "\n",
       "splitter : {\"best\", \"random\"}, default=\"best\"\n",
       "    The strategy used to choose the split at each node. Supported\n",
       "    strategies are \"best\" to choose the best split and \"random\" to choose\n",
       "    the best random split.\n",
       "\n",
       "max_depth : int, default=None\n",
       "    The maximum depth of the tree. If None, then nodes are expanded until\n",
       "    all leaves are pure or until all leaves contain less than\n",
       "    min_samples_split samples.\n",
       "\n",
       "min_samples_split : int or float, default=2\n",
       "    The minimum number of samples required to split an internal node:\n",
       "\n",
       "    - If int, then consider `min_samples_split` as the minimum number.\n",
       "    - If float, then `min_samples_split` is a fraction and\n",
       "      `ceil(min_samples_split * n_samples)` are the minimum\n",
       "      number of samples for each split.\n",
       "\n",
       "    .. versionchanged:: 0.18\n",
       "       Added float values for fractions.\n",
       "\n",
       "min_samples_leaf : int or float, default=1\n",
       "    The minimum number of samples required to be at a leaf node.\n",
       "    A split point at any depth will only be considered if it leaves at\n",
       "    least ``min_samples_leaf`` training samples in each of the left and\n",
       "    right branches.  This may have the effect of smoothing the model,\n",
       "    especially in regression.\n",
       "\n",
       "    - If int, then consider `min_samples_leaf` as the minimum number.\n",
       "    - If float, then `min_samples_leaf` is a fraction and\n",
       "      `ceil(min_samples_leaf * n_samples)` are the minimum\n",
       "      number of samples for each node.\n",
       "\n",
       "    .. versionchanged:: 0.18\n",
       "       Added float values for fractions.\n",
       "\n",
       "min_weight_fraction_leaf : float, default=0.0\n",
       "    The minimum weighted fraction of the sum total of weights (of all\n",
       "    the input samples) required to be at a leaf node. Samples have\n",
       "    equal weight when sample_weight is not provided.\n",
       "\n",
       "max_features : int, float or {\"auto\", \"sqrt\", \"log2\"}, default=None\n",
       "    The number of features to consider when looking for the best split:\n",
       "\n",
       "        - If int, then consider `max_features` features at each split.\n",
       "        - If float, then `max_features` is a fraction and\n",
       "          `int(max_features * n_features)` features are considered at each\n",
       "          split.\n",
       "        - If \"auto\", then `max_features=sqrt(n_features)`.\n",
       "        - If \"sqrt\", then `max_features=sqrt(n_features)`.\n",
       "        - If \"log2\", then `max_features=log2(n_features)`.\n",
       "        - If None, then `max_features=n_features`.\n",
       "\n",
       "    Note: the search for a split does not stop until at least one\n",
       "    valid partition of the node samples is found, even if it requires to\n",
       "    effectively inspect more than ``max_features`` features.\n",
       "\n",
       "random_state : int, RandomState instance or None, default=None\n",
       "    Controls the randomness of the estimator. The features are always\n",
       "    randomly permuted at each split, even if ``splitter`` is set to\n",
       "    ``\"best\"``. When ``max_features < n_features``, the algorithm will\n",
       "    select ``max_features`` at random at each split before finding the best\n",
       "    split among them. But the best found split may vary across different\n",
       "    runs, even if ``max_features=n_features``. That is the case, if the\n",
       "    improvement of the criterion is identical for several splits and one\n",
       "    split has to be selected at random. To obtain a deterministic behaviour\n",
       "    during fitting, ``random_state`` has to be fixed to an integer.\n",
       "    See :term:`Glossary <random_state>` for details.\n",
       "\n",
       "max_leaf_nodes : int, default=None\n",
       "    Grow a tree with ``max_leaf_nodes`` in best-first fashion.\n",
       "    Best nodes are defined as relative reduction in impurity.\n",
       "    If None then unlimited number of leaf nodes.\n",
       "\n",
       "min_impurity_decrease : float, default=0.0\n",
       "    A node will be split if this split induces a decrease of the impurity\n",
       "    greater than or equal to this value.\n",
       "\n",
       "    The weighted impurity decrease equation is the following::\n",
       "\n",
       "        N_t / N * (impurity - N_t_R / N_t * right_impurity\n",
       "                            - N_t_L / N_t * left_impurity)\n",
       "\n",
       "    where ``N`` is the total number of samples, ``N_t`` is the number of\n",
       "    samples at the current node, ``N_t_L`` is the number of samples in the\n",
       "    left child, and ``N_t_R`` is the number of samples in the right child.\n",
       "\n",
       "    ``N``, ``N_t``, ``N_t_R`` and ``N_t_L`` all refer to the weighted sum,\n",
       "    if ``sample_weight`` is passed.\n",
       "\n",
       "    .. versionadded:: 0.19\n",
       "\n",
       "class_weight : dict, list of dict or \"balanced\", default=None\n",
       "    Weights associated with classes in the form ``{class_label: weight}``.\n",
       "    If None, all classes are supposed to have weight one. For\n",
       "    multi-output problems, a list of dicts can be provided in the same\n",
       "    order as the columns of y.\n",
       "\n",
       "    Note that for multioutput (including multilabel) weights should be\n",
       "    defined for each class of every column in its own dict. For example,\n",
       "    for four-class multilabel classification weights should be\n",
       "    [{0: 1, 1: 1}, {0: 1, 1: 5}, {0: 1, 1: 1}, {0: 1, 1: 1}] instead of\n",
       "    [{1:1}, {2:5}, {3:1}, {4:1}].\n",
       "\n",
       "    The \"balanced\" mode uses the values of y to automatically adjust\n",
       "    weights inversely proportional to class frequencies in the input data\n",
       "    as ``n_samples / (n_classes * np.bincount(y))``\n",
       "\n",
       "    For multi-output, the weights of each column of y will be multiplied.\n",
       "\n",
       "    Note that these weights will be multiplied with sample_weight (passed\n",
       "    through the fit method) if sample_weight is specified.\n",
       "\n",
       "ccp_alpha : non-negative float, default=0.0\n",
       "    Complexity parameter used for Minimal Cost-Complexity Pruning. The\n",
       "    subtree with the largest cost complexity that is smaller than\n",
       "    ``ccp_alpha`` will be chosen. By default, no pruning is performed. See\n",
       "    :ref:`minimal_cost_complexity_pruning` for details.\n",
       "\n",
       "    .. versionadded:: 0.22\n",
       "\n",
       "Attributes\n",
       "----------\n",
       "classes_ : ndarray of shape (n_classes,) or list of ndarray\n",
       "    The classes labels (single output problem),\n",
       "    or a list of arrays of class labels (multi-output problem).\n",
       "\n",
       "feature_importances_ : ndarray of shape (n_features,)\n",
       "    The impurity-based feature importances.\n",
       "    The higher, the more important the feature.\n",
       "    The importance of a feature is computed as the (normalized)\n",
       "    total reduction of the criterion brought by that feature.  It is also\n",
       "    known as the Gini importance [4]_.\n",
       "\n",
       "    Warning: impurity-based feature importances can be misleading for\n",
       "    high cardinality features (many unique values). See\n",
       "    :func:`sklearn.inspection.permutation_importance` as an alternative.\n",
       "\n",
       "max_features_ : int\n",
       "    The inferred value of max_features.\n",
       "\n",
       "n_classes_ : int or list of int\n",
       "    The number of classes (for single output problems),\n",
       "    or a list containing the number of classes for each\n",
       "    output (for multi-output problems).\n",
       "\n",
       "n_features_ : int\n",
       "    The number of features when ``fit`` is performed.\n",
       "\n",
       "    .. deprecated:: 1.0\n",
       "       `n_features_` is deprecated in 1.0 and will be removed in\n",
       "       1.2. Use `n_features_in_` instead.\n",
       "\n",
       "n_features_in_ : int\n",
       "    Number of features seen during :term:`fit`.\n",
       "\n",
       "    .. versionadded:: 0.24\n",
       "\n",
       "feature_names_in_ : ndarray of shape (`n_features_in_`,)\n",
       "    Names of features seen during :term:`fit`. Defined only when `X`\n",
       "    has feature names that are all strings.\n",
       "\n",
       "    .. versionadded:: 1.0\n",
       "\n",
       "n_outputs_ : int\n",
       "    The number of outputs when ``fit`` is performed.\n",
       "\n",
       "tree_ : Tree instance\n",
       "    The underlying Tree object. Please refer to\n",
       "    ``help(sklearn.tree._tree.Tree)`` for attributes of Tree object and\n",
       "    :ref:`sphx_glr_auto_examples_tree_plot_unveil_tree_structure.py`\n",
       "    for basic usage of these attributes.\n",
       "\n",
       "See Also\n",
       "--------\n",
       "DecisionTreeRegressor : A decision tree regressor.\n",
       "\n",
       "Notes\n",
       "-----\n",
       "The default values for the parameters controlling the size of the trees\n",
       "(e.g. ``max_depth``, ``min_samples_leaf``, etc.) lead to fully grown and\n",
       "unpruned trees which can potentially be very large on some data sets. To\n",
       "reduce memory consumption, the complexity and size of the trees should be\n",
       "controlled by setting those parameter values.\n",
       "\n",
       "The :meth:`predict` method operates using the :func:`numpy.argmax`\n",
       "function on the outputs of :meth:`predict_proba`. This means that in\n",
       "case the highest predicted probabilities are tied, the classifier will\n",
       "predict the tied class with the lowest index in :term:`classes_`.\n",
       "\n",
       "References\n",
       "----------\n",
       "\n",
       ".. [1] https://en.wikipedia.org/wiki/Decision_tree_learning\n",
       "\n",
       ".. [2] L. Breiman, J. Friedman, R. Olshen, and C. Stone, \"Classification\n",
       "       and Regression Trees\", Wadsworth, Belmont, CA, 1984.\n",
       "\n",
       ".. [3] T. Hastie, R. Tibshirani and J. Friedman. \"Elements of Statistical\n",
       "       Learning\", Springer, 2009.\n",
       "\n",
       ".. [4] L. Breiman, and A. Cutler, \"Random Forests\",\n",
       "       https://www.stat.berkeley.edu/~breiman/RandomForests/cc_home.htm\n",
       "\n",
       "Examples\n",
       "--------\n",
       ">>> from sklearn.datasets import load_iris\n",
       ">>> from sklearn.model_selection import cross_val_score\n",
       ">>> from sklearn.tree import DecisionTreeClassifier\n",
       ">>> clf = DecisionTreeClassifier(random_state=0)\n",
       ">>> iris = load_iris()\n",
       ">>> cross_val_score(clf, iris.data, iris.target, cv=10)\n",
       "...                             # doctest: +SKIP\n",
       "...\n",
       "array([ 1.     ,  0.93...,  0.86...,  0.93...,  0.93...,\n",
       "        0.93...,  0.93...,  1.     ,  0.93...,  1.      ])\n"
      ]
     },
     "metadata": {},
     "output_type": "display_data"
    }
   ],
   "source": [
    "?cart_model"
   ]
  },
  {
   "cell_type": "code",
   "execution_count": 98,
   "id": "eecb2198-2225-4ba5-9bdc-a7ee6e58d4d8",
   "metadata": {},
   "outputs": [],
   "source": [
    "cart_grid = {\"max_depth\": range(1,10),\n",
    "             \"min_samples_split\" : list(range(2,50))}"
   ]
  },
  {
   "cell_type": "code",
   "execution_count": 99,
   "id": "fca3608a-91b8-47c9-aa50-9d221edc3f80",
   "metadata": {},
   "outputs": [
    {
     "name": "stdout",
     "output_type": "stream",
     "text": [
      "Fitting 10 folds for each of 432 candidates, totalling 4320 fits\n"
     ]
    }
   ],
   "source": [
    "cart = tree.DecisionTreeClassifier()\n",
    "cart_cv = GridSearchCV(cart, cart_grid, cv=10, n_jobs=-1, verbose=2)\n",
    "cart_cv_model = cart_cv.fit(X_train, y_train)"
   ]
  },
  {
   "cell_type": "code",
   "execution_count": 100,
   "id": "34aaceab-3d0d-4d87-b1a5-25bda0c27f7e",
   "metadata": {},
   "outputs": [
    {
     "name": "stdout",
     "output_type": "stream",
     "text": [
      "En iyi parametreler:{'max_depth': 5, 'min_samples_split': 19}\n"
     ]
    }
   ],
   "source": [
    "print(\"En iyi parametreler:\" +str(cart_cv_model.best_params_))"
   ]
  },
  {
   "cell_type": "code",
   "execution_count": 101,
   "id": "4528b1e9-a94c-4a13-94c2-4916ca4723c7",
   "metadata": {},
   "outputs": [],
   "source": [
    "cart = tree.DecisionTreeClassifier(max_depth=5 , min_samples_split=19)\n",
    "cart_tuned = cart.fit(X_train,y_train)"
   ]
  },
  {
   "cell_type": "code",
   "execution_count": 102,
   "id": "bdb66c5e-c483-4b67-a36f-d8abac5303d8",
   "metadata": {},
   "outputs": [
    {
     "data": {
      "text/plain": [
       "0.7532467532467533"
      ]
     },
     "execution_count": 102,
     "metadata": {},
     "output_type": "execute_result"
    }
   ],
   "source": [
    "y_pred = cart_tuned.predict(X_test)\n",
    "accuracy_score(y_test, y_pred)"
   ]
  },
  {
   "cell_type": "markdown",
   "id": "39e49088-832d-4129-a3cb-6edb3b4e16d1",
   "metadata": {},
   "source": [
    "## Random Forests"
   ]
  },
  {
   "cell_type": "code",
   "execution_count": 103,
   "id": "fdfe68ad-e716-4f6d-a970-7575f87ca9d0",
   "metadata": {},
   "outputs": [],
   "source": [
    "df = diabetes.copy()\n",
    "df = df.dropna()\n",
    "y = df[\"Outcome\"]\n",
    "X = df.drop([\"Outcome\"], axis=1)\n",
    "#X = df[\"Pregnancies\"]\n",
    "X = pd.DataFrame(X)\n",
    "X_train, X_test, y_train, y_test = train_test_split(X,y,test_size =0.30, random_state=42)"
   ]
  },
  {
   "cell_type": "code",
   "execution_count": 104,
   "id": "7cf90243-7ed0-4721-a53f-7a01c03111bd",
   "metadata": {},
   "outputs": [],
   "source": [
    "from sklearn.ensemble import RandomForestClassifier"
   ]
  },
  {
   "cell_type": "code",
   "execution_count": 105,
   "id": "920f4b7a-d942-486d-a149-8299c1cca301",
   "metadata": {},
   "outputs": [],
   "source": [
    "rf_model = RandomForestClassifier().fit(X_train, y_train)"
   ]
  },
  {
   "cell_type": "code",
   "execution_count": 106,
   "id": "c7952ceb-55a1-4c4b-a29c-7ef03241b042",
   "metadata": {},
   "outputs": [
    {
     "data": {
      "text/plain": [
       "RandomForestClassifier()"
      ]
     },
     "execution_count": 106,
     "metadata": {},
     "output_type": "execute_result"
    }
   ],
   "source": [
    "rf_model"
   ]
  },
  {
   "cell_type": "code",
   "execution_count": 107,
   "id": "808f6cf7-976a-49e6-bb61-b72e584f3a97",
   "metadata": {},
   "outputs": [
    {
     "data": {
      "text/plain": [
       "0.7445887445887446"
      ]
     },
     "execution_count": 107,
     "metadata": {},
     "output_type": "execute_result"
    }
   ],
   "source": [
    "y_pred = rf_model.predict(X_test)\n",
    "accuracy_score(y_test, y_pred)"
   ]
  },
  {
   "cell_type": "markdown",
   "id": "d0d9d281-128c-422e-8a88-16866b2b8333",
   "metadata": {},
   "source": [
    "## Model Tuning"
   ]
  },
  {
   "cell_type": "code",
   "execution_count": 108,
   "id": "b38919c8-f668-4581-a614-ae902976e3fc",
   "metadata": {},
   "outputs": [],
   "source": [
    "rf_params = {\"max_depth\": [2,5,8,10],\n",
    "             \"max_features\": [2,5,8],\n",
    "             \"n_estimators\": [10, 500,1000],\n",
    "             \"min_samples_split\": [2,5,10]}"
   ]
  },
  {
   "cell_type": "code",
   "execution_count": 109,
   "id": "5f1a788d-141f-480e-807c-3d20537f8619",
   "metadata": {},
   "outputs": [],
   "source": [
    "rf_model = RandomForestClassifier()\n",
    "\n",
    "rf_cv_model = GridSearchCV(rf_model, rf_params, cv=10, n_jobs = -2, verbose=2)"
   ]
  },
  {
   "cell_type": "code",
   "execution_count": 110,
   "id": "42496a6a-b7f2-4741-94eb-5c9fcddb0ca0",
   "metadata": {},
   "outputs": [
    {
     "name": "stdout",
     "output_type": "stream",
     "text": [
      "Fitting 10 folds for each of 108 candidates, totalling 1080 fits\n"
     ]
    },
    {
     "data": {
      "text/plain": [
       "GridSearchCV(cv=10, estimator=RandomForestClassifier(), n_jobs=-2,\n",
       "             param_grid={'max_depth': [2, 5, 8, 10], 'max_features': [2, 5, 8],\n",
       "                         'min_samples_split': [2, 5, 10],\n",
       "                         'n_estimators': [10, 500, 1000]},\n",
       "             verbose=2)"
      ]
     },
     "execution_count": 110,
     "metadata": {},
     "output_type": "execute_result"
    }
   ],
   "source": [
    "rf_cv_model.fit(X_train, y_train)"
   ]
  },
  {
   "cell_type": "code",
   "execution_count": 111,
   "id": "5d3bfbfe-c7b5-49b0-bb05-3b108ffefe12",
   "metadata": {},
   "outputs": [
    {
     "name": "stdout",
     "output_type": "stream",
     "text": [
      "En iyi parametreler:{'max_depth': 8, 'max_features': 5, 'min_samples_split': 5, 'n_estimators': 10}\n"
     ]
    }
   ],
   "source": [
    "print(\"En iyi parametreler:\" +str(rf_cv_model.best_params_))"
   ]
  },
  {
   "cell_type": "code",
   "execution_count": 112,
   "id": "4cf717a0-5f19-49d5-bea2-6bf1411f5f5c",
   "metadata": {},
   "outputs": [
    {
     "data": {
      "text/plain": [
       "RandomForestClassifier(max_depth=5, max_features=2, min_samples_split=5,\n",
       "                       n_estimators=10)"
      ]
     },
     "execution_count": 112,
     "metadata": {},
     "output_type": "execute_result"
    }
   ],
   "source": [
    "rf_tuned = RandomForestClassifier(max_depth=5, max_features=2, min_samples_split=5, n_estimators=10)\n",
    "\n",
    "rf_tuned.fit(X_train, y_train)"
   ]
  },
  {
   "cell_type": "code",
   "execution_count": 113,
   "id": "91b5dcf9-d074-4f37-911e-5c8c5d5b3075",
   "metadata": {},
   "outputs": [
    {
     "data": {
      "text/plain": [
       "0.7359307359307359"
      ]
     },
     "execution_count": 113,
     "metadata": {},
     "output_type": "execute_result"
    }
   ],
   "source": [
    "y_pred = rf_tuned.predict(X_test)\n",
    "accuracy_score(y_test, y_pred)"
   ]
  },
  {
   "cell_type": "code",
   "execution_count": 114,
   "id": "cd5cecdc-a9ef-4818-a120-31d0cec33b01",
   "metadata": {},
   "outputs": [],
   "source": [
    "Importance = pd.DataFrame({\"Importance\": rf_tuned.feature_importances_*100},index= X_train.columns)"
   ]
  },
  {
   "cell_type": "code",
   "execution_count": 115,
   "id": "17507534-9f27-4139-8ba6-6da0eb955bfc",
   "metadata": {},
   "outputs": [
    {
     "data": {
      "text/plain": [
       "Text(0.5, 0, 'Değişken Önem Düzeyleri')"
      ]
     },
     "execution_count": 115,
     "metadata": {},
     "output_type": "execute_result"
    },
    {
     "data": {
      "image/png": "[encoded data removed]",
      "text/plain": [
       "<Figure size 432x288 with 1 Axes>"
      ]
     },
     "metadata": {
      "needs_background": "light"
     },
     "output_type": "display_data"
    }
   ],
   "source": [
    "Importance.sort_values(by = \"Importance\",axis=0, ascending=True).plot(kind=\"barh\", color=\"r\")\n",
    "\n",
    "plt.xlabel(\"Değişken Önem Düzeyleri\")"
   ]
  },
  {
   "cell_type": "markdown",
   "id": "6d38e5a0-2d66-44d5-a45a-6df3192c91fd",
   "metadata": {},
   "source": [
    "## Gradient Boosting Machines"
   ]
  },
  {
   "cell_type": "code",
   "execution_count": 116,
   "id": "8dd67690-f952-4efc-995e-59a262a6fbe8",
   "metadata": {},
   "outputs": [],
   "source": [
    "df = diabetes.copy()\n",
    "df = df.dropna()\n",
    "y = df[\"Outcome\"]\n",
    "X = df.drop([\"Outcome\"], axis=1)\n",
    "#X = df[\"Pregnancies\"]\n",
    "X = pd.DataFrame(X)\n",
    "X_train, X_test, y_train, y_test = train_test_split(X,y,test_size =0.30, random_state=42)"
   ]
  },
  {
   "cell_type": "code",
   "execution_count": 117,
   "id": "bcf4dc5a-ccf8-4d90-bb14-477cdcdc173a",
   "metadata": {},
   "outputs": [],
   "source": [
    "from sklearn.ensemble import GradientBoostingClassifier"
   ]
  },
  {
   "cell_type": "code",
   "execution_count": 118,
   "id": "e714b374-3524-49f2-880e-bba4642226c7",
   "metadata": {},
   "outputs": [],
   "source": [
    "gbm_model = GradientBoostingClassifier().fit(X_train, y_train)"
   ]
  },
  {
   "cell_type": "code",
   "execution_count": 119,
   "id": "e1f488f2-94c3-4d2a-882f-6a817e790fce",
   "metadata": {},
   "outputs": [
    {
     "data": {
      "text/plain": [
       "0.7445887445887446"
      ]
     },
     "execution_count": 119,
     "metadata": {},
     "output_type": "execute_result"
    }
   ],
   "source": [
    "y_pred = gbm_model.predict(X_test)\n",
    "accuracy_score(y_test, y_pred)"
   ]
  },
  {
   "cell_type": "markdown",
   "id": "9676b165-44a5-4733-893e-7c971a951cd1",
   "metadata": {},
   "source": [
    "## Model Tuning"
   ]
  },
  {
   "cell_type": "code",
   "execution_count": 120,
   "id": "5426bb37-8530-43ae-8a9d-b9f945717d45",
   "metadata": {},
   "outputs": [
    {
     "data": {
      "text/plain": [
       "GradientBoostingClassifier()"
      ]
     },
     "execution_count": 120,
     "metadata": {},
     "output_type": "execute_result"
    }
   ],
   "source": [
    "gbm_model"
   ]
  },
  {
   "cell_type": "code",
   "execution_count": 121,
   "id": "6b13e7c0-1c0c-41a7-8b5b-f5520ffe1264",
   "metadata": {},
   "outputs": [],
   "source": [
    "gbm_params = {\"learning_rate\": [0.001, 0.01, 0.1, 0.05],\n",
    "             \"n_estimators\": [100, 500,1000],\n",
    "              \"max_depth\": [3,5,10],\n",
    "             \"min_samples_split\": [2,5,10]}"
   ]
  },
  {
   "cell_type": "code",
   "execution_count": 122,
   "id": "7656da7a-6b41-4e29-85ed-82718506e56d",
   "metadata": {},
   "outputs": [],
   "source": [
    "gbm = GradientBoostingClassifier()\n",
    "\n",
    "gbm_cv = GridSearchCV(gbm, gbm_params, cv=10, n_jobs=-1, verbose=2)"
   ]
  },
  {
   "cell_type": "code",
   "execution_count": 123,
   "id": "802653bb-b442-48fb-854d-7e44277bc356",
   "metadata": {},
   "outputs": [
    {
     "name": "stdout",
     "output_type": "stream",
     "text": [
      "Fitting 10 folds for each of 108 candidates, totalling 1080 fits\n"
     ]
    },
    {
     "data": {
      "text/plain": [
       "GridSearchCV(cv=10, estimator=GradientBoostingClassifier(), n_jobs=-1,\n",
       "             param_grid={'learning_rate': [0.001, 0.01, 0.1, 0.05],\n",
       "                         'max_depth': [3, 5, 10],\n",
       "                         'min_samples_split': [2, 5, 10],\n",
       "                         'n_estimators': [100, 500, 1000]},\n",
       "             verbose=2)"
      ]
     },
     "execution_count": 123,
     "metadata": {},
     "output_type": "execute_result"
    }
   ],
   "source": [
    "gbm_cv.fit(X_train, y_train)"
   ]
  },
  {
   "cell_type": "code",
   "execution_count": 124,
   "id": "f21c106e-e283-4917-9e2b-54b7b667e580",
   "metadata": {},
   "outputs": [
    {
     "name": "stdout",
     "output_type": "stream",
     "text": [
      "En iyi parametreler:{'learning_rate': 0.1, 'max_depth': 3, 'min_samples_split': 5, 'n_estimators': 100}\n"
     ]
    }
   ],
   "source": [
    "print(\"En iyi parametreler:\" + str(gbm_cv.best_params_))"
   ]
  },
  {
   "cell_type": "code",
   "execution_count": 125,
   "id": "562ce94d-c6a3-43e2-a655-aa7cbf2ddd9e",
   "metadata": {},
   "outputs": [],
   "source": [
    "gbm = GradientBoostingClassifier(learning_rate = 0.1, max_depth=3, min_samples_split=5,n_estimators=100)"
   ]
  },
  {
   "cell_type": "code",
   "execution_count": 126,
   "id": "615b8103-5724-4bcf-8c93-a88b5768038d",
   "metadata": {},
   "outputs": [],
   "source": [
    "gbm_tuned = gbm.fit(X_train,y_train)"
   ]
  },
  {
   "cell_type": "code",
   "execution_count": 127,
   "id": "571f57c2-a416-48b7-96f1-47e1519557ff",
   "metadata": {},
   "outputs": [
    {
     "data": {
      "text/plain": [
       "0.7445887445887446"
      ]
     },
     "execution_count": 127,
     "metadata": {},
     "output_type": "execute_result"
    }
   ],
   "source": [
    "y_pred = gbm_tuned.predict(X_test)\n",
    "accuracy_score(y_test, y_pred)"
   ]
  },
  {
   "cell_type": "markdown",
   "id": "0f5a3c89-392d-4672-9540-dc697b15014e",
   "metadata": {},
   "source": [
    "## XGBOOST"
   ]
  },
  {
   "cell_type": "code",
   "execution_count": 128,
   "id": "0d6952ea-7643-4961-b6e8-f4fa94997376",
   "metadata": {},
   "outputs": [],
   "source": [
    "df = diabetes.copy()\n",
    "df = df.dropna()\n",
    "y = df[\"Outcome\"]\n",
    "X = df.drop([\"Outcome\"], axis=1)\n",
    "#X = df[\"Pregnancies\"]\n",
    "X = pd.DataFrame(X)\n",
    "X_train, X_test, y_train, y_test = train_test_split(X,y,test_size =0.30, random_state=42)"
   ]
  },
  {
   "cell_type": "code",
   "execution_count": 129,
   "id": "3b460906-f69d-42ff-a7ea-cf9e355b2de2",
   "metadata": {},
   "outputs": [],
   "source": [
    "from xgboost import XGBClassifier"
   ]
  },
  {
   "cell_type": "code",
   "execution_count": 130,
   "id": "fb342e88-1d02-424f-a356-fd6cc27abe81",
   "metadata": {},
   "outputs": [],
   "source": [
    "xgb_model = XGBClassifier().fit(X_train, y_train)"
   ]
  },
  {
   "cell_type": "code",
   "execution_count": 131,
   "id": "835f9653-d452-47f4-ab64-f71e7ee3d904",
   "metadata": {},
   "outputs": [
    {
     "data": {
      "text/plain": [
       "XGBClassifier(base_score=None, booster=None, callbacks=None,\n",
       "              colsample_bylevel=None, colsample_bynode=None,\n",
       "              colsample_bytree=None, early_stopping_rounds=None,\n",
       "              enable_categorical=False, eval_metric=None, feature_types=None,\n",
       "              gamma=None, gpu_id=None, grow_policy=None, importance_type=None,\n",
       "              interaction_constraints=None, learning_rate=None, max_bin=None,\n",
       "              max_cat_threshold=None, max_cat_to_onehot=None,\n",
       "              max_delta_step=None, max_depth=None, max_leaves=None,\n",
       "              min_child_weight=None, missing=nan, monotone_constraints=None,\n",
       "              n_estimators=100, n_jobs=None, num_parallel_tree=None,\n",
       "              predictor=None, random_state=None, ...)"
      ]
     },
     "execution_count": 131,
     "metadata": {},
     "output_type": "execute_result"
    }
   ],
   "source": [
    "xgb_model"
   ]
  },
  {
   "cell_type": "code",
   "execution_count": 132,
   "id": "c8c671e8-2b5a-4f4a-9df9-6859164d1c62",
   "metadata": {},
   "outputs": [
    {
     "data": {
      "text/plain": [
       "0.7359307359307359"
      ]
     },
     "execution_count": 132,
     "metadata": {},
     "output_type": "execute_result"
    }
   ],
   "source": [
    "y_pred = xgb_model.predict(X_test)\n",
    "accuracy_score(y_test, y_pred)"
   ]
  },
  {
   "cell_type": "markdown",
   "id": "785bde55-e672-4800-9fd7-4291d476d0b1",
   "metadata": {},
   "source": [
    "## Model Tuning"
   ]
  },
  {
   "cell_type": "code",
   "execution_count": 133,
   "id": "51ff75ab-cb6c-4502-b424-2d6a11b4e234",
   "metadata": {},
   "outputs": [],
   "source": [
    "xgb_params = {\"n_estimators\": [100, 500,1000,2000],\n",
    "              \"subsample\": [0.6, 0.8, 1.0],\n",
    "              \"max_depth\": [3,4,5,6],\n",
    "              \"learning_rate\": [0.1, 0.01, 0.02, 0.05],\n",
    "              \"min_samples_split\": [2,5,10]}"
   ]
  },
  {
   "cell_type": "code",
   "execution_count": 134,
   "id": "b744297b-5b53-4462-93b0-759c6cfb9c89",
   "metadata": {},
   "outputs": [],
   "source": [
    "xgb = XGBClassifier()\n",
    "\n",
    "xgb_cv_model = GridSearchCV(xgb, xgb_params, cv=10, n_jobs=-1, verbose=2)"
   ]
  },
  {
   "cell_type": "code",
   "execution_count": 135,
   "id": "716dc4fc-03e7-4299-b1ec-a6df6df6ea9e",
   "metadata": {},
   "outputs": [
    {
     "name": "stdout",
     "output_type": "stream",
     "text": [
      "Fitting 10 folds for each of 576 candidates, totalling 5760 fits\n",
      "[14:22:01] WARNING: C:\\buildkite-agent\\builds\\buildkite-windows-cpu-autoscaling-group-i-0fdc6d574b9c0d168-1\\xgboost\\xgboost-ci-windows\\src\\learner.cc:767: \n",
      "Parameters: { \"min_samples_split\" } are not used.\n",
      "\n"
     ]
    },
    {
     "data": {
      "text/plain": [
       "GridSearchCV(cv=10,\n",
       "             estimator=XGBClassifier(base_score=None, booster=None,\n",
       "                                     callbacks=None, colsample_bylevel=None,\n",
       "                                     colsample_bynode=None,\n",
       "                                     colsample_bytree=None,\n",
       "                                     early_stopping_rounds=None,\n",
       "                                     enable_categorical=False, eval_metric=None,\n",
       "                                     feature_types=None, gamma=None,\n",
       "                                     gpu_id=None, grow_policy=None,\n",
       "                                     importance_type=None,\n",
       "                                     interaction_constraints=None,\n",
       "                                     learning_rate=None...\n",
       "                                     max_delta_step=None, max_depth=None,\n",
       "                                     max_leaves=None, min_child_weight=None,\n",
       "                                     missing=nan, monotone_constraints=None,\n",
       "                                     n_estimators=100, n_jobs=None,\n",
       "                                     num_parallel_tree=None, predictor=None,\n",
       "                                     random_state=None, ...),\n",
       "             n_jobs=-1,\n",
       "             param_grid={'learning_rate': [0.1, 0.01, 0.02, 0.05],\n",
       "                         'max_depth': [3, 4, 5, 6],\n",
       "                         'min_samples_split': [2, 5, 10],\n",
       "                         'n_estimators': [100, 500, 1000, 2000],\n",
       "                         'subsample': [0.6, 0.8, 1.0]},\n",
       "             verbose=2)"
      ]
     },
     "execution_count": 135,
     "metadata": {},
     "output_type": "execute_result"
    }
   ],
   "source": [
    "xgb_cv_model.fit(X_train, y_train)"
   ]
  },
  {
   "cell_type": "code",
   "execution_count": 136,
   "id": "7a8a7c2e-961f-4d11-8b1c-dd1f5e9361d6",
   "metadata": {},
   "outputs": [
    {
     "data": {
      "text/plain": [
       "{'learning_rate': 0.02,\n",
       " 'max_depth': 3,\n",
       " 'min_samples_split': 2,\n",
       " 'n_estimators': 100,\n",
       " 'subsample': 0.6}"
      ]
     },
     "execution_count": 136,
     "metadata": {},
     "output_type": "execute_result"
    }
   ],
   "source": [
    "xgb_cv_model.best_params_"
   ]
  },
  {
   "cell_type": "code",
   "execution_count": 137,
   "id": "0318ebc7-915a-4945-a851-fdbfca069134",
   "metadata": {},
   "outputs": [],
   "source": [
    "xgb = XGBClassifier(learning_rate = 0.02, max_depth=3 ,min_samples_split=2, n_estimators=100, subsample=0.6)"
   ]
  },
  {
   "cell_type": "code",
   "execution_count": 138,
   "id": "2bf88895-17bc-4cec-b9a4-bd0d0c63af94",
   "metadata": {},
   "outputs": [
    {
     "name": "stdout",
     "output_type": "stream",
     "text": [
      "[14:22:02] WARNING: C:\\buildkite-agent\\builds\\buildkite-windows-cpu-autoscaling-group-i-0fdc6d574b9c0d168-1\\xgboost\\xgboost-ci-windows\\src\\learner.cc:767: \n",
      "Parameters: { \"min_samples_split\" } are not used.\n",
      "\n"
     ]
    }
   ],
   "source": [
    "xgb_tuned = xgb.fit(X_train, y_train)"
   ]
  },
  {
   "cell_type": "code",
   "execution_count": 139,
   "id": "a2b4f952-c362-47fd-acb5-d186434959dd",
   "metadata": {},
   "outputs": [
    {
     "data": {
      "text/plain": [
       "0.7575757575757576"
      ]
     },
     "execution_count": 139,
     "metadata": {},
     "output_type": "execute_result"
    }
   ],
   "source": [
    "y_pred = xgb_tuned.predict(X_test)\n",
    "accuracy_score(y_test, y_pred)"
   ]
  },
  {
   "cell_type": "markdown",
   "id": "353daa1d-fc21-451d-8b1b-ef6e0d4cf983",
   "metadata": {},
   "source": [
    "## LightGBM"
   ]
  },
  {
   "cell_type": "code",
   "execution_count": 140,
   "id": "08b30b62-8fff-4761-83d8-80b24f155fd8",
   "metadata": {},
   "outputs": [],
   "source": [
    "df = diabetes.copy()\n",
    "df = df.dropna()\n",
    "y = df[\"Outcome\"]\n",
    "X = df.drop([\"Outcome\"], axis=1)\n",
    "#X = df[\"Pregnancies\"]\n",
    "X = pd.DataFrame(X)\n",
    "X_train, X_test, y_train, y_test = train_test_split(X,y,test_size =0.30, random_state=42)"
   ]
  },
  {
   "cell_type": "code",
   "execution_count": 141,
   "id": "b4bc21e4-5e84-41c1-80d2-28eee5d61ebb",
   "metadata": {},
   "outputs": [],
   "source": [
    "from lightgbm import LGBMClassifier"
   ]
  },
  {
   "cell_type": "code",
   "execution_count": 142,
   "id": "761fce13-a30f-4977-a36a-8b9aa64cbb16",
   "metadata": {},
   "outputs": [],
   "source": [
    "lgbm_model = LGBMClassifier(verbose=-1).fit(X_train, y_train)"
   ]
  },
  {
   "cell_type": "code",
   "execution_count": 143,
   "id": "43d84fa6-564a-4876-a5ec-658c2598f8b2",
   "metadata": {},
   "outputs": [
    {
     "data": {
      "text/plain": [
       "0.7229437229437229"
      ]
     },
     "execution_count": 143,
     "metadata": {},
     "output_type": "execute_result"
    }
   ],
   "source": [
    "y_pred = lgbm_model.predict(X_test)\n",
    "accuracy_score(y_test, y_pred)"
   ]
  },
  {
   "cell_type": "markdown",
   "id": "58399e5c-81b0-4bd1-b1cd-6a8c7fef881a",
   "metadata": {},
   "source": [
    "## Model Tuning"
   ]
  },
  {
   "cell_type": "code",
   "execution_count": 144,
   "id": "d4ca12e9-f5bc-4051-aa02-cbf228f44e7f",
   "metadata": {},
   "outputs": [],
   "source": [
    "lgbm_params = {\"n_estimators\": [100, 500,1000,2000],\n",
    "              \"subsample\": [0.6, 0.8, 1.0],\n",
    "              \"max_depth\": [3,4,5,6],\n",
    "              \"learning_rate\": [0.1, 0.01, 0.02, 0.05],\n",
    "              \"min_child_samples\": [5,10,20]}"
   ]
  },
  {
   "cell_type": "code",
   "execution_count": 145,
   "id": "14eba38b-2533-4211-a67e-882c60c632cf",
   "metadata": {},
   "outputs": [],
   "source": [
    "lgbm = LGBMClassifier(verbose=-1)\n",
    "\n",
    "lgbm_cv_model = GridSearchCV(lgbm, lgbm_params, cv=10, n_jobs=-1, verbose=2)"
   ]
  },
  {
   "cell_type": "code",
   "execution_count": 146,
   "id": "0accbe4a-a316-4745-ab43-8b6005384a3f",
   "metadata": {},
   "outputs": [
    {
     "name": "stdout",
     "output_type": "stream",
     "text": [
      "Fitting 10 folds for each of 576 candidates, totalling 5760 fits\n"
     ]
    },
    {
     "data": {
      "text/plain": [
       "GridSearchCV(cv=10, estimator=LGBMClassifier(verbose=-1), n_jobs=-1,\n",
       "             param_grid={'learning_rate': [0.1, 0.01, 0.02, 0.05],\n",
       "                         'max_depth': [3, 4, 5, 6],\n",
       "                         'min_child_samples': [5, 10, 20],\n",
       "                         'n_estimators': [100, 500, 1000, 2000],\n",
       "                         'subsample': [0.6, 0.8, 1.0]},\n",
       "             verbose=2)"
      ]
     },
     "execution_count": 146,
     "metadata": {},
     "output_type": "execute_result"
    }
   ],
   "source": [
    "lgbm_cv_model.fit(X_train,y_train)"
   ]
  },
  {
   "cell_type": "code",
   "execution_count": 147,
   "id": "15196482-0b2b-408d-a7d4-e5e013ccb4b9",
   "metadata": {},
   "outputs": [],
   "source": [
    "lgbm_tuned =lgbm.fit(X_train, y_train)"
   ]
  },
  {
   "cell_type": "code",
   "execution_count": 148,
   "id": "148c8368-fb98-4132-9dd3-a13e3a4b1ded",
   "metadata": {},
   "outputs": [
    {
     "data": {
      "text/plain": [
       "0.7229437229437229"
      ]
     },
     "execution_count": 148,
     "metadata": {},
     "output_type": "execute_result"
    }
   ],
   "source": [
    "y_pred = lgbm_tuned.predict(X_test)\n",
    "accuracy_score(y_test,y_pred)"
   ]
  },
  {
   "cell_type": "markdown",
   "id": "847d6ebd-40d9-436c-98a0-12d92d13f1c7",
   "metadata": {},
   "source": [
    "## Categoric Boosting (CatBoost)"
   ]
  },
  {
   "cell_type": "code",
   "execution_count": 149,
   "id": "c7eb32bf-d1b5-4efb-adfc-01825979edab",
   "metadata": {},
   "outputs": [],
   "source": [
    "df = diabetes.copy()\n",
    "df = df.dropna()\n",
    "y = df[\"Outcome\"]\n",
    "X = df.drop([\"Outcome\"], axis=1)\n",
    "#X = df[\"Pregnancies\"]\n",
    "X = pd.DataFrame(X)\n",
    "X_train, X_test, y_train, y_test = train_test_split(X,y,test_size =0.30, random_state=42)"
   ]
  },
  {
   "cell_type": "code",
   "execution_count": 150,
   "id": "897cd7d7-f7b7-4a65-8fd9-f34eaa5a1eb9",
   "metadata": {},
   "outputs": [],
   "source": [
    "from catboost import CatBoostClassifier"
   ]
  },
  {
   "cell_type": "code",
   "execution_count": 151,
   "id": "fb9aca70-ab2e-4020-bc9f-9a8600b53cc5",
   "metadata": {
    "collapsed": true,
    "jupyter": {
     "outputs_hidden": true
    },
    "tags": []
   },
   "outputs": [
    {
     "name": "stdout",
     "output_type": "stream",
     "text": [
      "Learning rate set to 0.0079\n",
      "0:\tlearn: 0.6879744\ttotal: 189ms\tremaining: 3m 8s\n",
      "1:\tlearn: 0.6843414\ttotal: 192ms\tremaining: 1m 35s\n",
      "2:\tlearn: 0.6805760\ttotal: 195ms\tremaining: 1m 4s\n",
      "3:\tlearn: 0.6765782\ttotal: 198ms\tremaining: 49.3s\n",
      "4:\tlearn: 0.6720829\ttotal: 201ms\tremaining: 40s\n",
      "5:\tlearn: 0.6681617\ttotal: 204ms\tremaining: 33.8s\n",
      "6:\tlearn: 0.6641912\ttotal: 207ms\tremaining: 29.3s\n",
      "7:\tlearn: 0.6602881\ttotal: 210ms\tremaining: 26s\n",
      "8:\tlearn: 0.6562626\ttotal: 212ms\tremaining: 23.4s\n",
      "9:\tlearn: 0.6528483\ttotal: 215ms\tremaining: 21.3s\n",
      "10:\tlearn: 0.6487823\ttotal: 218ms\tremaining: 19.6s\n",
      "11:\tlearn: 0.6454980\ttotal: 221ms\tremaining: 18.2s\n",
      "12:\tlearn: 0.6418953\ttotal: 223ms\tremaining: 16.9s\n",
      "13:\tlearn: 0.6374431\ttotal: 226ms\tremaining: 15.9s\n",
      "14:\tlearn: 0.6339676\ttotal: 229ms\tremaining: 15s\n",
      "15:\tlearn: 0.6304252\ttotal: 231ms\tremaining: 14.2s\n",
      "16:\tlearn: 0.6266998\ttotal: 234ms\tremaining: 13.5s\n",
      "17:\tlearn: 0.6237660\ttotal: 236ms\tremaining: 12.9s\n",
      "18:\tlearn: 0.6204394\ttotal: 239ms\tremaining: 12.3s\n",
      "19:\tlearn: 0.6170129\ttotal: 242ms\tremaining: 11.9s\n",
      "20:\tlearn: 0.6133404\ttotal: 245ms\tremaining: 11.4s\n",
      "21:\tlearn: 0.6104932\ttotal: 248ms\tremaining: 11s\n",
      "22:\tlearn: 0.6069523\ttotal: 250ms\tremaining: 10.6s\n",
      "23:\tlearn: 0.6036467\ttotal: 253ms\tremaining: 10.3s\n",
      "24:\tlearn: 0.6005392\ttotal: 256ms\tremaining: 9.99s\n",
      "25:\tlearn: 0.5977520\ttotal: 259ms\tremaining: 9.7s\n",
      "26:\tlearn: 0.5948189\ttotal: 262ms\tremaining: 9.43s\n",
      "27:\tlearn: 0.5919831\ttotal: 264ms\tremaining: 9.18s\n",
      "28:\tlearn: 0.5885065\ttotal: 267ms\tremaining: 8.94s\n",
      "29:\tlearn: 0.5848273\ttotal: 270ms\tremaining: 8.72s\n",
      "30:\tlearn: 0.5822076\ttotal: 273ms\tremaining: 8.52s\n",
      "31:\tlearn: 0.5790604\ttotal: 275ms\tremaining: 8.33s\n",
      "32:\tlearn: 0.5762252\ttotal: 278ms\tremaining: 8.15s\n",
      "33:\tlearn: 0.5745338\ttotal: 281ms\tremaining: 7.98s\n",
      "34:\tlearn: 0.5719085\ttotal: 284ms\tremaining: 7.83s\n",
      "35:\tlearn: 0.5693365\ttotal: 287ms\tremaining: 7.68s\n",
      "36:\tlearn: 0.5665486\ttotal: 290ms\tremaining: 7.54s\n",
      "37:\tlearn: 0.5647413\ttotal: 292ms\tremaining: 7.4s\n",
      "38:\tlearn: 0.5622430\ttotal: 295ms\tremaining: 7.28s\n",
      "39:\tlearn: 0.5600038\ttotal: 298ms\tremaining: 7.16s\n",
      "40:\tlearn: 0.5579786\ttotal: 301ms\tremaining: 7.04s\n",
      "41:\tlearn: 0.5555817\ttotal: 304ms\tremaining: 6.93s\n",
      "42:\tlearn: 0.5533884\ttotal: 307ms\tremaining: 6.83s\n",
      "43:\tlearn: 0.5503718\ttotal: 310ms\tremaining: 6.73s\n",
      "44:\tlearn: 0.5482587\ttotal: 312ms\tremaining: 6.63s\n",
      "45:\tlearn: 0.5458783\ttotal: 315ms\tremaining: 6.53s\n",
      "46:\tlearn: 0.5441370\ttotal: 318ms\tremaining: 6.45s\n",
      "47:\tlearn: 0.5422492\ttotal: 321ms\tremaining: 6.36s\n",
      "48:\tlearn: 0.5397111\ttotal: 324ms\tremaining: 6.28s\n",
      "49:\tlearn: 0.5378482\ttotal: 326ms\tremaining: 6.2s\n",
      "50:\tlearn: 0.5355250\ttotal: 329ms\tremaining: 6.13s\n",
      "51:\tlearn: 0.5334717\ttotal: 332ms\tremaining: 6.05s\n",
      "52:\tlearn: 0.5308796\ttotal: 335ms\tremaining: 5.98s\n",
      "53:\tlearn: 0.5291891\ttotal: 337ms\tremaining: 5.91s\n",
      "54:\tlearn: 0.5273404\ttotal: 340ms\tremaining: 5.84s\n",
      "55:\tlearn: 0.5252025\ttotal: 343ms\tremaining: 5.78s\n",
      "56:\tlearn: 0.5232146\ttotal: 345ms\tremaining: 5.71s\n",
      "57:\tlearn: 0.5212394\ttotal: 348ms\tremaining: 5.65s\n",
      "58:\tlearn: 0.5188927\ttotal: 351ms\tremaining: 5.59s\n",
      "59:\tlearn: 0.5166496\ttotal: 353ms\tremaining: 5.53s\n",
      "60:\tlearn: 0.5151264\ttotal: 356ms\tremaining: 5.48s\n",
      "61:\tlearn: 0.5128109\ttotal: 359ms\tremaining: 5.43s\n",
      "62:\tlearn: 0.5114747\ttotal: 362ms\tremaining: 5.38s\n",
      "63:\tlearn: 0.5096208\ttotal: 365ms\tremaining: 5.33s\n",
      "64:\tlearn: 0.5072601\ttotal: 368ms\tremaining: 5.29s\n",
      "65:\tlearn: 0.5052770\ttotal: 371ms\tremaining: 5.25s\n",
      "66:\tlearn: 0.5036623\ttotal: 374ms\tremaining: 5.21s\n",
      "67:\tlearn: 0.5017328\ttotal: 377ms\tremaining: 5.17s\n",
      "68:\tlearn: 0.5005425\ttotal: 379ms\tremaining: 5.12s\n",
      "69:\tlearn: 0.4991695\ttotal: 382ms\tremaining: 5.08s\n",
      "70:\tlearn: 0.4976900\ttotal: 385ms\tremaining: 5.04s\n",
      "71:\tlearn: 0.4958907\ttotal: 388ms\tremaining: 5s\n",
      "72:\tlearn: 0.4944550\ttotal: 391ms\tremaining: 4.97s\n",
      "73:\tlearn: 0.4929501\ttotal: 394ms\tremaining: 4.93s\n",
      "74:\tlearn: 0.4913299\ttotal: 397ms\tremaining: 4.9s\n",
      "75:\tlearn: 0.4898798\ttotal: 401ms\tremaining: 4.87s\n",
      "76:\tlearn: 0.4882946\ttotal: 404ms\tremaining: 4.84s\n",
      "77:\tlearn: 0.4866733\ttotal: 406ms\tremaining: 4.8s\n",
      "78:\tlearn: 0.4849083\ttotal: 409ms\tremaining: 4.77s\n",
      "79:\tlearn: 0.4832344\ttotal: 412ms\tremaining: 4.74s\n",
      "80:\tlearn: 0.4822155\ttotal: 415ms\tremaining: 4.71s\n",
      "81:\tlearn: 0.4805651\ttotal: 418ms\tremaining: 4.68s\n",
      "82:\tlearn: 0.4789437\ttotal: 421ms\tremaining: 4.65s\n",
      "83:\tlearn: 0.4773680\ttotal: 424ms\tremaining: 4.62s\n",
      "84:\tlearn: 0.4759592\ttotal: 427ms\tremaining: 4.59s\n",
      "85:\tlearn: 0.4743296\ttotal: 429ms\tremaining: 4.56s\n",
      "86:\tlearn: 0.4733053\ttotal: 432ms\tremaining: 4.54s\n",
      "87:\tlearn: 0.4719029\ttotal: 435ms\tremaining: 4.51s\n",
      "88:\tlearn: 0.4704197\ttotal: 438ms\tremaining: 4.48s\n",
      "89:\tlearn: 0.4692434\ttotal: 441ms\tremaining: 4.46s\n",
      "90:\tlearn: 0.4676877\ttotal: 444ms\tremaining: 4.43s\n",
      "91:\tlearn: 0.4663135\ttotal: 446ms\tremaining: 4.41s\n",
      "92:\tlearn: 0.4648501\ttotal: 449ms\tremaining: 4.38s\n",
      "93:\tlearn: 0.4634104\ttotal: 452ms\tremaining: 4.36s\n",
      "94:\tlearn: 0.4622453\ttotal: 455ms\tremaining: 4.33s\n",
      "95:\tlearn: 0.4610022\ttotal: 458ms\tremaining: 4.31s\n",
      "96:\tlearn: 0.4596122\ttotal: 460ms\tremaining: 4.29s\n",
      "97:\tlearn: 0.4586478\ttotal: 463ms\tremaining: 4.26s\n",
      "98:\tlearn: 0.4574414\ttotal: 465ms\tremaining: 4.24s\n",
      "99:\tlearn: 0.4564241\ttotal: 468ms\tremaining: 4.21s\n",
      "100:\tlearn: 0.4550640\ttotal: 471ms\tremaining: 4.19s\n",
      "101:\tlearn: 0.4542409\ttotal: 473ms\tremaining: 4.17s\n",
      "102:\tlearn: 0.4532567\ttotal: 476ms\tremaining: 4.14s\n",
      "103:\tlearn: 0.4520656\ttotal: 479ms\tremaining: 4.12s\n",
      "104:\tlearn: 0.4507238\ttotal: 481ms\tremaining: 4.1s\n",
      "105:\tlearn: 0.4498366\ttotal: 484ms\tremaining: 4.08s\n",
      "106:\tlearn: 0.4487896\ttotal: 487ms\tremaining: 4.06s\n",
      "107:\tlearn: 0.4479770\ttotal: 489ms\tremaining: 4.04s\n",
      "108:\tlearn: 0.4470681\ttotal: 492ms\tremaining: 4.02s\n",
      "109:\tlearn: 0.4461679\ttotal: 495ms\tremaining: 4.01s\n",
      "110:\tlearn: 0.4449306\ttotal: 498ms\tremaining: 3.99s\n",
      "111:\tlearn: 0.4442033\ttotal: 501ms\tremaining: 3.97s\n",
      "112:\tlearn: 0.4431958\ttotal: 503ms\tremaining: 3.95s\n",
      "113:\tlearn: 0.4420872\ttotal: 506ms\tremaining: 3.93s\n",
      "114:\tlearn: 0.4411093\ttotal: 509ms\tremaining: 3.92s\n",
      "115:\tlearn: 0.4404177\ttotal: 512ms\tremaining: 3.9s\n",
      "116:\tlearn: 0.4393393\ttotal: 515ms\tremaining: 3.88s\n",
      "117:\tlearn: 0.4385459\ttotal: 518ms\tremaining: 3.87s\n",
      "118:\tlearn: 0.4376311\ttotal: 521ms\tremaining: 3.85s\n",
      "119:\tlearn: 0.4365919\ttotal: 524ms\tremaining: 3.84s\n",
      "120:\tlearn: 0.4356995\ttotal: 527ms\tremaining: 3.83s\n",
      "121:\tlearn: 0.4348411\ttotal: 530ms\tremaining: 3.81s\n",
      "122:\tlearn: 0.4339453\ttotal: 532ms\tremaining: 3.79s\n",
      "123:\tlearn: 0.4328034\ttotal: 536ms\tremaining: 3.78s\n",
      "124:\tlearn: 0.4319283\ttotal: 539ms\tremaining: 3.77s\n",
      "125:\tlearn: 0.4312557\ttotal: 542ms\tremaining: 3.76s\n",
      "126:\tlearn: 0.4304026\ttotal: 545ms\tremaining: 3.75s\n",
      "127:\tlearn: 0.4298280\ttotal: 548ms\tremaining: 3.73s\n",
      "128:\tlearn: 0.4289908\ttotal: 551ms\tremaining: 3.72s\n",
      "129:\tlearn: 0.4281060\ttotal: 554ms\tremaining: 3.71s\n",
      "130:\tlearn: 0.4274906\ttotal: 557ms\tremaining: 3.69s\n",
      "131:\tlearn: 0.4263412\ttotal: 560ms\tremaining: 3.68s\n",
      "132:\tlearn: 0.4253331\ttotal: 563ms\tremaining: 3.67s\n",
      "133:\tlearn: 0.4243619\ttotal: 566ms\tremaining: 3.65s\n",
      "134:\tlearn: 0.4236335\ttotal: 569ms\tremaining: 3.64s\n",
      "135:\tlearn: 0.4228861\ttotal: 572ms\tremaining: 3.63s\n",
      "136:\tlearn: 0.4221383\ttotal: 575ms\tremaining: 3.62s\n",
      "137:\tlearn: 0.4212787\ttotal: 578ms\tremaining: 3.61s\n",
      "138:\tlearn: 0.4205727\ttotal: 580ms\tremaining: 3.6s\n",
      "139:\tlearn: 0.4198398\ttotal: 583ms\tremaining: 3.58s\n",
      "140:\tlearn: 0.4190528\ttotal: 586ms\tremaining: 3.57s\n",
      "141:\tlearn: 0.4181762\ttotal: 589ms\tremaining: 3.56s\n",
      "142:\tlearn: 0.4177653\ttotal: 592ms\tremaining: 3.55s\n",
      "143:\tlearn: 0.4171131\ttotal: 595ms\tremaining: 3.53s\n",
      "144:\tlearn: 0.4165639\ttotal: 597ms\tremaining: 3.52s\n",
      "145:\tlearn: 0.4156471\ttotal: 600ms\tremaining: 3.51s\n",
      "146:\tlearn: 0.4153234\ttotal: 603ms\tremaining: 3.5s\n",
      "147:\tlearn: 0.4145420\ttotal: 606ms\tremaining: 3.49s\n",
      "148:\tlearn: 0.4139180\ttotal: 609ms\tremaining: 3.48s\n",
      "149:\tlearn: 0.4128167\ttotal: 612ms\tremaining: 3.46s\n",
      "150:\tlearn: 0.4120071\ttotal: 614ms\tremaining: 3.45s\n",
      "151:\tlearn: 0.4115050\ttotal: 617ms\tremaining: 3.44s\n",
      "152:\tlearn: 0.4103879\ttotal: 620ms\tremaining: 3.43s\n",
      "153:\tlearn: 0.4096975\ttotal: 623ms\tremaining: 3.42s\n",
      "154:\tlearn: 0.4090180\ttotal: 625ms\tremaining: 3.41s\n",
      "155:\tlearn: 0.4084361\ttotal: 628ms\tremaining: 3.4s\n",
      "156:\tlearn: 0.4075079\ttotal: 631ms\tremaining: 3.39s\n",
      "157:\tlearn: 0.4070229\ttotal: 633ms\tremaining: 3.38s\n",
      "158:\tlearn: 0.4060864\ttotal: 636ms\tremaining: 3.36s\n",
      "159:\tlearn: 0.4055216\ttotal: 639ms\tremaining: 3.35s\n",
      "160:\tlearn: 0.4049737\ttotal: 642ms\tremaining: 3.34s\n",
      "161:\tlearn: 0.4043031\ttotal: 644ms\tremaining: 3.33s\n",
      "162:\tlearn: 0.4037889\ttotal: 647ms\tremaining: 3.32s\n",
      "163:\tlearn: 0.4029969\ttotal: 650ms\tremaining: 3.31s\n",
      "164:\tlearn: 0.4019218\ttotal: 653ms\tremaining: 3.3s\n",
      "165:\tlearn: 0.4013294\ttotal: 656ms\tremaining: 3.29s\n",
      "166:\tlearn: 0.4007642\ttotal: 659ms\tremaining: 3.28s\n",
      "167:\tlearn: 0.4000706\ttotal: 661ms\tremaining: 3.27s\n",
      "168:\tlearn: 0.3996680\ttotal: 664ms\tremaining: 3.27s\n",
      "169:\tlearn: 0.3989467\ttotal: 667ms\tremaining: 3.26s\n",
      "170:\tlearn: 0.3983710\ttotal: 670ms\tremaining: 3.25s\n",
      "171:\tlearn: 0.3975278\ttotal: 673ms\tremaining: 3.24s\n",
      "172:\tlearn: 0.3969084\ttotal: 675ms\tremaining: 3.23s\n",
      "173:\tlearn: 0.3965347\ttotal: 678ms\tremaining: 3.22s\n",
      "174:\tlearn: 0.3956732\ttotal: 681ms\tremaining: 3.21s\n",
      "175:\tlearn: 0.3952873\ttotal: 683ms\tremaining: 3.2s\n",
      "176:\tlearn: 0.3945194\ttotal: 686ms\tremaining: 3.19s\n",
      "177:\tlearn: 0.3937662\ttotal: 689ms\tremaining: 3.18s\n",
      "178:\tlearn: 0.3930186\ttotal: 691ms\tremaining: 3.17s\n",
      "179:\tlearn: 0.3923731\ttotal: 694ms\tremaining: 3.16s\n",
      "180:\tlearn: 0.3918567\ttotal: 698ms\tremaining: 3.16s\n",
      "181:\tlearn: 0.3910109\ttotal: 701ms\tremaining: 3.15s\n",
      "182:\tlearn: 0.3904347\ttotal: 704ms\tremaining: 3.14s\n",
      "183:\tlearn: 0.3898631\ttotal: 707ms\tremaining: 3.13s\n",
      "184:\tlearn: 0.3889877\ttotal: 710ms\tremaining: 3.13s\n",
      "185:\tlearn: 0.3883860\ttotal: 713ms\tremaining: 3.12s\n",
      "186:\tlearn: 0.3876585\ttotal: 716ms\tremaining: 3.11s\n",
      "187:\tlearn: 0.3871096\ttotal: 719ms\tremaining: 3.1s\n",
      "188:\tlearn: 0.3866930\ttotal: 721ms\tremaining: 3.1s\n",
      "189:\tlearn: 0.3860056\ttotal: 724ms\tremaining: 3.09s\n",
      "190:\tlearn: 0.3854310\ttotal: 727ms\tremaining: 3.08s\n",
      "191:\tlearn: 0.3848506\ttotal: 730ms\tremaining: 3.07s\n",
      "192:\tlearn: 0.3842016\ttotal: 734ms\tremaining: 3.07s\n",
      "193:\tlearn: 0.3836819\ttotal: 736ms\tremaining: 3.06s\n",
      "194:\tlearn: 0.3830974\ttotal: 739ms\tremaining: 3.05s\n",
      "195:\tlearn: 0.3827259\ttotal: 741ms\tremaining: 3.04s\n",
      "196:\tlearn: 0.3822292\ttotal: 744ms\tremaining: 3.03s\n",
      "197:\tlearn: 0.3818127\ttotal: 747ms\tremaining: 3.02s\n",
      "198:\tlearn: 0.3813381\ttotal: 750ms\tremaining: 3.02s\n",
      "199:\tlearn: 0.3808627\ttotal: 752ms\tremaining: 3.01s\n",
      "200:\tlearn: 0.3802744\ttotal: 755ms\tremaining: 3s\n",
      "201:\tlearn: 0.3797151\ttotal: 758ms\tremaining: 2.99s\n",
      "202:\tlearn: 0.3792543\ttotal: 761ms\tremaining: 2.99s\n",
      "203:\tlearn: 0.3787526\ttotal: 764ms\tremaining: 2.98s\n",
      "204:\tlearn: 0.3783154\ttotal: 766ms\tremaining: 2.97s\n",
      "205:\tlearn: 0.3778142\ttotal: 769ms\tremaining: 2.96s\n",
      "206:\tlearn: 0.3770761\ttotal: 772ms\tremaining: 2.96s\n",
      "207:\tlearn: 0.3766516\ttotal: 774ms\tremaining: 2.95s\n",
      "208:\tlearn: 0.3760002\ttotal: 777ms\tremaining: 2.94s\n",
      "209:\tlearn: 0.3753742\ttotal: 780ms\tremaining: 2.93s\n",
      "210:\tlearn: 0.3748945\ttotal: 783ms\tremaining: 2.93s\n",
      "211:\tlearn: 0.3741601\ttotal: 785ms\tremaining: 2.92s\n",
      "212:\tlearn: 0.3737583\ttotal: 788ms\tremaining: 2.91s\n",
      "213:\tlearn: 0.3731306\ttotal: 791ms\tremaining: 2.9s\n",
      "214:\tlearn: 0.3725594\ttotal: 794ms\tremaining: 2.9s\n",
      "215:\tlearn: 0.3717840\ttotal: 797ms\tremaining: 2.89s\n",
      "216:\tlearn: 0.3712366\ttotal: 799ms\tremaining: 2.88s\n",
      "217:\tlearn: 0.3706128\ttotal: 802ms\tremaining: 2.88s\n",
      "218:\tlearn: 0.3701763\ttotal: 805ms\tremaining: 2.87s\n",
      "219:\tlearn: 0.3696732\ttotal: 808ms\tremaining: 2.86s\n",
      "220:\tlearn: 0.3694511\ttotal: 811ms\tremaining: 2.86s\n",
      "221:\tlearn: 0.3691241\ttotal: 813ms\tremaining: 2.85s\n",
      "222:\tlearn: 0.3685841\ttotal: 816ms\tremaining: 2.84s\n",
      "223:\tlearn: 0.3680235\ttotal: 819ms\tremaining: 2.84s\n",
      "224:\tlearn: 0.3674146\ttotal: 821ms\tremaining: 2.83s\n",
      "225:\tlearn: 0.3669959\ttotal: 824ms\tremaining: 2.82s\n",
      "226:\tlearn: 0.3664598\ttotal: 826ms\tremaining: 2.81s\n",
      "227:\tlearn: 0.3660285\ttotal: 829ms\tremaining: 2.81s\n",
      "228:\tlearn: 0.3656118\ttotal: 832ms\tremaining: 2.8s\n",
      "229:\tlearn: 0.3653013\ttotal: 834ms\tremaining: 2.79s\n",
      "230:\tlearn: 0.3648384\ttotal: 837ms\tremaining: 2.79s\n",
      "231:\tlearn: 0.3645751\ttotal: 840ms\tremaining: 2.78s\n",
      "232:\tlearn: 0.3642266\ttotal: 843ms\tremaining: 2.77s\n",
      "233:\tlearn: 0.3638032\ttotal: 845ms\tremaining: 2.77s\n",
      "234:\tlearn: 0.3634127\ttotal: 848ms\tremaining: 2.76s\n",
      "235:\tlearn: 0.3628147\ttotal: 851ms\tremaining: 2.75s\n",
      "236:\tlearn: 0.3624876\ttotal: 854ms\tremaining: 2.75s\n",
      "237:\tlearn: 0.3621678\ttotal: 856ms\tremaining: 2.74s\n",
      "238:\tlearn: 0.3617236\ttotal: 859ms\tremaining: 2.73s\n",
      "239:\tlearn: 0.3613139\ttotal: 862ms\tremaining: 2.73s\n",
      "240:\tlearn: 0.3608153\ttotal: 865ms\tremaining: 2.72s\n",
      "241:\tlearn: 0.3605083\ttotal: 867ms\tremaining: 2.72s\n",
      "242:\tlearn: 0.3600805\ttotal: 870ms\tremaining: 2.71s\n",
      "243:\tlearn: 0.3598540\ttotal: 873ms\tremaining: 2.7s\n",
      "244:\tlearn: 0.3594826\ttotal: 875ms\tremaining: 2.7s\n",
      "245:\tlearn: 0.3589942\ttotal: 878ms\tremaining: 2.69s\n",
      "246:\tlearn: 0.3580868\ttotal: 881ms\tremaining: 2.69s\n",
      "247:\tlearn: 0.3577168\ttotal: 884ms\tremaining: 2.68s\n",
      "248:\tlearn: 0.3572695\ttotal: 888ms\tremaining: 2.68s\n",
      "249:\tlearn: 0.3569883\ttotal: 891ms\tremaining: 2.67s\n",
      "250:\tlearn: 0.3564914\ttotal: 894ms\tremaining: 2.67s\n",
      "251:\tlearn: 0.3563154\ttotal: 897ms\tremaining: 2.66s\n",
      "252:\tlearn: 0.3559500\ttotal: 900ms\tremaining: 2.66s\n",
      "253:\tlearn: 0.3556725\ttotal: 903ms\tremaining: 2.65s\n",
      "254:\tlearn: 0.3554429\ttotal: 906ms\tremaining: 2.65s\n",
      "255:\tlearn: 0.3550410\ttotal: 909ms\tremaining: 2.64s\n",
      "256:\tlearn: 0.3544784\ttotal: 912ms\tremaining: 2.63s\n",
      "257:\tlearn: 0.3541264\ttotal: 915ms\tremaining: 2.63s\n",
      "258:\tlearn: 0.3534407\ttotal: 918ms\tremaining: 2.63s\n",
      "259:\tlearn: 0.3531235\ttotal: 922ms\tremaining: 2.62s\n",
      "260:\tlearn: 0.3527207\ttotal: 927ms\tremaining: 2.62s\n",
      "261:\tlearn: 0.3523243\ttotal: 932ms\tremaining: 2.63s\n",
      "262:\tlearn: 0.3520765\ttotal: 937ms\tremaining: 2.62s\n",
      "263:\tlearn: 0.3515223\ttotal: 941ms\tremaining: 2.62s\n",
      "264:\tlearn: 0.3511085\ttotal: 945ms\tremaining: 2.62s\n",
      "265:\tlearn: 0.3507609\ttotal: 948ms\tremaining: 2.62s\n",
      "266:\tlearn: 0.3505624\ttotal: 951ms\tremaining: 2.61s\n",
      "267:\tlearn: 0.3502285\ttotal: 954ms\tremaining: 2.61s\n",
      "268:\tlearn: 0.3497636\ttotal: 957ms\tremaining: 2.6s\n",
      "269:\tlearn: 0.3493754\ttotal: 961ms\tremaining: 2.6s\n",
      "270:\tlearn: 0.3490792\ttotal: 964ms\tremaining: 2.59s\n",
      "271:\tlearn: 0.3487020\ttotal: 967ms\tremaining: 2.59s\n",
      "272:\tlearn: 0.3483143\ttotal: 969ms\tremaining: 2.58s\n",
      "273:\tlearn: 0.3478934\ttotal: 972ms\tremaining: 2.58s\n",
      "274:\tlearn: 0.3475017\ttotal: 975ms\tremaining: 2.57s\n",
      "275:\tlearn: 0.3471957\ttotal: 978ms\tremaining: 2.56s\n",
      "276:\tlearn: 0.3468656\ttotal: 981ms\tremaining: 2.56s\n",
      "277:\tlearn: 0.3464868\ttotal: 984ms\tremaining: 2.56s\n",
      "278:\tlearn: 0.3462092\ttotal: 987ms\tremaining: 2.55s\n",
      "279:\tlearn: 0.3460606\ttotal: 989ms\tremaining: 2.54s\n",
      "280:\tlearn: 0.3455830\ttotal: 991ms\tremaining: 2.54s\n",
      "281:\tlearn: 0.3453044\ttotal: 994ms\tremaining: 2.53s\n",
      "282:\tlearn: 0.3444292\ttotal: 997ms\tremaining: 2.52s\n",
      "283:\tlearn: 0.3440907\ttotal: 999ms\tremaining: 2.52s\n",
      "284:\tlearn: 0.3435897\ttotal: 1s\tremaining: 2.51s\n",
      "285:\tlearn: 0.3432924\ttotal: 1s\tremaining: 2.51s\n",
      "286:\tlearn: 0.3429693\ttotal: 1.01s\tremaining: 2.5s\n",
      "287:\tlearn: 0.3423841\ttotal: 1.01s\tremaining: 2.5s\n",
      "288:\tlearn: 0.3419082\ttotal: 1.01s\tremaining: 2.49s\n",
      "289:\tlearn: 0.3417444\ttotal: 1.01s\tremaining: 2.48s\n",
      "290:\tlearn: 0.3413183\ttotal: 1.02s\tremaining: 2.48s\n",
      "291:\tlearn: 0.3410967\ttotal: 1.02s\tremaining: 2.47s\n",
      "292:\tlearn: 0.3405444\ttotal: 1.02s\tremaining: 2.47s\n",
      "293:\tlearn: 0.3400621\ttotal: 1.02s\tremaining: 2.46s\n",
      "294:\tlearn: 0.3397168\ttotal: 1.03s\tremaining: 2.46s\n",
      "295:\tlearn: 0.3393361\ttotal: 1.03s\tremaining: 2.45s\n",
      "296:\tlearn: 0.3390740\ttotal: 1.03s\tremaining: 2.44s\n",
      "297:\tlearn: 0.3385868\ttotal: 1.04s\tremaining: 2.44s\n",
      "298:\tlearn: 0.3383527\ttotal: 1.04s\tremaining: 2.44s\n",
      "299:\tlearn: 0.3381225\ttotal: 1.04s\tremaining: 2.43s\n",
      "300:\tlearn: 0.3377180\ttotal: 1.04s\tremaining: 2.42s\n",
      "301:\tlearn: 0.3373683\ttotal: 1.05s\tremaining: 2.42s\n",
      "302:\tlearn: 0.3369712\ttotal: 1.05s\tremaining: 2.41s\n",
      "303:\tlearn: 0.3365943\ttotal: 1.05s\tremaining: 2.41s\n",
      "304:\tlearn: 0.3361416\ttotal: 1.05s\tremaining: 2.4s\n",
      "305:\tlearn: 0.3357881\ttotal: 1.06s\tremaining: 2.4s\n",
      "306:\tlearn: 0.3355420\ttotal: 1.06s\tremaining: 2.39s\n",
      "307:\tlearn: 0.3353969\ttotal: 1.06s\tremaining: 2.39s\n",
      "308:\tlearn: 0.3350159\ttotal: 1.07s\tremaining: 2.38s\n",
      "309:\tlearn: 0.3347592\ttotal: 1.07s\tremaining: 2.38s\n",
      "310:\tlearn: 0.3344209\ttotal: 1.07s\tremaining: 2.37s\n",
      "311:\tlearn: 0.3340571\ttotal: 1.07s\tremaining: 2.37s\n",
      "312:\tlearn: 0.3337410\ttotal: 1.08s\tremaining: 2.36s\n",
      "313:\tlearn: 0.3335433\ttotal: 1.08s\tremaining: 2.36s\n",
      "314:\tlearn: 0.3331226\ttotal: 1.08s\tremaining: 2.35s\n",
      "315:\tlearn: 0.3326529\ttotal: 1.08s\tremaining: 2.35s\n",
      "316:\tlearn: 0.3324585\ttotal: 1.09s\tremaining: 2.35s\n",
      "317:\tlearn: 0.3319313\ttotal: 1.09s\tremaining: 2.34s\n",
      "318:\tlearn: 0.3317666\ttotal: 1.09s\tremaining: 2.34s\n",
      "319:\tlearn: 0.3316420\ttotal: 1.1s\tremaining: 2.33s\n",
      "320:\tlearn: 0.3313743\ttotal: 1.1s\tremaining: 2.33s\n",
      "321:\tlearn: 0.3311034\ttotal: 1.1s\tremaining: 2.32s\n",
      "322:\tlearn: 0.3308718\ttotal: 1.11s\tremaining: 2.32s\n",
      "323:\tlearn: 0.3305797\ttotal: 1.11s\tremaining: 2.31s\n",
      "324:\tlearn: 0.3303344\ttotal: 1.11s\tremaining: 2.31s\n",
      "325:\tlearn: 0.3299356\ttotal: 1.11s\tremaining: 2.3s\n",
      "326:\tlearn: 0.3297079\ttotal: 1.12s\tremaining: 2.3s\n",
      "327:\tlearn: 0.3293339\ttotal: 1.12s\tremaining: 2.29s\n",
      "328:\tlearn: 0.3289580\ttotal: 1.12s\tremaining: 2.29s\n",
      "329:\tlearn: 0.3285913\ttotal: 1.12s\tremaining: 2.28s\n",
      "330:\tlearn: 0.3282758\ttotal: 1.13s\tremaining: 2.28s\n",
      "331:\tlearn: 0.3279623\ttotal: 1.13s\tremaining: 2.27s\n",
      "332:\tlearn: 0.3274888\ttotal: 1.13s\tremaining: 2.27s\n",
      "333:\tlearn: 0.3271103\ttotal: 1.14s\tremaining: 2.26s\n",
      "334:\tlearn: 0.3266782\ttotal: 1.14s\tremaining: 2.26s\n",
      "335:\tlearn: 0.3263302\ttotal: 1.14s\tremaining: 2.25s\n",
      "336:\tlearn: 0.3260965\ttotal: 1.14s\tremaining: 2.25s\n",
      "337:\tlearn: 0.3259158\ttotal: 1.15s\tremaining: 2.24s\n",
      "338:\tlearn: 0.3258232\ttotal: 1.15s\tremaining: 2.24s\n",
      "339:\tlearn: 0.3256590\ttotal: 1.15s\tremaining: 2.23s\n",
      "340:\tlearn: 0.3251070\ttotal: 1.15s\tremaining: 2.23s\n",
      "341:\tlearn: 0.3248128\ttotal: 1.16s\tremaining: 2.22s\n",
      "342:\tlearn: 0.3245641\ttotal: 1.16s\tremaining: 2.22s\n",
      "343:\tlearn: 0.3244393\ttotal: 1.16s\tremaining: 2.21s\n",
      "344:\tlearn: 0.3239917\ttotal: 1.16s\tremaining: 2.21s\n",
      "345:\tlearn: 0.3236587\ttotal: 1.17s\tremaining: 2.21s\n",
      "346:\tlearn: 0.3232919\ttotal: 1.17s\tremaining: 2.2s\n",
      "347:\tlearn: 0.3229349\ttotal: 1.17s\tremaining: 2.2s\n",
      "348:\tlearn: 0.3227158\ttotal: 1.17s\tremaining: 2.19s\n",
      "349:\tlearn: 0.3222736\ttotal: 1.18s\tremaining: 2.19s\n",
      "350:\tlearn: 0.3219319\ttotal: 1.18s\tremaining: 2.18s\n",
      "351:\tlearn: 0.3216924\ttotal: 1.18s\tremaining: 2.18s\n",
      "352:\tlearn: 0.3214005\ttotal: 1.19s\tremaining: 2.17s\n",
      "353:\tlearn: 0.3212561\ttotal: 1.19s\tremaining: 2.17s\n",
      "354:\tlearn: 0.3210802\ttotal: 1.19s\tremaining: 2.16s\n",
      "355:\tlearn: 0.3208611\ttotal: 1.19s\tremaining: 2.16s\n",
      "356:\tlearn: 0.3207409\ttotal: 1.2s\tremaining: 2.15s\n",
      "357:\tlearn: 0.3204410\ttotal: 1.2s\tremaining: 2.15s\n",
      "358:\tlearn: 0.3201386\ttotal: 1.2s\tremaining: 2.15s\n",
      "359:\tlearn: 0.3199546\ttotal: 1.2s\tremaining: 2.14s\n",
      "360:\tlearn: 0.3196740\ttotal: 1.21s\tremaining: 2.14s\n",
      "361:\tlearn: 0.3193086\ttotal: 1.21s\tremaining: 2.13s\n",
      "362:\tlearn: 0.3190555\ttotal: 1.21s\tremaining: 2.13s\n",
      "363:\tlearn: 0.3186316\ttotal: 1.22s\tremaining: 2.12s\n",
      "364:\tlearn: 0.3182750\ttotal: 1.22s\tremaining: 2.12s\n",
      "365:\tlearn: 0.3179150\ttotal: 1.22s\tremaining: 2.11s\n",
      "366:\tlearn: 0.3176213\ttotal: 1.22s\tremaining: 2.11s\n",
      "367:\tlearn: 0.3174330\ttotal: 1.23s\tremaining: 2.11s\n",
      "368:\tlearn: 0.3170058\ttotal: 1.23s\tremaining: 2.1s\n",
      "369:\tlearn: 0.3167177\ttotal: 1.23s\tremaining: 2.1s\n",
      "370:\tlearn: 0.3165966\ttotal: 1.24s\tremaining: 2.09s\n",
      "371:\tlearn: 0.3163434\ttotal: 1.24s\tremaining: 2.09s\n",
      "372:\tlearn: 0.3158102\ttotal: 1.24s\tremaining: 2.08s\n",
      "373:\tlearn: 0.3156989\ttotal: 1.24s\tremaining: 2.08s\n",
      "374:\tlearn: 0.3153516\ttotal: 1.25s\tremaining: 2.08s\n",
      "375:\tlearn: 0.3151365\ttotal: 1.25s\tremaining: 2.07s\n",
      "376:\tlearn: 0.3148602\ttotal: 1.25s\tremaining: 2.07s\n",
      "377:\tlearn: 0.3146425\ttotal: 1.25s\tremaining: 2.06s\n",
      "378:\tlearn: 0.3140533\ttotal: 1.26s\tremaining: 2.06s\n",
      "379:\tlearn: 0.3138100\ttotal: 1.26s\tremaining: 2.06s\n",
      "380:\tlearn: 0.3134537\ttotal: 1.26s\tremaining: 2.05s\n",
      "381:\tlearn: 0.3131326\ttotal: 1.26s\tremaining: 2.05s\n",
      "382:\tlearn: 0.3127691\ttotal: 1.27s\tremaining: 2.04s\n",
      "383:\tlearn: 0.3123777\ttotal: 1.27s\tremaining: 2.04s\n",
      "384:\tlearn: 0.3120189\ttotal: 1.27s\tremaining: 2.03s\n",
      "385:\tlearn: 0.3117879\ttotal: 1.28s\tremaining: 2.03s\n",
      "386:\tlearn: 0.3117281\ttotal: 1.28s\tremaining: 2.02s\n",
      "387:\tlearn: 0.3114269\ttotal: 1.28s\tremaining: 2.02s\n",
      "388:\tlearn: 0.3111523\ttotal: 1.28s\tremaining: 2.02s\n",
      "389:\tlearn: 0.3107485\ttotal: 1.29s\tremaining: 2.01s\n",
      "390:\tlearn: 0.3104823\ttotal: 1.29s\tremaining: 2.01s\n",
      "391:\tlearn: 0.3102043\ttotal: 1.29s\tremaining: 2s\n",
      "392:\tlearn: 0.3100756\ttotal: 1.29s\tremaining: 2s\n",
      "393:\tlearn: 0.3096455\ttotal: 1.3s\tremaining: 2s\n",
      "394:\tlearn: 0.3094293\ttotal: 1.3s\tremaining: 1.99s\n",
      "395:\tlearn: 0.3091670\ttotal: 1.3s\tremaining: 1.99s\n",
      "396:\tlearn: 0.3089720\ttotal: 1.3s\tremaining: 1.98s\n",
      "397:\tlearn: 0.3087352\ttotal: 1.31s\tremaining: 1.98s\n",
      "398:\tlearn: 0.3083025\ttotal: 1.31s\tremaining: 1.97s\n",
      "399:\tlearn: 0.3080730\ttotal: 1.31s\tremaining: 1.97s\n",
      "400:\tlearn: 0.3075862\ttotal: 1.32s\tremaining: 1.97s\n",
      "401:\tlearn: 0.3072950\ttotal: 1.32s\tremaining: 1.96s\n",
      "402:\tlearn: 0.3069260\ttotal: 1.32s\tremaining: 1.96s\n",
      "403:\tlearn: 0.3066624\ttotal: 1.32s\tremaining: 1.95s\n",
      "404:\tlearn: 0.3064005\ttotal: 1.33s\tremaining: 1.95s\n",
      "405:\tlearn: 0.3062175\ttotal: 1.33s\tremaining: 1.94s\n",
      "406:\tlearn: 0.3059133\ttotal: 1.33s\tremaining: 1.94s\n",
      "407:\tlearn: 0.3056401\ttotal: 1.33s\tremaining: 1.94s\n",
      "408:\tlearn: 0.3053706\ttotal: 1.34s\tremaining: 1.93s\n",
      "409:\tlearn: 0.3051702\ttotal: 1.34s\tremaining: 1.93s\n",
      "410:\tlearn: 0.3047998\ttotal: 1.34s\tremaining: 1.93s\n",
      "411:\tlearn: 0.3044851\ttotal: 1.34s\tremaining: 1.92s\n",
      "412:\tlearn: 0.3041596\ttotal: 1.35s\tremaining: 1.92s\n",
      "413:\tlearn: 0.3039484\ttotal: 1.35s\tremaining: 1.91s\n",
      "414:\tlearn: 0.3035868\ttotal: 1.35s\tremaining: 1.91s\n",
      "415:\tlearn: 0.3034963\ttotal: 1.36s\tremaining: 1.91s\n",
      "416:\tlearn: 0.3032978\ttotal: 1.36s\tremaining: 1.9s\n",
      "417:\tlearn: 0.3029297\ttotal: 1.36s\tremaining: 1.9s\n",
      "418:\tlearn: 0.3026614\ttotal: 1.36s\tremaining: 1.89s\n",
      "419:\tlearn: 0.3025338\ttotal: 1.37s\tremaining: 1.89s\n",
      "420:\tlearn: 0.3023329\ttotal: 1.37s\tremaining: 1.88s\n",
      "421:\tlearn: 0.3020878\ttotal: 1.37s\tremaining: 1.88s\n",
      "422:\tlearn: 0.3018350\ttotal: 1.38s\tremaining: 1.88s\n",
      "423:\tlearn: 0.3016547\ttotal: 1.38s\tremaining: 1.87s\n",
      "424:\tlearn: 0.3013340\ttotal: 1.38s\tremaining: 1.87s\n",
      "425:\tlearn: 0.3012067\ttotal: 1.38s\tremaining: 1.86s\n",
      "426:\tlearn: 0.3010644\ttotal: 1.39s\tremaining: 1.86s\n",
      "427:\tlearn: 0.3008560\ttotal: 1.39s\tremaining: 1.86s\n",
      "428:\tlearn: 0.3007435\ttotal: 1.39s\tremaining: 1.85s\n",
      "429:\tlearn: 0.3005282\ttotal: 1.4s\tremaining: 1.85s\n",
      "430:\tlearn: 0.3002332\ttotal: 1.4s\tremaining: 1.84s\n",
      "431:\tlearn: 0.2999973\ttotal: 1.4s\tremaining: 1.84s\n",
      "432:\tlearn: 0.2998342\ttotal: 1.4s\tremaining: 1.84s\n",
      "433:\tlearn: 0.2995772\ttotal: 1.41s\tremaining: 1.83s\n",
      "434:\tlearn: 0.2994191\ttotal: 1.41s\tremaining: 1.83s\n",
      "435:\tlearn: 0.2992121\ttotal: 1.41s\tremaining: 1.82s\n",
      "436:\tlearn: 0.2990371\ttotal: 1.41s\tremaining: 1.82s\n",
      "437:\tlearn: 0.2988313\ttotal: 1.42s\tremaining: 1.82s\n",
      "438:\tlearn: 0.2986686\ttotal: 1.42s\tremaining: 1.81s\n",
      "439:\tlearn: 0.2985372\ttotal: 1.42s\tremaining: 1.81s\n",
      "440:\tlearn: 0.2982802\ttotal: 1.43s\tremaining: 1.81s\n",
      "441:\tlearn: 0.2978098\ttotal: 1.43s\tremaining: 1.8s\n",
      "442:\tlearn: 0.2975569\ttotal: 1.43s\tremaining: 1.8s\n",
      "443:\tlearn: 0.2974696\ttotal: 1.43s\tremaining: 1.79s\n",
      "444:\tlearn: 0.2971000\ttotal: 1.44s\tremaining: 1.79s\n",
      "445:\tlearn: 0.2968185\ttotal: 1.44s\tremaining: 1.79s\n",
      "446:\tlearn: 0.2965820\ttotal: 1.44s\tremaining: 1.78s\n",
      "447:\tlearn: 0.2963367\ttotal: 1.44s\tremaining: 1.78s\n",
      "448:\tlearn: 0.2962052\ttotal: 1.45s\tremaining: 1.77s\n",
      "449:\tlearn: 0.2958710\ttotal: 1.45s\tremaining: 1.77s\n",
      "450:\tlearn: 0.2957278\ttotal: 1.45s\tremaining: 1.77s\n",
      "451:\tlearn: 0.2954078\ttotal: 1.46s\tremaining: 1.76s\n",
      "452:\tlearn: 0.2950464\ttotal: 1.46s\tremaining: 1.76s\n",
      "453:\tlearn: 0.2943738\ttotal: 1.46s\tremaining: 1.76s\n",
      "454:\tlearn: 0.2940240\ttotal: 1.46s\tremaining: 1.75s\n",
      "455:\tlearn: 0.2937387\ttotal: 1.47s\tremaining: 1.75s\n",
      "456:\tlearn: 0.2932645\ttotal: 1.47s\tremaining: 1.75s\n",
      "457:\tlearn: 0.2930212\ttotal: 1.47s\tremaining: 1.74s\n",
      "458:\tlearn: 0.2927047\ttotal: 1.47s\tremaining: 1.74s\n",
      "459:\tlearn: 0.2925782\ttotal: 1.48s\tremaining: 1.73s\n",
      "460:\tlearn: 0.2923455\ttotal: 1.48s\tremaining: 1.73s\n",
      "461:\tlearn: 0.2921114\ttotal: 1.48s\tremaining: 1.73s\n",
      "462:\tlearn: 0.2918372\ttotal: 1.49s\tremaining: 1.72s\n",
      "463:\tlearn: 0.2916646\ttotal: 1.49s\tremaining: 1.72s\n",
      "464:\tlearn: 0.2914858\ttotal: 1.49s\tremaining: 1.72s\n",
      "465:\tlearn: 0.2913746\ttotal: 1.49s\tremaining: 1.71s\n",
      "466:\tlearn: 0.2911112\ttotal: 1.5s\tremaining: 1.71s\n",
      "467:\tlearn: 0.2909419\ttotal: 1.5s\tremaining: 1.71s\n",
      "468:\tlearn: 0.2907768\ttotal: 1.5s\tremaining: 1.7s\n",
      "469:\tlearn: 0.2905672\ttotal: 1.51s\tremaining: 1.7s\n",
      "470:\tlearn: 0.2902868\ttotal: 1.51s\tremaining: 1.69s\n",
      "471:\tlearn: 0.2901459\ttotal: 1.51s\tremaining: 1.69s\n",
      "472:\tlearn: 0.2895721\ttotal: 1.51s\tremaining: 1.69s\n",
      "473:\tlearn: 0.2893069\ttotal: 1.52s\tremaining: 1.68s\n",
      "474:\tlearn: 0.2892238\ttotal: 1.52s\tremaining: 1.68s\n",
      "475:\tlearn: 0.2890793\ttotal: 1.52s\tremaining: 1.68s\n",
      "476:\tlearn: 0.2888606\ttotal: 1.53s\tremaining: 1.67s\n",
      "477:\tlearn: 0.2885725\ttotal: 1.53s\tremaining: 1.67s\n",
      "478:\tlearn: 0.2884059\ttotal: 1.53s\tremaining: 1.67s\n",
      "479:\tlearn: 0.2881226\ttotal: 1.53s\tremaining: 1.66s\n",
      "480:\tlearn: 0.2878577\ttotal: 1.54s\tremaining: 1.66s\n",
      "481:\tlearn: 0.2876443\ttotal: 1.54s\tremaining: 1.66s\n",
      "482:\tlearn: 0.2872679\ttotal: 1.54s\tremaining: 1.65s\n",
      "483:\tlearn: 0.2869225\ttotal: 1.54s\tremaining: 1.65s\n",
      "484:\tlearn: 0.2867176\ttotal: 1.55s\tremaining: 1.64s\n",
      "485:\tlearn: 0.2863829\ttotal: 1.55s\tremaining: 1.64s\n",
      "486:\tlearn: 0.2862343\ttotal: 1.55s\tremaining: 1.64s\n",
      "487:\tlearn: 0.2860281\ttotal: 1.56s\tremaining: 1.63s\n",
      "488:\tlearn: 0.2858158\ttotal: 1.56s\tremaining: 1.63s\n",
      "489:\tlearn: 0.2857030\ttotal: 1.56s\tremaining: 1.63s\n",
      "490:\tlearn: 0.2853467\ttotal: 1.57s\tremaining: 1.62s\n",
      "491:\tlearn: 0.2852238\ttotal: 1.57s\tremaining: 1.62s\n",
      "492:\tlearn: 0.2848703\ttotal: 1.57s\tremaining: 1.62s\n",
      "493:\tlearn: 0.2847930\ttotal: 1.57s\tremaining: 1.61s\n",
      "494:\tlearn: 0.2844460\ttotal: 1.58s\tremaining: 1.61s\n",
      "495:\tlearn: 0.2842826\ttotal: 1.58s\tremaining: 1.61s\n",
      "496:\tlearn: 0.2840736\ttotal: 1.58s\tremaining: 1.6s\n",
      "497:\tlearn: 0.2838086\ttotal: 1.59s\tremaining: 1.6s\n",
      "498:\tlearn: 0.2836780\ttotal: 1.59s\tremaining: 1.59s\n",
      "499:\tlearn: 0.2835099\ttotal: 1.59s\tremaining: 1.59s\n",
      "500:\tlearn: 0.2833241\ttotal: 1.59s\tremaining: 1.59s\n",
      "501:\tlearn: 0.2831782\ttotal: 1.6s\tremaining: 1.58s\n",
      "502:\tlearn: 0.2829458\ttotal: 1.6s\tremaining: 1.58s\n",
      "503:\tlearn: 0.2824786\ttotal: 1.6s\tremaining: 1.58s\n",
      "504:\tlearn: 0.2823866\ttotal: 1.6s\tremaining: 1.57s\n",
      "505:\tlearn: 0.2821895\ttotal: 1.61s\tremaining: 1.57s\n",
      "506:\tlearn: 0.2817553\ttotal: 1.61s\tremaining: 1.57s\n",
      "507:\tlearn: 0.2815476\ttotal: 1.61s\tremaining: 1.56s\n",
      "508:\tlearn: 0.2813923\ttotal: 1.62s\tremaining: 1.56s\n",
      "509:\tlearn: 0.2812253\ttotal: 1.62s\tremaining: 1.56s\n",
      "510:\tlearn: 0.2811270\ttotal: 1.62s\tremaining: 1.55s\n",
      "511:\tlearn: 0.2809442\ttotal: 1.63s\tremaining: 1.55s\n",
      "512:\tlearn: 0.2806583\ttotal: 1.63s\tremaining: 1.54s\n",
      "513:\tlearn: 0.2804053\ttotal: 1.63s\tremaining: 1.54s\n",
      "514:\tlearn: 0.2802933\ttotal: 1.63s\tremaining: 1.54s\n",
      "515:\tlearn: 0.2802130\ttotal: 1.64s\tremaining: 1.53s\n",
      "516:\tlearn: 0.2800198\ttotal: 1.64s\tremaining: 1.53s\n",
      "517:\tlearn: 0.2797297\ttotal: 1.64s\tremaining: 1.53s\n",
      "518:\tlearn: 0.2792613\ttotal: 1.64s\tremaining: 1.52s\n",
      "519:\tlearn: 0.2791178\ttotal: 1.65s\tremaining: 1.52s\n",
      "520:\tlearn: 0.2787684\ttotal: 1.65s\tremaining: 1.51s\n",
      "521:\tlearn: 0.2785238\ttotal: 1.65s\tremaining: 1.51s\n",
      "522:\tlearn: 0.2784354\ttotal: 1.65s\tremaining: 1.51s\n",
      "523:\tlearn: 0.2782083\ttotal: 1.66s\tremaining: 1.5s\n",
      "524:\tlearn: 0.2779862\ttotal: 1.66s\tremaining: 1.5s\n",
      "525:\tlearn: 0.2778577\ttotal: 1.66s\tremaining: 1.5s\n",
      "526:\tlearn: 0.2776799\ttotal: 1.66s\tremaining: 1.49s\n",
      "527:\tlearn: 0.2774047\ttotal: 1.67s\tremaining: 1.49s\n",
      "528:\tlearn: 0.2770705\ttotal: 1.67s\tremaining: 1.49s\n",
      "529:\tlearn: 0.2767879\ttotal: 1.67s\tremaining: 1.48s\n",
      "530:\tlearn: 0.2765573\ttotal: 1.67s\tremaining: 1.48s\n",
      "531:\tlearn: 0.2762926\ttotal: 1.68s\tremaining: 1.48s\n",
      "532:\tlearn: 0.2760226\ttotal: 1.68s\tremaining: 1.47s\n",
      "533:\tlearn: 0.2759634\ttotal: 1.68s\tremaining: 1.47s\n",
      "534:\tlearn: 0.2755854\ttotal: 1.69s\tremaining: 1.46s\n",
      "535:\tlearn: 0.2753839\ttotal: 1.69s\tremaining: 1.46s\n",
      "536:\tlearn: 0.2748993\ttotal: 1.69s\tremaining: 1.46s\n",
      "537:\tlearn: 0.2747174\ttotal: 1.69s\tremaining: 1.45s\n",
      "538:\tlearn: 0.2745669\ttotal: 1.7s\tremaining: 1.45s\n",
      "539:\tlearn: 0.2742959\ttotal: 1.7s\tremaining: 1.45s\n",
      "540:\tlearn: 0.2740799\ttotal: 1.7s\tremaining: 1.44s\n",
      "541:\tlearn: 0.2739597\ttotal: 1.7s\tremaining: 1.44s\n",
      "542:\tlearn: 0.2737468\ttotal: 1.71s\tremaining: 1.44s\n",
      "543:\tlearn: 0.2736213\ttotal: 1.71s\tremaining: 1.43s\n",
      "544:\tlearn: 0.2734265\ttotal: 1.71s\tremaining: 1.43s\n",
      "545:\tlearn: 0.2731554\ttotal: 1.71s\tremaining: 1.43s\n",
      "546:\tlearn: 0.2730985\ttotal: 1.72s\tremaining: 1.42s\n",
      "547:\tlearn: 0.2727592\ttotal: 1.72s\tremaining: 1.42s\n",
      "548:\tlearn: 0.2725759\ttotal: 1.72s\tremaining: 1.42s\n",
      "549:\tlearn: 0.2723701\ttotal: 1.73s\tremaining: 1.41s\n",
      "550:\tlearn: 0.2720963\ttotal: 1.73s\tremaining: 1.41s\n",
      "551:\tlearn: 0.2717838\ttotal: 1.73s\tremaining: 1.4s\n",
      "552:\tlearn: 0.2716459\ttotal: 1.73s\tremaining: 1.4s\n",
      "553:\tlearn: 0.2714241\ttotal: 1.74s\tremaining: 1.4s\n",
      "554:\tlearn: 0.2710796\ttotal: 1.74s\tremaining: 1.39s\n",
      "555:\tlearn: 0.2708530\ttotal: 1.74s\tremaining: 1.39s\n",
      "556:\tlearn: 0.2707057\ttotal: 1.74s\tremaining: 1.39s\n",
      "557:\tlearn: 0.2702598\ttotal: 1.75s\tremaining: 1.38s\n",
      "558:\tlearn: 0.2701429\ttotal: 1.75s\tremaining: 1.38s\n",
      "559:\tlearn: 0.2699466\ttotal: 1.75s\tremaining: 1.38s\n",
      "560:\tlearn: 0.2697293\ttotal: 1.75s\tremaining: 1.37s\n",
      "561:\tlearn: 0.2694486\ttotal: 1.76s\tremaining: 1.37s\n",
      "562:\tlearn: 0.2690466\ttotal: 1.76s\tremaining: 1.37s\n",
      "563:\tlearn: 0.2689248\ttotal: 1.76s\tremaining: 1.36s\n",
      "564:\tlearn: 0.2686948\ttotal: 1.77s\tremaining: 1.36s\n",
      "565:\tlearn: 0.2685619\ttotal: 1.77s\tremaining: 1.36s\n",
      "566:\tlearn: 0.2683828\ttotal: 1.77s\tremaining: 1.35s\n",
      "567:\tlearn: 0.2679790\ttotal: 1.78s\tremaining: 1.35s\n",
      "568:\tlearn: 0.2678450\ttotal: 1.78s\tremaining: 1.35s\n",
      "569:\tlearn: 0.2676119\ttotal: 1.78s\tremaining: 1.34s\n",
      "570:\tlearn: 0.2673814\ttotal: 1.78s\tremaining: 1.34s\n",
      "571:\tlearn: 0.2672294\ttotal: 1.79s\tremaining: 1.34s\n",
      "572:\tlearn: 0.2669753\ttotal: 1.79s\tremaining: 1.33s\n",
      "573:\tlearn: 0.2668201\ttotal: 1.79s\tremaining: 1.33s\n",
      "574:\tlearn: 0.2663744\ttotal: 1.8s\tremaining: 1.33s\n",
      "575:\tlearn: 0.2663089\ttotal: 1.8s\tremaining: 1.32s\n",
      "576:\tlearn: 0.2661984\ttotal: 1.8s\tremaining: 1.32s\n",
      "577:\tlearn: 0.2657423\ttotal: 1.8s\tremaining: 1.32s\n",
      "578:\tlearn: 0.2655906\ttotal: 1.81s\tremaining: 1.31s\n",
      "579:\tlearn: 0.2652973\ttotal: 1.81s\tremaining: 1.31s\n",
      "580:\tlearn: 0.2651702\ttotal: 1.81s\tremaining: 1.31s\n",
      "581:\tlearn: 0.2649804\ttotal: 1.82s\tremaining: 1.3s\n",
      "582:\tlearn: 0.2648733\ttotal: 1.82s\tremaining: 1.3s\n",
      "583:\tlearn: 0.2645161\ttotal: 1.82s\tremaining: 1.3s\n",
      "584:\tlearn: 0.2643629\ttotal: 1.82s\tremaining: 1.29s\n",
      "585:\tlearn: 0.2640424\ttotal: 1.83s\tremaining: 1.29s\n",
      "586:\tlearn: 0.2639059\ttotal: 1.83s\tremaining: 1.29s\n",
      "587:\tlearn: 0.2635783\ttotal: 1.83s\tremaining: 1.28s\n",
      "588:\tlearn: 0.2633252\ttotal: 1.84s\tremaining: 1.28s\n",
      "589:\tlearn: 0.2631536\ttotal: 1.84s\tremaining: 1.28s\n",
      "590:\tlearn: 0.2629800\ttotal: 1.84s\tremaining: 1.27s\n",
      "591:\tlearn: 0.2626833\ttotal: 1.84s\tremaining: 1.27s\n",
      "592:\tlearn: 0.2624857\ttotal: 1.85s\tremaining: 1.27s\n",
      "593:\tlearn: 0.2622796\ttotal: 1.85s\tremaining: 1.26s\n",
      "594:\tlearn: 0.2619838\ttotal: 1.85s\tremaining: 1.26s\n",
      "595:\tlearn: 0.2618002\ttotal: 1.85s\tremaining: 1.26s\n",
      "596:\tlearn: 0.2615721\ttotal: 1.86s\tremaining: 1.25s\n",
      "597:\tlearn: 0.2615152\ttotal: 1.86s\tremaining: 1.25s\n",
      "598:\tlearn: 0.2613501\ttotal: 1.86s\tremaining: 1.25s\n",
      "599:\tlearn: 0.2611080\ttotal: 1.87s\tremaining: 1.24s\n",
      "600:\tlearn: 0.2609645\ttotal: 1.87s\tremaining: 1.24s\n",
      "601:\tlearn: 0.2606897\ttotal: 1.87s\tremaining: 1.24s\n",
      "602:\tlearn: 0.2602639\ttotal: 1.87s\tremaining: 1.23s\n",
      "603:\tlearn: 0.2599329\ttotal: 1.88s\tremaining: 1.23s\n",
      "604:\tlearn: 0.2597957\ttotal: 1.88s\tremaining: 1.23s\n",
      "605:\tlearn: 0.2595943\ttotal: 1.88s\tremaining: 1.22s\n",
      "606:\tlearn: 0.2593111\ttotal: 1.88s\tremaining: 1.22s\n",
      "607:\tlearn: 0.2591161\ttotal: 1.89s\tremaining: 1.22s\n",
      "608:\tlearn: 0.2588429\ttotal: 1.89s\tremaining: 1.21s\n",
      "609:\tlearn: 0.2586168\ttotal: 1.89s\tremaining: 1.21s\n",
      "610:\tlearn: 0.2583814\ttotal: 1.9s\tremaining: 1.21s\n",
      "611:\tlearn: 0.2582859\ttotal: 1.9s\tremaining: 1.2s\n",
      "612:\tlearn: 0.2581228\ttotal: 1.9s\tremaining: 1.2s\n",
      "613:\tlearn: 0.2576821\ttotal: 1.9s\tremaining: 1.2s\n",
      "614:\tlearn: 0.2573665\ttotal: 1.91s\tremaining: 1.19s\n",
      "615:\tlearn: 0.2571712\ttotal: 1.91s\tremaining: 1.19s\n",
      "616:\tlearn: 0.2569123\ttotal: 1.91s\tremaining: 1.19s\n",
      "617:\tlearn: 0.2567421\ttotal: 1.92s\tremaining: 1.18s\n",
      "618:\tlearn: 0.2565468\ttotal: 1.92s\tremaining: 1.18s\n",
      "619:\tlearn: 0.2560903\ttotal: 1.92s\tremaining: 1.18s\n",
      "620:\tlearn: 0.2558848\ttotal: 1.92s\tremaining: 1.17s\n",
      "621:\tlearn: 0.2557082\ttotal: 1.93s\tremaining: 1.17s\n",
      "622:\tlearn: 0.2555673\ttotal: 1.93s\tremaining: 1.17s\n",
      "623:\tlearn: 0.2553104\ttotal: 1.93s\tremaining: 1.16s\n",
      "624:\tlearn: 0.2551517\ttotal: 1.94s\tremaining: 1.16s\n",
      "625:\tlearn: 0.2548730\ttotal: 1.94s\tremaining: 1.16s\n",
      "626:\tlearn: 0.2547001\ttotal: 1.94s\tremaining: 1.16s\n",
      "627:\tlearn: 0.2545593\ttotal: 1.94s\tremaining: 1.15s\n",
      "628:\tlearn: 0.2543065\ttotal: 1.95s\tremaining: 1.15s\n",
      "629:\tlearn: 0.2541924\ttotal: 1.95s\tremaining: 1.15s\n",
      "630:\tlearn: 0.2540412\ttotal: 1.95s\tremaining: 1.14s\n",
      "631:\tlearn: 0.2540272\ttotal: 1.96s\tremaining: 1.14s\n",
      "632:\tlearn: 0.2538574\ttotal: 1.96s\tremaining: 1.14s\n",
      "633:\tlearn: 0.2535445\ttotal: 1.96s\tremaining: 1.13s\n",
      "634:\tlearn: 0.2533613\ttotal: 1.96s\tremaining: 1.13s\n",
      "635:\tlearn: 0.2532291\ttotal: 1.97s\tremaining: 1.13s\n",
      "636:\tlearn: 0.2529860\ttotal: 1.97s\tremaining: 1.12s\n",
      "637:\tlearn: 0.2529107\ttotal: 1.97s\tremaining: 1.12s\n",
      "638:\tlearn: 0.2528306\ttotal: 1.97s\tremaining: 1.11s\n",
      "639:\tlearn: 0.2527318\ttotal: 1.98s\tremaining: 1.11s\n",
      "640:\tlearn: 0.2526089\ttotal: 1.98s\tremaining: 1.11s\n",
      "641:\tlearn: 0.2523294\ttotal: 1.98s\tremaining: 1.1s\n",
      "642:\tlearn: 0.2521745\ttotal: 1.99s\tremaining: 1.1s\n",
      "643:\tlearn: 0.2520903\ttotal: 1.99s\tremaining: 1.1s\n",
      "644:\tlearn: 0.2518111\ttotal: 1.99s\tremaining: 1.09s\n",
      "645:\tlearn: 0.2517013\ttotal: 1.99s\tremaining: 1.09s\n",
      "646:\tlearn: 0.2513785\ttotal: 2s\tremaining: 1.09s\n",
      "647:\tlearn: 0.2510264\ttotal: 2s\tremaining: 1.09s\n",
      "648:\tlearn: 0.2509075\ttotal: 2s\tremaining: 1.08s\n",
      "649:\tlearn: 0.2507789\ttotal: 2s\tremaining: 1.08s\n",
      "650:\tlearn: 0.2505793\ttotal: 2.01s\tremaining: 1.08s\n",
      "651:\tlearn: 0.2504598\ttotal: 2.01s\tremaining: 1.07s\n",
      "652:\tlearn: 0.2502472\ttotal: 2.01s\tremaining: 1.07s\n",
      "653:\tlearn: 0.2501631\ttotal: 2.02s\tremaining: 1.07s\n",
      "654:\tlearn: 0.2500554\ttotal: 2.02s\tremaining: 1.06s\n",
      "655:\tlearn: 0.2499953\ttotal: 2.02s\tremaining: 1.06s\n",
      "656:\tlearn: 0.2497997\ttotal: 2.02s\tremaining: 1.06s\n",
      "657:\tlearn: 0.2496228\ttotal: 2.03s\tremaining: 1.05s\n",
      "658:\tlearn: 0.2493790\ttotal: 2.03s\tremaining: 1.05s\n",
      "659:\tlearn: 0.2490870\ttotal: 2.03s\tremaining: 1.05s\n",
      "660:\tlearn: 0.2489131\ttotal: 2.04s\tremaining: 1.04s\n",
      "661:\tlearn: 0.2487822\ttotal: 2.04s\tremaining: 1.04s\n",
      "662:\tlearn: 0.2486344\ttotal: 2.04s\tremaining: 1.04s\n",
      "663:\tlearn: 0.2485112\ttotal: 2.04s\tremaining: 1.03s\n",
      "664:\tlearn: 0.2483456\ttotal: 2.04s\tremaining: 1.03s\n",
      "665:\tlearn: 0.2478812\ttotal: 2.05s\tremaining: 1.03s\n",
      "666:\tlearn: 0.2477720\ttotal: 2.05s\tremaining: 1.02s\n",
      "667:\tlearn: 0.2476856\ttotal: 2.05s\tremaining: 1.02s\n",
      "668:\tlearn: 0.2473703\ttotal: 2.06s\tremaining: 1.02s\n",
      "669:\tlearn: 0.2469242\ttotal: 2.06s\tremaining: 1.01s\n",
      "670:\tlearn: 0.2468015\ttotal: 2.06s\tremaining: 1.01s\n",
      "671:\tlearn: 0.2464829\ttotal: 2.06s\tremaining: 1.01s\n",
      "672:\tlearn: 0.2462695\ttotal: 2.07s\tremaining: 1s\n",
      "673:\tlearn: 0.2460049\ttotal: 2.07s\tremaining: 1s\n",
      "674:\tlearn: 0.2459397\ttotal: 2.07s\tremaining: 998ms\n",
      "675:\tlearn: 0.2457831\ttotal: 2.07s\tremaining: 994ms\n",
      "676:\tlearn: 0.2456189\ttotal: 2.08s\tremaining: 991ms\n",
      "677:\tlearn: 0.2453592\ttotal: 2.08s\tremaining: 988ms\n",
      "678:\tlearn: 0.2450781\ttotal: 2.08s\tremaining: 985ms\n",
      "679:\tlearn: 0.2449079\ttotal: 2.08s\tremaining: 982ms\n",
      "680:\tlearn: 0.2447622\ttotal: 2.09s\tremaining: 978ms\n",
      "681:\tlearn: 0.2446009\ttotal: 2.09s\tremaining: 975ms\n",
      "682:\tlearn: 0.2444911\ttotal: 2.09s\tremaining: 972ms\n",
      "683:\tlearn: 0.2442647\ttotal: 2.1s\tremaining: 969ms\n",
      "684:\tlearn: 0.2439881\ttotal: 2.1s\tremaining: 966ms\n",
      "685:\tlearn: 0.2438743\ttotal: 2.1s\tremaining: 962ms\n",
      "686:\tlearn: 0.2436232\ttotal: 2.1s\tremaining: 959ms\n",
      "687:\tlearn: 0.2432542\ttotal: 2.11s\tremaining: 956ms\n",
      "688:\tlearn: 0.2430422\ttotal: 2.11s\tremaining: 953ms\n",
      "689:\tlearn: 0.2427875\ttotal: 2.11s\tremaining: 949ms\n",
      "690:\tlearn: 0.2426080\ttotal: 2.12s\tremaining: 946ms\n",
      "691:\tlearn: 0.2423995\ttotal: 2.12s\tremaining: 943ms\n",
      "692:\tlearn: 0.2422839\ttotal: 2.12s\tremaining: 940ms\n",
      "693:\tlearn: 0.2419745\ttotal: 2.12s\tremaining: 937ms\n",
      "694:\tlearn: 0.2419342\ttotal: 2.13s\tremaining: 934ms\n",
      "695:\tlearn: 0.2417488\ttotal: 2.13s\tremaining: 930ms\n",
      "696:\tlearn: 0.2416767\ttotal: 2.13s\tremaining: 927ms\n",
      "697:\tlearn: 0.2415790\ttotal: 2.14s\tremaining: 924ms\n",
      "698:\tlearn: 0.2412939\ttotal: 2.14s\tremaining: 921ms\n",
      "699:\tlearn: 0.2411213\ttotal: 2.14s\tremaining: 918ms\n",
      "700:\tlearn: 0.2408446\ttotal: 2.15s\tremaining: 915ms\n",
      "701:\tlearn: 0.2405587\ttotal: 2.15s\tremaining: 912ms\n",
      "702:\tlearn: 0.2403313\ttotal: 2.15s\tremaining: 909ms\n",
      "703:\tlearn: 0.2401492\ttotal: 2.15s\tremaining: 906ms\n",
      "704:\tlearn: 0.2398918\ttotal: 2.16s\tremaining: 903ms\n",
      "705:\tlearn: 0.2396047\ttotal: 2.16s\tremaining: 900ms\n",
      "706:\tlearn: 0.2395006\ttotal: 2.16s\tremaining: 896ms\n",
      "707:\tlearn: 0.2394055\ttotal: 2.17s\tremaining: 893ms\n",
      "708:\tlearn: 0.2392352\ttotal: 2.17s\tremaining: 890ms\n",
      "709:\tlearn: 0.2390019\ttotal: 2.17s\tremaining: 887ms\n",
      "710:\tlearn: 0.2388457\ttotal: 2.17s\tremaining: 884ms\n",
      "711:\tlearn: 0.2386594\ttotal: 2.18s\tremaining: 881ms\n",
      "712:\tlearn: 0.2385861\ttotal: 2.18s\tremaining: 877ms\n",
      "713:\tlearn: 0.2383764\ttotal: 2.18s\tremaining: 874ms\n",
      "714:\tlearn: 0.2382499\ttotal: 2.19s\tremaining: 871ms\n",
      "715:\tlearn: 0.2380496\ttotal: 2.19s\tremaining: 868ms\n",
      "716:\tlearn: 0.2377915\ttotal: 2.19s\tremaining: 865ms\n",
      "717:\tlearn: 0.2376989\ttotal: 2.19s\tremaining: 862ms\n",
      "718:\tlearn: 0.2375933\ttotal: 2.2s\tremaining: 858ms\n",
      "719:\tlearn: 0.2374398\ttotal: 2.2s\tremaining: 855ms\n",
      "720:\tlearn: 0.2372318\ttotal: 2.2s\tremaining: 852ms\n",
      "721:\tlearn: 0.2370847\ttotal: 2.2s\tremaining: 849ms\n",
      "722:\tlearn: 0.2367496\ttotal: 2.21s\tremaining: 845ms\n",
      "723:\tlearn: 0.2363787\ttotal: 2.21s\tremaining: 842ms\n",
      "724:\tlearn: 0.2362295\ttotal: 2.21s\tremaining: 839ms\n",
      "725:\tlearn: 0.2361886\ttotal: 2.21s\tremaining: 836ms\n",
      "726:\tlearn: 0.2360077\ttotal: 2.22s\tremaining: 833ms\n",
      "727:\tlearn: 0.2358936\ttotal: 2.22s\tremaining: 830ms\n",
      "728:\tlearn: 0.2357625\ttotal: 2.22s\tremaining: 827ms\n",
      "729:\tlearn: 0.2356657\ttotal: 2.23s\tremaining: 823ms\n",
      "730:\tlearn: 0.2355083\ttotal: 2.23s\tremaining: 820ms\n",
      "731:\tlearn: 0.2354345\ttotal: 2.23s\tremaining: 817ms\n",
      "732:\tlearn: 0.2353153\ttotal: 2.23s\tremaining: 814ms\n",
      "733:\tlearn: 0.2352290\ttotal: 2.24s\tremaining: 811ms\n",
      "734:\tlearn: 0.2351001\ttotal: 2.24s\tremaining: 808ms\n",
      "735:\tlearn: 0.2349968\ttotal: 2.24s\tremaining: 805ms\n",
      "736:\tlearn: 0.2349104\ttotal: 2.25s\tremaining: 801ms\n",
      "737:\tlearn: 0.2348057\ttotal: 2.25s\tremaining: 798ms\n",
      "738:\tlearn: 0.2346429\ttotal: 2.25s\tremaining: 795ms\n",
      "739:\tlearn: 0.2344062\ttotal: 2.25s\tremaining: 792ms\n",
      "740:\tlearn: 0.2343251\ttotal: 2.26s\tremaining: 789ms\n",
      "741:\tlearn: 0.2339286\ttotal: 2.26s\tremaining: 786ms\n",
      "742:\tlearn: 0.2337558\ttotal: 2.26s\tremaining: 783ms\n",
      "743:\tlearn: 0.2336824\ttotal: 2.27s\tremaining: 780ms\n",
      "744:\tlearn: 0.2336136\ttotal: 2.27s\tremaining: 777ms\n",
      "745:\tlearn: 0.2334585\ttotal: 2.27s\tremaining: 774ms\n",
      "746:\tlearn: 0.2330439\ttotal: 2.27s\tremaining: 771ms\n",
      "747:\tlearn: 0.2327640\ttotal: 2.28s\tremaining: 768ms\n",
      "748:\tlearn: 0.2325958\ttotal: 2.28s\tremaining: 765ms\n",
      "749:\tlearn: 0.2323885\ttotal: 2.28s\tremaining: 761ms\n",
      "750:\tlearn: 0.2321622\ttotal: 2.29s\tremaining: 758ms\n",
      "751:\tlearn: 0.2320129\ttotal: 2.29s\tremaining: 755ms\n",
      "752:\tlearn: 0.2319447\ttotal: 2.29s\tremaining: 752ms\n",
      "753:\tlearn: 0.2318012\ttotal: 2.29s\tremaining: 749ms\n",
      "754:\tlearn: 0.2316776\ttotal: 2.3s\tremaining: 746ms\n",
      "755:\tlearn: 0.2315503\ttotal: 2.3s\tremaining: 743ms\n",
      "756:\tlearn: 0.2313964\ttotal: 2.3s\tremaining: 740ms\n",
      "757:\tlearn: 0.2313403\ttotal: 2.31s\tremaining: 737ms\n",
      "758:\tlearn: 0.2311582\ttotal: 2.31s\tremaining: 733ms\n",
      "759:\tlearn: 0.2309643\ttotal: 2.31s\tremaining: 730ms\n",
      "760:\tlearn: 0.2308683\ttotal: 2.32s\tremaining: 727ms\n",
      "761:\tlearn: 0.2306519\ttotal: 2.32s\tremaining: 724ms\n",
      "762:\tlearn: 0.2304512\ttotal: 2.32s\tremaining: 721ms\n",
      "763:\tlearn: 0.2303585\ttotal: 2.32s\tremaining: 718ms\n",
      "764:\tlearn: 0.2301186\ttotal: 2.33s\tremaining: 715ms\n",
      "765:\tlearn: 0.2299520\ttotal: 2.33s\tremaining: 712ms\n",
      "766:\tlearn: 0.2298211\ttotal: 2.33s\tremaining: 709ms\n",
      "767:\tlearn: 0.2296461\ttotal: 2.33s\tremaining: 706ms\n",
      "768:\tlearn: 0.2294316\ttotal: 2.34s\tremaining: 702ms\n",
      "769:\tlearn: 0.2292530\ttotal: 2.34s\tremaining: 699ms\n",
      "770:\tlearn: 0.2290728\ttotal: 2.34s\tremaining: 696ms\n",
      "771:\tlearn: 0.2288433\ttotal: 2.35s\tremaining: 693ms\n",
      "772:\tlearn: 0.2287000\ttotal: 2.35s\tremaining: 690ms\n",
      "773:\tlearn: 0.2284832\ttotal: 2.35s\tremaining: 686ms\n",
      "774:\tlearn: 0.2283585\ttotal: 2.35s\tremaining: 683ms\n",
      "775:\tlearn: 0.2282229\ttotal: 2.35s\tremaining: 680ms\n",
      "776:\tlearn: 0.2281303\ttotal: 2.36s\tremaining: 677ms\n",
      "777:\tlearn: 0.2279449\ttotal: 2.36s\tremaining: 674ms\n",
      "778:\tlearn: 0.2277649\ttotal: 2.36s\tremaining: 671ms\n",
      "779:\tlearn: 0.2276696\ttotal: 2.37s\tremaining: 667ms\n",
      "780:\tlearn: 0.2274767\ttotal: 2.37s\tremaining: 664ms\n",
      "781:\tlearn: 0.2272327\ttotal: 2.37s\tremaining: 661ms\n",
      "782:\tlearn: 0.2270917\ttotal: 2.37s\tremaining: 658ms\n",
      "783:\tlearn: 0.2269343\ttotal: 2.38s\tremaining: 655ms\n",
      "784:\tlearn: 0.2266742\ttotal: 2.38s\tremaining: 652ms\n",
      "785:\tlearn: 0.2264986\ttotal: 2.38s\tremaining: 649ms\n",
      "786:\tlearn: 0.2263188\ttotal: 2.38s\tremaining: 645ms\n",
      "787:\tlearn: 0.2261086\ttotal: 2.39s\tremaining: 642ms\n",
      "788:\tlearn: 0.2258824\ttotal: 2.39s\tremaining: 639ms\n",
      "789:\tlearn: 0.2256495\ttotal: 2.39s\tremaining: 636ms\n",
      "790:\tlearn: 0.2253640\ttotal: 2.4s\tremaining: 633ms\n",
      "791:\tlearn: 0.2253015\ttotal: 2.4s\tremaining: 630ms\n",
      "792:\tlearn: 0.2251932\ttotal: 2.4s\tremaining: 627ms\n",
      "793:\tlearn: 0.2250610\ttotal: 2.4s\tremaining: 623ms\n",
      "794:\tlearn: 0.2249378\ttotal: 2.4s\tremaining: 620ms\n",
      "795:\tlearn: 0.2247418\ttotal: 2.41s\tremaining: 617ms\n",
      "796:\tlearn: 0.2243590\ttotal: 2.41s\tremaining: 614ms\n",
      "797:\tlearn: 0.2241881\ttotal: 2.41s\tremaining: 611ms\n",
      "798:\tlearn: 0.2239846\ttotal: 2.42s\tremaining: 608ms\n",
      "799:\tlearn: 0.2238098\ttotal: 2.42s\tremaining: 605ms\n",
      "800:\tlearn: 0.2237013\ttotal: 2.42s\tremaining: 602ms\n",
      "801:\tlearn: 0.2235843\ttotal: 2.42s\tremaining: 598ms\n",
      "802:\tlearn: 0.2234171\ttotal: 2.43s\tremaining: 595ms\n",
      "803:\tlearn: 0.2232202\ttotal: 2.43s\tremaining: 592ms\n",
      "804:\tlearn: 0.2230832\ttotal: 2.43s\tremaining: 589ms\n",
      "805:\tlearn: 0.2229630\ttotal: 2.43s\tremaining: 586ms\n",
      "806:\tlearn: 0.2227556\ttotal: 2.44s\tremaining: 583ms\n",
      "807:\tlearn: 0.2225513\ttotal: 2.44s\tremaining: 580ms\n",
      "808:\tlearn: 0.2224407\ttotal: 2.44s\tremaining: 577ms\n",
      "809:\tlearn: 0.2223815\ttotal: 2.45s\tremaining: 574ms\n",
      "810:\tlearn: 0.2221158\ttotal: 2.45s\tremaining: 571ms\n",
      "811:\tlearn: 0.2218880\ttotal: 2.45s\tremaining: 568ms\n",
      "812:\tlearn: 0.2217191\ttotal: 2.46s\tremaining: 565ms\n",
      "813:\tlearn: 0.2216216\ttotal: 2.46s\tremaining: 562ms\n",
      "814:\tlearn: 0.2214471\ttotal: 2.46s\tremaining: 559ms\n",
      "815:\tlearn: 0.2212460\ttotal: 2.46s\tremaining: 556ms\n",
      "816:\tlearn: 0.2210716\ttotal: 2.47s\tremaining: 553ms\n",
      "817:\tlearn: 0.2207700\ttotal: 2.47s\tremaining: 549ms\n",
      "818:\tlearn: 0.2206518\ttotal: 2.47s\tremaining: 546ms\n",
      "819:\tlearn: 0.2205547\ttotal: 2.48s\tremaining: 543ms\n",
      "820:\tlearn: 0.2202621\ttotal: 2.48s\tremaining: 540ms\n",
      "821:\tlearn: 0.2200709\ttotal: 2.48s\tremaining: 537ms\n",
      "822:\tlearn: 0.2199827\ttotal: 2.48s\tremaining: 534ms\n",
      "823:\tlearn: 0.2198117\ttotal: 2.49s\tremaining: 531ms\n",
      "824:\tlearn: 0.2196338\ttotal: 2.49s\tremaining: 528ms\n",
      "825:\tlearn: 0.2193833\ttotal: 2.49s\tremaining: 525ms\n",
      "826:\tlearn: 0.2191040\ttotal: 2.5s\tremaining: 522ms\n",
      "827:\tlearn: 0.2188188\ttotal: 2.5s\tremaining: 519ms\n",
      "828:\tlearn: 0.2186232\ttotal: 2.5s\tremaining: 516ms\n",
      "829:\tlearn: 0.2184637\ttotal: 2.5s\tremaining: 513ms\n",
      "830:\tlearn: 0.2183447\ttotal: 2.51s\tremaining: 510ms\n",
      "831:\tlearn: 0.2181185\ttotal: 2.51s\tremaining: 507ms\n",
      "832:\tlearn: 0.2179230\ttotal: 2.51s\tremaining: 504ms\n",
      "833:\tlearn: 0.2177289\ttotal: 2.51s\tremaining: 501ms\n",
      "834:\tlearn: 0.2174576\ttotal: 2.52s\tremaining: 498ms\n",
      "835:\tlearn: 0.2173258\ttotal: 2.52s\tremaining: 494ms\n",
      "836:\tlearn: 0.2171739\ttotal: 2.52s\tremaining: 491ms\n",
      "837:\tlearn: 0.2169270\ttotal: 2.52s\tremaining: 488ms\n",
      "838:\tlearn: 0.2166864\ttotal: 2.53s\tremaining: 485ms\n",
      "839:\tlearn: 0.2164157\ttotal: 2.53s\tremaining: 482ms\n",
      "840:\tlearn: 0.2163378\ttotal: 2.53s\tremaining: 479ms\n",
      "841:\tlearn: 0.2162199\ttotal: 2.54s\tremaining: 476ms\n",
      "842:\tlearn: 0.2158899\ttotal: 2.54s\tremaining: 473ms\n",
      "843:\tlearn: 0.2158699\ttotal: 2.54s\tremaining: 470ms\n",
      "844:\tlearn: 0.2157586\ttotal: 2.54s\tremaining: 466ms\n",
      "845:\tlearn: 0.2155410\ttotal: 2.54s\tremaining: 463ms\n",
      "846:\tlearn: 0.2153727\ttotal: 2.55s\tremaining: 460ms\n",
      "847:\tlearn: 0.2151920\ttotal: 2.55s\tremaining: 457ms\n",
      "848:\tlearn: 0.2148853\ttotal: 2.55s\tremaining: 454ms\n",
      "849:\tlearn: 0.2148101\ttotal: 2.55s\tremaining: 451ms\n",
      "850:\tlearn: 0.2146415\ttotal: 2.56s\tremaining: 448ms\n",
      "851:\tlearn: 0.2144046\ttotal: 2.56s\tremaining: 445ms\n",
      "852:\tlearn: 0.2143299\ttotal: 2.56s\tremaining: 441ms\n",
      "853:\tlearn: 0.2141792\ttotal: 2.56s\tremaining: 438ms\n",
      "854:\tlearn: 0.2141206\ttotal: 2.57s\tremaining: 435ms\n",
      "855:\tlearn: 0.2139337\ttotal: 2.57s\tremaining: 432ms\n",
      "856:\tlearn: 0.2136557\ttotal: 2.57s\tremaining: 429ms\n",
      "857:\tlearn: 0.2134691\ttotal: 2.57s\tremaining: 426ms\n",
      "858:\tlearn: 0.2132437\ttotal: 2.58s\tremaining: 423ms\n",
      "859:\tlearn: 0.2130466\ttotal: 2.58s\tremaining: 420ms\n",
      "860:\tlearn: 0.2129277\ttotal: 2.58s\tremaining: 417ms\n",
      "861:\tlearn: 0.2125050\ttotal: 2.58s\tremaining: 414ms\n",
      "862:\tlearn: 0.2122203\ttotal: 2.59s\tremaining: 411ms\n",
      "863:\tlearn: 0.2121312\ttotal: 2.59s\tremaining: 408ms\n",
      "864:\tlearn: 0.2120307\ttotal: 2.59s\tremaining: 404ms\n",
      "865:\tlearn: 0.2118465\ttotal: 2.59s\tremaining: 401ms\n",
      "866:\tlearn: 0.2117302\ttotal: 2.6s\tremaining: 398ms\n",
      "867:\tlearn: 0.2114227\ttotal: 2.6s\tremaining: 395ms\n",
      "868:\tlearn: 0.2113260\ttotal: 2.6s\tremaining: 392ms\n",
      "869:\tlearn: 0.2111942\ttotal: 2.6s\tremaining: 389ms\n",
      "870:\tlearn: 0.2110035\ttotal: 2.61s\tremaining: 386ms\n",
      "871:\tlearn: 0.2107816\ttotal: 2.61s\tremaining: 383ms\n",
      "872:\tlearn: 0.2104724\ttotal: 2.61s\tremaining: 380ms\n",
      "873:\tlearn: 0.2102684\ttotal: 2.61s\tremaining: 377ms\n",
      "874:\tlearn: 0.2101032\ttotal: 2.62s\tremaining: 374ms\n",
      "875:\tlearn: 0.2099989\ttotal: 2.62s\tremaining: 371ms\n",
      "876:\tlearn: 0.2099035\ttotal: 2.62s\tremaining: 368ms\n",
      "877:\tlearn: 0.2097173\ttotal: 2.62s\tremaining: 365ms\n",
      "878:\tlearn: 0.2095486\ttotal: 2.63s\tremaining: 362ms\n",
      "879:\tlearn: 0.2093830\ttotal: 2.63s\tremaining: 359ms\n",
      "880:\tlearn: 0.2092829\ttotal: 2.63s\tremaining: 356ms\n",
      "881:\tlearn: 0.2089713\ttotal: 2.63s\tremaining: 352ms\n",
      "882:\tlearn: 0.2087959\ttotal: 2.64s\tremaining: 349ms\n",
      "883:\tlearn: 0.2087119\ttotal: 2.64s\tremaining: 346ms\n",
      "884:\tlearn: 0.2086137\ttotal: 2.64s\tremaining: 343ms\n",
      "885:\tlearn: 0.2084851\ttotal: 2.64s\tremaining: 340ms\n",
      "886:\tlearn: 0.2082519\ttotal: 2.65s\tremaining: 337ms\n",
      "887:\tlearn: 0.2082281\ttotal: 2.65s\tremaining: 334ms\n",
      "888:\tlearn: 0.2080446\ttotal: 2.65s\tremaining: 331ms\n",
      "889:\tlearn: 0.2079331\ttotal: 2.65s\tremaining: 328ms\n",
      "890:\tlearn: 0.2076840\ttotal: 2.66s\tremaining: 325ms\n",
      "891:\tlearn: 0.2074361\ttotal: 2.66s\tremaining: 322ms\n",
      "892:\tlearn: 0.2072691\ttotal: 2.66s\tremaining: 319ms\n",
      "893:\tlearn: 0.2071863\ttotal: 2.66s\tremaining: 316ms\n",
      "894:\tlearn: 0.2070482\ttotal: 2.67s\tremaining: 313ms\n",
      "895:\tlearn: 0.2068719\ttotal: 2.67s\tremaining: 310ms\n",
      "896:\tlearn: 0.2068010\ttotal: 2.67s\tremaining: 307ms\n",
      "897:\tlearn: 0.2066289\ttotal: 2.67s\tremaining: 304ms\n",
      "898:\tlearn: 0.2065124\ttotal: 2.68s\tremaining: 301ms\n",
      "899:\tlearn: 0.2063746\ttotal: 2.68s\tremaining: 298ms\n",
      "900:\tlearn: 0.2060329\ttotal: 2.68s\tremaining: 295ms\n",
      "901:\tlearn: 0.2059134\ttotal: 2.69s\tremaining: 292ms\n",
      "902:\tlearn: 0.2056670\ttotal: 2.69s\tremaining: 289ms\n",
      "903:\tlearn: 0.2055800\ttotal: 2.69s\tremaining: 286ms\n",
      "904:\tlearn: 0.2054935\ttotal: 2.69s\tremaining: 283ms\n",
      "905:\tlearn: 0.2054216\ttotal: 2.69s\tremaining: 280ms\n",
      "906:\tlearn: 0.2053141\ttotal: 2.7s\tremaining: 277ms\n",
      "907:\tlearn: 0.2051578\ttotal: 2.7s\tremaining: 274ms\n",
      "908:\tlearn: 0.2051277\ttotal: 2.7s\tremaining: 271ms\n",
      "909:\tlearn: 0.2049773\ttotal: 2.71s\tremaining: 268ms\n",
      "910:\tlearn: 0.2049041\ttotal: 2.71s\tremaining: 265ms\n",
      "911:\tlearn: 0.2048033\ttotal: 2.71s\tremaining: 261ms\n",
      "912:\tlearn: 0.2046646\ttotal: 2.71s\tremaining: 258ms\n",
      "913:\tlearn: 0.2045087\ttotal: 2.71s\tremaining: 255ms\n",
      "914:\tlearn: 0.2043556\ttotal: 2.72s\tremaining: 252ms\n",
      "915:\tlearn: 0.2042029\ttotal: 2.72s\tremaining: 249ms\n",
      "916:\tlearn: 0.2041374\ttotal: 2.72s\tremaining: 246ms\n",
      "917:\tlearn: 0.2039668\ttotal: 2.72s\tremaining: 243ms\n",
      "918:\tlearn: 0.2038225\ttotal: 2.73s\tremaining: 240ms\n",
      "919:\tlearn: 0.2037351\ttotal: 2.73s\tremaining: 237ms\n",
      "920:\tlearn: 0.2035562\ttotal: 2.73s\tremaining: 234ms\n",
      "921:\tlearn: 0.2033158\ttotal: 2.73s\tremaining: 231ms\n",
      "922:\tlearn: 0.2031272\ttotal: 2.74s\tremaining: 228ms\n",
      "923:\tlearn: 0.2028653\ttotal: 2.74s\tremaining: 225ms\n",
      "924:\tlearn: 0.2027730\ttotal: 2.74s\tremaining: 222ms\n",
      "925:\tlearn: 0.2025642\ttotal: 2.74s\tremaining: 219ms\n",
      "926:\tlearn: 0.2025182\ttotal: 2.75s\tremaining: 216ms\n",
      "927:\tlearn: 0.2023242\ttotal: 2.75s\tremaining: 213ms\n",
      "928:\tlearn: 0.2021505\ttotal: 2.75s\tremaining: 210ms\n",
      "929:\tlearn: 0.2019405\ttotal: 2.75s\tremaining: 207ms\n",
      "930:\tlearn: 0.2018581\ttotal: 2.75s\tremaining: 204ms\n",
      "931:\tlearn: 0.2015040\ttotal: 2.76s\tremaining: 201ms\n",
      "932:\tlearn: 0.2012963\ttotal: 2.76s\tremaining: 198ms\n",
      "933:\tlearn: 0.2011157\ttotal: 2.76s\tremaining: 195ms\n",
      "934:\tlearn: 0.2010048\ttotal: 2.76s\tremaining: 192ms\n",
      "935:\tlearn: 0.2008797\ttotal: 2.77s\tremaining: 189ms\n",
      "936:\tlearn: 0.2006119\ttotal: 2.77s\tremaining: 186ms\n",
      "937:\tlearn: 0.2003997\ttotal: 2.77s\tremaining: 183ms\n",
      "938:\tlearn: 0.2002994\ttotal: 2.77s\tremaining: 180ms\n",
      "939:\tlearn: 0.2001781\ttotal: 2.78s\tremaining: 177ms\n",
      "940:\tlearn: 0.2001108\ttotal: 2.78s\tremaining: 174ms\n",
      "941:\tlearn: 0.1998029\ttotal: 2.78s\tremaining: 171ms\n",
      "942:\tlearn: 0.1996730\ttotal: 2.79s\tremaining: 168ms\n",
      "943:\tlearn: 0.1996001\ttotal: 2.79s\tremaining: 165ms\n",
      "944:\tlearn: 0.1995043\ttotal: 2.79s\tremaining: 162ms\n",
      "945:\tlearn: 0.1993791\ttotal: 2.79s\tremaining: 159ms\n",
      "946:\tlearn: 0.1993067\ttotal: 2.79s\tremaining: 156ms\n",
      "947:\tlearn: 0.1991825\ttotal: 2.8s\tremaining: 153ms\n",
      "948:\tlearn: 0.1991477\ttotal: 2.8s\tremaining: 151ms\n",
      "949:\tlearn: 0.1989893\ttotal: 2.8s\tremaining: 148ms\n",
      "950:\tlearn: 0.1989476\ttotal: 2.81s\tremaining: 145ms\n",
      "951:\tlearn: 0.1988571\ttotal: 2.81s\tremaining: 142ms\n",
      "952:\tlearn: 0.1987463\ttotal: 2.81s\tremaining: 139ms\n",
      "953:\tlearn: 0.1985914\ttotal: 2.81s\tremaining: 136ms\n",
      "954:\tlearn: 0.1984601\ttotal: 2.81s\tremaining: 133ms\n",
      "955:\tlearn: 0.1983558\ttotal: 2.82s\tremaining: 130ms\n",
      "956:\tlearn: 0.1981887\ttotal: 2.82s\tremaining: 127ms\n",
      "957:\tlearn: 0.1979755\ttotal: 2.82s\tremaining: 124ms\n",
      "958:\tlearn: 0.1978122\ttotal: 2.83s\tremaining: 121ms\n",
      "959:\tlearn: 0.1976791\ttotal: 2.83s\tremaining: 118ms\n",
      "960:\tlearn: 0.1976331\ttotal: 2.83s\tremaining: 115ms\n",
      "961:\tlearn: 0.1974878\ttotal: 2.83s\tremaining: 112ms\n",
      "962:\tlearn: 0.1973825\ttotal: 2.83s\tremaining: 109ms\n",
      "963:\tlearn: 0.1973230\ttotal: 2.84s\tremaining: 106ms\n",
      "964:\tlearn: 0.1970565\ttotal: 2.84s\tremaining: 103ms\n",
      "965:\tlearn: 0.1969765\ttotal: 2.84s\tremaining: 100ms\n",
      "966:\tlearn: 0.1967186\ttotal: 2.85s\tremaining: 97.1ms\n",
      "967:\tlearn: 0.1965649\ttotal: 2.85s\tremaining: 94.2ms\n",
      "968:\tlearn: 0.1964461\ttotal: 2.85s\tremaining: 91.2ms\n",
      "969:\tlearn: 0.1962676\ttotal: 2.85s\tremaining: 88.3ms\n",
      "970:\tlearn: 0.1961347\ttotal: 2.86s\tremaining: 85.3ms\n",
      "971:\tlearn: 0.1960023\ttotal: 2.86s\tremaining: 82.4ms\n",
      "972:\tlearn: 0.1958286\ttotal: 2.86s\tremaining: 79.4ms\n",
      "973:\tlearn: 0.1956880\ttotal: 2.86s\tremaining: 76.4ms\n",
      "974:\tlearn: 0.1955273\ttotal: 2.87s\tremaining: 73.5ms\n",
      "975:\tlearn: 0.1954718\ttotal: 2.87s\tremaining: 70.6ms\n",
      "976:\tlearn: 0.1954058\ttotal: 2.87s\tremaining: 67.6ms\n",
      "977:\tlearn: 0.1953148\ttotal: 2.87s\tremaining: 64.7ms\n",
      "978:\tlearn: 0.1951338\ttotal: 2.88s\tremaining: 61.7ms\n",
      "979:\tlearn: 0.1950429\ttotal: 2.88s\tremaining: 58.8ms\n",
      "980:\tlearn: 0.1950004\ttotal: 2.88s\tremaining: 55.8ms\n",
      "981:\tlearn: 0.1948226\ttotal: 2.88s\tremaining: 52.9ms\n",
      "982:\tlearn: 0.1946439\ttotal: 2.89s\tremaining: 49.9ms\n",
      "983:\tlearn: 0.1945826\ttotal: 2.89s\tremaining: 47ms\n",
      "984:\tlearn: 0.1944658\ttotal: 2.89s\tremaining: 44ms\n",
      "985:\tlearn: 0.1943315\ttotal: 2.89s\tremaining: 41.1ms\n",
      "986:\tlearn: 0.1941699\ttotal: 2.9s\tremaining: 38.1ms\n",
      "987:\tlearn: 0.1939214\ttotal: 2.9s\tremaining: 35.2ms\n",
      "988:\tlearn: 0.1937600\ttotal: 2.9s\tremaining: 32.3ms\n",
      "989:\tlearn: 0.1936543\ttotal: 2.9s\tremaining: 29.3ms\n",
      "990:\tlearn: 0.1935242\ttotal: 2.9s\tremaining: 26.4ms\n",
      "991:\tlearn: 0.1933722\ttotal: 2.91s\tremaining: 23.4ms\n",
      "992:\tlearn: 0.1932137\ttotal: 2.91s\tremaining: 20.5ms\n",
      "993:\tlearn: 0.1931190\ttotal: 2.91s\tremaining: 17.6ms\n",
      "994:\tlearn: 0.1930025\ttotal: 2.92s\tremaining: 14.7ms\n",
      "995:\tlearn: 0.1929036\ttotal: 2.92s\tremaining: 11.7ms\n",
      "996:\tlearn: 0.1927199\ttotal: 2.92s\tremaining: 8.79ms\n",
      "997:\tlearn: 0.1927060\ttotal: 2.92s\tremaining: 5.86ms\n",
      "998:\tlearn: 0.1926449\ttotal: 2.92s\tremaining: 2.93ms\n",
      "999:\tlearn: 0.1925922\ttotal: 2.93s\tremaining: 0us\n"
     ]
    }
   ],
   "source": [
    "cat_model = CatBoostClassifier().fit(X_train, y_train)"
   ]
  },
  {
   "cell_type": "code",
   "execution_count": 152,
   "id": "2a601d22-9ec4-49fe-b14b-0ec5a816250b",
   "metadata": {},
   "outputs": [
    {
     "data": {
      "text/plain": [
       "0.7402597402597403"
      ]
     },
     "execution_count": 152,
     "metadata": {},
     "output_type": "execute_result"
    }
   ],
   "source": [
    "y_pred = cat_model.predict(X_test)\n",
    "accuracy_score(y_test, y_pred)"
   ]
  },
  {
   "cell_type": "markdown",
   "id": "31f6c8da-f8f2-4596-b52b-fcb1b24641c9",
   "metadata": {},
   "source": [
    "## Model Tuning"
   ]
  },
  {
   "cell_type": "code",
   "execution_count": 153,
   "id": "e82ba7a6-a283-40ac-bc80-f8aaeabcf256",
   "metadata": {},
   "outputs": [],
   "source": [
    "catb_params = {\"iterations\": [200,500],\n",
    "               \"learning_rate\": [0.01,0.05, 0.1],\n",
    "               \"depth\": [3,5,8]}"
   ]
  },
  {
   "cell_type": "code",
   "execution_count": 154,
   "id": "14afb3d4-e7ab-4298-8b40-66fd089b8faf",
   "metadata": {
    "collapsed": true,
    "jupyter": {
     "outputs_hidden": true
    },
    "tags": []
   },
   "outputs": [
    {
     "name": "stdout",
     "output_type": "stream",
     "text": [
      "Fitting 5 folds for each of 18 candidates, totalling 90 fits\n",
      "0:\tlearn: 0.6863312\ttotal: 4.04ms\tremaining: 804ms\n",
      "1:\tlearn: 0.6811157\ttotal: 7.77ms\tremaining: 770ms\n",
      "2:\tlearn: 0.6752970\ttotal: 11.8ms\tremaining: 772ms\n",
      "3:\tlearn: 0.6697432\ttotal: 15.9ms\tremaining: 778ms\n",
      "4:\tlearn: 0.6641758\ttotal: 20ms\tremaining: 781ms\n",
      "5:\tlearn: 0.6576656\ttotal: 24.1ms\tremaining: 781ms\n",
      "6:\tlearn: 0.6521870\ttotal: 28.2ms\tremaining: 778ms\n",
      "7:\tlearn: 0.6465564\ttotal: 32.2ms\tremaining: 774ms\n",
      "8:\tlearn: 0.6407595\ttotal: 36.3ms\tremaining: 771ms\n",
      "9:\tlearn: 0.6357725\ttotal: 40.5ms\tremaining: 769ms\n",
      "10:\tlearn: 0.6299942\ttotal: 44.8ms\tremaining: 770ms\n",
      "11:\tlearn: 0.6240480\ttotal: 48.8ms\tremaining: 765ms\n",
      "12:\tlearn: 0.6196095\ttotal: 53ms\tremaining: 762ms\n",
      "13:\tlearn: 0.6148715\ttotal: 57.2ms\tremaining: 760ms\n",
      "14:\tlearn: 0.6092626\ttotal: 61.2ms\tremaining: 755ms\n",
      "15:\tlearn: 0.6046764\ttotal: 65.5ms\tremaining: 753ms\n",
      "16:\tlearn: 0.6012725\ttotal: 69.9ms\tremaining: 752ms\n",
      "17:\tlearn: 0.5958121\ttotal: 74.3ms\tremaining: 751ms\n",
      "18:\tlearn: 0.5903243\ttotal: 78.4ms\tremaining: 747ms\n",
      "19:\tlearn: 0.5866024\ttotal: 82.6ms\tremaining: 744ms\n",
      "20:\tlearn: 0.5831390\ttotal: 87ms\tremaining: 741ms\n",
      "21:\tlearn: 0.5787381\ttotal: 91.1ms\tremaining: 737ms\n",
      "22:\tlearn: 0.5749016\ttotal: 95.5ms\tremaining: 735ms\n",
      "23:\tlearn: 0.5703199\ttotal: 100ms\tremaining: 733ms\n",
      "24:\tlearn: 0.5662368\ttotal: 104ms\tremaining: 729ms\n",
      "25:\tlearn: 0.5628682\ttotal: 108ms\tremaining: 725ms\n",
      "26:\tlearn: 0.5589082\ttotal: 113ms\tremaining: 721ms\n",
      "27:\tlearn: 0.5543910\ttotal: 117ms\tremaining: 718ms\n",
      "28:\tlearn: 0.5503864\ttotal: 121ms\tremaining: 715ms\n",
      "29:\tlearn: 0.5470574\ttotal: 125ms\tremaining: 711ms\n",
      "30:\tlearn: 0.5441267\ttotal: 130ms\tremaining: 707ms\n",
      "31:\tlearn: 0.5396280\ttotal: 134ms\tremaining: 704ms\n",
      "32:\tlearn: 0.5356242\ttotal: 139ms\tremaining: 703ms\n",
      "33:\tlearn: 0.5315397\ttotal: 144ms\tremaining: 701ms\n",
      "34:\tlearn: 0.5279847\ttotal: 148ms\tremaining: 698ms\n",
      "35:\tlearn: 0.5248380\ttotal: 152ms\tremaining: 694ms\n",
      "36:\tlearn: 0.5223885\ttotal: 157ms\tremaining: 690ms\n",
      "37:\tlearn: 0.5198269\ttotal: 161ms\tremaining: 685ms\n",
      "38:\tlearn: 0.5167431\ttotal: 165ms\tremaining: 683ms\n",
      "39:\tlearn: 0.5138833\ttotal: 170ms\tremaining: 681ms\n",
      "40:\tlearn: 0.5101494\ttotal: 175ms\tremaining: 679ms\n",
      "41:\tlearn: 0.5066102\ttotal: 180ms\tremaining: 676ms\n",
      "42:\tlearn: 0.5033714\ttotal: 184ms\tremaining: 674ms\n",
      "43:\tlearn: 0.5005898\ttotal: 189ms\tremaining: 671ms\n",
      "44:\tlearn: 0.4980703\ttotal: 194ms\tremaining: 668ms\n",
      "45:\tlearn: 0.4959251\ttotal: 199ms\tremaining: 666ms\n",
      "46:\tlearn: 0.4933987\ttotal: 204ms\tremaining: 665ms\n",
      "47:\tlearn: 0.4906194\ttotal: 209ms\tremaining: 661ms\n",
      "48:\tlearn: 0.4878359\ttotal: 213ms\tremaining: 657ms\n",
      "49:\tlearn: 0.4850755\ttotal: 218ms\tremaining: 653ms\n",
      "50:\tlearn: 0.4825927\ttotal: 222ms\tremaining: 649ms\n",
      "51:\tlearn: 0.4798298\ttotal: 227ms\tremaining: 645ms\n",
      "52:\tlearn: 0.4776108\ttotal: 231ms\tremaining: 640ms\n",
      "53:\tlearn: 0.4754405\ttotal: 235ms\tremaining: 636ms\n",
      "54:\tlearn: 0.4733501\ttotal: 239ms\tremaining: 631ms\n",
      "55:\tlearn: 0.4706076\ttotal: 244ms\tremaining: 627ms\n",
      "56:\tlearn: 0.4677355\ttotal: 248ms\tremaining: 622ms\n",
      "57:\tlearn: 0.4656740\ttotal: 252ms\tremaining: 618ms\n",
      "58:\tlearn: 0.4637413\ttotal: 257ms\tremaining: 613ms\n",
      "59:\tlearn: 0.4615248\ttotal: 261ms\tremaining: 609ms\n",
      "60:\tlearn: 0.4599759\ttotal: 265ms\tremaining: 604ms\n",
      "61:\tlearn: 0.4583985\ttotal: 267ms\tremaining: 595ms\n",
      "62:\tlearn: 0.4567064\ttotal: 272ms\tremaining: 591ms\n",
      "63:\tlearn: 0.4540942\ttotal: 276ms\tremaining: 587ms\n",
      "64:\tlearn: 0.4529822\ttotal: 278ms\tremaining: 577ms\n",
      "65:\tlearn: 0.4512090\ttotal: 282ms\tremaining: 573ms\n",
      "66:\tlearn: 0.4486739\ttotal: 287ms\tremaining: 569ms\n",
      "67:\tlearn: 0.4467865\ttotal: 291ms\tremaining: 565ms\n",
      "68:\tlearn: 0.4449614\ttotal: 295ms\tremaining: 561ms\n",
      "69:\tlearn: 0.4426120\ttotal: 300ms\tremaining: 557ms\n",
      "70:\tlearn: 0.4401612\ttotal: 304ms\tremaining: 553ms\n",
      "71:\tlearn: 0.4380696\ttotal: 309ms\tremaining: 549ms\n",
      "72:\tlearn: 0.4367153\ttotal: 313ms\tremaining: 544ms\n",
      "73:\tlearn: 0.4353223\ttotal: 317ms\tremaining: 540ms\n",
      "74:\tlearn: 0.4339943\ttotal: 321ms\tremaining: 535ms\n",
      "75:\tlearn: 0.4315641\ttotal: 325ms\tremaining: 531ms\n",
      "76:\tlearn: 0.4298680\ttotal: 329ms\tremaining: 526ms\n",
      "77:\tlearn: 0.4285275\ttotal: 333ms\tremaining: 521ms\n",
      "78:\tlearn: 0.4265791\ttotal: 337ms\tremaining: 517ms\n",
      "79:\tlearn: 0.4244024\ttotal: 342ms\tremaining: 514ms\n",
      "80:\tlearn: 0.4228361\ttotal: 347ms\tremaining: 510ms\n",
      "81:\tlearn: 0.4214212\ttotal: 351ms\tremaining: 506ms\n",
      "82:\tlearn: 0.4200602\ttotal: 356ms\tremaining: 501ms\n",
      "83:\tlearn: 0.4184320\ttotal: 360ms\tremaining: 498ms\n",
      "84:\tlearn: 0.4167986\ttotal: 365ms\tremaining: 494ms\n",
      "85:\tlearn: 0.4156404\ttotal: 370ms\tremaining: 491ms\n",
      "86:\tlearn: 0.4140656\ttotal: 375ms\tremaining: 487ms\n",
      "87:\tlearn: 0.4124223\ttotal: 380ms\tremaining: 483ms\n",
      "88:\tlearn: 0.4107329\ttotal: 384ms\tremaining: 479ms\n",
      "89:\tlearn: 0.4090922\ttotal: 389ms\tremaining: 475ms\n",
      "90:\tlearn: 0.4075416\ttotal: 394ms\tremaining: 471ms\n",
      "91:\tlearn: 0.4062399\ttotal: 398ms\tremaining: 467ms\n",
      "92:\tlearn: 0.4044658\ttotal: 402ms\tremaining: 463ms\n",
      "93:\tlearn: 0.4030179\ttotal: 408ms\tremaining: 460ms\n",
      "94:\tlearn: 0.4012034\ttotal: 413ms\tremaining: 456ms\n",
      "95:\tlearn: 0.3994677\ttotal: 417ms\tremaining: 452ms\n",
      "96:\tlearn: 0.3983236\ttotal: 422ms\tremaining: 448ms\n",
      "97:\tlearn: 0.3969830\ttotal: 427ms\tremaining: 444ms\n",
      "98:\tlearn: 0.3955620\ttotal: 431ms\tremaining: 440ms\n",
      "99:\tlearn: 0.3946122\ttotal: 436ms\tremaining: 436ms\n",
      "100:\tlearn: 0.3932345\ttotal: 440ms\tremaining: 431ms\n",
      "101:\tlearn: 0.3920746\ttotal: 445ms\tremaining: 427ms\n",
      "102:\tlearn: 0.3911707\ttotal: 449ms\tremaining: 423ms\n",
      "103:\tlearn: 0.3895752\ttotal: 454ms\tremaining: 419ms\n",
      "104:\tlearn: 0.3880976\ttotal: 459ms\tremaining: 415ms\n",
      "105:\tlearn: 0.3867508\ttotal: 463ms\tremaining: 411ms\n",
      "106:\tlearn: 0.3855281\ttotal: 467ms\tremaining: 406ms\n",
      "107:\tlearn: 0.3841015\ttotal: 472ms\tremaining: 402ms\n",
      "108:\tlearn: 0.3829276\ttotal: 476ms\tremaining: 397ms\n",
      "109:\tlearn: 0.3818795\ttotal: 481ms\tremaining: 393ms\n",
      "110:\tlearn: 0.3809667\ttotal: 486ms\tremaining: 390ms\n",
      "111:\tlearn: 0.3790017\ttotal: 491ms\tremaining: 385ms\n",
      "112:\tlearn: 0.3774333\ttotal: 495ms\tremaining: 381ms\n",
      "113:\tlearn: 0.3762372\ttotal: 499ms\tremaining: 377ms\n",
      "114:\tlearn: 0.3750418\ttotal: 503ms\tremaining: 372ms\n",
      "115:\tlearn: 0.3735203\ttotal: 507ms\tremaining: 367ms\n",
      "116:\tlearn: 0.3727671\ttotal: 512ms\tremaining: 363ms\n",
      "117:\tlearn: 0.3713847\ttotal: 516ms\tremaining: 358ms\n",
      "118:\tlearn: 0.3705588\ttotal: 520ms\tremaining: 354ms\n",
      "119:\tlearn: 0.3694386\ttotal: 524ms\tremaining: 349ms\n",
      "120:\tlearn: 0.3687438\ttotal: 528ms\tremaining: 345ms\n",
      "121:\tlearn: 0.3679429\ttotal: 533ms\tremaining: 341ms\n",
      "122:\tlearn: 0.3666192\ttotal: 538ms\tremaining: 337ms\n",
      "123:\tlearn: 0.3654787\ttotal: 542ms\tremaining: 332ms\n",
      "124:\tlearn: 0.3643185\ttotal: 546ms\tremaining: 328ms\n",
      "125:\tlearn: 0.3636195\ttotal: 551ms\tremaining: 324ms\n",
      "126:\tlearn: 0.3625184\ttotal: 556ms\tremaining: 320ms\n",
      "127:\tlearn: 0.3609778\ttotal: 561ms\tremaining: 315ms\n",
      "128:\tlearn: 0.3595979\ttotal: 565ms\tremaining: 311ms\n",
      "129:\tlearn: 0.3583702\ttotal: 569ms\tremaining: 307ms\n",
      "130:\tlearn: 0.3569225\ttotal: 574ms\tremaining: 302ms\n",
      "131:\tlearn: 0.3558535\ttotal: 578ms\tremaining: 298ms\n",
      "132:\tlearn: 0.3548312\ttotal: 582ms\tremaining: 293ms\n",
      "133:\tlearn: 0.3533459\ttotal: 586ms\tremaining: 289ms\n",
      "134:\tlearn: 0.3524239\ttotal: 590ms\tremaining: 284ms\n",
      "135:\tlearn: 0.3517958\ttotal: 595ms\tremaining: 280ms\n",
      "136:\tlearn: 0.3504984\ttotal: 599ms\tremaining: 275ms\n",
      "137:\tlearn: 0.3497339\ttotal: 603ms\tremaining: 271ms\n",
      "138:\tlearn: 0.3488643\ttotal: 607ms\tremaining: 266ms\n",
      "139:\tlearn: 0.3482265\ttotal: 611ms\tremaining: 262ms\n",
      "140:\tlearn: 0.3470774\ttotal: 616ms\tremaining: 258ms\n",
      "141:\tlearn: 0.3458237\ttotal: 620ms\tremaining: 253ms\n",
      "142:\tlearn: 0.3445470\ttotal: 624ms\tremaining: 249ms\n",
      "143:\tlearn: 0.3436377\ttotal: 628ms\tremaining: 244ms\n",
      "144:\tlearn: 0.3426585\ttotal: 632ms\tremaining: 240ms\n",
      "145:\tlearn: 0.3417233\ttotal: 636ms\tremaining: 235ms\n",
      "146:\tlearn: 0.3407541\ttotal: 640ms\tremaining: 231ms\n",
      "147:\tlearn: 0.3397798\ttotal: 644ms\tremaining: 226ms\n",
      "148:\tlearn: 0.3390128\ttotal: 648ms\tremaining: 222ms\n",
      "149:\tlearn: 0.3381272\ttotal: 652ms\tremaining: 217ms\n",
      "150:\tlearn: 0.3374740\ttotal: 656ms\tremaining: 213ms\n",
      "151:\tlearn: 0.3365500\ttotal: 660ms\tremaining: 209ms\n",
      "152:\tlearn: 0.3358489\ttotal: 664ms\tremaining: 204ms\n",
      "153:\tlearn: 0.3346096\ttotal: 668ms\tremaining: 200ms\n",
      "154:\tlearn: 0.3335622\ttotal: 673ms\tremaining: 195ms\n",
      "155:\tlearn: 0.3330435\ttotal: 677ms\tremaining: 191ms\n",
      "156:\tlearn: 0.3323843\ttotal: 681ms\tremaining: 186ms\n",
      "157:\tlearn: 0.3312172\ttotal: 685ms\tremaining: 182ms\n",
      "158:\tlearn: 0.3299437\ttotal: 689ms\tremaining: 178ms\n",
      "159:\tlearn: 0.3286515\ttotal: 693ms\tremaining: 173ms\n",
      "160:\tlearn: 0.3275885\ttotal: 697ms\tremaining: 169ms\n",
      "161:\tlearn: 0.3266739\ttotal: 701ms\tremaining: 164ms\n",
      "162:\tlearn: 0.3258986\ttotal: 705ms\tremaining: 160ms\n",
      "163:\tlearn: 0.3249133\ttotal: 709ms\tremaining: 156ms\n",
      "164:\tlearn: 0.3241480\ttotal: 713ms\tremaining: 151ms\n",
      "165:\tlearn: 0.3237404\ttotal: 718ms\tremaining: 147ms\n",
      "166:\tlearn: 0.3228217\ttotal: 723ms\tremaining: 143ms\n",
      "167:\tlearn: 0.3218088\ttotal: 727ms\tremaining: 139ms\n",
      "168:\tlearn: 0.3209179\ttotal: 733ms\tremaining: 134ms\n",
      "169:\tlearn: 0.3200101\ttotal: 738ms\tremaining: 130ms\n",
      "170:\tlearn: 0.3188984\ttotal: 742ms\tremaining: 126ms\n",
      "171:\tlearn: 0.3178642\ttotal: 747ms\tremaining: 122ms\n",
      "172:\tlearn: 0.3172455\ttotal: 752ms\tremaining: 117ms\n",
      "173:\tlearn: 0.3166261\ttotal: 757ms\tremaining: 113ms\n",
      "174:\tlearn: 0.3157320\ttotal: 761ms\tremaining: 109ms\n",
      "175:\tlearn: 0.3149761\ttotal: 766ms\tremaining: 104ms\n",
      "176:\tlearn: 0.3142430\ttotal: 770ms\tremaining: 100ms\n",
      "177:\tlearn: 0.3138263\ttotal: 774ms\tremaining: 95.7ms\n",
      "178:\tlearn: 0.3133229\ttotal: 778ms\tremaining: 91.3ms\n",
      "179:\tlearn: 0.3124656\ttotal: 782ms\tremaining: 86.9ms\n",
      "180:\tlearn: 0.3114844\ttotal: 787ms\tremaining: 82.6ms\n",
      "181:\tlearn: 0.3109799\ttotal: 791ms\tremaining: 78.2ms\n",
      "182:\tlearn: 0.3105137\ttotal: 795ms\tremaining: 73.9ms\n",
      "183:\tlearn: 0.3094123\ttotal: 799ms\tremaining: 69.5ms\n",
      "184:\tlearn: 0.3087045\ttotal: 803ms\tremaining: 65.1ms\n",
      "185:\tlearn: 0.3079423\ttotal: 807ms\tremaining: 60.8ms\n",
      "186:\tlearn: 0.3071831\ttotal: 812ms\tremaining: 56.4ms\n",
      "187:\tlearn: 0.3061123\ttotal: 815ms\tremaining: 52ms\n",
      "188:\tlearn: 0.3054302\ttotal: 819ms\tremaining: 47.7ms\n",
      "189:\tlearn: 0.3048047\ttotal: 823ms\tremaining: 43.3ms\n",
      "190:\tlearn: 0.3042241\ttotal: 827ms\tremaining: 39ms\n",
      "191:\tlearn: 0.3036602\ttotal: 832ms\tremaining: 34.6ms\n",
      "192:\tlearn: 0.3028507\ttotal: 836ms\tremaining: 30.3ms\n",
      "193:\tlearn: 0.3019733\ttotal: 840ms\tremaining: 26ms\n",
      "194:\tlearn: 0.3009586\ttotal: 844ms\tremaining: 21.6ms\n",
      "195:\tlearn: 0.3001835\ttotal: 848ms\tremaining: 17.3ms\n",
      "196:\tlearn: 0.2999266\ttotal: 851ms\tremaining: 13ms\n",
      "197:\tlearn: 0.2993811\ttotal: 855ms\tremaining: 8.63ms\n",
      "198:\tlearn: 0.2986293\ttotal: 859ms\tremaining: 4.32ms\n",
      "199:\tlearn: 0.2980044\ttotal: 863ms\tremaining: 0us\n"
     ]
    },
    {
     "data": {
      "text/plain": [
       "{'depth': 8, 'iterations': 200, 'learning_rate': 0.01}"
      ]
     },
     "execution_count": 154,
     "metadata": {},
     "output_type": "execute_result"
    }
   ],
   "source": [
    "catb= CatBoostClassifier()\n",
    "catb_cv_model = GridSearchCV(catb, catb_params, cv=5, n_jobs=-1, verbose=2)\n",
    "catb_cv_model.fit(X_train, y_train)\n",
    "catb_cv_model.best_params_"
   ]
  },
  {
   "cell_type": "code",
   "execution_count": 155,
   "id": "e7bdfdb3-1f31-4e51-878e-6ee264fdc593",
   "metadata": {},
   "outputs": [
    {
     "data": {
      "text/plain": [
       "{'depth': 8, 'iterations': 200, 'learning_rate': 0.01}"
      ]
     },
     "execution_count": 155,
     "metadata": {},
     "output_type": "execute_result"
    }
   ],
   "source": [
    "catb_cv_model.best_params_"
   ]
  },
  {
   "cell_type": "code",
   "execution_count": 156,
   "id": "ced7e0c5-bdb0-4643-87fc-3b1025aef439",
   "metadata": {
    "collapsed": true,
    "jupyter": {
     "outputs_hidden": true
    },
    "tags": []
   },
   "outputs": [
    {
     "name": "stdout",
     "output_type": "stream",
     "text": [
      "0:\tlearn: 0.6863312\ttotal: 4.18ms\tremaining: 832ms\n",
      "1:\tlearn: 0.6811157\ttotal: 8.71ms\tremaining: 862ms\n",
      "2:\tlearn: 0.6752970\ttotal: 13ms\tremaining: 857ms\n",
      "3:\tlearn: 0.6697432\ttotal: 17.4ms\tremaining: 852ms\n",
      "4:\tlearn: 0.6641758\ttotal: 21.1ms\tremaining: 823ms\n",
      "5:\tlearn: 0.6576656\ttotal: 24.9ms\tremaining: 805ms\n",
      "6:\tlearn: 0.6521870\ttotal: 29ms\tremaining: 799ms\n",
      "7:\tlearn: 0.6465564\ttotal: 32.9ms\tremaining: 788ms\n",
      "8:\tlearn: 0.6407595\ttotal: 36.6ms\tremaining: 777ms\n",
      "9:\tlearn: 0.6357725\ttotal: 40.5ms\tremaining: 770ms\n",
      "10:\tlearn: 0.6299942\ttotal: 44.6ms\tremaining: 766ms\n",
      "11:\tlearn: 0.6240480\ttotal: 48.5ms\tremaining: 759ms\n",
      "12:\tlearn: 0.6196095\ttotal: 52.4ms\tremaining: 754ms\n",
      "13:\tlearn: 0.6148715\ttotal: 56.6ms\tremaining: 753ms\n",
      "14:\tlearn: 0.6092626\ttotal: 60.5ms\tremaining: 746ms\n",
      "15:\tlearn: 0.6046764\ttotal: 64.7ms\tremaining: 744ms\n",
      "16:\tlearn: 0.6012725\ttotal: 68.7ms\tremaining: 740ms\n",
      "17:\tlearn: 0.5958121\ttotal: 72.8ms\tremaining: 736ms\n",
      "18:\tlearn: 0.5903243\ttotal: 76.8ms\tremaining: 731ms\n",
      "19:\tlearn: 0.5866024\ttotal: 80.9ms\tremaining: 728ms\n",
      "20:\tlearn: 0.5831390\ttotal: 84.8ms\tremaining: 723ms\n",
      "21:\tlearn: 0.5787381\ttotal: 88.8ms\tremaining: 718ms\n",
      "22:\tlearn: 0.5749016\ttotal: 92.8ms\tremaining: 714ms\n",
      "23:\tlearn: 0.5703199\ttotal: 96.9ms\tremaining: 711ms\n",
      "24:\tlearn: 0.5662368\ttotal: 101ms\tremaining: 707ms\n",
      "25:\tlearn: 0.5628682\ttotal: 105ms\tremaining: 704ms\n",
      "26:\tlearn: 0.5589082\ttotal: 110ms\tremaining: 702ms\n",
      "27:\tlearn: 0.5543910\ttotal: 114ms\tremaining: 699ms\n",
      "28:\tlearn: 0.5503864\ttotal: 118ms\tremaining: 698ms\n",
      "29:\tlearn: 0.5470574\ttotal: 123ms\tremaining: 694ms\n",
      "30:\tlearn: 0.5441267\ttotal: 127ms\tremaining: 690ms\n",
      "31:\tlearn: 0.5396280\ttotal: 131ms\tremaining: 685ms\n",
      "32:\tlearn: 0.5356242\ttotal: 135ms\tremaining: 682ms\n",
      "33:\tlearn: 0.5315397\ttotal: 139ms\tremaining: 679ms\n",
      "34:\tlearn: 0.5279847\ttotal: 143ms\tremaining: 674ms\n",
      "35:\tlearn: 0.5248380\ttotal: 147ms\tremaining: 669ms\n",
      "36:\tlearn: 0.5223885\ttotal: 151ms\tremaining: 665ms\n",
      "37:\tlearn: 0.5198269\ttotal: 155ms\tremaining: 662ms\n",
      "38:\tlearn: 0.5167431\ttotal: 159ms\tremaining: 658ms\n",
      "39:\tlearn: 0.5138833\ttotal: 164ms\tremaining: 654ms\n",
      "40:\tlearn: 0.5101494\ttotal: 169ms\tremaining: 654ms\n",
      "41:\tlearn: 0.5066102\ttotal: 173ms\tremaining: 650ms\n",
      "42:\tlearn: 0.5033714\ttotal: 178ms\tremaining: 648ms\n",
      "43:\tlearn: 0.5005898\ttotal: 182ms\tremaining: 645ms\n",
      "44:\tlearn: 0.4980703\ttotal: 186ms\tremaining: 642ms\n",
      "45:\tlearn: 0.4959251\ttotal: 191ms\tremaining: 639ms\n",
      "46:\tlearn: 0.4933987\ttotal: 196ms\tremaining: 638ms\n",
      "47:\tlearn: 0.4906194\ttotal: 201ms\tremaining: 636ms\n",
      "48:\tlearn: 0.4878359\ttotal: 205ms\tremaining: 633ms\n",
      "49:\tlearn: 0.4850755\ttotal: 210ms\tremaining: 629ms\n",
      "50:\tlearn: 0.4825927\ttotal: 214ms\tremaining: 626ms\n",
      "51:\tlearn: 0.4798298\ttotal: 219ms\tremaining: 622ms\n",
      "52:\tlearn: 0.4776108\ttotal: 223ms\tremaining: 617ms\n",
      "53:\tlearn: 0.4754405\ttotal: 227ms\tremaining: 613ms\n",
      "54:\tlearn: 0.4733501\ttotal: 231ms\tremaining: 609ms\n",
      "55:\tlearn: 0.4706076\ttotal: 235ms\tremaining: 604ms\n",
      "56:\tlearn: 0.4677355\ttotal: 239ms\tremaining: 600ms\n",
      "57:\tlearn: 0.4656740\ttotal: 244ms\tremaining: 596ms\n",
      "58:\tlearn: 0.4637413\ttotal: 248ms\tremaining: 592ms\n",
      "59:\tlearn: 0.4615248\ttotal: 252ms\tremaining: 587ms\n",
      "60:\tlearn: 0.4599759\ttotal: 256ms\tremaining: 582ms\n",
      "61:\tlearn: 0.4583985\ttotal: 258ms\tremaining: 573ms\n",
      "62:\tlearn: 0.4567064\ttotal: 262ms\tremaining: 569ms\n",
      "63:\tlearn: 0.4540942\ttotal: 266ms\tremaining: 565ms\n",
      "64:\tlearn: 0.4529822\ttotal: 268ms\tremaining: 556ms\n",
      "65:\tlearn: 0.4512090\ttotal: 272ms\tremaining: 552ms\n",
      "66:\tlearn: 0.4486739\ttotal: 276ms\tremaining: 548ms\n",
      "67:\tlearn: 0.4467865\ttotal: 280ms\tremaining: 544ms\n",
      "68:\tlearn: 0.4449614\ttotal: 284ms\tremaining: 539ms\n",
      "69:\tlearn: 0.4426120\ttotal: 288ms\tremaining: 535ms\n",
      "70:\tlearn: 0.4401612\ttotal: 292ms\tremaining: 531ms\n",
      "71:\tlearn: 0.4380696\ttotal: 296ms\tremaining: 527ms\n",
      "72:\tlearn: 0.4367153\ttotal: 300ms\tremaining: 523ms\n",
      "73:\tlearn: 0.4353223\ttotal: 305ms\tremaining: 519ms\n",
      "74:\tlearn: 0.4339943\ttotal: 309ms\tremaining: 515ms\n",
      "75:\tlearn: 0.4315641\ttotal: 313ms\tremaining: 510ms\n",
      "76:\tlearn: 0.4298680\ttotal: 317ms\tremaining: 506ms\n",
      "77:\tlearn: 0.4285275\ttotal: 321ms\tremaining: 502ms\n",
      "78:\tlearn: 0.4265791\ttotal: 325ms\tremaining: 498ms\n",
      "79:\tlearn: 0.4244024\ttotal: 329ms\tremaining: 494ms\n",
      "80:\tlearn: 0.4228361\ttotal: 333ms\tremaining: 490ms\n",
      "81:\tlearn: 0.4214212\ttotal: 337ms\tremaining: 485ms\n",
      "82:\tlearn: 0.4200602\ttotal: 342ms\tremaining: 482ms\n",
      "83:\tlearn: 0.4184320\ttotal: 346ms\tremaining: 478ms\n",
      "84:\tlearn: 0.4167986\ttotal: 350ms\tremaining: 474ms\n",
      "85:\tlearn: 0.4156404\ttotal: 355ms\tremaining: 471ms\n",
      "86:\tlearn: 0.4140656\ttotal: 360ms\tremaining: 467ms\n",
      "87:\tlearn: 0.4124223\ttotal: 364ms\tremaining: 464ms\n",
      "88:\tlearn: 0.4107329\ttotal: 369ms\tremaining: 460ms\n",
      "89:\tlearn: 0.4090922\ttotal: 374ms\tremaining: 457ms\n",
      "90:\tlearn: 0.4075416\ttotal: 379ms\tremaining: 454ms\n",
      "91:\tlearn: 0.4062399\ttotal: 384ms\tremaining: 450ms\n",
      "92:\tlearn: 0.4044658\ttotal: 388ms\tremaining: 446ms\n",
      "93:\tlearn: 0.4030179\ttotal: 392ms\tremaining: 442ms\n",
      "94:\tlearn: 0.4012034\ttotal: 396ms\tremaining: 438ms\n",
      "95:\tlearn: 0.3994677\ttotal: 401ms\tremaining: 434ms\n",
      "96:\tlearn: 0.3983236\ttotal: 405ms\tremaining: 430ms\n",
      "97:\tlearn: 0.3969830\ttotal: 409ms\tremaining: 426ms\n",
      "98:\tlearn: 0.3955620\ttotal: 413ms\tremaining: 421ms\n",
      "99:\tlearn: 0.3946122\ttotal: 417ms\tremaining: 417ms\n",
      "100:\tlearn: 0.3932345\ttotal: 421ms\tremaining: 413ms\n",
      "101:\tlearn: 0.3920746\ttotal: 425ms\tremaining: 408ms\n",
      "102:\tlearn: 0.3911707\ttotal: 429ms\tremaining: 404ms\n",
      "103:\tlearn: 0.3895752\ttotal: 433ms\tremaining: 400ms\n",
      "104:\tlearn: 0.3880976\ttotal: 437ms\tremaining: 396ms\n",
      "105:\tlearn: 0.3867508\ttotal: 442ms\tremaining: 392ms\n",
      "106:\tlearn: 0.3855281\ttotal: 446ms\tremaining: 387ms\n",
      "107:\tlearn: 0.3841015\ttotal: 450ms\tremaining: 383ms\n",
      "108:\tlearn: 0.3829276\ttotal: 454ms\tremaining: 379ms\n",
      "109:\tlearn: 0.3818795\ttotal: 458ms\tremaining: 375ms\n",
      "110:\tlearn: 0.3809667\ttotal: 462ms\tremaining: 371ms\n",
      "111:\tlearn: 0.3790017\ttotal: 466ms\tremaining: 366ms\n",
      "112:\tlearn: 0.3774333\ttotal: 471ms\tremaining: 362ms\n",
      "113:\tlearn: 0.3762372\ttotal: 475ms\tremaining: 358ms\n",
      "114:\tlearn: 0.3750418\ttotal: 479ms\tremaining: 354ms\n",
      "115:\tlearn: 0.3735203\ttotal: 483ms\tremaining: 350ms\n",
      "116:\tlearn: 0.3727671\ttotal: 487ms\tremaining: 345ms\n",
      "117:\tlearn: 0.3713847\ttotal: 491ms\tremaining: 341ms\n",
      "118:\tlearn: 0.3705588\ttotal: 495ms\tremaining: 337ms\n",
      "119:\tlearn: 0.3694386\ttotal: 499ms\tremaining: 333ms\n",
      "120:\tlearn: 0.3687438\ttotal: 503ms\tremaining: 328ms\n",
      "121:\tlearn: 0.3679429\ttotal: 507ms\tremaining: 324ms\n",
      "122:\tlearn: 0.3666192\ttotal: 511ms\tremaining: 320ms\n",
      "123:\tlearn: 0.3654787\ttotal: 516ms\tremaining: 316ms\n",
      "124:\tlearn: 0.3643185\ttotal: 520ms\tremaining: 312ms\n",
      "125:\tlearn: 0.3636195\ttotal: 524ms\tremaining: 308ms\n",
      "126:\tlearn: 0.3625184\ttotal: 529ms\tremaining: 304ms\n",
      "127:\tlearn: 0.3609778\ttotal: 533ms\tremaining: 300ms\n",
      "128:\tlearn: 0.3595979\ttotal: 537ms\tremaining: 296ms\n",
      "129:\tlearn: 0.3583702\ttotal: 541ms\tremaining: 291ms\n",
      "130:\tlearn: 0.3569225\ttotal: 546ms\tremaining: 288ms\n",
      "131:\tlearn: 0.3558535\ttotal: 551ms\tremaining: 284ms\n",
      "132:\tlearn: 0.3548312\ttotal: 556ms\tremaining: 280ms\n",
      "133:\tlearn: 0.3533459\ttotal: 561ms\tremaining: 276ms\n",
      "134:\tlearn: 0.3524239\ttotal: 566ms\tremaining: 272ms\n",
      "135:\tlearn: 0.3517958\ttotal: 571ms\tremaining: 269ms\n",
      "136:\tlearn: 0.3504984\ttotal: 575ms\tremaining: 264ms\n",
      "137:\tlearn: 0.3497339\ttotal: 579ms\tremaining: 260ms\n",
      "138:\tlearn: 0.3488643\ttotal: 584ms\tremaining: 256ms\n",
      "139:\tlearn: 0.3482265\ttotal: 588ms\tremaining: 252ms\n",
      "140:\tlearn: 0.3470774\ttotal: 593ms\tremaining: 248ms\n",
      "141:\tlearn: 0.3458237\ttotal: 597ms\tremaining: 244ms\n",
      "142:\tlearn: 0.3445470\ttotal: 602ms\tremaining: 240ms\n",
      "143:\tlearn: 0.3436377\ttotal: 606ms\tremaining: 236ms\n",
      "144:\tlearn: 0.3426585\ttotal: 610ms\tremaining: 231ms\n",
      "145:\tlearn: 0.3417233\ttotal: 614ms\tremaining: 227ms\n",
      "146:\tlearn: 0.3407541\ttotal: 618ms\tremaining: 223ms\n",
      "147:\tlearn: 0.3397798\ttotal: 623ms\tremaining: 219ms\n",
      "148:\tlearn: 0.3390128\ttotal: 627ms\tremaining: 215ms\n",
      "149:\tlearn: 0.3381272\ttotal: 631ms\tremaining: 210ms\n",
      "150:\tlearn: 0.3374740\ttotal: 635ms\tremaining: 206ms\n",
      "151:\tlearn: 0.3365500\ttotal: 638ms\tremaining: 202ms\n",
      "152:\tlearn: 0.3358489\ttotal: 642ms\tremaining: 197ms\n",
      "153:\tlearn: 0.3346096\ttotal: 646ms\tremaining: 193ms\n",
      "154:\tlearn: 0.3335622\ttotal: 651ms\tremaining: 189ms\n",
      "155:\tlearn: 0.3330435\ttotal: 655ms\tremaining: 185ms\n",
      "156:\tlearn: 0.3323843\ttotal: 659ms\tremaining: 180ms\n",
      "157:\tlearn: 0.3312172\ttotal: 663ms\tremaining: 176ms\n",
      "158:\tlearn: 0.3299437\ttotal: 667ms\tremaining: 172ms\n",
      "159:\tlearn: 0.3286515\ttotal: 671ms\tremaining: 168ms\n",
      "160:\tlearn: 0.3275885\ttotal: 675ms\tremaining: 164ms\n",
      "161:\tlearn: 0.3266739\ttotal: 679ms\tremaining: 159ms\n",
      "162:\tlearn: 0.3258986\ttotal: 684ms\tremaining: 155ms\n",
      "163:\tlearn: 0.3249133\ttotal: 688ms\tremaining: 151ms\n",
      "164:\tlearn: 0.3241480\ttotal: 692ms\tremaining: 147ms\n",
      "165:\tlearn: 0.3237404\ttotal: 696ms\tremaining: 143ms\n",
      "166:\tlearn: 0.3228217\ttotal: 700ms\tremaining: 138ms\n",
      "167:\tlearn: 0.3218088\ttotal: 705ms\tremaining: 134ms\n",
      "168:\tlearn: 0.3209179\ttotal: 709ms\tremaining: 130ms\n",
      "169:\tlearn: 0.3200101\ttotal: 713ms\tremaining: 126ms\n",
      "170:\tlearn: 0.3188984\ttotal: 717ms\tremaining: 122ms\n",
      "171:\tlearn: 0.3178642\ttotal: 721ms\tremaining: 117ms\n",
      "172:\tlearn: 0.3172455\ttotal: 725ms\tremaining: 113ms\n",
      "173:\tlearn: 0.3166261\ttotal: 730ms\tremaining: 109ms\n",
      "174:\tlearn: 0.3157320\ttotal: 735ms\tremaining: 105ms\n",
      "175:\tlearn: 0.3149761\ttotal: 739ms\tremaining: 101ms\n",
      "176:\tlearn: 0.3142430\ttotal: 744ms\tremaining: 96.7ms\n",
      "177:\tlearn: 0.3138263\ttotal: 749ms\tremaining: 92.5ms\n",
      "178:\tlearn: 0.3133229\ttotal: 753ms\tremaining: 88.4ms\n",
      "179:\tlearn: 0.3124656\ttotal: 758ms\tremaining: 84.3ms\n",
      "180:\tlearn: 0.3114844\ttotal: 763ms\tremaining: 80.1ms\n",
      "181:\tlearn: 0.3109799\ttotal: 767ms\tremaining: 75.9ms\n",
      "182:\tlearn: 0.3105137\ttotal: 771ms\tremaining: 71.6ms\n",
      "183:\tlearn: 0.3094123\ttotal: 776ms\tremaining: 67.5ms\n",
      "184:\tlearn: 0.3087045\ttotal: 780ms\tremaining: 63.3ms\n",
      "185:\tlearn: 0.3079423\ttotal: 786ms\tremaining: 59.2ms\n",
      "186:\tlearn: 0.3071831\ttotal: 791ms\tremaining: 55ms\n",
      "187:\tlearn: 0.3061123\ttotal: 795ms\tremaining: 50.7ms\n",
      "188:\tlearn: 0.3054302\ttotal: 798ms\tremaining: 46.5ms\n",
      "189:\tlearn: 0.3048047\ttotal: 802ms\tremaining: 42.2ms\n",
      "190:\tlearn: 0.3042241\ttotal: 806ms\tremaining: 38ms\n",
      "191:\tlearn: 0.3036602\ttotal: 811ms\tremaining: 33.8ms\n",
      "192:\tlearn: 0.3028507\ttotal: 815ms\tremaining: 29.5ms\n",
      "193:\tlearn: 0.3019733\ttotal: 819ms\tremaining: 25.3ms\n",
      "194:\tlearn: 0.3009586\ttotal: 823ms\tremaining: 21.1ms\n",
      "195:\tlearn: 0.3001835\ttotal: 827ms\tremaining: 16.9ms\n",
      "196:\tlearn: 0.2999266\ttotal: 830ms\tremaining: 12.6ms\n",
      "197:\tlearn: 0.2993811\ttotal: 834ms\tremaining: 8.42ms\n",
      "198:\tlearn: 0.2986293\ttotal: 838ms\tremaining: 4.21ms\n",
      "199:\tlearn: 0.2980044\ttotal: 842ms\tremaining: 0us\n"
     ]
    }
   ],
   "source": [
    "catb = CatBoostClassifier(iterations = 200, learning_rate=0.01, depth = 8)\n",
    "catb_tuned = catb.fit(X_train, y_train)\n",
    "y_pred = catb_tuned.predict(X_test)"
   ]
  },
  {
   "cell_type": "code",
   "execution_count": 157,
   "id": "5986f3c4-ebb7-4602-9339-c1d88c647471",
   "metadata": {},
   "outputs": [
    {
     "data": {
      "text/plain": [
       "0.7532467532467533"
      ]
     },
     "execution_count": 157,
     "metadata": {},
     "output_type": "execute_result"
    }
   ],
   "source": [
    "y_pred = catb_tuned.predict(X_test)\n",
    "accuracy_score(y_test,y_pred)"
   ]
  },
  {
   "cell_type": "markdown",
   "id": "d6292618-f218-43e6-a106-52a89d3e50a2",
   "metadata": {},
   "source": [
    "## Tüm Modellerin Karşılaştırılması"
   ]
  },
  {
   "cell_type": "code",
   "execution_count": 158,
   "id": "5ae66ea1-6098-4437-a145-005a4e254e6e",
   "metadata": {},
   "outputs": [
    {
     "name": "stdout",
     "output_type": "stream",
     "text": [
      "----------------------------\n",
      "KNeighborsClassifier:\n",
      "Accuracy: 73.1602%\n",
      "----------------------------\n",
      "LogisticRegression:\n",
      "Accuracy: 75.3247%\n",
      "----------------------------\n",
      "SVC:\n",
      "Accuracy: 73.5931%\n",
      "----------------------------\n",
      "GaussianNB:\n",
      "Accuracy: 74.4589%\n",
      "----------------------------\n",
      "MLPClassifier:\n",
      "Accuracy: 35.4978%\n",
      "----------------------------\n",
      "DecisionTreeClassifier:\n",
      "Accuracy: 75.3247%\n",
      "----------------------------\n",
      "RandomForestClassifier:\n",
      "Accuracy: 73.5931%\n",
      "----------------------------\n",
      "GradientBoostingClassifier:\n",
      "Accuracy: 74.4589%\n",
      "----------------------------\n",
      "CatBoostClassifier:\n",
      "Accuracy: 75.3247%\n",
      "----------------------------\n",
      "LGBMClassifier:\n",
      "Accuracy: 72.2944%\n",
      "----------------------------\n",
      "XGBClassifier:\n",
      "Accuracy: 75.7576%\n"
     ]
    }
   ],
   "source": [
    "modeller = [knn_tuned,\n",
    "            loj_model,\n",
    "            svc_tuned,\n",
    "            nb_model,\n",
    "            mlpc_tuned,\n",
    "            cart_tuned,\n",
    "            rf_tuned,\n",
    "            gbm_tuned,\n",
    "            catb_tuned,\n",
    "            lgbm_tuned,\n",
    "            xgb_tuned]\n",
    "\n",
    "for model in modeller:\n",
    "    isimler = model.__class__.__name__\n",
    "    y_pred = model.predict(X_test)\n",
    "    dogruluk = accuracy_score(y_test,y_pred)\n",
    "    print(\"-\"*28)\n",
    "    print(isimler+ \":\")\n",
    "    print(\"Accuracy: {:.4%}\".format(dogruluk))\n",
    "    "
   ]
  },
  {
   "cell_type": "code",
   "execution_count": 159,
   "id": "03e6332f-da67-45b5-8f08-26e2078d2583",
   "metadata": {},
   "outputs": [
    {
     "data": {
      "image/png": "[encoded data removed]",
      "text/plain": [
       "<Figure size 432x288 with 1 Axes>"
      ]
     },
     "metadata": {
      "needs_background": "light"
     },
     "output_type": "display_data"
    }
   ],
   "source": [
    "sonuc = []\n",
    "\n",
    "sonuclar = pd.DataFrame(columns=[\"Modeller\",\"Accuracy\"])\n",
    "\n",
    "for model in modeller:\n",
    "    isimler = model.__class__.__name__\n",
    "    y_pred = model.predict(X_test)\n",
    "    dogruluk = accuracy_score(y_test,y_pred)\n",
    "    sonuc = pd.DataFrame([[isimler,dogruluk*100]], columns=[\"Modeller\",\"Accuracy\"])\n",
    "    sonuclar= sonuc.append(sonuc)\n",
    "    \n",
    "sns.barplot(x=\"Accuracy\", y=\"Modeller\",data=sonuclar, color=\"r\")\n",
    "plt.xlabel(\"Accuracy %\")\n",
    "plt.title(\"Modellerin Doğruluk Oranı\");"
   ]
  },
  {
   "cell_type": "code",
   "execution_count": null,
   "id": "e3343092-c0d0-421d-b60c-83eafcc03e9f",
   "metadata": {},
   "outputs": [],
   "source": []
  }
 ],
 "metadata": {
  "kernelspec": {
   "display_name": "Python 3 (ipykernel)",
   "language": "python",
   "name": "python3"
  },
  "language_info": {
   "codemirror_mode": {
    "name": "ipython",
    "version": 3
   },
   "file_extension": ".py",
   "mimetype": "text/x-python",
   "name": "python",
   "nbconvert_exporter": "python",
   "pygments_lexer": "ipython3",
   "version": "3.9.12"
  }
 },
 "nbformat": 4,
 "nbformat_minor": 5
}
