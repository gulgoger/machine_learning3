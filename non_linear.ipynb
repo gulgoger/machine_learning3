{
 "cells": [
  {
   "cell_type": "markdown",
   "id": "5d968f1a-f684-4787-803a-66b6146fefb2",
   "metadata": {},
   "source": [
    "## Doğrusal Olmayan Regresyon"
   ]
  },
  {
   "cell_type": "code",
   "execution_count": 1,
   "id": "b5ac0bdb-c065-4a20-a16a-fd8e22f53a56",
   "metadata": {},
   "outputs": [],
   "source": [
    "import numpy as np\n",
    "import pandas as pd\n",
    "from sklearn.model_selection import train_test_split, ShuffleSplit, GridSearchCV, cross_val_score\n",
    "from sklearn.metrics import mean_squared_error,r2_score\n",
    "import matplotlib.pyplot as plt\n",
    "from sklearn.preprocessing import scale\n",
    "from sklearn import model_selection\n",
    "from sklearn.tree import DecisionTreeRegressor, DecisionTreeClassifier\n",
    "from sklearn.neighbors import KNeighborsRegressor\n",
    "from sklearn.ensemble import BaggingRegressor\n",
    "from warnings import filterwarnings\n",
    "filterwarnings(\"ignore\")"
   ]
  },
  {
   "cell_type": "markdown",
   "id": "171ec44b-4c83-4442-8802-85d189bb54b8",
   "metadata": {},
   "source": [
    "## KNN"
   ]
  },
  {
   "cell_type": "code",
   "execution_count": 2,
   "id": "bf69bcb1-30cc-4e00-b706-120009c4e1f0",
   "metadata": {},
   "outputs": [],
   "source": [
    "hit = pd.read_csv(\"Hitters.csv\")\n",
    "df = hit.copy()\n",
    "df = df.dropna()\n",
    "dms = pd.get_dummies(df[[\"League\",\"Division\",\"NewLeague\"]])\n",
    "y = df[\"Salary\"]\n",
    "X_ = df.drop([\"Salary\",\"League\",\"Division\",\"NewLeague\"], axis=1).astype(\"float64\")\n",
    "X = pd.concat([X_, dms[[\"League_N\", \"Division_W\",\"NewLeague_N\"]]], axis=1)\n",
    "X_train, X_test, y_train, y_test = train_test_split(X,y,test_size =0.25, random_state=42)"
   ]
  },
  {
   "cell_type": "code",
   "execution_count": 3,
   "id": "ef205e93-788d-4afc-862a-372d79e308b4",
   "metadata": {},
   "outputs": [],
   "source": [
    "knn_model = KNeighborsRegressor().fit(X_train,y_train)"
   ]
  },
  {
   "cell_type": "code",
   "execution_count": 4,
   "id": "ac4e08a6-6360-4822-b503-cc8b7227883a",
   "metadata": {},
   "outputs": [
    {
     "data": {
      "text/plain": [
       "KNeighborsRegressor()"
      ]
     },
     "execution_count": 4,
     "metadata": {},
     "output_type": "execute_result"
    }
   ],
   "source": [
    "knn_model"
   ]
  },
  {
   "cell_type": "code",
   "execution_count": 5,
   "id": "b6cc8a81-61c3-4c31-a251-ea79e7c58626",
   "metadata": {},
   "outputs": [
    {
     "data": {
      "text/plain": [
       "5"
      ]
     },
     "execution_count": 5,
     "metadata": {},
     "output_type": "execute_result"
    }
   ],
   "source": [
    "knn_model.n_neighbors"
   ]
  },
  {
   "cell_type": "markdown",
   "id": "04b8b88a-8c08-4d7a-bb81-c4ea7afb64b2",
   "metadata": {},
   "source": [
    "## Tahmin"
   ]
  },
  {
   "cell_type": "code",
   "execution_count": 6,
   "id": "fc8d28d0-ac6c-4498-adf4-0c6d263f4d3f",
   "metadata": {},
   "outputs": [],
   "source": [
    "y_pred = knn_model.predict(X_test)"
   ]
  },
  {
   "cell_type": "code",
   "execution_count": 7,
   "id": "1ec0f0a1-419e-4df4-99a0-72be3f59ccca",
   "metadata": {},
   "outputs": [
    {
     "data": {
      "text/plain": [
       "426.6570764525201"
      ]
     },
     "execution_count": 7,
     "metadata": {},
     "output_type": "execute_result"
    }
   ],
   "source": [
    "np.sqrt(mean_squared_error(y_test,y_pred))"
   ]
  },
  {
   "cell_type": "code",
   "execution_count": 8,
   "id": "49d50f50-71a4-45a5-9f1e-834c8aaf74c7",
   "metadata": {},
   "outputs": [
    {
     "name": "stdout",
     "output_type": "stream",
     "text": [
      "k =  1 için RMSE değeri:  0.0\n",
      "k =  2 için RMSE değeri:  179.52761335480352\n",
      "k =  3 için RMSE değeri:  205.20157172291863\n",
      "k =  4 için RMSE değeri:  220.5139794876305\n",
      "k =  5 için RMSE değeri:  239.6467132541376\n",
      "k =  6 için RMSE değeri:  243.5904190007242\n",
      "k =  7 için RMSE değeri:  258.1478781634636\n",
      "k =  8 için RMSE değeri:  266.05374203349805\n",
      "k =  9 için RMSE değeri:  269.73782093553376\n",
      "k =  10 için RMSE değeri:  271.2798300436963\n"
     ]
    }
   ],
   "source": [
    "RMSE = []\n",
    "\n",
    "for k in range(10):\n",
    "    k = k+1\n",
    "    knn_model = KNeighborsRegressor(n_neighbors=k).fit(X_train,y_train)\n",
    "    y_pred =  knn_model.predict(X_train)\n",
    "    rmse = np.sqrt(mean_squared_error(y_train,y_pred))\n",
    "    RMSE.append(rmse)\n",
    "    print(\"k = \",k, \"için RMSE değeri: \", rmse)\n",
    "    "
   ]
  },
  {
   "cell_type": "markdown",
   "id": "7e1f6d26-34b1-4060-bfd7-fab6e0e57789",
   "metadata": {},
   "source": [
    "## Model Tuning"
   ]
  },
  {
   "cell_type": "code",
   "execution_count": 9,
   "id": "4b114a3d-edfb-43d2-b622-3c2823361bd3",
   "metadata": {},
   "outputs": [],
   "source": [
    "from sklearn.model_selection import GridSearchCV"
   ]
  },
  {
   "cell_type": "code",
   "execution_count": 10,
   "id": "ce3fa9cd-bc76-4e75-907c-0ab412b4e046",
   "metadata": {},
   "outputs": [],
   "source": [
    "knn_params = {\"n_neighbors\" : np.arange(1,30,1)}"
   ]
  },
  {
   "cell_type": "code",
   "execution_count": 11,
   "id": "f13176c3-57c0-4086-a88b-2b54a6e89be4",
   "metadata": {},
   "outputs": [],
   "source": [
    "knn = KNeighborsRegressor()"
   ]
  },
  {
   "cell_type": "code",
   "execution_count": 12,
   "id": "aff0e4a3-2f96-45ef-978b-88f69336bcdc",
   "metadata": {},
   "outputs": [],
   "source": [
    "knn_cv_model = GridSearchCV(knn, knn_params, cv=10)"
   ]
  },
  {
   "cell_type": "code",
   "execution_count": 13,
   "id": "ffbf8c21-108f-4c62-b476-24236686db00",
   "metadata": {},
   "outputs": [
    {
     "data": {
      "text/plain": [
       "GridSearchCV(cv=10, estimator=KNeighborsRegressor(),\n",
       "             param_grid={'n_neighbors': array([ 1,  2,  3,  4,  5,  6,  7,  8,  9, 10, 11, 12, 13, 14, 15, 16, 17,\n",
       "       18, 19, 20, 21, 22, 23, 24, 25, 26, 27, 28, 29])})"
      ]
     },
     "execution_count": 13,
     "metadata": {},
     "output_type": "execute_result"
    }
   ],
   "source": [
    "knn_cv_model.fit(X_train,y_train)"
   ]
  },
  {
   "cell_type": "code",
   "execution_count": 14,
   "id": "38732c35-51bd-4a7d-ac02-c83c2375784c",
   "metadata": {},
   "outputs": [
    {
     "data": {
      "text/plain": [
       "8"
      ]
     },
     "execution_count": 14,
     "metadata": {},
     "output_type": "execute_result"
    }
   ],
   "source": [
    "knn_cv_model.best_params_[\"n_neighbors\"]"
   ]
  },
  {
   "cell_type": "code",
   "execution_count": 15,
   "id": "34cdb3eb-d49d-4fa3-91f5-f0c0da79217d",
   "metadata": {},
   "outputs": [
    {
     "name": "stdout",
     "output_type": "stream",
     "text": [
      "k = 1 için RMSE değeri:  0.0 RMSE_CV değeri:  325.3947514706382\n",
      "k = 2 için RMSE değeri:  179.52761335480352 RMSE_CV değeri:  293.24000183333817\n",
      "k = 3 için RMSE değeri:  205.20157172291863 RMSE_CV değeri:  283.7486667487823\n",
      "k = 4 için RMSE değeri:  220.5139794876305 RMSE_CV değeri:  286.3240222024089\n",
      "k = 5 için RMSE değeri:  239.6467132541376 RMSE_CV değeri:  290.0705466132226\n",
      "k = 6 için RMSE değeri:  243.5904190007242 RMSE_CV değeri:  298.1263115575851\n",
      "k = 7 için RMSE değeri:  258.1478781634636 RMSE_CV değeri:  294.77070479194987\n",
      "k = 8 için RMSE değeri:  266.05374203349805 RMSE_CV değeri:  291.98672028891235\n",
      "k = 9 için RMSE değeri:  269.73782093553376 RMSE_CV değeri:  295.7162739573105\n",
      "k = 10 için RMSE değeri:  271.2798300436963 RMSE_CV değeri:  301.31047022701154\n"
     ]
    }
   ],
   "source": [
    "RMSE = [] \n",
    "RMSE_CV = []\n",
    "for k in range(10):\n",
    "    k = k+1\n",
    "    knn_model = KNeighborsRegressor(n_neighbors = k).fit(X_train, y_train)\n",
    "    y_pred = knn_model.predict(X_train) \n",
    "    rmse = np.sqrt(mean_squared_error(y_train,y_pred)) \n",
    "    rmse_cv = np.sqrt(-1*cross_val_score(knn_model, X_train, y_train, cv=10, \n",
    "                                         scoring = \"neg_mean_squared_error\").mean())\n",
    "    RMSE.append(rmse) \n",
    "    RMSE_CV.append(rmse_cv)\n",
    "    print(\"k =\" , k , \"için RMSE değeri: \", rmse, \"RMSE_CV değeri: \", rmse_cv )"
   ]
  },
  {
   "cell_type": "code",
   "execution_count": 16,
   "id": "2c7f5eec-04ab-4cf5-b6a3-203d7889f5da",
   "metadata": {},
   "outputs": [],
   "source": [
    "knn_tuned = KNeighborsRegressor(n_neighbors= knn_cv_model.best_params_[\"n_neighbors\"])"
   ]
  },
  {
   "cell_type": "code",
   "execution_count": 17,
   "id": "6fd514a0-7121-4646-aa10-3db181e31ef5",
   "metadata": {},
   "outputs": [
    {
     "data": {
      "text/plain": [
       "KNeighborsRegressor(n_neighbors=8)"
      ]
     },
     "execution_count": 17,
     "metadata": {},
     "output_type": "execute_result"
    }
   ],
   "source": [
    "knn_tuned.fit(X_train,y_train)"
   ]
  },
  {
   "cell_type": "code",
   "execution_count": 18,
   "id": "814578b8-800b-4702-a254-75ce173a672e",
   "metadata": {},
   "outputs": [
    {
     "data": {
      "text/plain": [
       "413.7094731463598"
      ]
     },
     "execution_count": 18,
     "metadata": {},
     "output_type": "execute_result"
    }
   ],
   "source": [
    "np.sqrt(mean_squared_error(y_test,knn_tuned.predict(X_test)))"
   ]
  },
  {
   "cell_type": "markdown",
   "id": "62595928-a81c-4bbd-9ab1-0d4ca7b96246",
   "metadata": {},
   "source": [
    "## SVR (Support vector regression)"
   ]
  },
  {
   "cell_type": "code",
   "execution_count": 19,
   "id": "f1c3180e-c56c-4a89-9740-bbaf9c61b8c8",
   "metadata": {},
   "outputs": [],
   "source": [
    "hit = pd.read_csv(\"Hitters.csv\")\n",
    "df = hit.copy()\n",
    "df = df.dropna()\n",
    "dms = pd.get_dummies(df[[\"League\",\"Division\",\"NewLeague\"]])\n",
    "y = df[\"Salary\"]\n",
    "X_ = df.drop([\"Salary\",\"League\",\"Division\",\"NewLeague\"], axis=1).astype(\"float64\")\n",
    "X = pd.concat([X_, dms[[\"League_N\", \"Division_W\",\"NewLeague_N\"]]], axis=1)\n",
    "X_train, X_test, y_train, y_test = train_test_split(X,y,test_size =0.25, random_state=42)"
   ]
  },
  {
   "cell_type": "code",
   "execution_count": 20,
   "id": "2dd42335-2a23-4034-ba9a-d44c1422fa02",
   "metadata": {},
   "outputs": [],
   "source": [
    "X_train = pd.DataFrame(X_train[\"Hits\"]).values\n",
    "X_test = pd.DataFrame(X_test[\"Hits\"]).values"
   ]
  },
  {
   "cell_type": "code",
   "execution_count": 21,
   "id": "95513a66-4e7e-42ae-b48e-a32a015022a6",
   "metadata": {},
   "outputs": [],
   "source": [
    "from sklearn.svm import SVR"
   ]
  },
  {
   "cell_type": "code",
   "execution_count": 22,
   "id": "3b3c1cb0-3110-4851-96df-126d902d2990",
   "metadata": {},
   "outputs": [],
   "source": [
    "svr_model = SVR(kernel='linear').fit(X_train,y_train)"
   ]
  },
  {
   "cell_type": "code",
   "execution_count": 23,
   "id": "26ddddf1-3315-4599-99a2-50f49a773fa2",
   "metadata": {},
   "outputs": [
    {
     "data": {
      "text/plain": [
       "array([403.52804878, 666.91219512, 706.66829268, 194.80853659,\n",
       "       423.40609756])"
      ]
     },
     "execution_count": 23,
     "metadata": {},
     "output_type": "execute_result"
    }
   ],
   "source": [
    "svr_model.predict(X_train)[0:5]"
   ]
  },
  {
   "cell_type": "code",
   "execution_count": 24,
   "id": "86fc712f-1681-4dfb-aaaa-e433a34dd02a",
   "metadata": {},
   "outputs": [
    {
     "name": "stdout",
     "output_type": "stream",
     "text": [
      "y = -48.69756097561513 + 4.969512195122093 x\n"
     ]
    }
   ],
   "source": [
    "print(\"y = {0} + {1} x\".format(svr_model.intercept_[0], svr_model.coef_[0][0]))"
   ]
  },
  {
   "cell_type": "code",
   "execution_count": 25,
   "id": "1b8ae5de-58fe-40d1-8caf-fb864b329644",
   "metadata": {},
   "outputs": [],
   "source": [
    "y_pred = svr_model.predict(X_train)"
   ]
  },
  {
   "cell_type": "code",
   "execution_count": 26,
   "id": "9be5898a-a5c9-416e-9099-a735090d429f",
   "metadata": {},
   "outputs": [
    {
     "data": {
      "text/plain": [
       "[<matplotlib.lines.Line2D at 0x28d1f7389d0>]"
      ]
     },
     "execution_count": 26,
     "metadata": {},
     "output_type": "execute_result"
    },
    {
     "data": {
      "image/png": "[encoded data removed]",
      "text/plain": [
       "<Figure size 432x288 with 1 Axes>"
      ]
     },
     "metadata": {
      "needs_background": "light"
     },
     "output_type": "display_data"
    }
   ],
   "source": [
    "plt.scatter(X_train,y_train)\n",
    "plt.plot(X_train,y_pred, color=\"r\")"
   ]
  },
  {
   "cell_type": "code",
   "execution_count": 27,
   "id": "58751a38-71fa-4c40-b23a-778b38e6baa9",
   "metadata": {},
   "outputs": [
    {
     "name": "stdout",
     "output_type": "stream",
     "text": [
      "y = -8.814095480334572 + 5.1724561354706875 x\n"
     ]
    }
   ],
   "source": [
    "from sklearn.linear_model import LinearRegression\n",
    "lm_model = LinearRegression().fit(X_train, y_train)\n",
    "lm_pred = lm_model.predict(X_train)\n",
    "print(\"y = {0} + {1} x\".format(lm_model.intercept_, lm_model.coef_[0]))"
   ]
  },
  {
   "cell_type": "code",
   "execution_count": 28,
   "id": "47413cc9-015d-45f4-9a75-ee8c70b60f64",
   "metadata": {},
   "outputs": [
    {
     "data": {
      "text/plain": [
       "Text(0, 0.5, 'Maaş(Salary)')"
      ]
     },
     "execution_count": 28,
     "metadata": {},
     "output_type": "execute_result"
    },
    {
     "data": {
      "image/png": "[encoded data removed]",
      "text/plain": [
       "<Figure size 432x288 with 1 Axes>"
      ]
     },
     "metadata": {
      "needs_background": "light"
     },
     "output_type": "display_data"
    }
   ],
   "source": [
    "plt.scatter(X_train,y_train, alpha=0.5, s=23)\n",
    "plt.plot(X_train, lm_pred, \"g\")\n",
    "plt.plot(X_train, y_pred, color=\"r\")\n",
    "\n",
    "plt.xlabel(\"Atış Sayısı(Hits)\")\n",
    "plt.ylabel(\"Maaş(Salary)\")"
   ]
  },
  {
   "cell_type": "markdown",
   "id": "1723c173-14ec-44b5-9d03-4abffa054b93",
   "metadata": {},
   "source": [
    "## Tahmin"
   ]
  },
  {
   "cell_type": "code",
   "execution_count": 29,
   "id": "fbf6475a-f683-4613-ad6d-e9b520a0a7da",
   "metadata": {},
   "outputs": [
    {
     "name": "stdout",
     "output_type": "stream",
     "text": [
      "y = -48.69756097561513 + 4.969512195122093 x\n"
     ]
    }
   ],
   "source": [
    "print(\"y = {0} + {1} x\".format(svr_model.intercept_[0], svr_model.coef_[0][0]))"
   ]
  },
  {
   "cell_type": "code",
   "execution_count": 30,
   "id": "3c462ed4-2f78-4da9-a923-0ffb11274c1b",
   "metadata": {},
   "outputs": [
    {
     "data": {
      "text/plain": [
       "array([403.52804878])"
      ]
     },
     "execution_count": 30,
     "metadata": {},
     "output_type": "execute_result"
    }
   ],
   "source": [
    "svr_model.predict([[91]])"
   ]
  },
  {
   "cell_type": "code",
   "execution_count": 31,
   "id": "9b711768-22e4-4a44-8267-789432f5959c",
   "metadata": {},
   "outputs": [],
   "source": [
    "y_pred = svr_model.predict(X_test)"
   ]
  },
  {
   "cell_type": "code",
   "execution_count": 32,
   "id": "94d6d545-02b6-4c39-b143-96d9536d5a8f",
   "metadata": {},
   "outputs": [
    {
     "data": {
      "text/plain": [
       "459.0187960365147"
      ]
     },
     "execution_count": 32,
     "metadata": {},
     "output_type": "execute_result"
    }
   ],
   "source": [
    "np.sqrt(mean_squared_error(y_test, y_pred))"
   ]
  },
  {
   "cell_type": "markdown",
   "id": "0ab675e5-d613-40be-9e03-59db8e647d15",
   "metadata": {},
   "source": [
    "## Model Tuning"
   ]
  },
  {
   "cell_type": "code",
   "execution_count": 33,
   "id": "3783ec43-db6b-41f5-ac3c-f5a84fd014a8",
   "metadata": {},
   "outputs": [],
   "source": [
    "svr_params = {\"C\": np.arange(0.1,2,0.1)}\n",
    "svr_cv_model = GridSearchCV(svr_model,svr_params,cv=10).fit(X_train,y_train)"
   ]
  },
  {
   "cell_type": "code",
   "execution_count": 34,
   "id": "415289fe-64c4-4542-bb36-0b952b6cbd5e",
   "metadata": {},
   "outputs": [
    {
     "data": {
      "text/plain": [
       "0.1"
      ]
     },
     "execution_count": 34,
     "metadata": {},
     "output_type": "execute_result"
    }
   ],
   "source": [
    "pd.Series(svr_cv_model.best_params_)[0]"
   ]
  },
  {
   "cell_type": "code",
   "execution_count": 35,
   "id": "54e6b2c5-3b0c-4157-8cc0-fb517d9b7d28",
   "metadata": {},
   "outputs": [],
   "source": [
    "svr_tuned = SVR(kernel = \"linear\", C = pd.Series(svr_cv_model.best_params_)[0]).fit(X_train, y_train)"
   ]
  },
  {
   "cell_type": "code",
   "execution_count": 36,
   "id": "fb0cf1b6-a144-4bd1-b905-a5a7da1d03e7",
   "metadata": {},
   "outputs": [],
   "source": [
    "y_pred = svr_tuned.predict(X_test)"
   ]
  },
  {
   "cell_type": "code",
   "execution_count": 37,
   "id": "7d9fbebe-83a6-446c-a379-4cb35dfcdf7c",
   "metadata": {},
   "outputs": [
    {
     "data": {
      "text/plain": [
       "458.198966781116"
      ]
     },
     "execution_count": 37,
     "metadata": {},
     "output_type": "execute_result"
    }
   ],
   "source": [
    "np.sqrt(mean_squared_error(y_test, y_pred))"
   ]
  },
  {
   "cell_type": "markdown",
   "id": "50e804c2-e185-4202-91ff-35456bef4b5b",
   "metadata": {},
   "source": [
    "## Doğrusal Olmayan SVR"
   ]
  },
  {
   "cell_type": "code",
   "execution_count": 38,
   "id": "a3758e5c-0173-47cd-ac50-de761c93a506",
   "metadata": {},
   "outputs": [],
   "source": [
    "np.random.seed(3)\n",
    "\n",
    "x_sim = np.random.uniform(2,10,145)\n",
    "y_sim = np.sin(x_sim) + np.random.normal(0,0.4,145)\n",
    "\n",
    "x_outliers = np.arange(2.5, 5, 0.5)\n",
    "y_outliers = -5*np.ones(5)\n",
    "\n",
    "x_sim_idx = np.argsort(np.concatenate([x_sim, x_outliers]))\n",
    "x_sim = np.concatenate([x_sim, x_outliers])[x_sim_idx]\n",
    "y_sim = np.concatenate([y_sim, y_outliers])[x_sim_idx]"
   ]
  },
  {
   "cell_type": "code",
   "execution_count": 39,
   "id": "0f1d7007-3dc7-41ce-b42c-f902318699e0",
   "metadata": {},
   "outputs": [],
   "source": [
    "from sklearn.linear_model import LinearRegression\n",
    "ols = LinearRegression()\n",
    "ols.fit(np.sin(x_sim[:, np.newaxis]), y_sim)\n",
    "ols_pred = ols.predict(np.sin(x_sim[:, np.newaxis]))\n",
    "\n",
    "from sklearn.svm import SVR\n",
    "eps = 0.1\n",
    "svr = SVR(kernel = \"rbf\", epsilon = eps)\n",
    "svr.fit(x_sim[:, np.newaxis], y_sim)\n",
    "svr_pred = svr.predict(x_sim[:, np.newaxis])"
   ]
  },
  {
   "cell_type": "code",
   "execution_count": 40,
   "id": "48b3b646-1872-4cdd-8cc5-e91fdd8ef923",
   "metadata": {},
   "outputs": [
    {
     "data": {
      "image/png": "[encoded data removed]",
      "text/plain": [
       "<Figure size 432x288 with 1 Axes>"
      ]
     },
     "metadata": {
      "needs_background": "light"
     },
     "output_type": "display_data"
    }
   ],
   "source": [
    "plt.scatter(x_sim, y_sim, alpha=0.5, s=26)\n",
    "plt_ols, = plt.plot(x_sim, ols_pred, \"g\")\n",
    "plt_svr, = plt.plot(x_sim, svr_pred, color=\"r\")\n",
    "plt.xlabel(\"Bağımsız Değişken\")\n",
    "plt.ylabel(\"Bağımlı Değişken\")\n",
    "plt.ylim(-5.2, 2.2)\n",
    "plt.legend([plt_ols, plt_svr],[\"EKK\", \"SVR\"], loc = 4);"
   ]
  },
  {
   "cell_type": "code",
   "execution_count": 41,
   "id": "f8f6ea60-cc26-4902-99d7-871b7b198805",
   "metadata": {},
   "outputs": [],
   "source": [
    "hit = pd.read_csv(\"Hitters.csv\")\n",
    "df = hit.copy()\n",
    "df = df.dropna()\n",
    "dms = pd.get_dummies(df[[\"League\",\"Division\",\"NewLeague\"]])\n",
    "y = df[\"Salary\"]\n",
    "X_ = df.drop([\"Salary\",\"League\",\"Division\",\"NewLeague\"], axis=1).astype(\"float64\")\n",
    "X = pd.concat([X_, dms[[\"League_N\", \"Division_W\",\"NewLeague_N\"]]], axis=1)\n",
    "X_train, X_test, y_train, y_test = train_test_split(X,y,test_size =0.25, random_state=42)"
   ]
  },
  {
   "cell_type": "code",
   "execution_count": 42,
   "id": "a3a1f525-c4e7-48cf-a8cb-e8e589c4e491",
   "metadata": {},
   "outputs": [],
   "source": [
    "svr_rbf = SVR(kernel = \"rbf\").fit(X_train, y_train)"
   ]
  },
  {
   "cell_type": "markdown",
   "id": "a11324a4-b787-4531-99fb-49e6b8545a40",
   "metadata": {},
   "source": [
    "## Tahmin"
   ]
  },
  {
   "cell_type": "code",
   "execution_count": 43,
   "id": "143d5636-8405-49d2-9083-e8fbcc7ee752",
   "metadata": {},
   "outputs": [],
   "source": [
    "y_pred = svr_rbf.predict(X_test)"
   ]
  },
  {
   "cell_type": "code",
   "execution_count": 44,
   "id": "f23e7694-5e93-41b8-afa8-e0cebddf0c87",
   "metadata": {},
   "outputs": [
    {
     "data": {
      "text/plain": [
       "460.0032657244849"
      ]
     },
     "execution_count": 44,
     "metadata": {},
     "output_type": "execute_result"
    }
   ],
   "source": [
    "np.sqrt(mean_squared_error(y_test, y_pred))"
   ]
  },
  {
   "cell_type": "markdown",
   "id": "beb94157-05bc-4a16-85dd-9eb443a9a54b",
   "metadata": {},
   "source": [
    "## Model Tuning"
   ]
  },
  {
   "cell_type": "code",
   "execution_count": 45,
   "id": "eb3db3f4-db36-44aa-b817-f9c0432ba19b",
   "metadata": {},
   "outputs": [
    {
     "data": {
      "text/plain": [
       "GridSearchCV(cv=10, estimator=SVR(),\n",
       "             param_grid={'C': [0.1, 0.4, 5, 10, 20, 30, 40, 50]})"
      ]
     },
     "execution_count": 45,
     "metadata": {},
     "output_type": "execute_result"
    }
   ],
   "source": [
    "svr_params = {\"C\": [0.1,0.4,5,10,20,30,40,50]}\n",
    "svr_cv_model = GridSearchCV(svr_rbf, svr_params, cv=10)\n",
    "svr_cv_model.fit(X_train, y_train)"
   ]
  },
  {
   "cell_type": "code",
   "execution_count": 46,
   "id": "5134cbf4-5feb-4fad-aa00-0ec94128c4b0",
   "metadata": {},
   "outputs": [
    {
     "data": {
      "text/plain": [
       "50"
      ]
     },
     "execution_count": 46,
     "metadata": {},
     "output_type": "execute_result"
    }
   ],
   "source": [
    "pd.Series(svr_cv_model.best_params_)[0]"
   ]
  },
  {
   "cell_type": "code",
   "execution_count": 47,
   "id": "33a3242d-88d2-4976-ad39-f863bedee99b",
   "metadata": {},
   "outputs": [],
   "source": [
    "svr_tuned = SVR(kernel = \"rbf\", C = pd.Series(svr_cv_model.best_params_)[0]).fit(X_train, y_train)"
   ]
  },
  {
   "cell_type": "code",
   "execution_count": 48,
   "id": "5b07b936-a4cb-4e68-98bd-3d5323ced42d",
   "metadata": {},
   "outputs": [
    {
     "data": {
      "text/plain": [
       "428.00406888095694"
      ]
     },
     "execution_count": 48,
     "metadata": {},
     "output_type": "execute_result"
    }
   ],
   "source": [
    "y_pred =svr_tuned.predict(X_test)\n",
    "np.sqrt(mean_squared_error(y_test, y_pred))"
   ]
  },
  {
   "cell_type": "markdown",
   "id": "30e83c23-fea0-41a1-8d41-23397e830010",
   "metadata": {},
   "source": [
    "## Artificial Neural Network(yapay sinir ağları-çok katmanlı algılayıcılar)"
   ]
  },
  {
   "cell_type": "code",
   "execution_count": 49,
   "id": "c5dde5a4-6084-4c69-bca7-661629c510c1",
   "metadata": {},
   "outputs": [],
   "source": [
    "hit = pd.read_csv(\"Hitters.csv\")\n",
    "df = hit.copy()\n",
    "df = df.dropna()\n",
    "dms = pd.get_dummies(df[[\"League\",\"Division\",\"NewLeague\"]])\n",
    "y = df[\"Salary\"]\n",
    "X_ = df.drop([\"Salary\",\"League\",\"Division\",\"NewLeague\"], axis=1).astype(\"float64\")\n",
    "X = pd.concat([X_, dms[[\"League_N\", \"Division_W\",\"NewLeague_N\"]]], axis=1)\n",
    "X_train, X_test, y_train, y_test = train_test_split(X,y,test_size =0.25, random_state=42)"
   ]
  },
  {
   "cell_type": "code",
   "execution_count": 50,
   "id": "9cea2f4f-7b67-49d3-9ada-543e5c893be3",
   "metadata": {},
   "outputs": [],
   "source": [
    "from sklearn.preprocessing import StandardScaler"
   ]
  },
  {
   "cell_type": "code",
   "execution_count": 51,
   "id": "e63094c8-379b-4c22-aa44-d69424ba9c4e",
   "metadata": {},
   "outputs": [
    {
     "data": {
      "text/plain": [
       "StandardScaler()"
      ]
     },
     "execution_count": 51,
     "metadata": {},
     "output_type": "execute_result"
    }
   ],
   "source": [
    "scaler = StandardScaler()\n",
    "scaler.fit(X_train)"
   ]
  },
  {
   "cell_type": "code",
   "execution_count": 52,
   "id": "adab1194-c7e2-4593-a480-258797c00406",
   "metadata": {},
   "outputs": [],
   "source": [
    "X_train_scaled = scaler.transform(X_train)"
   ]
  },
  {
   "cell_type": "code",
   "execution_count": 53,
   "id": "c5089076-7d05-4562-bad0-9810d7b3bcbe",
   "metadata": {},
   "outputs": [],
   "source": [
    "X_test_scaled = scaler.transform(X_test)"
   ]
  },
  {
   "cell_type": "code",
   "execution_count": 54,
   "id": "4b825844-52a2-4da2-b3e0-e7291b715004",
   "metadata": {},
   "outputs": [],
   "source": [
    "from sklearn.neural_network import MLPRegressor"
   ]
  },
  {
   "cell_type": "code",
   "execution_count": 55,
   "id": "94b80198-a1f1-4f76-8a9d-c5b7668dfebc",
   "metadata": {},
   "outputs": [],
   "source": [
    "mlp_model = MLPRegressor().fit(X_train_scaled, y_train)"
   ]
  },
  {
   "cell_type": "code",
   "execution_count": 56,
   "id": "c5243fc1-9812-4f8b-9958-fb56bb082d5f",
   "metadata": {},
   "outputs": [
    {
     "data": {
      "text/plain": [
       "MLPRegressor()"
      ]
     },
     "execution_count": 56,
     "metadata": {},
     "output_type": "execute_result"
    }
   ],
   "source": [
    "mlp_model"
   ]
  },
  {
   "cell_type": "code",
   "execution_count": 57,
   "id": "31d0fa9c-79b8-4610-8f14-642777d50e88",
   "metadata": {},
   "outputs": [
    {
     "data": {
      "text/plain": [
       "3"
      ]
     },
     "execution_count": 57,
     "metadata": {},
     "output_type": "execute_result"
    }
   ],
   "source": [
    "mlp_model.n_layers_"
   ]
  },
  {
   "cell_type": "code",
   "execution_count": 58,
   "id": "c2fd469d-e8e2-4d4f-bab2-49632929c356",
   "metadata": {},
   "outputs": [
    {
     "data": {
      "text/plain": [
       "(100,)"
      ]
     },
     "execution_count": 58,
     "metadata": {},
     "output_type": "execute_result"
    }
   ],
   "source": [
    "mlp_model.hidden_layer_sizes"
   ]
  },
  {
   "cell_type": "markdown",
   "id": "2d58dace-bed1-489c-a509-9443481e9f04",
   "metadata": {},
   "source": [
    "## Tahmin"
   ]
  },
  {
   "cell_type": "code",
   "execution_count": 59,
   "id": "6676bc66-bf59-4fa2-97df-dae21dd01765",
   "metadata": {},
   "outputs": [
    {
     "data": {
      "text/plain": [
       "array([23.49570976, 41.31406854, 71.96314134, 13.90410431, 14.51662052])"
      ]
     },
     "execution_count": 59,
     "metadata": {},
     "output_type": "execute_result"
    }
   ],
   "source": [
    "mlp_model.predict(X_test_scaled)[0:5]"
   ]
  },
  {
   "cell_type": "code",
   "execution_count": 60,
   "id": "5b455691-4ff7-4e96-a7f9-8daae2db86e9",
   "metadata": {},
   "outputs": [],
   "source": [
    "y_pred = mlp_model.predict(X_test_scaled)"
   ]
  },
  {
   "cell_type": "code",
   "execution_count": 61,
   "id": "5f0a1bb4-22b0-43a8-a08a-96e9cd0d11fa",
   "metadata": {},
   "outputs": [
    {
     "data": {
      "text/plain": [
       "661.176316569889"
      ]
     },
     "execution_count": 61,
     "metadata": {},
     "output_type": "execute_result"
    }
   ],
   "source": [
    "np.sqrt(mean_squared_error(y_test, y_pred))"
   ]
  },
  {
   "cell_type": "markdown",
   "id": "ea7f50ee-5d2d-4506-9c60-5865afb301ca",
   "metadata": {},
   "source": [
    "## Model Tuning"
   ]
  },
  {
   "cell_type": "code",
   "execution_count": 62,
   "id": "85b23725-8cf3-4cdf-94a3-7403b14ae92f",
   "metadata": {},
   "outputs": [
    {
     "data": {
      "text/plain": [
       "MLPRegressor()"
      ]
     },
     "execution_count": 62,
     "metadata": {},
     "output_type": "execute_result"
    }
   ],
   "source": [
    "mlp_model"
   ]
  },
  {
   "cell_type": "code",
   "execution_count": 63,
   "id": "b2f25a03-9a70-44d0-bd54-07acafcacc82",
   "metadata": {},
   "outputs": [],
   "source": [
    "mlp_params = {\"alpha\": [0.1, 0.01, 0.02, 0.005],\n",
    "              \"hidden_layer_sizes\": [(20,20),(100,50,150),(300,200,150)],\n",
    "              \"activation\": [\"relu\",\"logistic\"]}"
   ]
  },
  {
   "cell_type": "code",
   "execution_count": 64,
   "id": "de38f5c2-d3f8-48ad-8cb8-ce95cf2d4a30",
   "metadata": {},
   "outputs": [],
   "source": [
    "mlp_cv_model = GridSearchCV(mlp_model, mlp_params, cv=10)"
   ]
  },
  {
   "cell_type": "code",
   "execution_count": 65,
   "id": "95ff39e3-f744-46ab-8b99-a98ed0b822a3",
   "metadata": {},
   "outputs": [
    {
     "data": {
      "text/plain": [
       "GridSearchCV(cv=10, estimator=MLPRegressor(),\n",
       "             param_grid={'activation': ['relu', 'logistic'],\n",
       "                         'alpha': [0.1, 0.01, 0.02, 0.005],\n",
       "                         'hidden_layer_sizes': [(20, 20), (100, 50, 150),\n",
       "                                                (300, 200, 150)]})"
      ]
     },
     "execution_count": 65,
     "metadata": {},
     "output_type": "execute_result"
    }
   ],
   "source": [
    "mlp_cv_model.fit(X_train_scaled, y_train)"
   ]
  },
  {
   "cell_type": "code",
   "execution_count": 66,
   "id": "688a3f3e-5f9f-4e68-a73b-d1f0c4cb6a7f",
   "metadata": {},
   "outputs": [
    {
     "data": {
      "text/plain": [
       "{'activation': 'relu', 'alpha': 0.1, 'hidden_layer_sizes': (100, 50, 150)}"
      ]
     },
     "execution_count": 66,
     "metadata": {},
     "output_type": "execute_result"
    }
   ],
   "source": [
    "mlp_cv_model.best_params_"
   ]
  },
  {
   "cell_type": "code",
   "execution_count": 67,
   "id": "5aa7de83-18c0-4127-8544-4052261599fb",
   "metadata": {},
   "outputs": [],
   "source": [
    "mlp_tuned = MLPRegressor(alpha=0.02, hidden_layer_sizes = (100,50,150))"
   ]
  },
  {
   "cell_type": "code",
   "execution_count": 68,
   "id": "c938d255-58f4-4d00-9c6e-ad3841ffc541",
   "metadata": {},
   "outputs": [
    {
     "data": {
      "text/plain": [
       "MLPRegressor(alpha=0.02, hidden_layer_sizes=(100, 50, 150))"
      ]
     },
     "execution_count": 68,
     "metadata": {},
     "output_type": "execute_result"
    }
   ],
   "source": [
    "mlp_tuned.fit(X_train_scaled,y_train)"
   ]
  },
  {
   "cell_type": "code",
   "execution_count": 69,
   "id": "b8803ed2-66bf-4e44-8b97-27f01718132c",
   "metadata": {},
   "outputs": [],
   "source": [
    "y_pred = mlp_tuned.predict(X_test_scaled)"
   ]
  },
  {
   "cell_type": "code",
   "execution_count": 70,
   "id": "02490e95-ea95-4bbc-adb2-6ad512caa849",
   "metadata": {},
   "outputs": [
    {
     "data": {
      "text/plain": [
       "361.3321715382337"
      ]
     },
     "execution_count": 70,
     "metadata": {},
     "output_type": "execute_result"
    }
   ],
   "source": [
    "np.sqrt(mean_squared_error(y_test, y_pred))"
   ]
  },
  {
   "cell_type": "markdown",
   "id": "34c7b7e9-8d7f-4d58-b073-faf14857b74b",
   "metadata": {},
   "source": [
    "## Classification and Regression Tree - CART"
   ]
  },
  {
   "cell_type": "code",
   "execution_count": 71,
   "id": "346d3865-dfd3-4c3b-bbe1-13469139f53d",
   "metadata": {},
   "outputs": [],
   "source": [
    "hit = pd.read_csv(\"Hitters.csv\")\n",
    "df = hit.copy()\n",
    "df = df.dropna()\n",
    "dms = pd.get_dummies(df[['League', 'Division', 'NewLeague']])\n",
    "y = df[\"Salary\"]\n",
    "X_ = df.drop(['Salary', 'League', 'Division', 'NewLeague'], axis=1).astype('float64')\n",
    "X = pd.concat([X_, dms[['League_N', 'Division_W', 'NewLeague_N']]], axis=1)\n",
    "X_train, X_test, y_train, y_test = train_test_split(X, y, \n",
    "                                                    test_size=0.25, \n",
    "                                                    random_state=42)"
   ]
  },
  {
   "cell_type": "code",
   "execution_count": 72,
   "id": "73956938-8dc6-4def-b64a-250c00bb78d0",
   "metadata": {},
   "outputs": [],
   "source": [
    "X_train = pd.DataFrame(X_train[\"Hits\"])\n",
    "X_test = pd.DataFrame(X_test[\"Hits\"])"
   ]
  },
  {
   "cell_type": "code",
   "execution_count": 73,
   "id": "7585a1b4-bc94-4aac-b6c5-dfbeb5d97f43",
   "metadata": {},
   "outputs": [],
   "source": [
    "cart_model = DecisionTreeRegressor(min_samples_split = 2)"
   ]
  },
  {
   "cell_type": "code",
   "execution_count": 74,
   "id": "cd354e23-fa5e-498a-a605-d4f12bf4c84a",
   "metadata": {},
   "outputs": [
    {
     "data": {
      "text/plain": [
       "DecisionTreeRegressor()"
      ]
     },
     "execution_count": 74,
     "metadata": {},
     "output_type": "execute_result"
    }
   ],
   "source": [
    "cart_model"
   ]
  },
  {
   "cell_type": "code",
   "execution_count": 75,
   "id": "7e27a5ad-93aa-43db-ac0b-f752573e1ce8",
   "metadata": {},
   "outputs": [
    {
     "data": {
      "text/plain": [
       "DecisionTreeRegressor()"
      ]
     },
     "execution_count": 75,
     "metadata": {},
     "output_type": "execute_result"
    }
   ],
   "source": [
    "cart_model.fit(X_train, y_train)"
   ]
  },
  {
   "cell_type": "code",
   "execution_count": 76,
   "id": "4de792b5-b6ed-4292-b00a-d104f0ec8e2e",
   "metadata": {},
   "outputs": [
    {
     "data": {
      "image/png": "[encoded data removed]",
      "text/plain": [
       "<Figure size 432x288 with 1 Axes>"
      ]
     },
     "metadata": {
      "needs_background": "light"
     },
     "output_type": "display_data"
    }
   ],
   "source": [
    "X_grid = np.arange(min(np.array(X_train)),max(np.array(X_train)), 0.01) \n",
    "X_grid = X_grid.reshape((len(X_grid), 1))  \n",
    "plt.scatter(X_train, y_train, color = 'red') \n",
    "plt.plot(X_grid, cart_model.predict(X_grid), color = 'blue')  \n",
    "plt.title('CART REGRESON AĞACI')  \n",
    "plt.xlabel('Atış Sayısı(Hits)') \n",
    "plt.ylabel('Maaş (Salary)') ;"
   ]
  },
  {
   "cell_type": "code",
   "execution_count": 77,
   "id": "e19096da-f647-4009-829c-67b4d74e6271",
   "metadata": {},
   "outputs": [
    {
     "name": "stdout",
     "output_type": "stream",
     "text": [
      "Requirement already satisfied: skompiler in c:\\users\\asus_\\anaconda3\\lib\\site-packages (0.7)\n",
      "Requirement already satisfied: scikit-learn>=0.22 in c:\\users\\asus_\\anaconda3\\lib\\site-packages (from skompiler) (1.0.2)\n",
      "Requirement already satisfied: numpy>=1.14.6 in c:\\users\\asus_\\anaconda3\\lib\\site-packages (from scikit-learn>=0.22->skompiler) (1.22.4)\n",
      "Requirement already satisfied: scipy>=1.1.0 in c:\\users\\asus_\\anaconda3\\lib\\site-packages (from scikit-learn>=0.22->skompiler) (1.7.3)\n",
      "Requirement already satisfied: joblib>=0.11 in c:\\users\\asus_\\anaconda3\\lib\\site-packages (from scikit-learn>=0.22->skompiler) (1.1.0)\n",
      "Requirement already satisfied: threadpoolctl>=2.0.0 in c:\\users\\asus_\\anaconda3\\lib\\site-packages (from scikit-learn>=0.22->skompiler) (2.2.0)\n"
     ]
    }
   ],
   "source": [
    "!pip install skompiler"
   ]
  },
  {
   "cell_type": "code",
   "execution_count": 78,
   "id": "d0fd4957-915c-4875-a58e-6ef52cdd4107",
   "metadata": {},
   "outputs": [
    {
     "name": "stdout",
     "output_type": "stream",
     "text": [
      "Requirement already satisfied: astor in c:\\users\\asus_\\anaconda3\\lib\\site-packages (0.8.1)\n"
     ]
    }
   ],
   "source": [
    "!pip install astor"
   ]
  },
  {
   "cell_type": "code",
   "execution_count": 79,
   "id": "c98f2fd8-1558-4de9-8f1f-e21d4251f5c5",
   "metadata": {},
   "outputs": [],
   "source": [
    "from skompiler import skompile"
   ]
  },
  {
   "cell_type": "code",
   "execution_count": 80,
   "id": "e6bd9b8f-acda-47d2-ad54-40deedaa0575",
   "metadata": {},
   "outputs": [
    {
     "name": "stdout",
     "output_type": "stream",
     "text": [
      "((920.0 if x[0] <= 18.0 else ((500.0 if x[0] <= 34.5 else (70.0 if x[0] <= \n",
      "    38.0 else 175.0) if x[0] <= 39.5 else 90.0 if x[0] <= 40.5 else 67.5) if\n",
      "    x[0] <= 41.5 else 900.0 if x[0] <= 42.5 else (((((215.55566666666664 if\n",
      "    x[0] <= 44.5 else 180.0) if x[0] <= 46.5 else 347.5 if x[0] <= 48.0 else\n",
      "    337.5) if x[0] <= 50.0 else 70.0) if x[0] <= 51.5 else 507.5) if x[0] <=\n",
      "    52.5 else 150.0 if x[0] <= 53.5 else 146.83333333333334) if x[0] <= \n",
      "    54.5 else 1300.0 if x[0] <= 55.5 else (170.0 if x[0] <= 56.5 else \n",
      "    193.75) if x[0] <= 57.5 else ((((((340.0 if x[0] <= 59.0 else 418.5) if\n",
      "    x[0] <= 60.5 else 235.0 if x[0] <= 62.0 else 341.667) if x[0] <= 63.5 else\n",
      "    75.0) if x[0] <= 64.5 else 650.0) if x[0] <= 65.5 else 170.0 if x[0] <=\n",
      "    67.0 else 228.66666666666666) if x[0] <= 69.0 else 472.5) if x[0] <= \n",
      "    70.5 else (100.0 if x[0] <= 71.5 else 130.0) if x[0] <= 72.5 else \n",
      "    409.1665 if x[0] <= 74.5 else 215.0) if x[0] <= 76.5 else (((505.0 if x\n",
      "    [0] <= 77.5 else ((((328.88899999999995 if x[0] <= 79.0 else 700.0) if \n",
      "    x[0] <= 80.5 else 348.75 if x[0] <= 81.5 else 267.5) if x[0] <= 82.5 else\n",
      "    600.0 if x[0] <= 83.5 else 600.0) if x[0] <= 84.5 else (331.25 if x[0] <=\n",
      "    85.5 else (180.0 if x[0] <= 86.5 else 91.5) if x[0] <= 88.5 else 450.0 if\n",
      "    x[0] <= 90.5 else 125.0) if x[0] <= 91.5 else 411.25 if x[0] <= 92.5 else\n",
      "    250.0) if x[0] <= 93.5 else 670.0 if x[0] <= 94.5 else ((100.0 if x[0] <=\n",
      "    95.5 else 504.1665) if x[0] <= 96.5 else 210.0 if x[0] <= 98.0 else \n",
      "    87.5) if x[0] <= 100.0 else 466.0) if x[0] <= 101.5 else 247.5 if x[0] <=\n",
      "    102.5 else 257.3334) if x[0] <= 103.5 else (750.0 if x[0] <= 105.0 else\n",
      "    850.0) if x[0] <= 107.0 else 162.5 if x[0] <= 109.0 else (560.0 if x[0] <=\n",
      "    111.0 else 442.5 if x[0] <= 112.5 else 487.5) if x[0] <= 114.0 else \n",
      "    300.0) if x[0] <= 116.0 else 110.0) if x[0] <= 117.5 else ((((1300.0 if\n",
      "    x[0] <= 118.5 else 773.3333333333334 if x[0] <= 120.5 else 442.5) if x[\n",
      "    0] <= 122.5 else 1240.0 if x[0] <= 124.0 else 1925.571) if x[0] <= \n",
      "    125.5 else (561.25 if x[0] <= 126.5 else (695.2776666666667 if x[0] <= \n",
      "    127.5 else 1043.75) if x[0] <= 128.5 else (750.0 if x[0] <= 129.5 else \n",
      "    480.0) if x[0] <= 130.5 else 726.6666666666666) if x[0] <= 131.5 else (\n",
      "    ((611.6665 if x[0] <= 133.5 else 461.0) if x[0] <= 135.5 else 725.0) if\n",
      "    x[0] <= 137.0 else 152.5 if x[0] <= 138.5 else 555.0 if x[0] <= 139.5 else\n",
      "    200.0) if x[0] <= 140.5 else 712.5 if x[0] <= 141.5 else 777.5) if x[0] <=\n",
      "    143.0 else (((1021.6666666666666 if x[0] <= 144.5 else 500.0 if x[0] <=\n",
      "    145.5 else 815.0) if x[0] <= 146.5 else 1230.0 if x[0] <= 148.0 else \n",
      "    787.5 if x[0] <= 149.5 else 1000.0) if x[0] <= 150.5 else 2460.0) if x[\n",
      "    0] <= 151.5 else (451.6666666666667 if x[0] <= 153.0 else 580.0 if x[0] <=\n",
      "    155.5 else 530.0) if x[0] <= 157.5 else (((((775.0 if x[0] <= 158.5 else\n",
      "    759.1665) if x[0] <= 159.5 else 1670.0 if x[0] <= 161.5 else 923.0 if x\n",
      "    [0] <= 165.5 else 863.0556666666666) if x[0] <= 168.5 else \n",
      "    743.3333333333334) if x[0] <= 169.5 else 1118.75 if x[0] <= 170.5 else \n",
      "    1350.0) if x[0] <= 171.5 else 165.0 if x[0] <= 173.0 else (849.3335 if \n",
      "    x[0] <= 175.5 else 1350.0) if x[0] <= 177.5 else (740.0 if x[0] <= \n",
      "    178.5 else 575.0 if x[0] <= 181.5 else 630.0) if x[0] <= 185.0 else \n",
      "    1300.0 if x[0] <= 198.5 else 740.0) if x[0] <= 212.0 else 350.0) if x[0\n",
      "    ] <= 225.5 else 1975.0)\n",
      "\n"
     ]
    }
   ],
   "source": [
    "print(skompile(cart_model.predict).to(\"python/code\"))"
   ]
  },
  {
   "cell_type": "markdown",
   "id": "7b0e84c6-532b-49cb-bd38-8810952da549",
   "metadata": {},
   "source": [
    "## Tahmin"
   ]
  },
  {
   "cell_type": "code",
   "execution_count": 81,
   "id": "97f160f2-42e1-4aa3-8a8a-4399cd5e3654",
   "metadata": {},
   "outputs": [],
   "source": [
    "x = [91]"
   ]
  },
  {
   "cell_type": "code",
   "execution_count": 82,
   "id": "5a45a45b-e464-4a0a-9eaa-3f334654751c",
   "metadata": {},
   "outputs": [
    {
     "data": {
      "text/plain": [
       "345.2011551724138"
      ]
     },
     "execution_count": 82,
     "metadata": {},
     "output_type": "execute_result"
    }
   ],
   "source": [
    "(345.2011551724138 if x[0] <= 117.5 else ((((1300.0 if x[0] <= 118.5 else \n",
    "    641.0) if x[0] <= 122.5 else 1468.5236666666667) if x[0] <= 125.5 else \n",
    "    621.9679230769232) if x[0] <= 143.0 else (958.6111111111111 if x[0] <= \n",
    "    150.5 else 2460.0) if x[0] <= 151.5 else 499.1666666666667 if x[0] <= \n",
    "    157.5 else 892.5402413793104) if x[0] <= 225.5 else 1975.0)"
   ]
  },
  {
   "cell_type": "code",
   "execution_count": 83,
   "id": "4029180e-ff38-4d5c-b00a-c0f7ca4b7af5",
   "metadata": {},
   "outputs": [
    {
     "data": {
      "text/plain": [
       "array([ 725.    , 1230.    ,  725.    ,  504.1665,   67.5   ])"
      ]
     },
     "execution_count": 83,
     "metadata": {},
     "output_type": "execute_result"
    }
   ],
   "source": [
    "cart_model.predict(X_test)[0:5]"
   ]
  },
  {
   "cell_type": "code",
   "execution_count": 84,
   "id": "337b2a40-b6e7-4b61-8d30-7a1efaf71436",
   "metadata": {},
   "outputs": [
    {
     "data": {
      "text/plain": [
       "array([125.])"
      ]
     },
     "execution_count": 84,
     "metadata": {},
     "output_type": "execute_result"
    }
   ],
   "source": [
    "cart_model.predict([[91]])"
   ]
  },
  {
   "cell_type": "code",
   "execution_count": 85,
   "id": "b81e2e0d-fe9b-4419-aff7-649b228a9268",
   "metadata": {},
   "outputs": [],
   "source": [
    "y_pred = cart_model.predict(X_test)"
   ]
  },
  {
   "cell_type": "code",
   "execution_count": 86,
   "id": "8a9f9df2-4ab6-4950-85cb-c9c815575589",
   "metadata": {},
   "outputs": [
    {
     "data": {
      "text/plain": [
       "148    850.0\n",
       "154    277.5\n",
       "318    875.0\n",
       "279    150.0\n",
       "88     260.0\n",
       "       ...  \n",
       "122    400.0\n",
       "282     90.0\n",
       "111    385.0\n",
       "232    450.0\n",
       "51      70.0\n",
       "Name: Salary, Length: 66, dtype: float64"
      ]
     },
     "execution_count": 86,
     "metadata": {},
     "output_type": "execute_result"
    }
   ],
   "source": [
    "y_test"
   ]
  },
  {
   "cell_type": "code",
   "execution_count": 87,
   "id": "df6ca06d-9111-45aa-98df-75528885503f",
   "metadata": {},
   "outputs": [
    {
     "data": {
      "text/plain": [
       "468.49579052913884"
      ]
     },
     "execution_count": 87,
     "metadata": {},
     "output_type": "execute_result"
    }
   ],
   "source": [
    "np.sqrt(mean_squared_error(y_test,y_pred))"
   ]
  },
  {
   "cell_type": "markdown",
   "id": "e29708da-8351-42b8-af29-38c93a74f98d",
   "metadata": {},
   "source": [
    "## Model Tuning"
   ]
  },
  {
   "cell_type": "code",
   "execution_count": 88,
   "id": "444f706a-1a67-4aaf-bff1-07b5dfb48b59",
   "metadata": {},
   "outputs": [],
   "source": [
    "cart_model = DecisionTreeRegressor()\n",
    "cart_model.fit(X_train, y_train)\n",
    "y_pred = cart_model.predict(X_test)"
   ]
  },
  {
   "cell_type": "code",
   "execution_count": 89,
   "id": "83da2c9e-f56b-4a7c-840d-5b4ec2fbd869",
   "metadata": {},
   "outputs": [
    {
     "data": {
      "text/plain": [
       "468.49579052913884"
      ]
     },
     "execution_count": 89,
     "metadata": {},
     "output_type": "execute_result"
    }
   ],
   "source": [
    "np.sqrt(mean_squared_error(y_test, y_pred))"
   ]
  },
  {
   "cell_type": "code",
   "execution_count": 90,
   "id": "a82e1ab8-af07-4e3d-9867-a06604865c6b",
   "metadata": {},
   "outputs": [],
   "source": [
    "cart_params = {\"min_samples_split\": range(2,100),\n",
    "               \"max_leaf_nodes\": range(2,10)}"
   ]
  },
  {
   "cell_type": "code",
   "execution_count": 91,
   "id": "71747dfa-7e80-4b1c-b719-2dd90208fbb1",
   "metadata": {},
   "outputs": [],
   "source": [
    "cart_cv_model = GridSearchCV(cart_model, cart_params, cv=10)"
   ]
  },
  {
   "cell_type": "code",
   "execution_count": 92,
   "id": "31d51b74-86da-4fa4-8e8f-d27728f9daaa",
   "metadata": {},
   "outputs": [
    {
     "data": {
      "text/plain": [
       "GridSearchCV(cv=10, estimator=DecisionTreeRegressor(),\n",
       "             param_grid={'max_leaf_nodes': range(2, 10),\n",
       "                         'min_samples_split': range(2, 100)})"
      ]
     },
     "execution_count": 92,
     "metadata": {},
     "output_type": "execute_result"
    }
   ],
   "source": [
    "cart_cv_model.fit(X_train, y_train)"
   ]
  },
  {
   "cell_type": "code",
   "execution_count": 93,
   "id": "51af90fc-5582-4005-a0be-80f7b953bb8b",
   "metadata": {},
   "outputs": [
    {
     "data": {
      "text/plain": [
       "{'max_leaf_nodes': 9, 'min_samples_split': 76}"
      ]
     },
     "execution_count": 93,
     "metadata": {},
     "output_type": "execute_result"
    }
   ],
   "source": [
    "cart_cv_model.best_params_"
   ]
  },
  {
   "cell_type": "code",
   "execution_count": 94,
   "id": "8f07b101-ba37-4498-a14b-c73224527223",
   "metadata": {},
   "outputs": [],
   "source": [
    "cart_tuned = DecisionTreeRegressor(max_leaf_nodes=9, min_samples_split=76)"
   ]
  },
  {
   "cell_type": "code",
   "execution_count": 95,
   "id": "08cadd76-ac8b-43be-8f9f-1a25cea81fd9",
   "metadata": {},
   "outputs": [
    {
     "data": {
      "text/plain": [
       "DecisionTreeRegressor(max_leaf_nodes=9, min_samples_split=76)"
      ]
     },
     "execution_count": 95,
     "metadata": {},
     "output_type": "execute_result"
    }
   ],
   "source": [
    "cart_tuned.fit(X_train, y_train)"
   ]
  },
  {
   "cell_type": "code",
   "execution_count": 96,
   "id": "ef70e5dc-0239-43a0-a120-dcc47774489d",
   "metadata": {},
   "outputs": [],
   "source": [
    "y_pred = cart_tuned.predict(X_test)"
   ]
  },
  {
   "cell_type": "code",
   "execution_count": 97,
   "id": "a6b29bc4-cdba-4a27-9e1a-de052edca4ed",
   "metadata": {},
   "outputs": [
    {
     "data": {
      "text/plain": [
       "423.406689243066"
      ]
     },
     "execution_count": 97,
     "metadata": {},
     "output_type": "execute_result"
    }
   ],
   "source": [
    "np.sqrt(mean_squared_error(y_test,y_pred))"
   ]
  },
  {
   "cell_type": "markdown",
   "id": "74d5ac3a-eccd-4c94-867b-f605de375c82",
   "metadata": {},
   "source": [
    "## Baged Tree Regression"
   ]
  },
  {
   "cell_type": "code",
   "execution_count": 98,
   "id": "6ea8c720-29a6-40bd-9ac8-0f1ff7fd4485",
   "metadata": {},
   "outputs": [],
   "source": [
    "hit = pd.read_csv(\"Hitters.csv\")\n",
    "df = hit.copy()\n",
    "df = df.dropna()\n",
    "dms = pd.get_dummies(df[['League', 'Division', 'NewLeague']])\n",
    "y = df[\"Salary\"]\n",
    "X_ = df.drop(['Salary', 'League', 'Division', 'NewLeague'], axis=1).astype('float64')\n",
    "X = pd.concat([X_, dms[['League_N', 'Division_W', 'NewLeague_N']]], axis=1)\n",
    "X_train, X_test, y_train, y_test = train_test_split(X, y, \n",
    "                                                    test_size=0.25, \n",
    "                                                    random_state=42)"
   ]
  },
  {
   "cell_type": "code",
   "execution_count": 99,
   "id": "feb57c1e-abdc-4810-86ba-d957c393ea9b",
   "metadata": {},
   "outputs": [
    {
     "data": {
      "text/plain": [
       "BaggingRegressor(bootstrap_features=True)"
      ]
     },
     "execution_count": 99,
     "metadata": {},
     "output_type": "execute_result"
    }
   ],
   "source": [
    "bag_model = BaggingRegressor(bootstrap_features= True)\n",
    "bag_model.fit(X_train, y_train)"
   ]
  },
  {
   "cell_type": "code",
   "execution_count": 100,
   "id": "7ed0125a-67ed-4bdf-80ad-6773114c559d",
   "metadata": {},
   "outputs": [
    {
     "data": {
      "text/plain": [
       "10"
      ]
     },
     "execution_count": 100,
     "metadata": {},
     "output_type": "execute_result"
    }
   ],
   "source": [
    "bag_model.n_estimators"
   ]
  },
  {
   "cell_type": "code",
   "execution_count": 101,
   "id": "4ec017b6-50f8-4550-97b7-2da9e4c881ae",
   "metadata": {},
   "outputs": [
    {
     "data": {
      "text/plain": [
       "[DecisionTreeRegressor(random_state=1414608017),\n",
       " DecisionTreeRegressor(random_state=1676707865),\n",
       " DecisionTreeRegressor(random_state=1626346850),\n",
       " DecisionTreeRegressor(random_state=1282159090),\n",
       " DecisionTreeRegressor(random_state=233926433),\n",
       " DecisionTreeRegressor(random_state=1269620032),\n",
       " DecisionTreeRegressor(random_state=1369313598),\n",
       " DecisionTreeRegressor(random_state=522669567),\n",
       " DecisionTreeRegressor(random_state=1611401697),\n",
       " DecisionTreeRegressor(random_state=1699283917)]"
      ]
     },
     "execution_count": 101,
     "metadata": {},
     "output_type": "execute_result"
    }
   ],
   "source": [
    "bag_model.estimators_"
   ]
  },
  {
   "cell_type": "code",
   "execution_count": 102,
   "id": "65a837db-c351-4d3b-802b-d511d9c80515",
   "metadata": {
    "tags": []
   },
   "outputs": [
    {
     "data": {
      "text/plain": [
       "[array([  8,  34, 156,  37,  38, 148, 141, 151,  87, 189, 149,  76, 173,\n",
       "         93,  29,  41, 166, 106,  17, 159, 156,  18,  88,  46,  60, 158,\n",
       "        128, 112, 157,  50,  36, 108,  51, 145,   8, 124, 184, 112,  22,\n",
       "         12, 125,  64, 146, 179,  81,   6, 172, 182, 159, 166, 176, 187,\n",
       "        122,  10, 106, 149,  96,  79,  49, 152, 139,   2, 140,  91, 174,\n",
       "         75, 132,  26, 185, 192, 194, 192, 133,  46, 152,  43, 148, 147,\n",
       "         95, 152, 142, 157,  94,  53,  66, 132,  12, 179, 100, 101, 130,\n",
       "         49,  67,   0, 126,  62,   7, 111,   3,  10, 123,   5, 196, 114,\n",
       "         46, 113,  82,  52, 128, 124, 195,  90,  24, 188, 152, 181,  17,\n",
       "        123,  10,  36, 150,  41, 116,  74,  82,  69,  32, 160,  37,  90,\n",
       "         45,  21, 152, 128,  15,  75, 143, 174,  89, 127, 195,  63,  57,\n",
       "        189, 174, 129, 143,  33,  41,  68,  82, 154, 123,  72,  39, 133,\n",
       "         77, 189, 122,  10, 165, 186, 174,  85, 131, 163, 168,  64,  46,\n",
       "        136, 138, 133,  54, 144, 192,  57,  94, 133,  48, 150, 166,  40,\n",
       "         67,   8,  88, 131,  40, 191,  12, 165,   3, 177, 190,  51, 132,\n",
       "        173,  40]),\n",
       " array([141, 174, 134,  21, 193, 172,  29,  54,  56,  37, 137, 125,  16,\n",
       "        104, 150,  63,  26, 101,  30, 114,   5,  57, 162, 190,  21,  79,\n",
       "          0,  71, 176, 154, 180, 117,   3, 166, 145,  96,  67,  25, 140,\n",
       "         25, 187,  82, 117,  80,  84,  36,  20,  83, 120, 115,  12, 154,\n",
       "        114, 143,  89,  36,  14, 187,  69, 118,  18,  36,  96, 194, 192,\n",
       "         97, 136, 133,   7, 165, 129, 153, 152,  36,  73,   4,  85,  20,\n",
       "        152,  22, 168,  54,  24, 150,   8, 188, 109, 145, 110, 180, 132,\n",
       "        183, 177, 138, 101,  37, 116, 173,  46, 108,   2,  47,  16,  30,\n",
       "         71,  60, 162, 175,  32,  54, 169, 157,  26,  61,  22,  88,  58,\n",
       "        154, 150,  93,  75,  60, 191,  56, 185, 117, 123, 111,  95,  76,\n",
       "         18,  27, 137,  46, 136,  22, 189,  76, 169, 167, 174, 179, 138,\n",
       "        153,  45, 174, 130, 120,  34,  34, 102, 110, 108,   0, 182,   8,\n",
       "        124,  12, 142,  27,  66,  38, 147, 155, 140,  26,   9,   0,  76,\n",
       "         76, 129,  84,  20,  16, 157, 174,   9,  65,  48,   0,  20,  26,\n",
       "         64,  58,  64, 146, 110,  74,  82,  97,  16, 194, 154, 121, 141,\n",
       "        127, 124]),\n",
       " array([106,  83, 107, 101,  22, 150, 181, 193,  84,  50,  80,  44,  40,\n",
       "        107, 191, 168,   2,  96,  32, 160,  37,  32, 182,  28, 148, 119,\n",
       "        196, 149,  92,   0,  72,  65,  15, 110,  16,  63, 151, 152,  82,\n",
       "        187, 174, 181, 175,  98,  67, 137,   9, 188,  87,  16, 148,  52,\n",
       "         30,  24, 124,  29,  63,  89,  20, 150,  66,  59, 162, 186,  70,\n",
       "        176, 194, 116, 122, 188,  90,  22, 154,  48,  82,  50, 177,  87,\n",
       "        189,  24,  54, 185, 194,  86,  55,   4, 112,  82, 139, 146, 107,\n",
       "         17, 102, 157,  13, 195, 102,  54,  91, 183, 120,  87,  70, 110,\n",
       "         59,  61, 180, 143,  63,  57, 174,  34,  57, 117,  75, 124, 129,\n",
       "        155,  76, 188,  35, 104, 187, 182, 127, 107,  14,  95,  48, 105,\n",
       "        194, 118,  90, 188, 165,  14, 102, 174,  66,  64,   4, 180, 146,\n",
       "         76, 174, 176, 141,  30,  20,  10,  24,  44, 183,  95,  34, 161,\n",
       "        173,  68,  68, 194, 137,  39, 156, 191, 119,  65, 126, 150, 170,\n",
       "         61,  97,  34,  72, 114, 124,  14,  76, 113,  86,  67, 169,  22,\n",
       "         97,  47,  33,  70, 158,  81, 136, 127,  27,  67, 177,  15,  74,\n",
       "         98,   9]),\n",
       " array([ 63, 102,  39,  23,  89,   3, 193,  57, 155,  26,  68,  29,  29,\n",
       "        108,  53, 190,  19, 100, 167,  19,  96, 185,  91, 181,  50, 112,\n",
       "        156,  62, 184,  49,  97,  38,  84, 185, 189, 145,  40, 168, 118,\n",
       "        150, 120,  53,  53, 122,  22,  15,  53, 103, 124, 125,  64, 126,\n",
       "         92,  54, 172,  28, 186,  25, 122, 128,  85,  84, 132,  16, 114,\n",
       "          9,  42, 163, 127,  53,  63,  31, 181, 141,  53, 182,  11,  44,\n",
       "        150, 134, 144, 147,  94, 148, 161, 172,  28, 146,  92, 141, 125,\n",
       "        114,  61, 178,  18,  23, 160,  53,  61,  31,  37,  88, 140,   6,\n",
       "        117, 194, 141,  15, 178, 115, 121,  52, 150,  39, 135, 191, 152,\n",
       "          9, 168, 159, 185, 129,  38,  75, 129,  54, 184,  34,  48, 176,\n",
       "        122, 102,  36,  27, 134,  76,  86,  76,  13,  72,  60, 107, 142,\n",
       "         32,  53, 168, 162, 160,  94,   4, 193, 186,  21,  94,  81,  93,\n",
       "         75,  29,  82,  46, 128,  31,  17,  26, 141, 138, 102, 117,  97,\n",
       "        118,  43, 141, 165,  49, 172,  52, 185, 126,   1,   7,  68, 104,\n",
       "        123,  86, 175, 115, 121, 159, 163,  30, 145, 182,  65, 191, 191,\n",
       "        138,   0]),\n",
       " array([  3, 128, 173, 173,  73, 117, 168, 135, 148,  90,   6,  81, 140,\n",
       "         82,  64, 176, 179,  12,   7, 178, 117, 163,  11, 177,  96,  14,\n",
       "         44,  57, 141,   9,  95, 130,  22, 188,  12, 111, 109, 153,  55,\n",
       "        143, 101,  86,  34,  45, 182, 159, 117,  26,   6,  52,  60, 163,\n",
       "         40, 117,  91, 161, 189, 157,  98, 107,  44, 196,  45, 133,  29,\n",
       "          5,  38, 182, 121, 138,  44, 104, 148,  70, 147, 154, 134,   6,\n",
       "         79,  36,  79, 128, 104,  22,  97,  58, 115, 159,  42, 181, 152,\n",
       "        100, 182, 140, 102, 114, 138, 188,  58,  99,  62,  36, 128, 104,\n",
       "         37, 136,  54, 194,  16,  34,  38, 112, 102,   5,  10, 176,  80,\n",
       "        102, 135,  84,  71, 149,  49, 129, 119,  48,  54,  42, 100,  91,\n",
       "        155,  98, 139,  22, 114,  32,  17, 150,  32,  47, 102,  77, 173,\n",
       "        135, 178, 185,  88,  82,  15, 196, 130, 194, 139, 153, 152, 158,\n",
       "        145,  65, 140, 164, 166, 172, 180,  63,  48,  94,  11, 138, 187,\n",
       "        136, 151, 166,  19,  18, 142,  14,  55, 106, 151,  81,  61, 152,\n",
       "        151,  90, 101, 104, 136,  70,   1, 108,  25, 135, 114, 155,  68,\n",
       "        177,  44]),\n",
       " array([126, 112,  81, 170, 188, 140, 151, 122,  11, 124, 172, 186, 185,\n",
       "         47, 140, 134, 125, 136,  34, 159, 193, 131, 123,  71, 128, 119,\n",
       "        191,  60,  60,  40,  80, 161, 176, 188,  82,  37,  53, 179, 183,\n",
       "         32, 145, 118, 149, 169, 185, 194, 157, 103,  62,  70, 153, 122,\n",
       "        177,  47,  52,  50,   8, 175,  61, 103,  98,  45, 187,  92, 122,\n",
       "        182, 154,   3, 181, 141, 123,  45, 184, 147,  35, 165, 196, 123,\n",
       "        152,  58, 167,  56, 156,  72, 173, 134, 158, 135, 122,  65, 189,\n",
       "        174,  49,   1, 169,  39,  98,   6, 149,  59,  45,  42, 132,  16,\n",
       "         94, 123, 130,  19, 129, 153, 150, 122,  17,  80,  94,  12, 162,\n",
       "         96,  47, 157,  12,  26,  20,  44,  29,  20,  50, 153, 105,  88,\n",
       "         20, 127,  22, 118,  99, 192,  17,  96,  18, 153, 149, 155, 146,\n",
       "        110,  21, 179, 142,  64,   4, 196,  33,  62, 115, 165, 166,  41,\n",
       "         92,   2, 167,  78,   9,  56, 162, 135, 132, 165, 144, 193, 179,\n",
       "        131, 129,  99, 159, 148,   7, 144, 175,  73,  83,  56,  57, 138,\n",
       "         85, 107, 107, 137,   0,  16, 187, 133,  39, 144,  16,  47,  60,\n",
       "         50,   3]),\n",
       " array([  2,  86, 181,  62, 120,  62,  99,  23,  26,  61, 121,  30, 121,\n",
       "         34,  14, 121, 111, 136, 146,  57, 148,  34, 164, 136, 131, 189,\n",
       "         17,  33, 112,  31, 113,  87,  84, 114,  79, 154,  56,  25,  70,\n",
       "        150, 157, 174,  63, 186, 136, 150, 166,  55, 141,  68,  55, 190,\n",
       "        120, 101,  25, 133, 193,  80, 162,  40,  84,  55,  73,  37, 149,\n",
       "        147, 147,  79,   7, 108, 124, 181, 118,  81, 119,  91,  75,  48,\n",
       "        168, 153, 113,  85,  42,  31,   1, 179, 119, 164, 121, 138, 130,\n",
       "        189, 147,  94, 148,  91, 171, 149, 110,  20, 190, 123,  69, 175,\n",
       "          1,  69,  24,  73,  69, 160,   5, 104,  35,  54, 175, 143, 155,\n",
       "        172, 119,  14,  94,   2,  74,  88, 153, 120, 127,  95,  31, 157,\n",
       "        178,  98,  66, 185, 144,  63,  51,  91, 126, 123,  82, 176,  98,\n",
       "          9, 118,  73, 146, 182,  39, 126, 140, 194, 127, 138,  83, 159,\n",
       "        175,  62, 128, 173,  36, 108,  35,  87,   2, 113,  64, 139,  62,\n",
       "        149,  43, 160, 140,  78, 177,  15, 110,  80, 195,  13, 108,  57,\n",
       "         47, 123,  63, 100,   4,  22,  31,  75, 139,  82,  60, 127,   5,\n",
       "         67,  63]),\n",
       " array([ 30,  84, 164, 111, 144,  38,  45,  73,  79,  13, 126,   7,  12,\n",
       "         31,  21, 139, 196,  23, 104,   1, 129, 159, 179,  81,  62, 133,\n",
       "        145,  85, 128,  80,  86, 157, 196,  80, 159,  82,  29, 152, 156,\n",
       "        123, 179,  51, 103,  54, 174, 180,  42, 170,  12,  34,  66,  41,\n",
       "         88,  15, 193,  38, 141,  14,  19,  28, 188,  49,  83,   8, 166,\n",
       "         41,   6,   3, 164,  86, 147, 126,  40, 179, 116, 176,  48, 113,\n",
       "         87,  99, 171,  92, 195,  19, 130,  10,  46,  45, 111, 188,  35,\n",
       "        127, 117, 141,  96,  75,  26,  11,  16, 119,  26, 130,  89, 174,\n",
       "         12,  40, 139,  78, 114, 190,  11, 105, 137,  84, 183, 196,  62,\n",
       "         88, 188,  67, 189,  73,  84, 180,   9,   4,  86, 105,  44, 109,\n",
       "        191, 162, 176,  67,   1, 162,  12, 165,  27, 132, 109, 185, 135,\n",
       "         96,  75,  12,  94, 174,  59, 185,  21,  44,  85,  35,  90, 178,\n",
       "         81, 124, 184, 178, 102,  49,  54,  71,  48, 132, 167,  77,  97,\n",
       "          6, 110,  81,   5, 194, 179,  76, 115,  49, 181,  34,  39,  34,\n",
       "         78, 156,  82, 140,  85,  77,  79, 151,  89, 161, 145,  20,  87,\n",
       "        181, 158]),\n",
       " array([107, 105, 115,  72, 112, 161, 111,  45, 145, 106,  52,  29, 121,\n",
       "         72,   5,   7, 122, 140,   9, 124, 147,   1, 141,  58, 171, 171,\n",
       "         23,  95,  91,  73,  64, 194,  73, 165,   5,  87,  92,  67, 166,\n",
       "        126, 123, 187, 126,  95, 151, 124, 196, 139, 175, 195,  39,  12,\n",
       "         91, 176,  85,  32, 182, 145, 105, 162, 144,  10,  83,  19,  82,\n",
       "        134, 182,   3,  69,  91,  21, 171, 195, 168, 151, 105,  68,  12,\n",
       "         88,   6, 103, 133, 121,   0,  83, 125, 191,  54, 186, 167,  25,\n",
       "         88,  97,  56,  27, 172,  32,  50, 113,  87, 138,  48, 160,  30,\n",
       "        153, 134, 180, 134,  19,   9,  87,  64,  11,  41,  83,   7, 133,\n",
       "         78,  59, 182, 101, 184, 114, 126,  68,  22,  63, 181, 167,  43,\n",
       "        189, 135, 193,  63, 146,  21, 129,   5, 161,  51, 186, 178,  26,\n",
       "        148, 178, 136, 167, 148,  60,  98, 160,  46,  73,  89,  50, 146,\n",
       "         96,  74,  85, 173, 176, 123, 108,  64,  74,  80,  79, 160,  22,\n",
       "         14,  52, 181,  94,  24,  33, 134,  58,  98, 146, 103,  54, 133,\n",
       "         10,  51, 124,  59,  70,  86, 137,  62, 115,  60,  98, 131,  93,\n",
       "         33,  28]),\n",
       " array([170, 196, 142, 187,  51,  58,  82,  26,  50, 179,  17, 109,  14,\n",
       "        149, 110, 167, 152, 120,  75, 101, 191, 175, 100, 148,  89,  59,\n",
       "         97, 190, 181, 193,  77, 122,  28, 138,  81,  99, 106, 165, 125,\n",
       "         42, 101,  16, 174,  43, 169, 138,  71, 112,  38, 128, 180, 155,\n",
       "        169,  93, 195, 165, 130, 132,   2,  28,  76, 189, 134, 154, 139,\n",
       "         31, 122, 170,  64, 144,  14,   5,  80, 115, 181,  10, 121,  48,\n",
       "         54,  85,  88, 128, 147, 181,  11,  40, 147, 173, 118, 134, 165,\n",
       "         16,  70,  64, 126, 130,   0, 168,  42,  23, 133, 122,  38,  80,\n",
       "        162, 104, 109, 182,  31,  88,  98, 138, 122,   0, 131,  38,  59,\n",
       "         80,  12,  75,   6, 100,  78,  75, 140,  48, 114,  43, 129,  51,\n",
       "          1,  34,  31, 108,  89,  20, 182, 120,  57, 186,  42, 134, 143,\n",
       "          2, 133, 133, 168,  78,  41,  96,  83,  48, 179, 114,  58, 120,\n",
       "        136,  34, 174, 150,  39,  51, 119, 168,  39,   1, 155,  41,  66,\n",
       "        160, 176,   7, 156, 165,  29,  86,  90, 166, 179,  28,  72, 149,\n",
       "        145,  92, 146,  43, 186, 176,  38,  91,  10, 118, 172, 191, 173,\n",
       "        139, 100])]"
      ]
     },
     "execution_count": 102,
     "metadata": {},
     "output_type": "execute_result"
    }
   ],
   "source": [
    "bag_model.estimators_samples_"
   ]
  },
  {
   "cell_type": "code",
   "execution_count": 103,
   "id": "583bf07f-a898-4033-a679-e985fd7d8ed4",
   "metadata": {},
   "outputs": [
    {
     "data": {
      "text/plain": [
       "[array([17,  4,  5, 17,  7, 10,  5,  4,  4, 15, 17,  7,  0,  8,  0, 18, 17,\n",
       "         5,  2]),\n",
       " array([ 4,  2,  9,  5,  1,  5,  5, 17,  5,  1,  0, 18, 16, 16,  6, 14, 17,\n",
       "         6,  5]),\n",
       " array([ 2,  6,  0, 11,  9,  0,  2, 14, 13,  5,  0, 13,  6,  9,  9,  0,  4,\n",
       "         5, 14]),\n",
       " array([18, 13, 16, 15,  7,  5, 17, 10,  9,  2, 11,  3,  7, 16,  8,  3,  1,\n",
       "         3, 11]),\n",
       " array([ 1, 11, 12,  9, 18, 13, 10,  3,  7, 11, 14,  6, 17,  3, 15, 17, 18,\n",
       "         2, 13]),\n",
       " array([ 0,  5,  1,  5,  8, 18,  5,  0, 11, 18,  0,  1, 14,  5, 17, 14, 12,\n",
       "         2,  0]),\n",
       " array([13, 10,  0, 10,  6,  0,  2,  9, 12, 13, 16,  1,  5, 16, 14,  9, 12,\n",
       "        10, 18]),\n",
       " array([ 3,  1,  9,  9,  2,  5,  9,  5,  6, 14,  6,  8, 18,  2,  7,  8, 15,\n",
       "         4, 13]),\n",
       " array([ 1, 16,  3,  9, 15, 10, 10,  3, 13,  5,  2,  0, 18, 17,  7,  8,  9,\n",
       "         3,  3]),\n",
       " array([13, 12, 14, 12,  7,  3, 18,  5, 15,  5,  5,  2, 17, 16,  8, 15,  5,\n",
       "        16, 14])]"
      ]
     },
     "execution_count": 103,
     "metadata": {},
     "output_type": "execute_result"
    }
   ],
   "source": [
    "bag_model.estimators_features_"
   ]
  },
  {
   "cell_type": "code",
   "execution_count": 104,
   "id": "86b60e30-4e83-4b65-a9db-41f0463c94d7",
   "metadata": {},
   "outputs": [
    {
     "data": {
      "text/plain": [
       "DecisionTreeRegressor(random_state=1676707865)"
      ]
     },
     "execution_count": 104,
     "metadata": {},
     "output_type": "execute_result"
    }
   ],
   "source": [
    "bag_model.estimators_[1]"
   ]
  },
  {
   "cell_type": "markdown",
   "id": "e8b3d660-b4fa-49b9-9462-1049b4bf4d70",
   "metadata": {},
   "source": [
    " ## Tahmin"
   ]
  },
  {
   "cell_type": "code",
   "execution_count": 105,
   "id": "12136a23-efc2-46f2-93a4-d99afc82543e",
   "metadata": {},
   "outputs": [],
   "source": [
    "y_pred = bag_model.predict(X_test)"
   ]
  },
  {
   "cell_type": "code",
   "execution_count": 106,
   "id": "b978239b-1734-47c2-b45e-8314a683aa63",
   "metadata": {},
   "outputs": [
    {
     "data": {
      "text/plain": [
       "352.6602256011514"
      ]
     },
     "execution_count": 106,
     "metadata": {},
     "output_type": "execute_result"
    }
   ],
   "source": [
    "np.sqrt(mean_squared_error(y_test,y_pred))"
   ]
  },
  {
   "cell_type": "code",
   "execution_count": 107,
   "id": "f0a67753-ac3e-46b1-ab35-bc1e9715825b",
   "metadata": {},
   "outputs": [],
   "source": [
    "iki_y_pred = bag_model.estimators_[1].fit(X_train, y_train).predict(X_test)"
   ]
  },
  {
   "cell_type": "code",
   "execution_count": 108,
   "id": "c1608ebe-1c52-4052-be27-30795689c9a8",
   "metadata": {},
   "outputs": [
    {
     "data": {
      "text/plain": [
       "460.2683142752088"
      ]
     },
     "execution_count": 108,
     "metadata": {},
     "output_type": "execute_result"
    }
   ],
   "source": [
    "np.sqrt(mean_squared_error(y_test, iki_y_pred))"
   ]
  },
  {
   "cell_type": "code",
   "execution_count": 109,
   "id": "606f4a5c-c81d-47c6-9566-d5a0d27b2862",
   "metadata": {},
   "outputs": [],
   "source": [
    "yedi_y_pred = bag_model.estimators_[6].fit(X_train, y_train).predict(X_test)"
   ]
  },
  {
   "cell_type": "code",
   "execution_count": 110,
   "id": "b3f4d4f0-a74a-4d4d-a314-2a3aff644872",
   "metadata": {},
   "outputs": [
    {
     "data": {
      "text/plain": [
       "521.0227390949022"
      ]
     },
     "execution_count": 110,
     "metadata": {},
     "output_type": "execute_result"
    }
   ],
   "source": [
    "np.sqrt(mean_squared_error(y_test, yedi_y_pred))"
   ]
  },
  {
   "cell_type": "markdown",
   "id": "e46a2ee5-0cc8-42ed-ae83-5f417ba227cc",
   "metadata": {},
   "source": [
    "## Model Tuning"
   ]
  },
  {
   "cell_type": "code",
   "execution_count": 111,
   "id": "1a717c1d-9dd9-414c-af09-6d0775840893",
   "metadata": {},
   "outputs": [
    {
     "data": {
      "text/plain": [
       "BaggingRegressor(bootstrap_features=True)"
      ]
     },
     "execution_count": 111,
     "metadata": {},
     "output_type": "execute_result"
    }
   ],
   "source": [
    "bag_model = BaggingRegressor(bootstrap_features=True)\n",
    "bag_model.fit(X_train, y_train)"
   ]
  },
  {
   "cell_type": "code",
   "execution_count": 112,
   "id": "32ff5990-b0d8-4e79-b91d-7ab49f960564",
   "metadata": {},
   "outputs": [],
   "source": [
    "bag_params={\"n_estimators\":range(2,20)}"
   ]
  },
  {
   "cell_type": "code",
   "execution_count": 113,
   "id": "73fb5fae-7985-4b50-a2ab-93d8b1890758",
   "metadata": {},
   "outputs": [],
   "source": [
    "bag_cv_model = GridSearchCV(bag_model,bag_params, cv=10)"
   ]
  },
  {
   "cell_type": "code",
   "execution_count": 114,
   "id": "4f5bf67a-4a1f-43ef-a0fa-0ef7e39fecc4",
   "metadata": {},
   "outputs": [
    {
     "data": {
      "text/plain": [
       "GridSearchCV(cv=10, estimator=BaggingRegressor(bootstrap_features=True),\n",
       "             param_grid={'n_estimators': range(2, 20)})"
      ]
     },
     "execution_count": 114,
     "metadata": {},
     "output_type": "execute_result"
    }
   ],
   "source": [
    "bag_cv_model.fit(X_train, y_train)"
   ]
  },
  {
   "cell_type": "code",
   "execution_count": 115,
   "id": "466e6e51-6096-4565-ac76-8019a3acfee0",
   "metadata": {},
   "outputs": [
    {
     "data": {
      "text/plain": [
       "{'n_estimators': 15}"
      ]
     },
     "execution_count": 115,
     "metadata": {},
     "output_type": "execute_result"
    }
   ],
   "source": [
    "bag_cv_model.best_params_"
   ]
  },
  {
   "cell_type": "code",
   "execution_count": 116,
   "id": "35d867ee-354e-4aa8-9f56-5ec771569835",
   "metadata": {},
   "outputs": [],
   "source": [
    "bag_tuned = BaggingRegressor(n_estimators=10, random_state=45)"
   ]
  },
  {
   "cell_type": "code",
   "execution_count": 117,
   "id": "6730cb0e-40ed-4694-9cce-4e0069089dc3",
   "metadata": {},
   "outputs": [
    {
     "data": {
      "text/plain": [
       "BaggingRegressor(random_state=45)"
      ]
     },
     "execution_count": 117,
     "metadata": {},
     "output_type": "execute_result"
    }
   ],
   "source": [
    "bag_tuned.fit(X_train, y_train)"
   ]
  },
  {
   "cell_type": "code",
   "execution_count": 118,
   "id": "7b6557d0-43b5-4dc6-ac2d-2a290e086719",
   "metadata": {},
   "outputs": [],
   "source": [
    "y_pred = bag_tuned.predict(X_test)"
   ]
  },
  {
   "cell_type": "code",
   "execution_count": 119,
   "id": "b6928253-2346-4f41-9a84-0d05bb8164a5",
   "metadata": {},
   "outputs": [
    {
     "data": {
      "text/plain": [
       "343.7299462017933"
      ]
     },
     "execution_count": 119,
     "metadata": {},
     "output_type": "execute_result"
    }
   ],
   "source": [
    "np.sqrt(mean_squared_error(y_test,y_pred))"
   ]
  },
  {
   "cell_type": "markdown",
   "id": "24d05b91-c775-4153-b778-ed6f2b776e79",
   "metadata": {},
   "source": [
    "## Random Forests"
   ]
  },
  {
   "cell_type": "code",
   "execution_count": 120,
   "id": "523d74c9-2aa1-45f8-9e79-3521802d3ce9",
   "metadata": {},
   "outputs": [],
   "source": [
    "hit = pd.read_csv(\"Hitters.csv\")\n",
    "df = hit.copy()\n",
    "df = df.dropna()\n",
    "dms = pd.get_dummies(df[['League', 'Division', 'NewLeague']])\n",
    "y = df[\"Salary\"]\n",
    "X_ = df.drop(['Salary', 'League', 'Division', 'NewLeague'], axis=1).astype('float64')\n",
    "X = pd.concat([X_, dms[['League_N', 'Division_W', 'NewLeague_N']]], axis=1)\n",
    "X_train, X_test, y_train, y_test = train_test_split(X, y, \n",
    "                                                    test_size=0.25, \n",
    "                                                    random_state=42)"
   ]
  },
  {
   "cell_type": "code",
   "execution_count": 121,
   "id": "f6630f8a-a92b-4462-85ad-706ef9221f24",
   "metadata": {},
   "outputs": [],
   "source": [
    "from sklearn.ensemble import RandomForestRegressor"
   ]
  },
  {
   "cell_type": "code",
   "execution_count": 122,
   "id": "2af7610f-1dac-41e0-b5ec-cea6e2e2556b",
   "metadata": {},
   "outputs": [],
   "source": [
    "rf_model = RandomForestRegressor(random_state=42)"
   ]
  },
  {
   "cell_type": "code",
   "execution_count": 123,
   "id": "8bf38e6d-927f-45c5-8714-4d73398f257f",
   "metadata": {},
   "outputs": [
    {
     "data": {
      "text/plain": [
       "RandomForestRegressor(random_state=42)"
      ]
     },
     "execution_count": 123,
     "metadata": {},
     "output_type": "execute_result"
    }
   ],
   "source": [
    "rf_model.fit(X_train, y_train)"
   ]
  },
  {
   "cell_type": "markdown",
   "id": "d310185e-dd17-4972-8d85-115a0a6b1241",
   "metadata": {},
   "source": [
    "## Tahmin"
   ]
  },
  {
   "cell_type": "code",
   "execution_count": 124,
   "id": "7ddf82bd-e518-4beb-964e-cbc32d426639",
   "metadata": {},
   "outputs": [
    {
     "data": {
      "text/plain": [
       "array([ 738.69167,  913.51164, 1181.145  ,  139.65167,  634.60833])"
      ]
     },
     "execution_count": 124,
     "metadata": {},
     "output_type": "execute_result"
    }
   ],
   "source": [
    "rf_model.predict(X_test)[0:5]"
   ]
  },
  {
   "cell_type": "code",
   "execution_count": 125,
   "id": "afcbe949-1d98-4b7a-aa53-46ab7ae9c2e4",
   "metadata": {},
   "outputs": [],
   "source": [
    "y_pred = rf_model.predict(X_test)"
   ]
  },
  {
   "cell_type": "code",
   "execution_count": 126,
   "id": "800b7d15-5fe3-4f95-af24-d2975ec4cda7",
   "metadata": {},
   "outputs": [
    {
     "data": {
      "text/plain": [
       "344.8191624908484"
      ]
     },
     "execution_count": 126,
     "metadata": {},
     "output_type": "execute_result"
    }
   ],
   "source": [
    "np.sqrt(mean_squared_error(y_test,y_pred))"
   ]
  },
  {
   "cell_type": "markdown",
   "id": "901657c3-945c-4e6e-87c4-590b75bb6678",
   "metadata": {},
   "source": [
    "## Model Tuning"
   ]
  },
  {
   "cell_type": "code",
   "execution_count": 127,
   "id": "bc4edbf8-e504-4361-a2f1-6ac060f26294",
   "metadata": {},
   "outputs": [],
   "source": [
    "rf_params = {\"max_depth\": list(range(1,10)),\n",
    "             \"max_features\":[3,5,10,15],\n",
    "             \"n_estimators\" : [100,200,500,1000,2000]}"
   ]
  },
  {
   "cell_type": "code",
   "execution_count": 128,
   "id": "e161d551-fe4b-46e3-b263-f5ed56c22319",
   "metadata": {},
   "outputs": [],
   "source": [
    "rf_model = RandomForestRegressor(random_state=42)"
   ]
  },
  {
   "cell_type": "code",
   "execution_count": 129,
   "id": "65fa9073-b2c5-446b-9ff7-56075e87bd40",
   "metadata": {},
   "outputs": [],
   "source": [
    "rf_cv_model = GridSearchCV(rf_model,rf_params, cv=10, n_jobs=-1)"
   ]
  },
  {
   "cell_type": "code",
   "execution_count": 130,
   "id": "00d33d43-d14b-4d57-9eb3-fa613203459f",
   "metadata": {},
   "outputs": [
    {
     "data": {
      "text/plain": [
       "GridSearchCV(cv=10, estimator=RandomForestRegressor(random_state=42), n_jobs=-1,\n",
       "             param_grid={'max_depth': [1, 2, 3, 4, 5, 6, 7, 8, 9],\n",
       "                         'max_features': [3, 5, 10, 15],\n",
       "                         'n_estimators': [100, 200, 500, 1000, 2000]})"
      ]
     },
     "execution_count": 130,
     "metadata": {},
     "output_type": "execute_result"
    }
   ],
   "source": [
    "rf_cv_model.fit(X_train,y_train)"
   ]
  },
  {
   "cell_type": "code",
   "execution_count": 131,
   "id": "731a4561-6901-4a36-b9ea-73603b66c488",
   "metadata": {},
   "outputs": [
    {
     "data": {
      "text/plain": [
       "{'max_depth': 8, 'max_features': 3, 'n_estimators': 200}"
      ]
     },
     "execution_count": 131,
     "metadata": {},
     "output_type": "execute_result"
    }
   ],
   "source": [
    "rf_cv_model.best_params_"
   ]
  },
  {
   "cell_type": "code",
   "execution_count": 132,
   "id": "7cfceae8-3f63-412c-a50b-f3a4a2c440ba",
   "metadata": {},
   "outputs": [],
   "source": [
    "rf_tuned = RandomForestRegressor(max_depth = 8,max_features=3, n_estimators =200)"
   ]
  },
  {
   "cell_type": "code",
   "execution_count": 133,
   "id": "71d1ab7f-b2f4-46cf-a299-ac8f0b21f1c3",
   "metadata": {},
   "outputs": [],
   "source": [
    "rf_tuned = rf_tuned.fit(X_train,y_train)"
   ]
  },
  {
   "cell_type": "code",
   "execution_count": 134,
   "id": "7a982b33-87e6-4d09-bd40-8f63f683e75f",
   "metadata": {},
   "outputs": [],
   "source": [
    "y_pred = rf_tuned.predict(X_test)"
   ]
  },
  {
   "cell_type": "code",
   "execution_count": 135,
   "id": "4142c3b0-4cc7-414d-8c45-ea9d255d620f",
   "metadata": {},
   "outputs": [
    {
     "data": {
      "text/plain": [
       "341.1445457733539"
      ]
     },
     "execution_count": 135,
     "metadata": {},
     "output_type": "execute_result"
    }
   ],
   "source": [
    "np.sqrt(mean_squared_error(y_test,y_pred))"
   ]
  },
  {
   "cell_type": "code",
   "execution_count": 136,
   "id": "6007d10a-2413-495c-9498-34d4677c0365",
   "metadata": {},
   "outputs": [],
   "source": [
    "Importance = pd.DataFrame({\"Importance\": rf_tuned.feature_importances_*100},\n",
    "                          index = X_train.columns)"
   ]
  },
  {
   "cell_type": "code",
   "execution_count": 137,
   "id": "7cb73187-1ccd-4f24-b008-470888773d45",
   "metadata": {},
   "outputs": [
    {
     "data": {
      "text/plain": [
       "Text(0.5, 0, 'Değişken Önem Düzeyleri')"
      ]
     },
     "execution_count": 137,
     "metadata": {},
     "output_type": "execute_result"
    },
    {
     "data": {
      "image/png": "[encoded data removed]",
      "text/plain": [
       "<Figure size 432x288 with 1 Axes>"
      ]
     },
     "metadata": {
      "needs_background": "light"
     },
     "output_type": "display_data"
    }
   ],
   "source": [
    "Importance.sort_values(by = \"Importance\",axis=0, ascending= True).plot(kind=\"barh\",color=\"r\")\n",
    "\n",
    "plt.xlabel(\"Değişken Önem Düzeyleri\")"
   ]
  },
  {
   "cell_type": "markdown",
   "id": "46b9d0e7-16a4-47bc-bd85-be33986c30a4",
   "metadata": {},
   "source": [
    "## Gradient Boosting Machines"
   ]
  },
  {
   "cell_type": "code",
   "execution_count": 138,
   "id": "fda0e9f0-5664-47ec-8c71-cad47a822da7",
   "metadata": {},
   "outputs": [],
   "source": [
    "from sklearn.ensemble import GradientBoostingRegressor"
   ]
  },
  {
   "cell_type": "code",
   "execution_count": 139,
   "id": "0790a444-10a2-4eff-a1d5-135d50b42ba7",
   "metadata": {},
   "outputs": [
    {
     "data": {
      "text/plain": [
       "GradientBoostingRegressor()"
      ]
     },
     "execution_count": 139,
     "metadata": {},
     "output_type": "execute_result"
    }
   ],
   "source": [
    "gbm_model = GradientBoostingRegressor()\n",
    "gbm_model.fit(X_train, y_train)"
   ]
  },
  {
   "cell_type": "markdown",
   "id": "6cc2b833-1b37-43e0-b686-fc1e91b065a7",
   "metadata": {},
   "source": [
    "## Tahmin"
   ]
  },
  {
   "cell_type": "code",
   "execution_count": 140,
   "id": "e44b63bf-fe78-4329-9979-07da3e10a3ba",
   "metadata": {},
   "outputs": [
    {
     "data": {
      "text/plain": [
       "351.8709594205062"
      ]
     },
     "execution_count": 140,
     "metadata": {},
     "output_type": "execute_result"
    }
   ],
   "source": [
    "y_pred = gbm_model.predict(X_test)\n",
    "np.sqrt(mean_squared_error(y_test,y_pred))"
   ]
  },
  {
   "cell_type": "markdown",
   "id": "42d6fb60-de63-4fcb-82ac-3dddb9364555",
   "metadata": {},
   "source": [
    "## Model Tuning"
   ]
  },
  {
   "cell_type": "code",
   "execution_count": 141,
   "id": "5a0339f4-beb8-4943-869f-a187eba99d4a",
   "metadata": {},
   "outputs": [],
   "source": [
    "gbm_params = {\n",
    "    \"learning_rate\": [0.001, 0.01, 0.1, 0.2],\n",
    "    \"max_depth\" : [3,5,8,50,100],\n",
    "    \"n_estimators\" : [200,500,1000,2000],\n",
    "    \"subsample\": [1, 0.5, 0.75]}"
   ]
  },
  {
   "cell_type": "code",
   "execution_count": 142,
   "id": "41d7c26c-24f5-4c2a-ae0f-fd6b8ca05710",
   "metadata": {},
   "outputs": [
    {
     "name": "stdout",
     "output_type": "stream",
     "text": [
      "Fitting 10 folds for each of 240 candidates, totalling 2400 fits\n"
     ]
    },
    {
     "data": {
      "text/plain": [
       "GridSearchCV(cv=10, estimator=GradientBoostingRegressor(), n_jobs=-1,\n",
       "             param_grid={'learning_rate': [0.001, 0.01, 0.1, 0.2],\n",
       "                         'max_depth': [3, 5, 8, 50, 100],\n",
       "                         'n_estimators': [200, 500, 1000, 2000],\n",
       "                         'subsample': [1, 0.5, 0.75]},\n",
       "             verbose=2)"
      ]
     },
     "execution_count": 142,
     "metadata": {},
     "output_type": "execute_result"
    }
   ],
   "source": [
    "gbm= GradientBoostingRegressor()\n",
    "gbm_cv_model = GridSearchCV(gbm, gbm_params, cv = 10, n_jobs= -1, verbose = 2)\n",
    "gbm_cv_model.fit(X_train, y_train)"
   ]
  },
  {
   "cell_type": "code",
   "execution_count": 143,
   "id": "bfc3c4d4-2a3d-4db3-b7df-54a799108785",
   "metadata": {},
   "outputs": [
    {
     "data": {
      "text/plain": [
       "{'learning_rate': 0.1, 'max_depth': 50, 'n_estimators': 2000, 'subsample': 0.5}"
      ]
     },
     "execution_count": 143,
     "metadata": {},
     "output_type": "execute_result"
    }
   ],
   "source": [
    "gbm_cv_model.best_params_    "
   ]
  },
  {
   "cell_type": "code",
   "execution_count": 144,
   "id": "d55baadd-bcc3-44cb-9914-0cea8a835614",
   "metadata": {},
   "outputs": [],
   "source": [
    "gbm_tuned = GradientBoostingRegressor(learning_rate=0.1,\n",
    "                                      max_depth= 5,\n",
    "                                      n_estimators= 200,\n",
    "                                      subsample=0.5)\n",
    "gbm_tuned = gbm_tuned.fit(X_train, y_train)"
   ]
  },
  {
   "cell_type": "code",
   "execution_count": 145,
   "id": "55c23354-2046-4879-bd1b-d013ceee9ca0",
   "metadata": {},
   "outputs": [
    {
     "data": {
      "text/plain": [
       "332.39381049237966"
      ]
     },
     "execution_count": 145,
     "metadata": {},
     "output_type": "execute_result"
    }
   ],
   "source": [
    "y_pred = gbm_tuned.predict(X_test)\n",
    "np.sqrt(mean_squared_error(y_test, y_pred))"
   ]
  },
  {
   "cell_type": "code",
   "execution_count": 146,
   "id": "7376ca27-c3db-4f05-bd98-f324731e295f",
   "metadata": {},
   "outputs": [],
   "source": [
    "Importance = pd.DataFrame({\"Importance\": gbm_tuned.feature_importances_*100},\n",
    "                          index = X_train.columns)"
   ]
  },
  {
   "cell_type": "code",
   "execution_count": 147,
   "id": "0b29f43f-d90e-435c-b7e9-d2db5fa96e7c",
   "metadata": {},
   "outputs": [
    {
     "data": {
      "text/plain": [
       "Text(0.5, 0, 'Değişken Önem Düzeyleri')"
      ]
     },
     "execution_count": 147,
     "metadata": {},
     "output_type": "execute_result"
    },
    {
     "data": {
      "image/png": "[encoded data removed]",
      "text/plain": [
       "<Figure size 432x288 with 1 Axes>"
      ]
     },
     "metadata": {
      "needs_background": "light"
     },
     "output_type": "display_data"
    }
   ],
   "source": [
    "Importance.sort_values(by = \"Importance\",axis=0, ascending= True).plot(kind=\"barh\",color=\"r\")\n",
    "\n",
    "plt.xlabel(\"Değişken Önem Düzeyleri\")"
   ]
  },
  {
   "cell_type": "markdown",
   "id": "d47169c4-15ec-47ad-901f-1a18a028cac8",
   "metadata": {},
   "source": [
    "## XGBoost"
   ]
  },
  {
   "cell_type": "code",
   "execution_count": 148,
   "id": "5c7c36fa-2827-47d6-b861-2f97d3fafff4",
   "metadata": {},
   "outputs": [],
   "source": [
    "hit = pd.read_csv(\"Hitters.csv\")\n",
    "df = hit.copy()\n",
    "df = df.dropna()\n",
    "dms = pd.get_dummies(df[['League', 'Division', 'NewLeague']])\n",
    "y = df[\"Salary\"]\n",
    "X_ = df.drop(['Salary', 'League', 'Division', 'NewLeague'], axis=1).astype('float64')\n",
    "X = pd.concat([X_, dms[['League_N', 'Division_W', 'NewLeague_N']]], axis=1)\n",
    "X_train, X_test, y_train, y_test = train_test_split(X, y, \n",
    "                                                    test_size=0.25, \n",
    "                                                    random_state=42)"
   ]
  },
  {
   "cell_type": "code",
   "execution_count": 149,
   "id": "3c94b167-01dd-4250-8bb0-534ded2c2c1b",
   "metadata": {},
   "outputs": [],
   "source": [
    "#pip install xgboost"
   ]
  },
  {
   "cell_type": "code",
   "execution_count": 150,
   "id": "9b8f23aa-d9eb-4fe7-ba92-100c138aa9f2",
   "metadata": {},
   "outputs": [],
   "source": [
    "import xgboost as xgb"
   ]
  },
  {
   "cell_type": "code",
   "execution_count": 151,
   "id": "699344c7-1915-4071-a0c3-60c4066fb6ff",
   "metadata": {},
   "outputs": [],
   "source": [
    "DM_train = xgb.DMatrix(data=X_train, label=y_train)\n",
    "DM_test = xgb.DMatrix(data=X_test, label=y_test)"
   ]
  },
  {
   "cell_type": "code",
   "execution_count": 152,
   "id": "c1e23e9a-957d-4751-8ef7-628f76852416",
   "metadata": {},
   "outputs": [],
   "source": [
    "from xgboost import XGBRegressor"
   ]
  },
  {
   "cell_type": "code",
   "execution_count": 153,
   "id": "84a28794-6203-40b5-93df-c41a9d810882",
   "metadata": {},
   "outputs": [],
   "source": [
    "xgb_model = XGBRegressor().fit(X_train, y_train)"
   ]
  },
  {
   "cell_type": "markdown",
   "id": "fa98818d-af2a-4f16-a1a0-2dfe9f46b6e4",
   "metadata": {},
   "source": [
    "## Tahmin"
   ]
  },
  {
   "cell_type": "code",
   "execution_count": 154,
   "id": "46e773de-5b5c-431b-955a-182d17740242",
   "metadata": {},
   "outputs": [
    {
     "data": {
      "text/plain": [
       "355.46515176059927"
      ]
     },
     "execution_count": 154,
     "metadata": {},
     "output_type": "execute_result"
    }
   ],
   "source": [
    "y_pred = xgb_model.predict(X_test)\n",
    "np.sqrt(mean_squared_error(y_test,y_pred))"
   ]
  },
  {
   "cell_type": "markdown",
   "id": "3e8c3b70-3ff3-414b-8855-2df6d33a6249",
   "metadata": {},
   "source": [
    "## Model Tuning"
   ]
  },
  {
   "cell_type": "code",
   "execution_count": 155,
   "id": "3d47952f-84da-4499-b31a-1d03b7131ee3",
   "metadata": {},
   "outputs": [
    {
     "data": {
      "text/plain": [
       "XGBRegressor(base_score=None, booster=None, callbacks=None,\n",
       "             colsample_bylevel=None, colsample_bynode=None,\n",
       "             colsample_bytree=None, early_stopping_rounds=None,\n",
       "             enable_categorical=False, eval_metric=None, feature_types=None,\n",
       "             gamma=None, gpu_id=None, grow_policy=None, importance_type=None,\n",
       "             interaction_constraints=None, learning_rate=None, max_bin=None,\n",
       "             max_cat_threshold=None, max_cat_to_onehot=None,\n",
       "             max_delta_step=None, max_depth=None, max_leaves=None,\n",
       "             min_child_weight=None, missing=nan, monotone_constraints=None,\n",
       "             n_estimators=100, n_jobs=None, num_parallel_tree=None,\n",
       "             predictor=None, random_state=None, ...)"
      ]
     },
     "execution_count": 155,
     "metadata": {},
     "output_type": "execute_result"
    }
   ],
   "source": [
    "xgb_model"
   ]
  },
  {
   "cell_type": "code",
   "execution_count": 156,
   "id": "f59cca53-ef0d-48bf-b35d-66c152aca90f",
   "metadata": {},
   "outputs": [],
   "source": [
    "xgb_grid = {\n",
    "    \"colsample_bytree\":[0.4, 0.5,0.6,0.9,1],\n",
    "    \"learning_rate\": [0.01, 0.1,0.5],\n",
    "    \"max_depth\" : [2,3,4,5,6],\n",
    "    \"n_estimators\" : [2100,200,500,1000],\n",
    "    }"
   ]
  },
  {
   "cell_type": "code",
   "execution_count": 157,
   "id": "716c163b-a3b7-47b1-9749-9eaba8540884",
   "metadata": {},
   "outputs": [
    {
     "name": "stdout",
     "output_type": "stream",
     "text": [
      "Fitting 10 folds for each of 300 candidates, totalling 3000 fits\n"
     ]
    },
    {
     "data": {
      "text/plain": [
       "GridSearchCV(cv=10,\n",
       "             estimator=XGBRegressor(base_score=None, booster=None,\n",
       "                                    callbacks=None, colsample_bylevel=None,\n",
       "                                    colsample_bynode=None,\n",
       "                                    colsample_bytree=None,\n",
       "                                    early_stopping_rounds=None,\n",
       "                                    enable_categorical=False, eval_metric=None,\n",
       "                                    feature_types=None, gamma=None, gpu_id=None,\n",
       "                                    grow_policy=None, importance_type=None,\n",
       "                                    interaction_constraints=None,\n",
       "                                    learning_rate=None,...\n",
       "                                    max_cat_to_onehot=None, max_delta_step=None,\n",
       "                                    max_depth=None, max_leaves=None,\n",
       "                                    min_child_weight=None, missing=nan,\n",
       "                                    monotone_constraints=None, n_estimators=100,\n",
       "                                    n_jobs=None, num_parallel_tree=None,\n",
       "                                    predictor=None, random_state=None, ...),\n",
       "             n_jobs=-1,\n",
       "             param_grid={'colsample_bytree': [0.4, 0.5, 0.6, 0.9, 1],\n",
       "                         'learning_rate': [0.01, 0.1, 0.5],\n",
       "                         'max_depth': [2, 3, 4, 5, 6],\n",
       "                         'n_estimators': [2100, 200, 500, 1000]},\n",
       "             verbose=2)"
      ]
     },
     "execution_count": 157,
     "metadata": {},
     "output_type": "execute_result"
    }
   ],
   "source": [
    "xgb = XGBRegressor()\n",
    "\n",
    "xgb_cv = GridSearchCV(xgb,param_grid=xgb_grid, cv=10, n_jobs=-1, verbose=2)\n",
    "\n",
    "xgb_cv.fit(X_train, y_train)"
   ]
  },
  {
   "cell_type": "code",
   "execution_count": 158,
   "id": "2665c506-7841-453b-b465-d126ad47f59c",
   "metadata": {},
   "outputs": [
    {
     "data": {
      "text/plain": [
       "{'colsample_bytree': 0.5,\n",
       " 'learning_rate': 0.1,\n",
       " 'max_depth': 2,\n",
       " 'n_estimators': 500}"
      ]
     },
     "execution_count": 158,
     "metadata": {},
     "output_type": "execute_result"
    }
   ],
   "source": [
    "xgb_cv.best_params_"
   ]
  },
  {
   "cell_type": "code",
   "execution_count": 159,
   "id": "60492f03-1a0f-40e2-bc02-38a4bb7f3302",
   "metadata": {},
   "outputs": [],
   "source": [
    "xgb_tuned = XGBRegressor(colsample_bytree=0.9,learning_rate=0.1, max_depth=2, n_estimators=1000)\n",
    "\n",
    "xgb_tuned = xgb_tuned.fit(X_train, y_train)"
   ]
  },
  {
   "cell_type": "code",
   "execution_count": 160,
   "id": "42bd6e8d-d0c6-4a18-a108-59bfd8445ac2",
   "metadata": {},
   "outputs": [
    {
     "data": {
      "text/plain": [
       "357.1112418462617"
      ]
     },
     "execution_count": 160,
     "metadata": {},
     "output_type": "execute_result"
    }
   ],
   "source": [
    "y_pred = xgb_tuned.predict(X_test)\n",
    "np.sqrt(mean_squared_error(y_test, y_pred))"
   ]
  },
  {
   "cell_type": "markdown",
   "id": "dd9072df-9c1d-431f-b25c-d04801d5e969",
   "metadata": {},
   "source": [
    "## LightGBM"
   ]
  },
  {
   "cell_type": "code",
   "execution_count": 161,
   "id": "f48f5902-ec78-408d-a9c9-be20e532970b",
   "metadata": {},
   "outputs": [],
   "source": [
    "hit = pd.read_csv(\"Hitters.csv\")\n",
    "df = hit.copy()\n",
    "df = df.dropna()\n",
    "dms = pd.get_dummies(df[['League', 'Division', 'NewLeague']])\n",
    "y = df[\"Salary\"]\n",
    "X_ = df.drop(['Salary', 'League', 'Division', 'NewLeague'], axis=1).astype('float64')\n",
    "X = pd.concat([X_, dms[['League_N', 'Division_W', 'NewLeague_N']]], axis=1)\n",
    "X_train, X_test, y_train, y_test = train_test_split(X, y, \n",
    "                                                    test_size=0.25, \n",
    "                                                    random_state=42)"
   ]
  },
  {
   "cell_type": "code",
   "execution_count": 162,
   "id": "a2d82dc2-a435-43eb-ade7-f63ff9bade7f",
   "metadata": {},
   "outputs": [
    {
     "name": "stdout",
     "output_type": "stream",
     "text": [
      "Collecting lightgbm\n",
      "  Obtaining dependency information for lightgbm from https://files.pythonhosted.org/packages/b3/f8/ee33e36194eb03a76eccf3adac3fba51f0e56fbd20609bb531659d48d3cb/lightgbm-4.1.0-py3-none-win_amd64.whl.metadata\n",
      "  Downloading lightgbm-4.1.0-py3-none-win_amd64.whl.metadata (19 kB)\n",
      "Requirement already satisfied: numpy in c:\\users\\asus_\\anaconda3\\lib\\site-packages (from lightgbm) (1.22.4)\n",
      "Requirement already satisfied: scipy in c:\\users\\asus_\\anaconda3\\lib\\site-packages (from lightgbm) (1.7.3)\n",
      "Downloading lightgbm-4.1.0-py3-none-win_amd64.whl (1.3 MB)\n",
      "   ---------------------------------------- 1.3/1.3 MB 4.6 MB/s eta 0:00:00\n",
      "Installing collected packages: lightgbm\n",
      "Successfully installed lightgbm-4.1.0\n",
      "Note: you may need to restart the kernel to use updated packages.\n"
     ]
    }
   ],
   "source": [
    "#pip install lightgbm"
   ]
  },
  {
   "cell_type": "code",
   "execution_count": 163,
   "id": "5879940c-6ada-4d56-b810-bd7f417b3b50",
   "metadata": {},
   "outputs": [],
   "source": [
    "from lightgbm import LGBMRegressor"
   ]
  },
  {
   "cell_type": "code",
   "execution_count": 171,
   "id": "4fc23bde-cfa7-40e5-b350-e1396ff73262",
   "metadata": {},
   "outputs": [],
   "source": [
    "lgbm = LGBMRegressor(verbose=-1)\n",
    "lgbm_model = lgbm.fit(X_train, y_train)"
   ]
  },
  {
   "cell_type": "markdown",
   "id": "57af1dad-bc3e-4fc8-a82a-124e4dd19148",
   "metadata": {},
   "source": [
    "## Tahmin"
   ]
  },
  {
   "cell_type": "code",
   "execution_count": 172,
   "id": "a4cf915a-6c1e-4b8e-a2d6-a2ef25d0ef80",
   "metadata": {},
   "outputs": [],
   "source": [
    "y_pred = lgbm_model.predict(X_test, num_iteration=lgbm_model.best_iteration_)"
   ]
  },
  {
   "cell_type": "code",
   "execution_count": 173,
   "id": "69b8b85a-ce39-4b18-86cc-d4c78fbe72f0",
   "metadata": {},
   "outputs": [
    {
     "data": {
      "text/plain": [
       "363.8712087611089"
      ]
     },
     "execution_count": 173,
     "metadata": {},
     "output_type": "execute_result"
    }
   ],
   "source": [
    "np.sqrt(mean_squared_error(y_test, y_pred))"
   ]
  },
  {
   "cell_type": "markdown",
   "id": "8600c2ce-d424-40fa-b390-42c24b8273bf",
   "metadata": {},
   "source": [
    "## Model Tuning"
   ]
  },
  {
   "cell_type": "code",
   "execution_count": 174,
   "id": "f20258fa-2e0e-447c-9377-9be986f2c5df",
   "metadata": {},
   "outputs": [
    {
     "data": {
      "text/plain": [
       "LGBMRegressor(verbose=-1)"
      ]
     },
     "execution_count": 174,
     "metadata": {},
     "output_type": "execute_result"
    }
   ],
   "source": [
    "lgbm_model"
   ]
  },
  {
   "cell_type": "code",
   "execution_count": 177,
   "id": "328ae23f-0e94-45f4-b8c8-6e9c7bea742e",
   "metadata": {},
   "outputs": [],
   "source": [
    "lgbm_grid = {\n",
    "    \"colsample_bytree\":[0.4, 0.5,0.6,0.9,1],\n",
    "    \"learning_rate\": [0.01, 0.1,0.5,1],\n",
    "    \"max_depth\" : [1,2,3,4,5,6,7,8],\n",
    "    \"n_estimators\" : [20,40,100,200,500,1000],\n",
    "    }\n",
    "lgbm = LGBMRegressor()\n",
    "lgbm_cv_model = GridSearchCV(lgbm,lgbm_grid, cv=10, n_jobs=-1, verbose=2)"
   ]
  },
  {
   "cell_type": "code",
   "execution_count": 178,
   "id": "6e53addd-5267-4a57-b5e3-58b604f8b9fc",
   "metadata": {},
   "outputs": [
    {
     "name": "stdout",
     "output_type": "stream",
     "text": [
      "Fitting 10 folds for each of 960 candidates, totalling 9600 fits\n",
      "[LightGBM] [Warning] Accuracy may be bad since you didn't explicitly set num_leaves OR 2^max_depth > num_leaves. (num_leaves=31).\n",
      "[LightGBM] [Warning] Accuracy may be bad since you didn't explicitly set num_leaves OR 2^max_depth > num_leaves. (num_leaves=31).\n",
      "[LightGBM] [Info] Auto-choosing col-wise multi-threading, the overhead of testing was 0.000247 seconds.\n",
      "You can set `force_col_wise=true` to remove the overhead.\n",
      "[LightGBM] [Info] Total Bins 831\n",
      "[LightGBM] [Info] Number of data points in the train set: 197, number of used features: 19\n",
      "[LightGBM] [Info] Start training from score 543.483442\n",
      "[LightGBM] [Warning] No further splits with positive gain, best gain: -inf\n",
      "[LightGBM] [Warning] No further splits with positive gain, best gain: -inf\n",
      "[LightGBM] [Warning] No further splits with positive gain, best gain: -inf\n",
      "[LightGBM] [Warning] No further splits with positive gain, best gain: -inf\n",
      "[LightGBM] [Warning] No further splits with positive gain, best gain: -inf\n",
      "[LightGBM] [Warning] No further splits with positive gain, best gain: -inf\n",
      "[LightGBM] [Warning] No further splits with positive gain, best gain: -inf\n",
      "[LightGBM] [Warning] No further splits with positive gain, best gain: -inf\n",
      "[LightGBM] [Warning] No further splits with positive gain, best gain: -inf\n",
      "[LightGBM] [Warning] No further splits with positive gain, best gain: -inf\n",
      "[LightGBM] [Warning] No further splits with positive gain, best gain: -inf\n",
      "[LightGBM] [Warning] No further splits with positive gain, best gain: -inf\n",
      "[LightGBM] [Warning] No further splits with positive gain, best gain: -inf\n",
      "[LightGBM] [Warning] No further splits with positive gain, best gain: -inf\n",
      "[LightGBM] [Warning] No further splits with positive gain, best gain: -inf\n",
      "[LightGBM] [Warning] No further splits with positive gain, best gain: -inf\n",
      "[LightGBM] [Warning] No further splits with positive gain, best gain: -inf\n",
      "[LightGBM] [Warning] No further splits with positive gain, best gain: -inf\n",
      "[LightGBM] [Warning] No further splits with positive gain, best gain: -inf\n",
      "[LightGBM] [Warning] No further splits with positive gain, best gain: -inf\n"
     ]
    },
    {
     "data": {
      "text/plain": [
       "GridSearchCV(cv=10, estimator=LGBMRegressor(), n_jobs=-1,\n",
       "             param_grid={'colsample_bytree': [0.4, 0.5, 0.6, 0.9, 1],\n",
       "                         'learning_rate': [0.01, 0.1, 0.5, 1],\n",
       "                         'max_depth': [1, 2, 3, 4, 5, 6, 7, 8],\n",
       "                         'n_estimators': [20, 40, 100, 200, 500, 1000]},\n",
       "             verbose=2)"
      ]
     },
     "execution_count": 178,
     "metadata": {},
     "output_type": "execute_result"
    }
   ],
   "source": [
    "lgbm_cv_model.fit(X_train,y_train)"
   ]
  },
  {
   "cell_type": "code",
   "execution_count": 179,
   "id": "3ed21122-eb09-47b6-b29f-4e85dd6c395a",
   "metadata": {},
   "outputs": [
    {
     "data": {
      "text/plain": [
       "{'colsample_bytree': 0.5,\n",
       " 'learning_rate': 0.1,\n",
       " 'max_depth': 6,\n",
       " 'n_estimators': 20}"
      ]
     },
     "execution_count": 179,
     "metadata": {},
     "output_type": "execute_result"
    }
   ],
   "source": [
    "lgbm_cv_model.best_params_"
   ]
  },
  {
   "cell_type": "code",
   "execution_count": 181,
   "id": "9017a8be-f685-4d2a-bfb6-3408ad4461ed",
   "metadata": {},
   "outputs": [],
   "source": [
    "lgbm_tuned = LGBMRegressor(learning_rate=0.1,max_depth=7, n_estimators=40, colsample_bytree=0.6,verbose=-1)\n",
    "\n",
    "lgbm_tuned = lgbm_tuned.fit(X_train, y_train)"
   ]
  },
  {
   "cell_type": "code",
   "execution_count": 182,
   "id": "b94bdc0a-397b-4fef-b5cf-885019262608",
   "metadata": {},
   "outputs": [],
   "source": [
    "y_pred = lgbm_tuned.predict(X_test)"
   ]
  },
  {
   "cell_type": "code",
   "execution_count": 183,
   "id": "1a591525-c767-4bcf-90db-49b80b17b2c8",
   "metadata": {},
   "outputs": [
    {
     "data": {
      "text/plain": [
       "372.7342551250238"
      ]
     },
     "execution_count": 183,
     "metadata": {},
     "output_type": "execute_result"
    }
   ],
   "source": [
    "np.sqrt(mean_squared_error(y_test, y_pred))"
   ]
  },
  {
   "cell_type": "markdown",
   "id": "7f4213b2-1b7a-49cb-b49c-f6a8a37f8f89",
   "metadata": {},
   "source": [
    "## CatBoost( Category Boosting)"
   ]
  },
  {
   "cell_type": "code",
   "execution_count": 184,
   "id": "acc95694-9b81-497b-9c8a-8d8b877398e8",
   "metadata": {},
   "outputs": [],
   "source": [
    "hit = pd.read_csv(\"Hitters.csv\")\n",
    "df = hit.copy()\n",
    "df = df.dropna()\n",
    "dms = pd.get_dummies(df[['League', 'Division', 'NewLeague']])\n",
    "y = df[\"Salary\"]\n",
    "X_ = df.drop(['Salary', 'League', 'Division', 'NewLeague'], axis=1).astype('float64')\n",
    "X = pd.concat([X_, dms[['League_N', 'Division_W', 'NewLeague_N']]], axis=1)\n",
    "X_train, X_test, y_train, y_test = train_test_split(X, y, \n",
    "                                                    test_size=0.25, \n",
    "                                                    random_state=42)"
   ]
  },
  {
   "cell_type": "code",
   "execution_count": 185,
   "id": "254a0662-9f62-4317-86ed-fa43b5e8d429",
   "metadata": {},
   "outputs": [
    {
     "name": "stdout",
     "output_type": "stream",
     "text": [
      "Collecting catboost\n",
      "  Obtaining dependency information for catboost from https://files.pythonhosted.org/packages/0c/cd/a05bbb220e9b45b4cadcb22d5e801aeece7b301f5775d78e13972d0f60cf/catboost-1.2.2-cp39-cp39-win_amd64.whl.metadata\n",
      "  Downloading catboost-1.2.2-cp39-cp39-win_amd64.whl.metadata (1.2 kB)\n",
      "Collecting graphviz (from catboost)\n",
      "  Downloading graphviz-0.20.1-py3-none-any.whl (47 kB)\n",
      "     ---------------------------------------- 47.0/47.0 kB 2.5 MB/s eta 0:00:00\n",
      "Requirement already satisfied: matplotlib in c:\\users\\asus_\\anaconda3\\lib\\site-packages (from catboost) (3.5.1)\n",
      "Requirement already satisfied: numpy>=1.16.0 in c:\\users\\asus_\\anaconda3\\lib\\site-packages (from catboost) (1.22.4)\n",
      "Requirement already satisfied: pandas>=0.24 in c:\\users\\asus_\\anaconda3\\lib\\site-packages (from catboost) (1.4.2)\n",
      "Requirement already satisfied: scipy in c:\\users\\asus_\\anaconda3\\lib\\site-packages (from catboost) (1.7.3)\n",
      "Requirement already satisfied: plotly in c:\\users\\asus_\\anaconda3\\lib\\site-packages (from catboost) (5.6.0)\n",
      "Requirement already satisfied: six in c:\\users\\asus_\\anaconda3\\lib\\site-packages (from catboost) (1.16.0)\n",
      "Requirement already satisfied: python-dateutil>=2.8.1 in c:\\users\\asus_\\anaconda3\\lib\\site-packages (from pandas>=0.24->catboost) (2.8.2)\n",
      "Requirement already satisfied: pytz>=2020.1 in c:\\users\\asus_\\anaconda3\\lib\\site-packages (from pandas>=0.24->catboost) (2021.3)\n",
      "Requirement already satisfied: cycler>=0.10 in c:\\users\\asus_\\anaconda3\\lib\\site-packages (from matplotlib->catboost) (0.11.0)\n",
      "Requirement already satisfied: fonttools>=4.22.0 in c:\\users\\asus_\\anaconda3\\lib\\site-packages (from matplotlib->catboost) (4.25.0)\n",
      "Requirement already satisfied: kiwisolver>=1.0.1 in c:\\users\\asus_\\anaconda3\\lib\\site-packages (from matplotlib->catboost) (1.3.2)\n",
      "Requirement already satisfied: packaging>=20.0 in c:\\users\\asus_\\anaconda3\\lib\\site-packages (from matplotlib->catboost) (21.3)\n",
      "Requirement already satisfied: pillow>=6.2.0 in c:\\users\\asus_\\anaconda3\\lib\\site-packages (from matplotlib->catboost) (9.0.1)\n",
      "Requirement already satisfied: pyparsing>=2.2.1 in c:\\users\\asus_\\anaconda3\\lib\\site-packages (from matplotlib->catboost) (3.0.4)\n",
      "Requirement already satisfied: tenacity>=6.2.0 in c:\\users\\asus_\\anaconda3\\lib\\site-packages (from plotly->catboost) (8.0.1)\n",
      "Downloading catboost-1.2.2-cp39-cp39-win_amd64.whl (101.0 MB)\n",
      "   ---------------------------------------- 101.0/101.0 MB 5.3 MB/s eta 0:00:00\n",
      "Installing collected packages: graphviz, catboost\n",
      "Successfully installed catboost-1.2.2 graphviz-0.20.1\n"
     ]
    }
   ],
   "source": [
    "! pip install catboost"
   ]
  },
  {
   "cell_type": "code",
   "execution_count": 186,
   "id": "602f220a-79f6-47d0-bccf-4883709838ad",
   "metadata": {},
   "outputs": [],
   "source": [
    "from catboost import CatBoostRegressor"
   ]
  },
  {
   "cell_type": "code",
   "execution_count": 187,
   "id": "45655b0e-d7cb-4b44-a9fd-08823d0ff014",
   "metadata": {
    "collapsed": true,
    "jupyter": {
     "outputs_hidden": true
    },
    "tags": []
   },
   "outputs": [
    {
     "name": "stdout",
     "output_type": "stream",
     "text": [
      "Learning rate set to 0.031674\n",
      "0:\tlearn: 437.6430699\ttotal: 142ms\tremaining: 2m 21s\n",
      "1:\tlearn: 431.3923642\ttotal: 146ms\tremaining: 1m 12s\n",
      "2:\tlearn: 424.8820360\ttotal: 149ms\tremaining: 49.5s\n",
      "3:\tlearn: 418.2514904\ttotal: 152ms\tremaining: 37.9s\n",
      "4:\tlearn: 412.6394021\ttotal: 156ms\tremaining: 31s\n",
      "5:\tlearn: 406.6247020\ttotal: 159ms\tremaining: 26.3s\n",
      "6:\tlearn: 400.5321206\ttotal: 162ms\tremaining: 22.9s\n",
      "7:\tlearn: 394.6683437\ttotal: 164ms\tremaining: 20.3s\n",
      "8:\tlearn: 388.2496484\ttotal: 166ms\tremaining: 18.3s\n",
      "9:\tlearn: 382.9448842\ttotal: 168ms\tremaining: 16.6s\n",
      "10:\tlearn: 377.2600080\ttotal: 170ms\tremaining: 15.2s\n",
      "11:\tlearn: 372.4829606\ttotal: 171ms\tremaining: 14.1s\n",
      "12:\tlearn: 366.6823437\ttotal: 173ms\tremaining: 13.1s\n",
      "13:\tlearn: 362.6076230\ttotal: 175ms\tremaining: 12.3s\n",
      "14:\tlearn: 358.0107745\ttotal: 177ms\tremaining: 11.6s\n",
      "15:\tlearn: 353.2802665\ttotal: 179ms\tremaining: 11s\n",
      "16:\tlearn: 348.5646265\ttotal: 180ms\tremaining: 10.4s\n",
      "17:\tlearn: 343.6407912\ttotal: 182ms\tremaining: 9.9s\n",
      "18:\tlearn: 339.2363847\ttotal: 183ms\tremaining: 9.45s\n",
      "19:\tlearn: 334.3431252\ttotal: 185ms\tremaining: 9.04s\n",
      "20:\tlearn: 330.3247028\ttotal: 186ms\tremaining: 8.68s\n",
      "21:\tlearn: 326.6118334\ttotal: 188ms\tremaining: 8.34s\n",
      "22:\tlearn: 322.7759981\ttotal: 189ms\tremaining: 8.03s\n",
      "23:\tlearn: 318.9511822\ttotal: 191ms\tremaining: 7.75s\n",
      "24:\tlearn: 315.4216253\ttotal: 207ms\tremaining: 8.09s\n",
      "25:\tlearn: 311.3551377\ttotal: 209ms\tremaining: 7.82s\n",
      "26:\tlearn: 308.1492371\ttotal: 210ms\tremaining: 7.57s\n",
      "27:\tlearn: 304.7284729\ttotal: 211ms\tremaining: 7.34s\n",
      "28:\tlearn: 301.3893204\ttotal: 213ms\tremaining: 7.12s\n",
      "29:\tlearn: 298.2080758\ttotal: 214ms\tremaining: 6.92s\n",
      "30:\tlearn: 295.6878398\ttotal: 215ms\tremaining: 6.73s\n",
      "31:\tlearn: 292.3912243\ttotal: 217ms\tremaining: 6.56s\n",
      "32:\tlearn: 289.6345744\ttotal: 218ms\tremaining: 6.39s\n",
      "33:\tlearn: 287.2158711\ttotal: 220ms\tremaining: 6.24s\n",
      "34:\tlearn: 284.3879081\ttotal: 221ms\tremaining: 6.1s\n",
      "35:\tlearn: 281.7994818\ttotal: 223ms\tremaining: 5.97s\n",
      "36:\tlearn: 279.2028261\ttotal: 224ms\tremaining: 5.83s\n",
      "37:\tlearn: 276.5821160\ttotal: 226ms\tremaining: 5.71s\n",
      "38:\tlearn: 273.8890894\ttotal: 227ms\tremaining: 5.59s\n",
      "39:\tlearn: 271.1681677\ttotal: 228ms\tremaining: 5.48s\n",
      "40:\tlearn: 269.0159531\ttotal: 230ms\tremaining: 5.38s\n",
      "41:\tlearn: 266.3601804\ttotal: 231ms\tremaining: 5.28s\n",
      "42:\tlearn: 263.8608958\ttotal: 233ms\tremaining: 5.18s\n",
      "43:\tlearn: 261.1405566\ttotal: 234ms\tremaining: 5.08s\n",
      "44:\tlearn: 258.9314736\ttotal: 235ms\tremaining: 5s\n",
      "45:\tlearn: 256.3885577\ttotal: 237ms\tremaining: 4.91s\n",
      "46:\tlearn: 254.2857349\ttotal: 238ms\tremaining: 4.83s\n",
      "47:\tlearn: 252.2347121\ttotal: 239ms\tremaining: 4.75s\n",
      "48:\tlearn: 250.1779367\ttotal: 241ms\tremaining: 4.67s\n",
      "49:\tlearn: 248.2687430\ttotal: 242ms\tremaining: 4.6s\n",
      "50:\tlearn: 246.3685582\ttotal: 243ms\tremaining: 4.53s\n",
      "51:\tlearn: 244.8719988\ttotal: 245ms\tremaining: 4.46s\n",
      "52:\tlearn: 242.7348892\ttotal: 246ms\tremaining: 4.4s\n",
      "53:\tlearn: 241.1611112\ttotal: 247ms\tremaining: 4.33s\n",
      "54:\tlearn: 239.4819462\ttotal: 249ms\tremaining: 4.27s\n",
      "55:\tlearn: 237.3877895\ttotal: 250ms\tremaining: 4.21s\n",
      "56:\tlearn: 235.7619262\ttotal: 251ms\tremaining: 4.16s\n",
      "57:\tlearn: 233.9604804\ttotal: 252ms\tremaining: 4.1s\n",
      "58:\tlearn: 232.4948011\ttotal: 254ms\tremaining: 4.04s\n",
      "59:\tlearn: 230.6283304\ttotal: 255ms\tremaining: 4s\n",
      "60:\tlearn: 228.9920307\ttotal: 256ms\tremaining: 3.94s\n",
      "61:\tlearn: 227.5197637\ttotal: 258ms\tremaining: 3.9s\n",
      "62:\tlearn: 226.0561213\ttotal: 259ms\tremaining: 3.85s\n",
      "63:\tlearn: 224.3484762\ttotal: 260ms\tremaining: 3.8s\n",
      "64:\tlearn: 223.0652023\ttotal: 261ms\tremaining: 3.76s\n",
      "65:\tlearn: 221.6608069\ttotal: 263ms\tremaining: 3.72s\n",
      "66:\tlearn: 220.2445284\ttotal: 264ms\tremaining: 3.67s\n",
      "67:\tlearn: 219.0044262\ttotal: 265ms\tremaining: 3.63s\n",
      "68:\tlearn: 217.4624313\ttotal: 266ms\tremaining: 3.59s\n",
      "69:\tlearn: 216.0502248\ttotal: 268ms\tremaining: 3.55s\n",
      "70:\tlearn: 214.5361705\ttotal: 269ms\tremaining: 3.52s\n",
      "71:\tlearn: 213.1812509\ttotal: 270ms\tremaining: 3.48s\n",
      "72:\tlearn: 211.7399390\ttotal: 271ms\tremaining: 3.45s\n",
      "73:\tlearn: 210.5557639\ttotal: 273ms\tremaining: 3.41s\n",
      "74:\tlearn: 209.4242283\ttotal: 274ms\tremaining: 3.38s\n",
      "75:\tlearn: 208.4366109\ttotal: 275ms\tremaining: 3.35s\n",
      "76:\tlearn: 207.4514860\ttotal: 276ms\tremaining: 3.31s\n",
      "77:\tlearn: 206.1912213\ttotal: 278ms\tremaining: 3.28s\n",
      "78:\tlearn: 205.2585316\ttotal: 279ms\tremaining: 3.25s\n",
      "79:\tlearn: 203.8747879\ttotal: 280ms\tremaining: 3.22s\n",
      "80:\tlearn: 202.5993031\ttotal: 281ms\tremaining: 3.19s\n",
      "81:\tlearn: 201.4719061\ttotal: 283ms\tremaining: 3.16s\n",
      "82:\tlearn: 200.2871874\ttotal: 284ms\tremaining: 3.14s\n",
      "83:\tlearn: 199.1074683\ttotal: 285ms\tremaining: 3.11s\n",
      "84:\tlearn: 197.8511342\ttotal: 286ms\tremaining: 3.08s\n",
      "85:\tlearn: 196.8788042\ttotal: 288ms\tremaining: 3.06s\n",
      "86:\tlearn: 195.9815130\ttotal: 289ms\tremaining: 3.03s\n",
      "87:\tlearn: 195.0807956\ttotal: 290ms\tremaining: 3.01s\n",
      "88:\tlearn: 193.9775466\ttotal: 291ms\tremaining: 2.98s\n",
      "89:\tlearn: 192.8810426\ttotal: 293ms\tremaining: 2.96s\n",
      "90:\tlearn: 192.5363626\ttotal: 294ms\tremaining: 2.94s\n",
      "91:\tlearn: 191.3259849\ttotal: 295ms\tremaining: 2.91s\n",
      "92:\tlearn: 190.3650025\ttotal: 296ms\tremaining: 2.89s\n",
      "93:\tlearn: 189.3255643\ttotal: 298ms\tremaining: 2.87s\n",
      "94:\tlearn: 188.2433480\ttotal: 299ms\tremaining: 2.85s\n",
      "95:\tlearn: 187.2786096\ttotal: 300ms\tremaining: 2.83s\n",
      "96:\tlearn: 186.1284681\ttotal: 301ms\tremaining: 2.8s\n",
      "97:\tlearn: 185.0190872\ttotal: 302ms\tremaining: 2.78s\n",
      "98:\tlearn: 184.2888024\ttotal: 304ms\tremaining: 2.76s\n",
      "99:\tlearn: 183.3111217\ttotal: 305ms\tremaining: 2.75s\n",
      "100:\tlearn: 182.2519940\ttotal: 306ms\tremaining: 2.73s\n",
      "101:\tlearn: 181.0186200\ttotal: 308ms\tremaining: 2.71s\n",
      "102:\tlearn: 179.9672344\ttotal: 309ms\tremaining: 2.69s\n",
      "103:\tlearn: 178.9776753\ttotal: 310ms\tremaining: 2.67s\n",
      "104:\tlearn: 178.2445101\ttotal: 311ms\tremaining: 2.65s\n",
      "105:\tlearn: 177.4055906\ttotal: 312ms\tremaining: 2.63s\n",
      "106:\tlearn: 176.2405445\ttotal: 314ms\tremaining: 2.62s\n",
      "107:\tlearn: 175.1813091\ttotal: 315ms\tremaining: 2.6s\n",
      "108:\tlearn: 174.5537682\ttotal: 316ms\tremaining: 2.58s\n",
      "109:\tlearn: 173.8231890\ttotal: 317ms\tremaining: 2.57s\n",
      "110:\tlearn: 172.9324461\ttotal: 319ms\tremaining: 2.55s\n",
      "111:\tlearn: 172.0019421\ttotal: 320ms\tremaining: 2.54s\n",
      "112:\tlearn: 171.2945678\ttotal: 321ms\tremaining: 2.52s\n",
      "113:\tlearn: 170.4815313\ttotal: 322ms\tremaining: 2.5s\n",
      "114:\tlearn: 169.9491294\ttotal: 324ms\tremaining: 2.49s\n",
      "115:\tlearn: 169.2483859\ttotal: 325ms\tremaining: 2.48s\n",
      "116:\tlearn: 168.7342383\ttotal: 326ms\tremaining: 2.46s\n",
      "117:\tlearn: 168.1837140\ttotal: 328ms\tremaining: 2.45s\n",
      "118:\tlearn: 167.1222358\ttotal: 329ms\tremaining: 2.44s\n",
      "119:\tlearn: 166.3472734\ttotal: 331ms\tremaining: 2.43s\n",
      "120:\tlearn: 165.5330342\ttotal: 332ms\tremaining: 2.41s\n",
      "121:\tlearn: 164.8476246\ttotal: 333ms\tremaining: 2.4s\n",
      "122:\tlearn: 164.2399797\ttotal: 335ms\tremaining: 2.39s\n",
      "123:\tlearn: 164.0121571\ttotal: 336ms\tremaining: 2.38s\n",
      "124:\tlearn: 162.9794212\ttotal: 338ms\tremaining: 2.36s\n",
      "125:\tlearn: 162.2095741\ttotal: 339ms\tremaining: 2.35s\n",
      "126:\tlearn: 161.1695920\ttotal: 340ms\tremaining: 2.34s\n",
      "127:\tlearn: 160.3516612\ttotal: 341ms\tremaining: 2.33s\n",
      "128:\tlearn: 159.1596356\ttotal: 343ms\tremaining: 2.31s\n",
      "129:\tlearn: 158.5354394\ttotal: 344ms\tremaining: 2.3s\n",
      "130:\tlearn: 157.5922383\ttotal: 346ms\tremaining: 2.29s\n",
      "131:\tlearn: 156.9689796\ttotal: 347ms\tremaining: 2.28s\n",
      "132:\tlearn: 156.4170623\ttotal: 349ms\tremaining: 2.27s\n",
      "133:\tlearn: 156.1222595\ttotal: 351ms\tremaining: 2.27s\n",
      "134:\tlearn: 155.5996569\ttotal: 352ms\tremaining: 2.25s\n",
      "135:\tlearn: 154.8990155\ttotal: 353ms\tremaining: 2.24s\n",
      "136:\tlearn: 154.3704896\ttotal: 355ms\tremaining: 2.23s\n",
      "137:\tlearn: 153.8560012\ttotal: 356ms\tremaining: 2.22s\n",
      "138:\tlearn: 153.2399938\ttotal: 358ms\tremaining: 2.22s\n",
      "139:\tlearn: 152.2142414\ttotal: 360ms\tremaining: 2.21s\n",
      "140:\tlearn: 151.5976950\ttotal: 362ms\tremaining: 2.2s\n",
      "141:\tlearn: 151.4426506\ttotal: 363ms\tremaining: 2.19s\n",
      "142:\tlearn: 150.8467135\ttotal: 364ms\tremaining: 2.18s\n",
      "143:\tlearn: 150.0175883\ttotal: 365ms\tremaining: 2.17s\n",
      "144:\tlearn: 149.6327647\ttotal: 367ms\tremaining: 2.16s\n",
      "145:\tlearn: 148.9265718\ttotal: 368ms\tremaining: 2.15s\n",
      "146:\tlearn: 148.4460764\ttotal: 369ms\tremaining: 2.14s\n",
      "147:\tlearn: 147.8108318\ttotal: 370ms\tremaining: 2.13s\n",
      "148:\tlearn: 147.2766525\ttotal: 372ms\tremaining: 2.12s\n",
      "149:\tlearn: 146.8537279\ttotal: 373ms\tremaining: 2.11s\n",
      "150:\tlearn: 146.0227438\ttotal: 374ms\tremaining: 2.1s\n",
      "151:\tlearn: 145.5603059\ttotal: 376ms\tremaining: 2.1s\n",
      "152:\tlearn: 145.0318400\ttotal: 377ms\tremaining: 2.09s\n",
      "153:\tlearn: 144.6082188\ttotal: 378ms\tremaining: 2.08s\n",
      "154:\tlearn: 144.2070501\ttotal: 379ms\tremaining: 2.07s\n",
      "155:\tlearn: 143.8060676\ttotal: 381ms\tremaining: 2.06s\n",
      "156:\tlearn: 143.3819707\ttotal: 382ms\tremaining: 2.05s\n",
      "157:\tlearn: 143.0764402\ttotal: 383ms\tremaining: 2.04s\n",
      "158:\tlearn: 142.4609449\ttotal: 384ms\tremaining: 2.03s\n",
      "159:\tlearn: 142.3321970\ttotal: 386ms\tremaining: 2.02s\n",
      "160:\tlearn: 141.9044208\ttotal: 387ms\tremaining: 2.02s\n",
      "161:\tlearn: 141.4544471\ttotal: 388ms\tremaining: 2.01s\n",
      "162:\tlearn: 140.9391569\ttotal: 389ms\tremaining: 2s\n",
      "163:\tlearn: 140.3413557\ttotal: 391ms\tremaining: 1.99s\n",
      "164:\tlearn: 139.7992277\ttotal: 392ms\tremaining: 1.98s\n",
      "165:\tlearn: 139.3139418\ttotal: 393ms\tremaining: 1.98s\n",
      "166:\tlearn: 139.1617594\ttotal: 395ms\tremaining: 1.97s\n",
      "167:\tlearn: 138.8837397\ttotal: 396ms\tremaining: 1.96s\n",
      "168:\tlearn: 138.6951410\ttotal: 397ms\tremaining: 1.95s\n",
      "169:\tlearn: 138.0167618\ttotal: 398ms\tremaining: 1.94s\n",
      "170:\tlearn: 137.7020324\ttotal: 399ms\tremaining: 1.94s\n",
      "171:\tlearn: 137.1976478\ttotal: 401ms\tremaining: 1.93s\n",
      "172:\tlearn: 136.6670434\ttotal: 402ms\tremaining: 1.92s\n",
      "173:\tlearn: 136.4670074\ttotal: 403ms\tremaining: 1.91s\n",
      "174:\tlearn: 136.0663779\ttotal: 404ms\tremaining: 1.91s\n",
      "175:\tlearn: 135.9542221\ttotal: 406ms\tremaining: 1.9s\n",
      "176:\tlearn: 135.6178437\ttotal: 407ms\tremaining: 1.89s\n",
      "177:\tlearn: 134.6062854\ttotal: 408ms\tremaining: 1.88s\n",
      "178:\tlearn: 134.5063344\ttotal: 409ms\tremaining: 1.88s\n",
      "179:\tlearn: 133.9371247\ttotal: 410ms\tremaining: 1.87s\n",
      "180:\tlearn: 133.8431589\ttotal: 411ms\tremaining: 1.86s\n",
      "181:\tlearn: 133.4293648\ttotal: 412ms\tremaining: 1.85s\n",
      "182:\tlearn: 133.2065999\ttotal: 413ms\tremaining: 1.84s\n",
      "183:\tlearn: 132.9235113\ttotal: 414ms\tremaining: 1.84s\n",
      "184:\tlearn: 132.6695944\ttotal: 415ms\tremaining: 1.83s\n",
      "185:\tlearn: 132.3135234\ttotal: 417ms\tremaining: 1.82s\n",
      "186:\tlearn: 132.2233433\ttotal: 418ms\tremaining: 1.81s\n",
      "187:\tlearn: 132.0628764\ttotal: 419ms\tremaining: 1.81s\n",
      "188:\tlearn: 131.8624217\ttotal: 420ms\tremaining: 1.8s\n",
      "189:\tlearn: 131.3846390\ttotal: 422ms\tremaining: 1.8s\n",
      "190:\tlearn: 131.0638781\ttotal: 423ms\tremaining: 1.79s\n",
      "191:\tlearn: 130.4721276\ttotal: 424ms\tremaining: 1.78s\n",
      "192:\tlearn: 129.9910319\ttotal: 425ms\tremaining: 1.78s\n",
      "193:\tlearn: 129.7074214\ttotal: 427ms\tremaining: 1.77s\n",
      "194:\tlearn: 129.0491404\ttotal: 428ms\tremaining: 1.77s\n",
      "195:\tlearn: 128.6928621\ttotal: 429ms\tremaining: 1.76s\n",
      "196:\tlearn: 128.5117514\ttotal: 430ms\tremaining: 1.75s\n",
      "197:\tlearn: 128.4035709\ttotal: 432ms\tremaining: 1.75s\n",
      "198:\tlearn: 127.9924182\ttotal: 433ms\tremaining: 1.74s\n",
      "199:\tlearn: 127.7690317\ttotal: 434ms\tremaining: 1.74s\n",
      "200:\tlearn: 127.6252249\ttotal: 435ms\tremaining: 1.73s\n",
      "201:\tlearn: 127.4951417\ttotal: 436ms\tremaining: 1.72s\n",
      "202:\tlearn: 127.0315349\ttotal: 438ms\tremaining: 1.72s\n",
      "203:\tlearn: 126.7791475\ttotal: 439ms\tremaining: 1.71s\n",
      "204:\tlearn: 126.4903107\ttotal: 440ms\tremaining: 1.71s\n",
      "205:\tlearn: 126.0664803\ttotal: 441ms\tremaining: 1.7s\n",
      "206:\tlearn: 125.3934071\ttotal: 443ms\tremaining: 1.7s\n",
      "207:\tlearn: 125.0899622\ttotal: 444ms\tremaining: 1.69s\n",
      "208:\tlearn: 124.7757310\ttotal: 445ms\tremaining: 1.68s\n",
      "209:\tlearn: 124.5475960\ttotal: 446ms\tremaining: 1.68s\n",
      "210:\tlearn: 124.1962887\ttotal: 448ms\tremaining: 1.67s\n",
      "211:\tlearn: 123.9686937\ttotal: 449ms\tremaining: 1.67s\n",
      "212:\tlearn: 123.0280048\ttotal: 450ms\tremaining: 1.66s\n",
      "213:\tlearn: 122.5447141\ttotal: 451ms\tremaining: 1.66s\n",
      "214:\tlearn: 122.1785305\ttotal: 453ms\tremaining: 1.65s\n",
      "215:\tlearn: 121.4403560\ttotal: 454ms\tremaining: 1.65s\n",
      "216:\tlearn: 120.8269584\ttotal: 455ms\tremaining: 1.64s\n",
      "217:\tlearn: 120.2399329\ttotal: 456ms\tremaining: 1.64s\n",
      "218:\tlearn: 119.4852557\ttotal: 457ms\tremaining: 1.63s\n",
      "219:\tlearn: 119.2094151\ttotal: 459ms\tremaining: 1.63s\n",
      "220:\tlearn: 119.0417229\ttotal: 460ms\tremaining: 1.62s\n",
      "221:\tlearn: 118.9557915\ttotal: 461ms\tremaining: 1.62s\n",
      "222:\tlearn: 118.3082421\ttotal: 462ms\tremaining: 1.61s\n",
      "223:\tlearn: 117.7364211\ttotal: 464ms\tremaining: 1.61s\n",
      "224:\tlearn: 117.6324235\ttotal: 465ms\tremaining: 1.6s\n",
      "225:\tlearn: 117.2879743\ttotal: 467ms\tremaining: 1.6s\n",
      "226:\tlearn: 117.0422612\ttotal: 468ms\tremaining: 1.59s\n",
      "227:\tlearn: 116.8001379\ttotal: 469ms\tremaining: 1.59s\n",
      "228:\tlearn: 116.4854978\ttotal: 470ms\tremaining: 1.58s\n",
      "229:\tlearn: 115.7559740\ttotal: 472ms\tremaining: 1.58s\n",
      "230:\tlearn: 115.1896271\ttotal: 473ms\tremaining: 1.57s\n",
      "231:\tlearn: 114.9666291\ttotal: 474ms\tremaining: 1.57s\n",
      "232:\tlearn: 114.1239318\ttotal: 475ms\tremaining: 1.56s\n",
      "233:\tlearn: 113.9964466\ttotal: 477ms\tremaining: 1.56s\n",
      "234:\tlearn: 113.8912592\ttotal: 478ms\tremaining: 1.55s\n",
      "235:\tlearn: 113.4606970\ttotal: 479ms\tremaining: 1.55s\n",
      "236:\tlearn: 113.0958922\ttotal: 480ms\tremaining: 1.55s\n",
      "237:\tlearn: 113.0091361\ttotal: 482ms\tremaining: 1.54s\n",
      "238:\tlearn: 112.7657197\ttotal: 483ms\tremaining: 1.54s\n",
      "239:\tlearn: 112.2315070\ttotal: 484ms\tremaining: 1.53s\n",
      "240:\tlearn: 111.9507125\ttotal: 485ms\tremaining: 1.53s\n",
      "241:\tlearn: 111.7384492\ttotal: 487ms\tremaining: 1.52s\n",
      "242:\tlearn: 111.0693763\ttotal: 488ms\tremaining: 1.52s\n",
      "243:\tlearn: 110.3499926\ttotal: 490ms\tremaining: 1.52s\n",
      "244:\tlearn: 110.2316231\ttotal: 491ms\tremaining: 1.51s\n",
      "245:\tlearn: 109.6985998\ttotal: 493ms\tremaining: 1.51s\n",
      "246:\tlearn: 109.4279824\ttotal: 494ms\tremaining: 1.5s\n",
      "247:\tlearn: 109.1466762\ttotal: 495ms\tremaining: 1.5s\n",
      "248:\tlearn: 108.9628542\ttotal: 497ms\tremaining: 1.5s\n",
      "249:\tlearn: 108.7268676\ttotal: 498ms\tremaining: 1.49s\n",
      "250:\tlearn: 108.0921190\ttotal: 499ms\tremaining: 1.49s\n",
      "251:\tlearn: 107.6167844\ttotal: 500ms\tremaining: 1.49s\n",
      "252:\tlearn: 106.9716563\ttotal: 502ms\tremaining: 1.48s\n",
      "253:\tlearn: 106.4272485\ttotal: 503ms\tremaining: 1.48s\n",
      "254:\tlearn: 106.2032614\ttotal: 504ms\tremaining: 1.47s\n",
      "255:\tlearn: 105.5756794\ttotal: 506ms\tremaining: 1.47s\n",
      "256:\tlearn: 105.4918649\ttotal: 507ms\tremaining: 1.47s\n",
      "257:\tlearn: 105.2466976\ttotal: 508ms\tremaining: 1.46s\n",
      "258:\tlearn: 105.0461428\ttotal: 510ms\tremaining: 1.46s\n",
      "259:\tlearn: 104.5887628\ttotal: 511ms\tremaining: 1.46s\n",
      "260:\tlearn: 104.1305873\ttotal: 513ms\tremaining: 1.45s\n",
      "261:\tlearn: 103.5527158\ttotal: 514ms\tremaining: 1.45s\n",
      "262:\tlearn: 103.0334823\ttotal: 515ms\tremaining: 1.44s\n",
      "263:\tlearn: 102.6732388\ttotal: 517ms\tremaining: 1.44s\n",
      "264:\tlearn: 102.4678728\ttotal: 519ms\tremaining: 1.44s\n",
      "265:\tlearn: 101.9608852\ttotal: 521ms\tremaining: 1.44s\n",
      "266:\tlearn: 101.4449668\ttotal: 522ms\tremaining: 1.43s\n",
      "267:\tlearn: 100.9647899\ttotal: 524ms\tremaining: 1.43s\n",
      "268:\tlearn: 100.4376357\ttotal: 525ms\tremaining: 1.43s\n",
      "269:\tlearn: 100.1038322\ttotal: 526ms\tremaining: 1.42s\n",
      "270:\tlearn: 99.8991183\ttotal: 532ms\tremaining: 1.43s\n",
      "271:\tlearn: 99.4016031\ttotal: 536ms\tremaining: 1.43s\n",
      "272:\tlearn: 98.9231252\ttotal: 539ms\tremaining: 1.43s\n",
      "273:\tlearn: 98.5734863\ttotal: 542ms\tremaining: 1.43s\n",
      "274:\tlearn: 98.3333355\ttotal: 544ms\tremaining: 1.43s\n",
      "275:\tlearn: 97.9164082\ttotal: 547ms\tremaining: 1.43s\n",
      "276:\tlearn: 97.3911203\ttotal: 549ms\tremaining: 1.43s\n",
      "277:\tlearn: 96.9317789\ttotal: 551ms\tremaining: 1.43s\n",
      "278:\tlearn: 96.6243997\ttotal: 553ms\tremaining: 1.43s\n",
      "279:\tlearn: 96.3288821\ttotal: 555ms\tremaining: 1.43s\n",
      "280:\tlearn: 95.8579534\ttotal: 556ms\tremaining: 1.42s\n",
      "281:\tlearn: 95.4136026\ttotal: 558ms\tremaining: 1.42s\n",
      "282:\tlearn: 95.3442077\ttotal: 559ms\tremaining: 1.42s\n",
      "283:\tlearn: 95.1166584\ttotal: 561ms\tremaining: 1.41s\n",
      "284:\tlearn: 94.8017360\ttotal: 562ms\tremaining: 1.41s\n",
      "285:\tlearn: 94.5863908\ttotal: 564ms\tremaining: 1.41s\n",
      "286:\tlearn: 94.4111694\ttotal: 565ms\tremaining: 1.4s\n",
      "287:\tlearn: 94.2678024\ttotal: 566ms\tremaining: 1.4s\n",
      "288:\tlearn: 93.7753419\ttotal: 568ms\tremaining: 1.4s\n",
      "289:\tlearn: 93.3772710\ttotal: 569ms\tremaining: 1.39s\n",
      "290:\tlearn: 92.8750904\ttotal: 570ms\tremaining: 1.39s\n",
      "291:\tlearn: 92.6654794\ttotal: 571ms\tremaining: 1.39s\n",
      "292:\tlearn: 92.2659876\ttotal: 573ms\tremaining: 1.38s\n",
      "293:\tlearn: 92.0282495\ttotal: 574ms\tremaining: 1.38s\n",
      "294:\tlearn: 91.8288855\ttotal: 575ms\tremaining: 1.37s\n",
      "295:\tlearn: 91.6752612\ttotal: 576ms\tremaining: 1.37s\n",
      "296:\tlearn: 91.2561883\ttotal: 578ms\tremaining: 1.37s\n",
      "297:\tlearn: 91.0227123\ttotal: 579ms\tremaining: 1.36s\n",
      "298:\tlearn: 90.8392142\ttotal: 580ms\tremaining: 1.36s\n",
      "299:\tlearn: 90.6853014\ttotal: 581ms\tremaining: 1.36s\n",
      "300:\tlearn: 90.5986761\ttotal: 583ms\tremaining: 1.35s\n",
      "301:\tlearn: 90.2180036\ttotal: 584ms\tremaining: 1.35s\n",
      "302:\tlearn: 89.8313622\ttotal: 585ms\tremaining: 1.34s\n",
      "303:\tlearn: 89.6872837\ttotal: 586ms\tremaining: 1.34s\n",
      "304:\tlearn: 89.3853276\ttotal: 588ms\tremaining: 1.34s\n",
      "305:\tlearn: 88.9459206\ttotal: 589ms\tremaining: 1.33s\n",
      "306:\tlearn: 88.7258770\ttotal: 590ms\tremaining: 1.33s\n",
      "307:\tlearn: 88.5374358\ttotal: 592ms\tremaining: 1.33s\n",
      "308:\tlearn: 88.0624447\ttotal: 593ms\tremaining: 1.32s\n",
      "309:\tlearn: 87.7942692\ttotal: 594ms\tremaining: 1.32s\n",
      "310:\tlearn: 87.6354184\ttotal: 595ms\tremaining: 1.32s\n",
      "311:\tlearn: 87.4879486\ttotal: 596ms\tremaining: 1.31s\n",
      "312:\tlearn: 87.0294739\ttotal: 598ms\tremaining: 1.31s\n",
      "313:\tlearn: 86.6746221\ttotal: 599ms\tremaining: 1.31s\n",
      "314:\tlearn: 86.2792146\ttotal: 600ms\tremaining: 1.3s\n",
      "315:\tlearn: 86.2127070\ttotal: 601ms\tremaining: 1.3s\n",
      "316:\tlearn: 86.1507368\ttotal: 603ms\tremaining: 1.3s\n",
      "317:\tlearn: 85.7089141\ttotal: 604ms\tremaining: 1.29s\n",
      "318:\tlearn: 85.6035137\ttotal: 605ms\tremaining: 1.29s\n",
      "319:\tlearn: 85.3587988\ttotal: 606ms\tremaining: 1.29s\n",
      "320:\tlearn: 84.9660906\ttotal: 608ms\tremaining: 1.28s\n",
      "321:\tlearn: 84.5474713\ttotal: 609ms\tremaining: 1.28s\n",
      "322:\tlearn: 84.1996852\ttotal: 610ms\tremaining: 1.28s\n",
      "323:\tlearn: 84.0654282\ttotal: 611ms\tremaining: 1.27s\n",
      "324:\tlearn: 83.7937327\ttotal: 612ms\tremaining: 1.27s\n",
      "325:\tlearn: 83.5064288\ttotal: 614ms\tremaining: 1.27s\n",
      "326:\tlearn: 83.3997655\ttotal: 615ms\tremaining: 1.26s\n",
      "327:\tlearn: 83.2958622\ttotal: 616ms\tremaining: 1.26s\n",
      "328:\tlearn: 82.9877578\ttotal: 617ms\tremaining: 1.26s\n",
      "329:\tlearn: 82.6286638\ttotal: 619ms\tremaining: 1.25s\n",
      "330:\tlearn: 82.2827132\ttotal: 620ms\tremaining: 1.25s\n",
      "331:\tlearn: 82.0895251\ttotal: 621ms\tremaining: 1.25s\n",
      "332:\tlearn: 82.0130649\ttotal: 622ms\tremaining: 1.25s\n",
      "333:\tlearn: 81.6771734\ttotal: 623ms\tremaining: 1.24s\n",
      "334:\tlearn: 81.3519124\ttotal: 625ms\tremaining: 1.24s\n",
      "335:\tlearn: 81.0170326\ttotal: 626ms\tremaining: 1.24s\n",
      "336:\tlearn: 80.6917886\ttotal: 627ms\tremaining: 1.23s\n",
      "337:\tlearn: 80.3455177\ttotal: 628ms\tremaining: 1.23s\n",
      "338:\tlearn: 80.0260727\ttotal: 630ms\tremaining: 1.23s\n",
      "339:\tlearn: 79.9154748\ttotal: 631ms\tremaining: 1.22s\n",
      "340:\tlearn: 79.7813079\ttotal: 632ms\tremaining: 1.22s\n",
      "341:\tlearn: 79.3513293\ttotal: 633ms\tremaining: 1.22s\n",
      "342:\tlearn: 78.8666019\ttotal: 635ms\tremaining: 1.22s\n",
      "343:\tlearn: 78.7959013\ttotal: 636ms\tremaining: 1.21s\n",
      "344:\tlearn: 78.7081334\ttotal: 637ms\tremaining: 1.21s\n",
      "345:\tlearn: 78.3354931\ttotal: 638ms\tremaining: 1.21s\n",
      "346:\tlearn: 77.9475067\ttotal: 640ms\tremaining: 1.2s\n",
      "347:\tlearn: 77.8910420\ttotal: 641ms\tremaining: 1.2s\n",
      "348:\tlearn: 77.5461672\ttotal: 642ms\tremaining: 1.2s\n",
      "349:\tlearn: 77.3717101\ttotal: 643ms\tremaining: 1.19s\n",
      "350:\tlearn: 77.0729657\ttotal: 644ms\tremaining: 1.19s\n",
      "351:\tlearn: 76.7699287\ttotal: 646ms\tremaining: 1.19s\n",
      "352:\tlearn: 76.6029759\ttotal: 647ms\tremaining: 1.19s\n",
      "353:\tlearn: 76.1642615\ttotal: 648ms\tremaining: 1.18s\n",
      "354:\tlearn: 76.1202523\ttotal: 650ms\tremaining: 1.18s\n",
      "355:\tlearn: 75.9487132\ttotal: 651ms\tremaining: 1.18s\n",
      "356:\tlearn: 75.6748479\ttotal: 653ms\tremaining: 1.18s\n",
      "357:\tlearn: 75.4290864\ttotal: 654ms\tremaining: 1.17s\n",
      "358:\tlearn: 75.0463849\ttotal: 655ms\tremaining: 1.17s\n",
      "359:\tlearn: 74.9902381\ttotal: 657ms\tremaining: 1.17s\n",
      "360:\tlearn: 74.5243875\ttotal: 658ms\tremaining: 1.16s\n",
      "361:\tlearn: 74.1913065\ttotal: 660ms\tremaining: 1.16s\n",
      "362:\tlearn: 73.8413359\ttotal: 662ms\tremaining: 1.16s\n",
      "363:\tlearn: 73.7602119\ttotal: 664ms\tremaining: 1.16s\n",
      "364:\tlearn: 73.3278135\ttotal: 665ms\tremaining: 1.16s\n",
      "365:\tlearn: 72.9524336\ttotal: 667ms\tremaining: 1.15s\n",
      "366:\tlearn: 72.6791856\ttotal: 668ms\tremaining: 1.15s\n",
      "367:\tlearn: 72.4333577\ttotal: 669ms\tremaining: 1.15s\n",
      "368:\tlearn: 72.1672937\ttotal: 671ms\tremaining: 1.15s\n",
      "369:\tlearn: 71.9070276\ttotal: 672ms\tremaining: 1.14s\n",
      "370:\tlearn: 71.5496196\ttotal: 674ms\tremaining: 1.14s\n",
      "371:\tlearn: 71.3161902\ttotal: 675ms\tremaining: 1.14s\n",
      "372:\tlearn: 71.1259191\ttotal: 677ms\tremaining: 1.14s\n",
      "373:\tlearn: 70.9889962\ttotal: 678ms\tremaining: 1.14s\n",
      "374:\tlearn: 70.7417966\ttotal: 680ms\tremaining: 1.13s\n",
      "375:\tlearn: 70.4931174\ttotal: 681ms\tremaining: 1.13s\n",
      "376:\tlearn: 70.3300576\ttotal: 683ms\tremaining: 1.13s\n",
      "377:\tlearn: 69.9233248\ttotal: 684ms\tremaining: 1.13s\n",
      "378:\tlearn: 69.6261005\ttotal: 686ms\tremaining: 1.12s\n",
      "379:\tlearn: 69.3989708\ttotal: 687ms\tremaining: 1.12s\n",
      "380:\tlearn: 69.0085387\ttotal: 689ms\tremaining: 1.12s\n",
      "381:\tlearn: 68.7604153\ttotal: 691ms\tremaining: 1.12s\n",
      "382:\tlearn: 68.4602767\ttotal: 693ms\tremaining: 1.12s\n",
      "383:\tlearn: 68.1005452\ttotal: 695ms\tremaining: 1.11s\n",
      "384:\tlearn: 68.0540467\ttotal: 697ms\tremaining: 1.11s\n",
      "385:\tlearn: 67.8972753\ttotal: 699ms\tremaining: 1.11s\n",
      "386:\tlearn: 67.5389629\ttotal: 700ms\tremaining: 1.11s\n",
      "387:\tlearn: 67.2390178\ttotal: 701ms\tremaining: 1.11s\n",
      "388:\tlearn: 67.0279888\ttotal: 703ms\tremaining: 1.1s\n",
      "389:\tlearn: 66.8375919\ttotal: 704ms\tremaining: 1.1s\n",
      "390:\tlearn: 66.4118315\ttotal: 706ms\tremaining: 1.1s\n",
      "391:\tlearn: 66.3642690\ttotal: 707ms\tremaining: 1.1s\n",
      "392:\tlearn: 66.1673138\ttotal: 708ms\tremaining: 1.09s\n",
      "393:\tlearn: 66.0177482\ttotal: 709ms\tremaining: 1.09s\n",
      "394:\tlearn: 65.8018038\ttotal: 711ms\tremaining: 1.09s\n",
      "395:\tlearn: 65.6886505\ttotal: 712ms\tremaining: 1.09s\n",
      "396:\tlearn: 65.6120185\ttotal: 714ms\tremaining: 1.08s\n",
      "397:\tlearn: 65.5746662\ttotal: 715ms\tremaining: 1.08s\n",
      "398:\tlearn: 65.2974851\ttotal: 716ms\tremaining: 1.08s\n",
      "399:\tlearn: 65.2464764\ttotal: 717ms\tremaining: 1.08s\n",
      "400:\tlearn: 65.1241314\ttotal: 719ms\tremaining: 1.07s\n",
      "401:\tlearn: 65.0515740\ttotal: 720ms\tremaining: 1.07s\n",
      "402:\tlearn: 64.8089636\ttotal: 721ms\tremaining: 1.07s\n",
      "403:\tlearn: 64.5992230\ttotal: 722ms\tremaining: 1.06s\n",
      "404:\tlearn: 64.2907010\ttotal: 724ms\tremaining: 1.06s\n",
      "405:\tlearn: 64.1568642\ttotal: 725ms\tremaining: 1.06s\n",
      "406:\tlearn: 63.8279106\ttotal: 726ms\tremaining: 1.06s\n",
      "407:\tlearn: 63.5558565\ttotal: 728ms\tremaining: 1.05s\n",
      "408:\tlearn: 63.3865445\ttotal: 729ms\tremaining: 1.05s\n",
      "409:\tlearn: 63.2752408\ttotal: 730ms\tremaining: 1.05s\n",
      "410:\tlearn: 63.1070190\ttotal: 731ms\tremaining: 1.05s\n",
      "411:\tlearn: 62.7868376\ttotal: 732ms\tremaining: 1.04s\n",
      "412:\tlearn: 62.5345803\ttotal: 734ms\tremaining: 1.04s\n",
      "413:\tlearn: 62.2729058\ttotal: 735ms\tremaining: 1.04s\n",
      "414:\tlearn: 61.9850985\ttotal: 736ms\tremaining: 1.04s\n",
      "415:\tlearn: 61.7784164\ttotal: 737ms\tremaining: 1.03s\n",
      "416:\tlearn: 61.7431976\ttotal: 739ms\tremaining: 1.03s\n",
      "417:\tlearn: 61.4309964\ttotal: 740ms\tremaining: 1.03s\n",
      "418:\tlearn: 61.3513660\ttotal: 741ms\tremaining: 1.03s\n",
      "419:\tlearn: 61.1253739\ttotal: 743ms\tremaining: 1.02s\n",
      "420:\tlearn: 61.0742571\ttotal: 744ms\tremaining: 1.02s\n",
      "421:\tlearn: 61.0390980\ttotal: 745ms\tremaining: 1.02s\n",
      "422:\tlearn: 61.0095757\ttotal: 746ms\tremaining: 1.02s\n",
      "423:\tlearn: 60.6843255\ttotal: 748ms\tremaining: 1.01s\n",
      "424:\tlearn: 60.4045551\ttotal: 749ms\tremaining: 1.01s\n",
      "425:\tlearn: 60.3649587\ttotal: 750ms\tremaining: 1.01s\n",
      "426:\tlearn: 60.3315828\ttotal: 751ms\tremaining: 1.01s\n",
      "427:\tlearn: 60.1047027\ttotal: 752ms\tremaining: 1s\n",
      "428:\tlearn: 59.9170736\ttotal: 754ms\tremaining: 1s\n",
      "429:\tlearn: 59.6875648\ttotal: 755ms\tremaining: 1s\n",
      "430:\tlearn: 59.6662150\ttotal: 756ms\tremaining: 998ms\n",
      "431:\tlearn: 59.4208112\ttotal: 758ms\tremaining: 996ms\n",
      "432:\tlearn: 59.2358034\ttotal: 759ms\tremaining: 994ms\n",
      "433:\tlearn: 58.9818868\ttotal: 760ms\tremaining: 991ms\n",
      "434:\tlearn: 58.7089433\ttotal: 761ms\tremaining: 989ms\n",
      "435:\tlearn: 58.5898817\ttotal: 763ms\tremaining: 987ms\n",
      "436:\tlearn: 58.5425342\ttotal: 764ms\tremaining: 984ms\n",
      "437:\tlearn: 58.2884605\ttotal: 765ms\tremaining: 982ms\n",
      "438:\tlearn: 58.2643873\ttotal: 766ms\tremaining: 979ms\n",
      "439:\tlearn: 58.2330868\ttotal: 768ms\tremaining: 977ms\n",
      "440:\tlearn: 57.9676592\ttotal: 769ms\tremaining: 975ms\n",
      "441:\tlearn: 57.7670212\ttotal: 770ms\tremaining: 973ms\n",
      "442:\tlearn: 57.5322464\ttotal: 772ms\tremaining: 970ms\n",
      "443:\tlearn: 57.2771620\ttotal: 773ms\tremaining: 968ms\n",
      "444:\tlearn: 57.0227885\ttotal: 775ms\tremaining: 966ms\n",
      "445:\tlearn: 56.7616770\ttotal: 776ms\tremaining: 964ms\n",
      "446:\tlearn: 56.7367450\ttotal: 777ms\tremaining: 961ms\n",
      "447:\tlearn: 56.6715001\ttotal: 778ms\tremaining: 959ms\n",
      "448:\tlearn: 56.4881346\ttotal: 779ms\tremaining: 956ms\n",
      "449:\tlearn: 56.3749776\ttotal: 781ms\tremaining: 954ms\n",
      "450:\tlearn: 56.2172319\ttotal: 782ms\tremaining: 952ms\n",
      "451:\tlearn: 55.9461925\ttotal: 783ms\tremaining: 950ms\n",
      "452:\tlearn: 55.8884270\ttotal: 785ms\tremaining: 947ms\n",
      "453:\tlearn: 55.7987432\ttotal: 786ms\tremaining: 945ms\n",
      "454:\tlearn: 55.7376337\ttotal: 787ms\tremaining: 943ms\n",
      "455:\tlearn: 55.5150595\ttotal: 789ms\tremaining: 941ms\n",
      "456:\tlearn: 55.4819680\ttotal: 790ms\tremaining: 939ms\n",
      "457:\tlearn: 55.1719919\ttotal: 791ms\tremaining: 936ms\n",
      "458:\tlearn: 55.1295759\ttotal: 792ms\tremaining: 934ms\n",
      "459:\tlearn: 55.0856302\ttotal: 794ms\tremaining: 932ms\n",
      "460:\tlearn: 54.8056235\ttotal: 795ms\tremaining: 929ms\n",
      "461:\tlearn: 54.4030407\ttotal: 796ms\tremaining: 927ms\n",
      "462:\tlearn: 54.3308204\ttotal: 798ms\tremaining: 925ms\n",
      "463:\tlearn: 54.0283724\ttotal: 799ms\tremaining: 923ms\n",
      "464:\tlearn: 53.9962714\ttotal: 800ms\tremaining: 921ms\n",
      "465:\tlearn: 53.8149476\ttotal: 802ms\tremaining: 919ms\n",
      "466:\tlearn: 53.7806209\ttotal: 803ms\tremaining: 917ms\n",
      "467:\tlearn: 53.7585727\ttotal: 804ms\tremaining: 914ms\n",
      "468:\tlearn: 53.5042777\ttotal: 806ms\tremaining: 912ms\n",
      "469:\tlearn: 53.3257034\ttotal: 807ms\tremaining: 910ms\n",
      "470:\tlearn: 53.0801119\ttotal: 808ms\tremaining: 908ms\n",
      "471:\tlearn: 53.0136550\ttotal: 809ms\tremaining: 905ms\n",
      "472:\tlearn: 52.9408930\ttotal: 811ms\tremaining: 903ms\n",
      "473:\tlearn: 52.7089062\ttotal: 812ms\tremaining: 901ms\n",
      "474:\tlearn: 52.6819781\ttotal: 813ms\tremaining: 899ms\n",
      "475:\tlearn: 52.5065568\ttotal: 814ms\tremaining: 897ms\n",
      "476:\tlearn: 52.3688770\ttotal: 816ms\tremaining: 894ms\n",
      "477:\tlearn: 52.2402473\ttotal: 818ms\tremaining: 893ms\n",
      "478:\tlearn: 52.1406517\ttotal: 819ms\tremaining: 891ms\n",
      "479:\tlearn: 52.1107144\ttotal: 820ms\tremaining: 889ms\n",
      "480:\tlearn: 51.9239449\ttotal: 821ms\tremaining: 886ms\n",
      "481:\tlearn: 51.7096820\ttotal: 823ms\tremaining: 884ms\n",
      "482:\tlearn: 51.6266918\ttotal: 824ms\tremaining: 882ms\n",
      "483:\tlearn: 51.5969797\ttotal: 825ms\tremaining: 880ms\n",
      "484:\tlearn: 51.4480162\ttotal: 827ms\tremaining: 878ms\n",
      "485:\tlearn: 51.2269261\ttotal: 828ms\tremaining: 876ms\n",
      "486:\tlearn: 50.9904632\ttotal: 829ms\tremaining: 873ms\n",
      "487:\tlearn: 50.9342043\ttotal: 830ms\tremaining: 871ms\n",
      "488:\tlearn: 50.8423680\ttotal: 832ms\tremaining: 869ms\n",
      "489:\tlearn: 50.7269788\ttotal: 833ms\tremaining: 867ms\n",
      "490:\tlearn: 50.5384699\ttotal: 835ms\tremaining: 865ms\n",
      "491:\tlearn: 50.5047793\ttotal: 836ms\tremaining: 863ms\n",
      "492:\tlearn: 50.3234448\ttotal: 837ms\tremaining: 861ms\n",
      "493:\tlearn: 50.1653421\ttotal: 838ms\tremaining: 859ms\n",
      "494:\tlearn: 49.9835558\ttotal: 840ms\tremaining: 857ms\n",
      "495:\tlearn: 49.8884283\ttotal: 841ms\tremaining: 855ms\n",
      "496:\tlearn: 49.6217364\ttotal: 843ms\tremaining: 853ms\n",
      "497:\tlearn: 49.5268562\ttotal: 844ms\tremaining: 851ms\n",
      "498:\tlearn: 49.3078402\ttotal: 845ms\tremaining: 849ms\n",
      "499:\tlearn: 49.2571676\ttotal: 847ms\tremaining: 847ms\n",
      "500:\tlearn: 49.2173141\ttotal: 848ms\tremaining: 845ms\n",
      "501:\tlearn: 48.9813103\ttotal: 850ms\tremaining: 843ms\n",
      "502:\tlearn: 48.8304542\ttotal: 851ms\tremaining: 841ms\n",
      "503:\tlearn: 48.7430936\ttotal: 852ms\tremaining: 839ms\n",
      "504:\tlearn: 48.5493989\ttotal: 854ms\tremaining: 837ms\n",
      "505:\tlearn: 48.5134839\ttotal: 855ms\tremaining: 835ms\n",
      "506:\tlearn: 48.3516141\ttotal: 857ms\tremaining: 833ms\n",
      "507:\tlearn: 48.0631542\ttotal: 858ms\tremaining: 831ms\n",
      "508:\tlearn: 47.8591880\ttotal: 859ms\tremaining: 829ms\n",
      "509:\tlearn: 47.7182444\ttotal: 861ms\tremaining: 827ms\n",
      "510:\tlearn: 47.6301870\ttotal: 862ms\tremaining: 825ms\n",
      "511:\tlearn: 47.4767324\ttotal: 865ms\tremaining: 824ms\n",
      "512:\tlearn: 47.2822625\ttotal: 867ms\tremaining: 823ms\n",
      "513:\tlearn: 47.1022658\ttotal: 868ms\tremaining: 821ms\n",
      "514:\tlearn: 47.0536181\ttotal: 870ms\tremaining: 819ms\n",
      "515:\tlearn: 47.0249559\ttotal: 871ms\tremaining: 817ms\n",
      "516:\tlearn: 46.8789720\ttotal: 872ms\tremaining: 815ms\n",
      "517:\tlearn: 46.7133769\ttotal: 874ms\tremaining: 813ms\n",
      "518:\tlearn: 46.5157986\ttotal: 875ms\tremaining: 811ms\n",
      "519:\tlearn: 46.3630405\ttotal: 876ms\tremaining: 809ms\n",
      "520:\tlearn: 46.1730188\ttotal: 878ms\tremaining: 807ms\n",
      "521:\tlearn: 46.1360908\ttotal: 879ms\tremaining: 805ms\n",
      "522:\tlearn: 45.9652487\ttotal: 880ms\tremaining: 803ms\n",
      "523:\tlearn: 45.8122703\ttotal: 881ms\tremaining: 801ms\n",
      "524:\tlearn: 45.4984451\ttotal: 883ms\tremaining: 799ms\n",
      "525:\tlearn: 45.3161076\ttotal: 884ms\tremaining: 797ms\n",
      "526:\tlearn: 45.2802854\ttotal: 885ms\tremaining: 795ms\n",
      "527:\tlearn: 45.2448275\ttotal: 887ms\tremaining: 793ms\n",
      "528:\tlearn: 45.0816321\ttotal: 888ms\tremaining: 790ms\n",
      "529:\tlearn: 44.9794319\ttotal: 889ms\tremaining: 788ms\n",
      "530:\tlearn: 44.6832140\ttotal: 891ms\tremaining: 787ms\n",
      "531:\tlearn: 44.4460046\ttotal: 892ms\tremaining: 785ms\n",
      "532:\tlearn: 44.2118287\ttotal: 893ms\tremaining: 783ms\n",
      "533:\tlearn: 44.0693524\ttotal: 895ms\tremaining: 781ms\n",
      "534:\tlearn: 43.7781614\ttotal: 896ms\tremaining: 779ms\n",
      "535:\tlearn: 43.5541731\ttotal: 897ms\tremaining: 777ms\n",
      "536:\tlearn: 43.5134866\ttotal: 899ms\tremaining: 775ms\n",
      "537:\tlearn: 43.3609810\ttotal: 900ms\tremaining: 773ms\n",
      "538:\tlearn: 43.1828364\ttotal: 901ms\tremaining: 771ms\n",
      "539:\tlearn: 43.1681810\ttotal: 902ms\tremaining: 768ms\n",
      "540:\tlearn: 43.0597548\ttotal: 903ms\tremaining: 766ms\n",
      "541:\tlearn: 43.0399237\ttotal: 904ms\tremaining: 764ms\n",
      "542:\tlearn: 42.7955247\ttotal: 906ms\tremaining: 762ms\n",
      "543:\tlearn: 42.5339065\ttotal: 907ms\tremaining: 761ms\n",
      "544:\tlearn: 42.4295635\ttotal: 909ms\tremaining: 759ms\n",
      "545:\tlearn: 42.2338376\ttotal: 910ms\tremaining: 757ms\n",
      "546:\tlearn: 42.0124060\ttotal: 911ms\tremaining: 755ms\n",
      "547:\tlearn: 41.8255183\ttotal: 913ms\tremaining: 753ms\n",
      "548:\tlearn: 41.6388681\ttotal: 914ms\tremaining: 751ms\n",
      "549:\tlearn: 41.4001270\ttotal: 916ms\tremaining: 749ms\n",
      "550:\tlearn: 41.1013528\ttotal: 917ms\tremaining: 747ms\n",
      "551:\tlearn: 41.0100295\ttotal: 918ms\tremaining: 745ms\n",
      "552:\tlearn: 40.9906076\ttotal: 919ms\tremaining: 743ms\n",
      "553:\tlearn: 40.8809109\ttotal: 921ms\tremaining: 741ms\n",
      "554:\tlearn: 40.7831302\ttotal: 922ms\tremaining: 739ms\n",
      "555:\tlearn: 40.7317763\ttotal: 923ms\tremaining: 737ms\n",
      "556:\tlearn: 40.6321710\ttotal: 925ms\tremaining: 735ms\n",
      "557:\tlearn: 40.4475073\ttotal: 926ms\tremaining: 733ms\n",
      "558:\tlearn: 40.2859957\ttotal: 927ms\tremaining: 731ms\n",
      "559:\tlearn: 40.0262057\ttotal: 928ms\tremaining: 729ms\n",
      "560:\tlearn: 39.9326350\ttotal: 930ms\tremaining: 728ms\n",
      "561:\tlearn: 39.8735956\ttotal: 931ms\tremaining: 726ms\n",
      "562:\tlearn: 39.7083019\ttotal: 932ms\tremaining: 724ms\n",
      "563:\tlearn: 39.5379855\ttotal: 934ms\tremaining: 722ms\n",
      "564:\tlearn: 39.3451301\ttotal: 935ms\tremaining: 720ms\n",
      "565:\tlearn: 39.2041273\ttotal: 936ms\tremaining: 718ms\n",
      "566:\tlearn: 38.9870162\ttotal: 938ms\tremaining: 716ms\n",
      "567:\tlearn: 38.8638040\ttotal: 939ms\tremaining: 714ms\n",
      "568:\tlearn: 38.7752116\ttotal: 941ms\tremaining: 712ms\n",
      "569:\tlearn: 38.6530297\ttotal: 942ms\tremaining: 711ms\n",
      "570:\tlearn: 38.5505372\ttotal: 944ms\tremaining: 709ms\n",
      "571:\tlearn: 38.5134486\ttotal: 945ms\tremaining: 707ms\n",
      "572:\tlearn: 38.3680902\ttotal: 946ms\tremaining: 705ms\n",
      "573:\tlearn: 38.1897295\ttotal: 948ms\tremaining: 703ms\n",
      "574:\tlearn: 38.1083536\ttotal: 949ms\tremaining: 701ms\n",
      "575:\tlearn: 37.9229216\ttotal: 950ms\tremaining: 699ms\n",
      "576:\tlearn: 37.8377087\ttotal: 952ms\tremaining: 698ms\n",
      "577:\tlearn: 37.7966900\ttotal: 953ms\tremaining: 696ms\n",
      "578:\tlearn: 37.6700761\ttotal: 954ms\tremaining: 694ms\n",
      "579:\tlearn: 37.6355177\ttotal: 955ms\tremaining: 692ms\n",
      "580:\tlearn: 37.4648199\ttotal: 957ms\tremaining: 690ms\n",
      "581:\tlearn: 37.2959505\ttotal: 958ms\tremaining: 688ms\n",
      "582:\tlearn: 37.1423961\ttotal: 959ms\tremaining: 686ms\n",
      "583:\tlearn: 36.9297315\ttotal: 960ms\tremaining: 684ms\n",
      "584:\tlearn: 36.8850382\ttotal: 962ms\tremaining: 682ms\n",
      "585:\tlearn: 36.7546519\ttotal: 963ms\tremaining: 680ms\n",
      "586:\tlearn: 36.7377554\ttotal: 964ms\tremaining: 679ms\n",
      "587:\tlearn: 36.6899102\ttotal: 966ms\tremaining: 677ms\n",
      "588:\tlearn: 36.5617094\ttotal: 967ms\tremaining: 675ms\n",
      "589:\tlearn: 36.4272921\ttotal: 968ms\tremaining: 673ms\n",
      "590:\tlearn: 36.2657889\ttotal: 970ms\tremaining: 671ms\n",
      "591:\tlearn: 36.2539345\ttotal: 970ms\tremaining: 669ms\n",
      "592:\tlearn: 36.2314399\ttotal: 972ms\tremaining: 667ms\n",
      "593:\tlearn: 36.0683824\ttotal: 973ms\tremaining: 665ms\n",
      "594:\tlearn: 35.9283095\ttotal: 974ms\tremaining: 663ms\n",
      "595:\tlearn: 35.7968288\ttotal: 975ms\tremaining: 661ms\n",
      "596:\tlearn: 35.7223423\ttotal: 977ms\tremaining: 659ms\n",
      "597:\tlearn: 35.5848854\ttotal: 978ms\tremaining: 657ms\n",
      "598:\tlearn: 35.4754344\ttotal: 979ms\tremaining: 656ms\n",
      "599:\tlearn: 35.3533890\ttotal: 981ms\tremaining: 654ms\n",
      "600:\tlearn: 35.2201505\ttotal: 982ms\tremaining: 652ms\n",
      "601:\tlearn: 35.0873272\ttotal: 983ms\tremaining: 650ms\n",
      "602:\tlearn: 35.0461873\ttotal: 985ms\tremaining: 648ms\n",
      "603:\tlearn: 34.9273071\ttotal: 986ms\tremaining: 647ms\n",
      "604:\tlearn: 34.8162855\ttotal: 988ms\tremaining: 645ms\n",
      "605:\tlearn: 34.7130059\ttotal: 989ms\tremaining: 643ms\n",
      "606:\tlearn: 34.5585617\ttotal: 991ms\tremaining: 641ms\n",
      "607:\tlearn: 34.4611907\ttotal: 992ms\tremaining: 639ms\n",
      "608:\tlearn: 34.4326546\ttotal: 993ms\tremaining: 638ms\n",
      "609:\tlearn: 34.2846979\ttotal: 994ms\tremaining: 636ms\n",
      "610:\tlearn: 34.1734501\ttotal: 995ms\tremaining: 634ms\n",
      "611:\tlearn: 34.0230965\ttotal: 997ms\tremaining: 632ms\n",
      "612:\tlearn: 33.8282501\ttotal: 998ms\tremaining: 630ms\n",
      "613:\tlearn: 33.7746747\ttotal: 1000ms\tremaining: 629ms\n",
      "614:\tlearn: 33.7068386\ttotal: 1s\tremaining: 627ms\n",
      "615:\tlearn: 33.5780800\ttotal: 1s\tremaining: 625ms\n",
      "616:\tlearn: 33.4695325\ttotal: 1s\tremaining: 623ms\n",
      "617:\tlearn: 33.3463443\ttotal: 1s\tremaining: 621ms\n",
      "618:\tlearn: 33.2877395\ttotal: 1.01s\tremaining: 620ms\n",
      "619:\tlearn: 33.2418826\ttotal: 1.01s\tremaining: 618ms\n",
      "620:\tlearn: 33.1045465\ttotal: 1.01s\tremaining: 616ms\n",
      "621:\tlearn: 32.9400639\ttotal: 1.01s\tremaining: 614ms\n",
      "622:\tlearn: 32.8996970\ttotal: 1.01s\tremaining: 612ms\n",
      "623:\tlearn: 32.7429487\ttotal: 1.01s\tremaining: 611ms\n",
      "624:\tlearn: 32.6132355\ttotal: 1.01s\tremaining: 609ms\n",
      "625:\tlearn: 32.4714976\ttotal: 1.02s\tremaining: 607ms\n",
      "626:\tlearn: 32.4320448\ttotal: 1.02s\tremaining: 605ms\n",
      "627:\tlearn: 32.2628258\ttotal: 1.02s\tremaining: 604ms\n",
      "628:\tlearn: 32.2038569\ttotal: 1.02s\tremaining: 602ms\n",
      "629:\tlearn: 32.0940738\ttotal: 1.02s\tremaining: 600ms\n",
      "630:\tlearn: 32.0068495\ttotal: 1.02s\tremaining: 598ms\n",
      "631:\tlearn: 31.9053748\ttotal: 1.02s\tremaining: 596ms\n",
      "632:\tlearn: 31.7715772\ttotal: 1.02s\tremaining: 595ms\n",
      "633:\tlearn: 31.6687835\ttotal: 1.03s\tremaining: 593ms\n",
      "634:\tlearn: 31.6368050\ttotal: 1.03s\tremaining: 591ms\n",
      "635:\tlearn: 31.5709628\ttotal: 1.03s\tremaining: 589ms\n",
      "636:\tlearn: 31.4052213\ttotal: 1.03s\tremaining: 588ms\n",
      "637:\tlearn: 31.2452229\ttotal: 1.03s\tremaining: 586ms\n",
      "638:\tlearn: 31.1221828\ttotal: 1.03s\tremaining: 585ms\n",
      "639:\tlearn: 31.0853500\ttotal: 1.04s\tremaining: 583ms\n",
      "640:\tlearn: 30.9167355\ttotal: 1.04s\tremaining: 582ms\n",
      "641:\tlearn: 30.8667253\ttotal: 1.04s\tremaining: 580ms\n",
      "642:\tlearn: 30.7427129\ttotal: 1.04s\tremaining: 578ms\n",
      "643:\tlearn: 30.5748228\ttotal: 1.04s\tremaining: 576ms\n",
      "644:\tlearn: 30.5080592\ttotal: 1.04s\tremaining: 575ms\n",
      "645:\tlearn: 30.3444228\ttotal: 1.04s\tremaining: 573ms\n",
      "646:\tlearn: 30.1858385\ttotal: 1.05s\tremaining: 571ms\n",
      "647:\tlearn: 30.1481951\ttotal: 1.05s\tremaining: 569ms\n",
      "648:\tlearn: 30.1139150\ttotal: 1.05s\tremaining: 567ms\n",
      "649:\tlearn: 30.0147177\ttotal: 1.05s\tremaining: 566ms\n",
      "650:\tlearn: 29.8610501\ttotal: 1.05s\tremaining: 564ms\n",
      "651:\tlearn: 29.7793561\ttotal: 1.05s\tremaining: 562ms\n",
      "652:\tlearn: 29.6870188\ttotal: 1.05s\tremaining: 560ms\n",
      "653:\tlearn: 29.6229921\ttotal: 1.05s\tremaining: 558ms\n",
      "654:\tlearn: 29.5806823\ttotal: 1.06s\tremaining: 557ms\n",
      "655:\tlearn: 29.4903496\ttotal: 1.06s\tremaining: 555ms\n",
      "656:\tlearn: 29.4011642\ttotal: 1.06s\tremaining: 553ms\n",
      "657:\tlearn: 29.3880977\ttotal: 1.06s\tremaining: 551ms\n",
      "658:\tlearn: 29.2615919\ttotal: 1.06s\tremaining: 550ms\n",
      "659:\tlearn: 29.1004727\ttotal: 1.06s\tremaining: 548ms\n",
      "660:\tlearn: 29.0530692\ttotal: 1.06s\tremaining: 546ms\n",
      "661:\tlearn: 28.9863628\ttotal: 1.06s\tremaining: 544ms\n",
      "662:\tlearn: 28.8714304\ttotal: 1.07s\tremaining: 542ms\n",
      "663:\tlearn: 28.7331979\ttotal: 1.07s\tremaining: 541ms\n",
      "664:\tlearn: 28.6366801\ttotal: 1.07s\tremaining: 539ms\n",
      "665:\tlearn: 28.5716341\ttotal: 1.07s\tremaining: 537ms\n",
      "666:\tlearn: 28.4974876\ttotal: 1.07s\tremaining: 536ms\n",
      "667:\tlearn: 28.4112710\ttotal: 1.07s\tremaining: 534ms\n",
      "668:\tlearn: 28.2984651\ttotal: 1.07s\tremaining: 532ms\n",
      "669:\tlearn: 28.1339510\ttotal: 1.08s\tremaining: 530ms\n",
      "670:\tlearn: 28.1075789\ttotal: 1.08s\tremaining: 528ms\n",
      "671:\tlearn: 28.0922293\ttotal: 1.08s\tremaining: 527ms\n",
      "672:\tlearn: 27.9723760\ttotal: 1.08s\tremaining: 525ms\n",
      "673:\tlearn: 27.9055283\ttotal: 1.08s\tremaining: 523ms\n",
      "674:\tlearn: 27.8205243\ttotal: 1.08s\tremaining: 521ms\n",
      "675:\tlearn: 27.8084834\ttotal: 1.08s\tremaining: 520ms\n",
      "676:\tlearn: 27.7891840\ttotal: 1.08s\tremaining: 518ms\n",
      "677:\tlearn: 27.6730952\ttotal: 1.09s\tremaining: 516ms\n",
      "678:\tlearn: 27.6094279\ttotal: 1.09s\tremaining: 514ms\n",
      "679:\tlearn: 27.5709406\ttotal: 1.09s\tremaining: 513ms\n",
      "680:\tlearn: 27.5062932\ttotal: 1.09s\tremaining: 511ms\n",
      "681:\tlearn: 27.4149358\ttotal: 1.09s\tremaining: 509ms\n",
      "682:\tlearn: 27.3480578\ttotal: 1.09s\tremaining: 507ms\n",
      "683:\tlearn: 27.2546632\ttotal: 1.09s\tremaining: 506ms\n",
      "684:\tlearn: 27.1581242\ttotal: 1.09s\tremaining: 504ms\n",
      "685:\tlearn: 27.1291330\ttotal: 1.1s\tremaining: 502ms\n",
      "686:\tlearn: 27.0589760\ttotal: 1.1s\tremaining: 500ms\n",
      "687:\tlearn: 26.9207571\ttotal: 1.1s\tremaining: 499ms\n",
      "688:\tlearn: 26.8046340\ttotal: 1.1s\tremaining: 497ms\n",
      "689:\tlearn: 26.7346039\ttotal: 1.1s\tremaining: 495ms\n",
      "690:\tlearn: 26.6359238\ttotal: 1.1s\tremaining: 494ms\n",
      "691:\tlearn: 26.5458163\ttotal: 1.1s\tremaining: 492ms\n",
      "692:\tlearn: 26.5287024\ttotal: 1.11s\tremaining: 490ms\n",
      "693:\tlearn: 26.4436127\ttotal: 1.11s\tremaining: 489ms\n",
      "694:\tlearn: 26.3860996\ttotal: 1.11s\tremaining: 487ms\n",
      "695:\tlearn: 26.3271824\ttotal: 1.11s\tremaining: 485ms\n",
      "696:\tlearn: 26.1929180\ttotal: 1.11s\tremaining: 483ms\n",
      "697:\tlearn: 26.0989501\ttotal: 1.11s\tremaining: 482ms\n",
      "698:\tlearn: 26.0348052\ttotal: 1.11s\tremaining: 480ms\n",
      "699:\tlearn: 25.9715846\ttotal: 1.11s\tremaining: 478ms\n",
      "700:\tlearn: 25.8624783\ttotal: 1.12s\tremaining: 477ms\n",
      "701:\tlearn: 25.8020332\ttotal: 1.12s\tremaining: 475ms\n",
      "702:\tlearn: 25.7940141\ttotal: 1.12s\tremaining: 473ms\n",
      "703:\tlearn: 25.6937173\ttotal: 1.12s\tremaining: 472ms\n",
      "704:\tlearn: 25.6133995\ttotal: 1.12s\tremaining: 470ms\n",
      "705:\tlearn: 25.5272559\ttotal: 1.12s\tremaining: 468ms\n",
      "706:\tlearn: 25.5087600\ttotal: 1.13s\tremaining: 467ms\n",
      "707:\tlearn: 25.3506858\ttotal: 1.13s\tremaining: 465ms\n",
      "708:\tlearn: 25.3314352\ttotal: 1.13s\tremaining: 463ms\n",
      "709:\tlearn: 25.3263712\ttotal: 1.13s\tremaining: 461ms\n",
      "710:\tlearn: 25.2377772\ttotal: 1.13s\tremaining: 460ms\n",
      "711:\tlearn: 25.1296003\ttotal: 1.13s\tremaining: 458ms\n",
      "712:\tlearn: 25.1138661\ttotal: 1.13s\tremaining: 457ms\n",
      "713:\tlearn: 25.0606164\ttotal: 1.14s\tremaining: 455ms\n",
      "714:\tlearn: 24.9701122\ttotal: 1.14s\tremaining: 453ms\n",
      "715:\tlearn: 24.9266980\ttotal: 1.14s\tremaining: 452ms\n",
      "716:\tlearn: 24.8355245\ttotal: 1.14s\tremaining: 450ms\n",
      "717:\tlearn: 24.7892595\ttotal: 1.14s\tremaining: 448ms\n",
      "718:\tlearn: 24.7784156\ttotal: 1.14s\tremaining: 447ms\n",
      "719:\tlearn: 24.7204068\ttotal: 1.14s\tremaining: 445ms\n",
      "720:\tlearn: 24.6868946\ttotal: 1.15s\tremaining: 443ms\n",
      "721:\tlearn: 24.5835248\ttotal: 1.15s\tremaining: 442ms\n",
      "722:\tlearn: 24.4605667\ttotal: 1.15s\tremaining: 440ms\n",
      "723:\tlearn: 24.3780491\ttotal: 1.15s\tremaining: 439ms\n",
      "724:\tlearn: 24.3695387\ttotal: 1.15s\tremaining: 437ms\n",
      "725:\tlearn: 24.2713928\ttotal: 1.15s\tremaining: 435ms\n",
      "726:\tlearn: 24.2564573\ttotal: 1.15s\tremaining: 433ms\n",
      "727:\tlearn: 24.1259045\ttotal: 1.16s\tremaining: 432ms\n",
      "728:\tlearn: 24.0410925\ttotal: 1.16s\tremaining: 430ms\n",
      "729:\tlearn: 23.9454740\ttotal: 1.16s\tremaining: 428ms\n",
      "730:\tlearn: 23.9293944\ttotal: 1.16s\tremaining: 427ms\n",
      "731:\tlearn: 23.8408373\ttotal: 1.16s\tremaining: 425ms\n",
      "732:\tlearn: 23.7301307\ttotal: 1.16s\tremaining: 424ms\n",
      "733:\tlearn: 23.6751178\ttotal: 1.17s\tremaining: 422ms\n",
      "734:\tlearn: 23.5518474\ttotal: 1.17s\tremaining: 421ms\n",
      "735:\tlearn: 23.5054838\ttotal: 1.17s\tremaining: 419ms\n",
      "736:\tlearn: 23.4781040\ttotal: 1.17s\tremaining: 417ms\n",
      "737:\tlearn: 23.3774725\ttotal: 1.17s\tremaining: 416ms\n",
      "738:\tlearn: 23.3081022\ttotal: 1.17s\tremaining: 414ms\n",
      "739:\tlearn: 23.2915892\ttotal: 1.17s\tremaining: 412ms\n",
      "740:\tlearn: 23.2095735\ttotal: 1.18s\tremaining: 411ms\n",
      "741:\tlearn: 23.1588315\ttotal: 1.18s\tremaining: 409ms\n",
      "742:\tlearn: 23.1197993\ttotal: 1.18s\tremaining: 408ms\n",
      "743:\tlearn: 23.0327780\ttotal: 1.18s\tremaining: 406ms\n",
      "744:\tlearn: 22.9759480\ttotal: 1.18s\tremaining: 404ms\n",
      "745:\tlearn: 22.8751423\ttotal: 1.18s\tremaining: 403ms\n",
      "746:\tlearn: 22.7768127\ttotal: 1.18s\tremaining: 401ms\n",
      "747:\tlearn: 22.6474970\ttotal: 1.18s\tremaining: 399ms\n",
      "748:\tlearn: 22.5780525\ttotal: 1.19s\tremaining: 398ms\n",
      "749:\tlearn: 22.5338308\ttotal: 1.19s\tremaining: 396ms\n",
      "750:\tlearn: 22.4330276\ttotal: 1.19s\tremaining: 394ms\n",
      "751:\tlearn: 22.4193891\ttotal: 1.19s\tremaining: 393ms\n",
      "752:\tlearn: 22.4093040\ttotal: 1.19s\tremaining: 391ms\n",
      "753:\tlearn: 22.3758979\ttotal: 1.19s\tremaining: 390ms\n",
      "754:\tlearn: 22.3560173\ttotal: 1.2s\tremaining: 388ms\n",
      "755:\tlearn: 22.3264261\ttotal: 1.2s\tremaining: 386ms\n",
      "756:\tlearn: 22.2796605\ttotal: 1.2s\tremaining: 385ms\n",
      "757:\tlearn: 22.2253439\ttotal: 1.2s\tremaining: 383ms\n",
      "758:\tlearn: 22.1636409\ttotal: 1.2s\tremaining: 381ms\n",
      "759:\tlearn: 22.1078491\ttotal: 1.2s\tremaining: 380ms\n",
      "760:\tlearn: 22.0275756\ttotal: 1.2s\tremaining: 378ms\n",
      "761:\tlearn: 22.0174143\ttotal: 1.21s\tremaining: 376ms\n",
      "762:\tlearn: 21.9887391\ttotal: 1.21s\tremaining: 375ms\n",
      "763:\tlearn: 21.9746733\ttotal: 1.21s\tremaining: 373ms\n",
      "764:\tlearn: 21.9529216\ttotal: 1.21s\tremaining: 372ms\n",
      "765:\tlearn: 21.8767644\ttotal: 1.21s\tremaining: 370ms\n",
      "766:\tlearn: 21.8668039\ttotal: 1.21s\tremaining: 369ms\n",
      "767:\tlearn: 21.8008688\ttotal: 1.21s\tremaining: 367ms\n",
      "768:\tlearn: 21.7612208\ttotal: 1.22s\tremaining: 365ms\n",
      "769:\tlearn: 21.6977978\ttotal: 1.22s\tremaining: 364ms\n",
      "770:\tlearn: 21.6870461\ttotal: 1.22s\tremaining: 362ms\n",
      "771:\tlearn: 21.6599780\ttotal: 1.22s\tremaining: 361ms\n",
      "772:\tlearn: 21.5522064\ttotal: 1.22s\tremaining: 359ms\n",
      "773:\tlearn: 21.5426327\ttotal: 1.23s\tremaining: 358ms\n",
      "774:\tlearn: 21.4391089\ttotal: 1.23s\tremaining: 356ms\n",
      "775:\tlearn: 21.4042993\ttotal: 1.23s\tremaining: 354ms\n",
      "776:\tlearn: 21.3284836\ttotal: 1.23s\tremaining: 353ms\n",
      "777:\tlearn: 21.3163774\ttotal: 1.23s\tremaining: 351ms\n",
      "778:\tlearn: 21.2708416\ttotal: 1.23s\tremaining: 349ms\n",
      "779:\tlearn: 21.2056943\ttotal: 1.23s\tremaining: 348ms\n",
      "780:\tlearn: 21.1434774\ttotal: 1.23s\tremaining: 346ms\n",
      "781:\tlearn: 21.0672473\ttotal: 1.24s\tremaining: 344ms\n",
      "782:\tlearn: 20.9629645\ttotal: 1.24s\tremaining: 343ms\n",
      "783:\tlearn: 20.9522537\ttotal: 1.24s\tremaining: 342ms\n",
      "784:\tlearn: 20.9252425\ttotal: 1.24s\tremaining: 340ms\n",
      "785:\tlearn: 20.8576799\ttotal: 1.24s\tremaining: 338ms\n",
      "786:\tlearn: 20.7922970\ttotal: 1.24s\tremaining: 337ms\n",
      "787:\tlearn: 20.7802134\ttotal: 1.24s\tremaining: 335ms\n",
      "788:\tlearn: 20.7125213\ttotal: 1.25s\tremaining: 333ms\n",
      "789:\tlearn: 20.7000005\ttotal: 1.25s\tremaining: 332ms\n",
      "790:\tlearn: 20.6366378\ttotal: 1.25s\tremaining: 330ms\n",
      "791:\tlearn: 20.6170923\ttotal: 1.25s\tremaining: 328ms\n",
      "792:\tlearn: 20.5485950\ttotal: 1.25s\tremaining: 327ms\n",
      "793:\tlearn: 20.5212323\ttotal: 1.25s\tremaining: 325ms\n",
      "794:\tlearn: 20.5004347\ttotal: 1.25s\tremaining: 324ms\n",
      "795:\tlearn: 20.4884649\ttotal: 1.26s\tremaining: 322ms\n",
      "796:\tlearn: 20.3727007\ttotal: 1.26s\tremaining: 321ms\n",
      "797:\tlearn: 20.2776166\ttotal: 1.26s\tremaining: 319ms\n",
      "798:\tlearn: 20.2690965\ttotal: 1.26s\tremaining: 317ms\n",
      "799:\tlearn: 20.2166634\ttotal: 1.26s\tremaining: 316ms\n",
      "800:\tlearn: 20.1160179\ttotal: 1.26s\tremaining: 314ms\n",
      "801:\tlearn: 20.0642268\ttotal: 1.26s\tremaining: 312ms\n",
      "802:\tlearn: 20.0323601\ttotal: 1.27s\tremaining: 311ms\n",
      "803:\tlearn: 19.9485334\ttotal: 1.27s\tremaining: 309ms\n",
      "804:\tlearn: 19.9071725\ttotal: 1.27s\tremaining: 308ms\n",
      "805:\tlearn: 19.8943564\ttotal: 1.27s\tremaining: 306ms\n",
      "806:\tlearn: 19.7804687\ttotal: 1.27s\tremaining: 304ms\n",
      "807:\tlearn: 19.7343406\ttotal: 1.27s\tremaining: 303ms\n",
      "808:\tlearn: 19.6963930\ttotal: 1.27s\tremaining: 301ms\n",
      "809:\tlearn: 19.6705675\ttotal: 1.28s\tremaining: 300ms\n",
      "810:\tlearn: 19.6382933\ttotal: 1.28s\tremaining: 298ms\n",
      "811:\tlearn: 19.5889191\ttotal: 1.28s\tremaining: 296ms\n",
      "812:\tlearn: 19.5638487\ttotal: 1.28s\tremaining: 295ms\n",
      "813:\tlearn: 19.4926424\ttotal: 1.28s\tremaining: 293ms\n",
      "814:\tlearn: 19.3961396\ttotal: 1.28s\tremaining: 292ms\n",
      "815:\tlearn: 19.3880242\ttotal: 1.29s\tremaining: 290ms\n",
      "816:\tlearn: 19.2808372\ttotal: 1.29s\tremaining: 288ms\n",
      "817:\tlearn: 19.1712815\ttotal: 1.29s\tremaining: 287ms\n",
      "818:\tlearn: 19.0909823\ttotal: 1.29s\tremaining: 285ms\n",
      "819:\tlearn: 18.9993504\ttotal: 1.29s\tremaining: 283ms\n",
      "820:\tlearn: 18.9773399\ttotal: 1.29s\tremaining: 282ms\n",
      "821:\tlearn: 18.8989735\ttotal: 1.29s\tremaining: 280ms\n",
      "822:\tlearn: 18.8275176\ttotal: 1.29s\tremaining: 279ms\n",
      "823:\tlearn: 18.8092278\ttotal: 1.3s\tremaining: 277ms\n",
      "824:\tlearn: 18.7938447\ttotal: 1.3s\tremaining: 275ms\n",
      "825:\tlearn: 18.7871267\ttotal: 1.3s\tremaining: 274ms\n",
      "826:\tlearn: 18.7299674\ttotal: 1.3s\tremaining: 272ms\n",
      "827:\tlearn: 18.6808264\ttotal: 1.3s\tremaining: 271ms\n",
      "828:\tlearn: 18.5984875\ttotal: 1.3s\tremaining: 269ms\n",
      "829:\tlearn: 18.5170088\ttotal: 1.3s\tremaining: 267ms\n",
      "830:\tlearn: 18.4707382\ttotal: 1.31s\tremaining: 266ms\n",
      "831:\tlearn: 18.4368619\ttotal: 1.31s\tremaining: 264ms\n",
      "832:\tlearn: 18.3683191\ttotal: 1.31s\tremaining: 262ms\n",
      "833:\tlearn: 18.3295058\ttotal: 1.31s\tremaining: 261ms\n",
      "834:\tlearn: 18.2587263\ttotal: 1.31s\tremaining: 259ms\n",
      "835:\tlearn: 18.2103679\ttotal: 1.31s\tremaining: 258ms\n",
      "836:\tlearn: 18.1781032\ttotal: 1.31s\tremaining: 256ms\n",
      "837:\tlearn: 18.0746921\ttotal: 1.31s\tremaining: 254ms\n",
      "838:\tlearn: 18.0131984\ttotal: 1.32s\tremaining: 253ms\n",
      "839:\tlearn: 17.9510877\ttotal: 1.32s\tremaining: 251ms\n",
      "840:\tlearn: 17.8893536\ttotal: 1.32s\tremaining: 249ms\n",
      "841:\tlearn: 17.8813583\ttotal: 1.32s\tremaining: 248ms\n",
      "842:\tlearn: 17.8129857\ttotal: 1.32s\tremaining: 246ms\n",
      "843:\tlearn: 17.7981202\ttotal: 1.32s\tremaining: 245ms\n",
      "844:\tlearn: 17.7414627\ttotal: 1.32s\tremaining: 243ms\n",
      "845:\tlearn: 17.7255534\ttotal: 1.33s\tremaining: 241ms\n",
      "846:\tlearn: 17.6965545\ttotal: 1.33s\tremaining: 240ms\n",
      "847:\tlearn: 17.6499397\ttotal: 1.33s\tremaining: 238ms\n",
      "848:\tlearn: 17.6133852\ttotal: 1.33s\tremaining: 237ms\n",
      "849:\tlearn: 17.5621620\ttotal: 1.33s\tremaining: 235ms\n",
      "850:\tlearn: 17.5064049\ttotal: 1.33s\tremaining: 233ms\n",
      "851:\tlearn: 17.4643467\ttotal: 1.33s\tremaining: 232ms\n",
      "852:\tlearn: 17.4569544\ttotal: 1.33s\tremaining: 230ms\n",
      "853:\tlearn: 17.3731897\ttotal: 1.34s\tremaining: 229ms\n",
      "854:\tlearn: 17.3313609\ttotal: 1.34s\tremaining: 227ms\n",
      "855:\tlearn: 17.2781582\ttotal: 1.34s\tremaining: 225ms\n",
      "856:\tlearn: 17.2283433\ttotal: 1.34s\tremaining: 224ms\n",
      "857:\tlearn: 17.1944614\ttotal: 1.34s\tremaining: 222ms\n",
      "858:\tlearn: 17.1573393\ttotal: 1.34s\tremaining: 221ms\n",
      "859:\tlearn: 17.0975067\ttotal: 1.34s\tremaining: 219ms\n",
      "860:\tlearn: 17.0462043\ttotal: 1.34s\tremaining: 217ms\n",
      "861:\tlearn: 17.0118805\ttotal: 1.35s\tremaining: 216ms\n",
      "862:\tlearn: 17.0045195\ttotal: 1.35s\tremaining: 214ms\n",
      "863:\tlearn: 16.9528999\ttotal: 1.35s\tremaining: 213ms\n",
      "864:\tlearn: 16.9270632\ttotal: 1.35s\tremaining: 211ms\n",
      "865:\tlearn: 16.8915252\ttotal: 1.35s\tremaining: 210ms\n",
      "866:\tlearn: 16.7946576\ttotal: 1.35s\tremaining: 208ms\n",
      "867:\tlearn: 16.7737222\ttotal: 1.36s\tremaining: 206ms\n",
      "868:\tlearn: 16.7192509\ttotal: 1.36s\tremaining: 205ms\n",
      "869:\tlearn: 16.7138388\ttotal: 1.36s\tremaining: 203ms\n",
      "870:\tlearn: 16.6877768\ttotal: 1.36s\tremaining: 202ms\n",
      "871:\tlearn: 16.6265748\ttotal: 1.36s\tremaining: 200ms\n",
      "872:\tlearn: 16.5641199\ttotal: 1.36s\tremaining: 198ms\n",
      "873:\tlearn: 16.4935111\ttotal: 1.36s\tremaining: 197ms\n",
      "874:\tlearn: 16.4250863\ttotal: 1.37s\tremaining: 195ms\n",
      "875:\tlearn: 16.3566947\ttotal: 1.37s\tremaining: 194ms\n",
      "876:\tlearn: 16.2731185\ttotal: 1.37s\tremaining: 192ms\n",
      "877:\tlearn: 16.2207923\ttotal: 1.37s\tremaining: 190ms\n",
      "878:\tlearn: 16.2073108\ttotal: 1.37s\tremaining: 189ms\n",
      "879:\tlearn: 16.1336576\ttotal: 1.37s\tremaining: 187ms\n",
      "880:\tlearn: 16.0994139\ttotal: 1.37s\tremaining: 186ms\n",
      "881:\tlearn: 16.0720217\ttotal: 1.38s\tremaining: 184ms\n",
      "882:\tlearn: 16.0192163\ttotal: 1.38s\tremaining: 183ms\n",
      "883:\tlearn: 16.0021989\ttotal: 1.38s\tremaining: 181ms\n",
      "884:\tlearn: 15.9003005\ttotal: 1.38s\tremaining: 180ms\n",
      "885:\tlearn: 15.8685768\ttotal: 1.38s\tremaining: 178ms\n",
      "886:\tlearn: 15.7757199\ttotal: 1.38s\tremaining: 176ms\n",
      "887:\tlearn: 15.7280015\ttotal: 1.39s\tremaining: 175ms\n",
      "888:\tlearn: 15.7037867\ttotal: 1.39s\tremaining: 173ms\n",
      "889:\tlearn: 15.6876254\ttotal: 1.39s\tremaining: 172ms\n",
      "890:\tlearn: 15.6002589\ttotal: 1.39s\tremaining: 170ms\n",
      "891:\tlearn: 15.5663914\ttotal: 1.39s\tremaining: 168ms\n",
      "892:\tlearn: 15.4827503\ttotal: 1.39s\tremaining: 167ms\n",
      "893:\tlearn: 15.4422647\ttotal: 1.39s\tremaining: 165ms\n",
      "894:\tlearn: 15.4230904\ttotal: 1.39s\tremaining: 164ms\n",
      "895:\tlearn: 15.3907978\ttotal: 1.4s\tremaining: 162ms\n",
      "896:\tlearn: 15.3022423\ttotal: 1.4s\tremaining: 160ms\n",
      "897:\tlearn: 15.2770800\ttotal: 1.4s\tremaining: 159ms\n",
      "898:\tlearn: 15.2708396\ttotal: 1.4s\tremaining: 157ms\n",
      "899:\tlearn: 15.2217814\ttotal: 1.4s\tremaining: 156ms\n",
      "900:\tlearn: 15.2150872\ttotal: 1.4s\tremaining: 154ms\n",
      "901:\tlearn: 15.1938758\ttotal: 1.4s\tremaining: 153ms\n",
      "902:\tlearn: 15.1087389\ttotal: 1.41s\tremaining: 151ms\n",
      "903:\tlearn: 15.0270836\ttotal: 1.41s\tremaining: 149ms\n",
      "904:\tlearn: 14.9579009\ttotal: 1.41s\tremaining: 148ms\n",
      "905:\tlearn: 14.9321713\ttotal: 1.41s\tremaining: 146ms\n",
      "906:\tlearn: 14.9254894\ttotal: 1.41s\tremaining: 145ms\n",
      "907:\tlearn: 14.8662999\ttotal: 1.41s\tremaining: 143ms\n",
      "908:\tlearn: 14.7969088\ttotal: 1.41s\tremaining: 141ms\n",
      "909:\tlearn: 14.7187437\ttotal: 1.41s\tremaining: 140ms\n",
      "910:\tlearn: 14.6594229\ttotal: 1.42s\tremaining: 138ms\n",
      "911:\tlearn: 14.6109629\ttotal: 1.42s\tremaining: 137ms\n",
      "912:\tlearn: 14.5833869\ttotal: 1.42s\tremaining: 135ms\n",
      "913:\tlearn: 14.5677206\ttotal: 1.42s\tremaining: 134ms\n",
      "914:\tlearn: 14.5260964\ttotal: 1.42s\tremaining: 132ms\n",
      "915:\tlearn: 14.4838792\ttotal: 1.42s\tremaining: 130ms\n",
      "916:\tlearn: 14.4614097\ttotal: 1.42s\tremaining: 129ms\n",
      "917:\tlearn: 14.4432212\ttotal: 1.42s\tremaining: 127ms\n",
      "918:\tlearn: 14.4363977\ttotal: 1.43s\tremaining: 126ms\n",
      "919:\tlearn: 14.3740822\ttotal: 1.43s\tremaining: 124ms\n",
      "920:\tlearn: 14.3363459\ttotal: 1.43s\tremaining: 123ms\n",
      "921:\tlearn: 14.2862425\ttotal: 1.43s\tremaining: 121ms\n",
      "922:\tlearn: 14.2195191\ttotal: 1.43s\tremaining: 119ms\n",
      "923:\tlearn: 14.1752422\ttotal: 1.43s\tremaining: 118ms\n",
      "924:\tlearn: 14.1582897\ttotal: 1.43s\tremaining: 116ms\n",
      "925:\tlearn: 14.0892518\ttotal: 1.43s\tremaining: 115ms\n",
      "926:\tlearn: 14.0163904\ttotal: 1.44s\tremaining: 113ms\n",
      "927:\tlearn: 13.9674906\ttotal: 1.44s\tremaining: 112ms\n",
      "928:\tlearn: 13.9421041\ttotal: 1.44s\tremaining: 110ms\n",
      "929:\tlearn: 13.9264108\ttotal: 1.44s\tremaining: 108ms\n",
      "930:\tlearn: 13.8953443\ttotal: 1.44s\tremaining: 107ms\n",
      "931:\tlearn: 13.8514821\ttotal: 1.44s\tremaining: 105ms\n",
      "932:\tlearn: 13.8317730\ttotal: 1.44s\tremaining: 104ms\n",
      "933:\tlearn: 13.7980615\ttotal: 1.44s\tremaining: 102ms\n",
      "934:\tlearn: 13.7252551\ttotal: 1.45s\tremaining: 101ms\n",
      "935:\tlearn: 13.6867475\ttotal: 1.45s\tremaining: 99ms\n",
      "936:\tlearn: 13.6663164\ttotal: 1.45s\tremaining: 97.4ms\n",
      "937:\tlearn: 13.6108173\ttotal: 1.45s\tremaining: 95.8ms\n",
      "938:\tlearn: 13.5827380\ttotal: 1.45s\tremaining: 94.3ms\n",
      "939:\tlearn: 13.5211246\ttotal: 1.45s\tremaining: 92.7ms\n",
      "940:\tlearn: 13.4752089\ttotal: 1.45s\tremaining: 91.1ms\n",
      "941:\tlearn: 13.4283115\ttotal: 1.46s\tremaining: 89.6ms\n",
      "942:\tlearn: 13.3912327\ttotal: 1.46s\tremaining: 88ms\n",
      "943:\tlearn: 13.3593766\ttotal: 1.46s\tremaining: 86.5ms\n",
      "944:\tlearn: 13.3015250\ttotal: 1.46s\tremaining: 84.9ms\n",
      "945:\tlearn: 13.2587480\ttotal: 1.46s\tremaining: 83.3ms\n",
      "946:\tlearn: 13.1949436\ttotal: 1.46s\tremaining: 81.8ms\n",
      "947:\tlearn: 13.1552441\ttotal: 1.46s\tremaining: 80.2ms\n",
      "948:\tlearn: 13.0700947\ttotal: 1.46s\tremaining: 78.7ms\n",
      "949:\tlearn: 13.0460884\ttotal: 1.47s\tremaining: 77.1ms\n",
      "950:\tlearn: 13.0315972\ttotal: 1.47s\tremaining: 75.6ms\n",
      "951:\tlearn: 12.9964111\ttotal: 1.47s\tremaining: 74ms\n",
      "952:\tlearn: 12.9757139\ttotal: 1.47s\tremaining: 72.4ms\n",
      "953:\tlearn: 12.9120533\ttotal: 1.47s\tremaining: 70.9ms\n",
      "954:\tlearn: 12.8776679\ttotal: 1.47s\tremaining: 69.3ms\n",
      "955:\tlearn: 12.8703243\ttotal: 1.47s\tremaining: 67.8ms\n",
      "956:\tlearn: 12.8058615\ttotal: 1.47s\tremaining: 66.2ms\n",
      "957:\tlearn: 12.7637381\ttotal: 1.48s\tremaining: 64.7ms\n",
      "958:\tlearn: 12.7517063\ttotal: 1.48s\tremaining: 63.1ms\n",
      "959:\tlearn: 12.7382108\ttotal: 1.48s\tremaining: 61.6ms\n",
      "960:\tlearn: 12.6881713\ttotal: 1.48s\tremaining: 60ms\n",
      "961:\tlearn: 12.6728317\ttotal: 1.48s\tremaining: 58.5ms\n",
      "962:\tlearn: 12.6386609\ttotal: 1.48s\tremaining: 56.9ms\n",
      "963:\tlearn: 12.5837642\ttotal: 1.48s\tremaining: 55.4ms\n",
      "964:\tlearn: 12.5689789\ttotal: 1.48s\tremaining: 53.8ms\n",
      "965:\tlearn: 12.5362136\ttotal: 1.49s\tremaining: 52.3ms\n",
      "966:\tlearn: 12.5186020\ttotal: 1.49s\tremaining: 50.7ms\n",
      "967:\tlearn: 12.4787889\ttotal: 1.49s\tremaining: 49.2ms\n",
      "968:\tlearn: 12.4463866\ttotal: 1.49s\tremaining: 47.6ms\n",
      "969:\tlearn: 12.3919484\ttotal: 1.49s\tremaining: 46.1ms\n",
      "970:\tlearn: 12.3583173\ttotal: 1.49s\tremaining: 44.6ms\n",
      "971:\tlearn: 12.3430204\ttotal: 1.49s\tremaining: 43ms\n",
      "972:\tlearn: 12.3036135\ttotal: 1.49s\tremaining: 41.5ms\n",
      "973:\tlearn: 12.2785886\ttotal: 1.5s\tremaining: 39.9ms\n",
      "974:\tlearn: 12.2424148\ttotal: 1.5s\tremaining: 38.4ms\n",
      "975:\tlearn: 12.2287225\ttotal: 1.5s\tremaining: 36.8ms\n",
      "976:\tlearn: 12.1894056\ttotal: 1.5s\tremaining: 35.3ms\n",
      "977:\tlearn: 12.1399699\ttotal: 1.5s\tremaining: 33.8ms\n",
      "978:\tlearn: 12.1165698\ttotal: 1.5s\tremaining: 32.2ms\n",
      "979:\tlearn: 12.1084930\ttotal: 1.5s\tremaining: 30.7ms\n",
      "980:\tlearn: 12.1041455\ttotal: 1.5s\tremaining: 29.2ms\n",
      "981:\tlearn: 12.0749440\ttotal: 1.51s\tremaining: 27.6ms\n",
      "982:\tlearn: 12.0676323\ttotal: 1.51s\tremaining: 26.1ms\n",
      "983:\tlearn: 12.0253491\ttotal: 1.51s\tremaining: 24.5ms\n",
      "984:\tlearn: 11.9725269\ttotal: 1.51s\tremaining: 23ms\n",
      "985:\tlearn: 11.9344239\ttotal: 1.51s\tremaining: 21.5ms\n",
      "986:\tlearn: 11.8870660\ttotal: 1.51s\tremaining: 19.9ms\n",
      "987:\tlearn: 11.8411099\ttotal: 1.51s\tremaining: 18.4ms\n",
      "988:\tlearn: 11.7973602\ttotal: 1.52s\tremaining: 16.9ms\n",
      "989:\tlearn: 11.7514376\ttotal: 1.52s\tremaining: 15.3ms\n",
      "990:\tlearn: 11.7232746\ttotal: 1.52s\tremaining: 13.8ms\n",
      "991:\tlearn: 11.6852796\ttotal: 1.52s\tremaining: 12.3ms\n",
      "992:\tlearn: 11.6463794\ttotal: 1.52s\tremaining: 10.7ms\n",
      "993:\tlearn: 11.6106308\ttotal: 1.52s\tremaining: 9.19ms\n",
      "994:\tlearn: 11.5731961\ttotal: 1.52s\tremaining: 7.66ms\n",
      "995:\tlearn: 11.5417359\ttotal: 1.52s\tremaining: 6.13ms\n",
      "996:\tlearn: 11.5167117\ttotal: 1.53s\tremaining: 4.59ms\n",
      "997:\tlearn: 11.4745232\ttotal: 1.53s\tremaining: 3.06ms\n",
      "998:\tlearn: 11.4604481\ttotal: 1.53s\tremaining: 1.53ms\n",
      "999:\tlearn: 11.4510502\ttotal: 1.53s\tremaining: 0us\n"
     ]
    }
   ],
   "source": [
    "catb = CatBoostRegressor()\n",
    "catb_model = catb.fit(X_train,y_train)"
   ]
  },
  {
   "cell_type": "markdown",
   "id": "99a17aa8-20c5-469c-981e-078ec7d78e9a",
   "metadata": {},
   "source": [
    "## Tahmin"
   ]
  },
  {
   "cell_type": "code",
   "execution_count": 188,
   "id": "448968fd-cf16-461b-9f17-8d45c3eb6a29",
   "metadata": {},
   "outputs": [
    {
     "data": {
      "text/plain": [
       "351.194631344607"
      ]
     },
     "execution_count": 188,
     "metadata": {},
     "output_type": "execute_result"
    }
   ],
   "source": [
    "y_pred = catb_model.predict(X_test)\n",
    "np.sqrt(mean_squared_error(y_test, y_pred))"
   ]
  },
  {
   "cell_type": "markdown",
   "id": "7d9e5e04-f3f7-4e70-afc3-6631396e4d71",
   "metadata": {},
   "source": [
    "## Model Tuning"
   ]
  },
  {
   "cell_type": "code",
   "execution_count": 189,
   "id": "353d4771-9360-458c-bf5e-28a23410735b",
   "metadata": {},
   "outputs": [],
   "source": [
    "catb_grid = {\n",
    "    \"iterations\":[200,500,1000,2000],\n",
    "    \"learning_rate\": [0.01, 0.03,0.05,0.1],\n",
    "    \"depth\" : [3,4,5,6,7,8]}\n",
    "    "
   ]
  },
  {
   "cell_type": "code",
   "execution_count": 190,
   "id": "cb4141c0-67fd-40e4-97a0-dbeeb3081f74",
   "metadata": {},
   "outputs": [],
   "source": [
    "catb = CatBoostRegressor()\n",
    "catb_cv_model = GridSearchCV(catb,catb_grid, cv=5, n_jobs=-1, verbose=2)"
   ]
  },
  {
   "cell_type": "code",
   "execution_count": 191,
   "id": "63659e20-a672-49d0-8800-bb196c1003b3",
   "metadata": {},
   "outputs": [
    {
     "name": "stdout",
     "output_type": "stream",
     "text": [
      "Fitting 5 folds for each of 96 candidates, totalling 480 fits\n"
     ]
    },
    {
     "ename": "KeyboardInterrupt",
     "evalue": "",
     "output_type": "error",
     "traceback": [
      "\u001b[1;31m---------------------------------------------------------------------------\u001b[0m",
      "\u001b[1;31mKeyboardInterrupt\u001b[0m                         Traceback (most recent call last)",
      "Input \u001b[1;32mIn [191]\u001b[0m, in \u001b[0;36m<cell line: 1>\u001b[1;34m()\u001b[0m\n\u001b[1;32m----> 1\u001b[0m \u001b[43mcatb_cv_model\u001b[49m\u001b[38;5;241;43m.\u001b[39;49m\u001b[43mfit\u001b[49m\u001b[43m(\u001b[49m\u001b[43mX_train\u001b[49m\u001b[43m,\u001b[49m\u001b[43my_train\u001b[49m\u001b[43m)\u001b[49m\n",
      "File \u001b[1;32m~\\anaconda3\\lib\\site-packages\\sklearn\\model_selection\\_search.py:891\u001b[0m, in \u001b[0;36mBaseSearchCV.fit\u001b[1;34m(self, X, y, groups, **fit_params)\u001b[0m\n\u001b[0;32m    885\u001b[0m     results \u001b[38;5;241m=\u001b[39m \u001b[38;5;28mself\u001b[39m\u001b[38;5;241m.\u001b[39m_format_results(\n\u001b[0;32m    886\u001b[0m         all_candidate_params, n_splits, all_out, all_more_results\n\u001b[0;32m    887\u001b[0m     )\n\u001b[0;32m    889\u001b[0m     \u001b[38;5;28;01mreturn\u001b[39;00m results\n\u001b[1;32m--> 891\u001b[0m \u001b[38;5;28;43mself\u001b[39;49m\u001b[38;5;241;43m.\u001b[39;49m\u001b[43m_run_search\u001b[49m\u001b[43m(\u001b[49m\u001b[43mevaluate_candidates\u001b[49m\u001b[43m)\u001b[49m\n\u001b[0;32m    893\u001b[0m \u001b[38;5;66;03m# multimetric is determined here because in the case of a callable\u001b[39;00m\n\u001b[0;32m    894\u001b[0m \u001b[38;5;66;03m# self.scoring the return type is only known after calling\u001b[39;00m\n\u001b[0;32m    895\u001b[0m first_test_score \u001b[38;5;241m=\u001b[39m all_out[\u001b[38;5;241m0\u001b[39m][\u001b[38;5;124m\"\u001b[39m\u001b[38;5;124mtest_scores\u001b[39m\u001b[38;5;124m\"\u001b[39m]\n",
      "File \u001b[1;32m~\\anaconda3\\lib\\site-packages\\sklearn\\model_selection\\_search.py:1392\u001b[0m, in \u001b[0;36mGridSearchCV._run_search\u001b[1;34m(self, evaluate_candidates)\u001b[0m\n\u001b[0;32m   1390\u001b[0m \u001b[38;5;28;01mdef\u001b[39;00m \u001b[38;5;21m_run_search\u001b[39m(\u001b[38;5;28mself\u001b[39m, evaluate_candidates):\n\u001b[0;32m   1391\u001b[0m     \u001b[38;5;124;03m\"\"\"Search all candidates in param_grid\"\"\"\u001b[39;00m\n\u001b[1;32m-> 1392\u001b[0m     \u001b[43mevaluate_candidates\u001b[49m\u001b[43m(\u001b[49m\u001b[43mParameterGrid\u001b[49m\u001b[43m(\u001b[49m\u001b[38;5;28;43mself\u001b[39;49m\u001b[38;5;241;43m.\u001b[39;49m\u001b[43mparam_grid\u001b[49m\u001b[43m)\u001b[49m\u001b[43m)\u001b[49m\n",
      "File \u001b[1;32m~\\anaconda3\\lib\\site-packages\\sklearn\\model_selection\\_search.py:838\u001b[0m, in \u001b[0;36mBaseSearchCV.fit.<locals>.evaluate_candidates\u001b[1;34m(candidate_params, cv, more_results)\u001b[0m\n\u001b[0;32m    830\u001b[0m \u001b[38;5;28;01mif\u001b[39;00m \u001b[38;5;28mself\u001b[39m\u001b[38;5;241m.\u001b[39mverbose \u001b[38;5;241m>\u001b[39m \u001b[38;5;241m0\u001b[39m:\n\u001b[0;32m    831\u001b[0m     \u001b[38;5;28mprint\u001b[39m(\n\u001b[0;32m    832\u001b[0m         \u001b[38;5;124m\"\u001b[39m\u001b[38;5;124mFitting \u001b[39m\u001b[38;5;132;01m{0}\u001b[39;00m\u001b[38;5;124m folds for each of \u001b[39m\u001b[38;5;132;01m{1}\u001b[39;00m\u001b[38;5;124m candidates,\u001b[39m\u001b[38;5;124m\"\u001b[39m\n\u001b[0;32m    833\u001b[0m         \u001b[38;5;124m\"\u001b[39m\u001b[38;5;124m totalling \u001b[39m\u001b[38;5;132;01m{2}\u001b[39;00m\u001b[38;5;124m fits\u001b[39m\u001b[38;5;124m\"\u001b[39m\u001b[38;5;241m.\u001b[39mformat(\n\u001b[0;32m    834\u001b[0m             n_splits, n_candidates, n_candidates \u001b[38;5;241m*\u001b[39m n_splits\n\u001b[0;32m    835\u001b[0m         )\n\u001b[0;32m    836\u001b[0m     )\n\u001b[1;32m--> 838\u001b[0m out \u001b[38;5;241m=\u001b[39m \u001b[43mparallel\u001b[49m\u001b[43m(\u001b[49m\n\u001b[0;32m    839\u001b[0m \u001b[43m    \u001b[49m\u001b[43mdelayed\u001b[49m\u001b[43m(\u001b[49m\u001b[43m_fit_and_score\u001b[49m\u001b[43m)\u001b[49m\u001b[43m(\u001b[49m\n\u001b[0;32m    840\u001b[0m \u001b[43m        \u001b[49m\u001b[43mclone\u001b[49m\u001b[43m(\u001b[49m\u001b[43mbase_estimator\u001b[49m\u001b[43m)\u001b[49m\u001b[43m,\u001b[49m\n\u001b[0;32m    841\u001b[0m \u001b[43m        \u001b[49m\u001b[43mX\u001b[49m\u001b[43m,\u001b[49m\n\u001b[0;32m    842\u001b[0m \u001b[43m        \u001b[49m\u001b[43my\u001b[49m\u001b[43m,\u001b[49m\n\u001b[0;32m    843\u001b[0m \u001b[43m        \u001b[49m\u001b[43mtrain\u001b[49m\u001b[38;5;241;43m=\u001b[39;49m\u001b[43mtrain\u001b[49m\u001b[43m,\u001b[49m\n\u001b[0;32m    844\u001b[0m \u001b[43m        \u001b[49m\u001b[43mtest\u001b[49m\u001b[38;5;241;43m=\u001b[39;49m\u001b[43mtest\u001b[49m\u001b[43m,\u001b[49m\n\u001b[0;32m    845\u001b[0m \u001b[43m        \u001b[49m\u001b[43mparameters\u001b[49m\u001b[38;5;241;43m=\u001b[39;49m\u001b[43mparameters\u001b[49m\u001b[43m,\u001b[49m\n\u001b[0;32m    846\u001b[0m \u001b[43m        \u001b[49m\u001b[43msplit_progress\u001b[49m\u001b[38;5;241;43m=\u001b[39;49m\u001b[43m(\u001b[49m\u001b[43msplit_idx\u001b[49m\u001b[43m,\u001b[49m\u001b[43m \u001b[49m\u001b[43mn_splits\u001b[49m\u001b[43m)\u001b[49m\u001b[43m,\u001b[49m\n\u001b[0;32m    847\u001b[0m \u001b[43m        \u001b[49m\u001b[43mcandidate_progress\u001b[49m\u001b[38;5;241;43m=\u001b[39;49m\u001b[43m(\u001b[49m\u001b[43mcand_idx\u001b[49m\u001b[43m,\u001b[49m\u001b[43m \u001b[49m\u001b[43mn_candidates\u001b[49m\u001b[43m)\u001b[49m\u001b[43m,\u001b[49m\n\u001b[0;32m    848\u001b[0m \u001b[43m        \u001b[49m\u001b[38;5;241;43m*\u001b[39;49m\u001b[38;5;241;43m*\u001b[39;49m\u001b[43mfit_and_score_kwargs\u001b[49m\u001b[43m,\u001b[49m\n\u001b[0;32m    849\u001b[0m \u001b[43m    \u001b[49m\u001b[43m)\u001b[49m\n\u001b[0;32m    850\u001b[0m \u001b[43m    \u001b[49m\u001b[38;5;28;43;01mfor\u001b[39;49;00m\u001b[43m \u001b[49m\u001b[43m(\u001b[49m\u001b[43mcand_idx\u001b[49m\u001b[43m,\u001b[49m\u001b[43m \u001b[49m\u001b[43mparameters\u001b[49m\u001b[43m)\u001b[49m\u001b[43m,\u001b[49m\u001b[43m \u001b[49m\u001b[43m(\u001b[49m\u001b[43msplit_idx\u001b[49m\u001b[43m,\u001b[49m\u001b[43m \u001b[49m\u001b[43m(\u001b[49m\u001b[43mtrain\u001b[49m\u001b[43m,\u001b[49m\u001b[43m \u001b[49m\u001b[43mtest\u001b[49m\u001b[43m)\u001b[49m\u001b[43m)\u001b[49m\u001b[43m \u001b[49m\u001b[38;5;129;43;01min\u001b[39;49;00m\u001b[43m \u001b[49m\u001b[43mproduct\u001b[49m\u001b[43m(\u001b[49m\n\u001b[0;32m    851\u001b[0m \u001b[43m        \u001b[49m\u001b[38;5;28;43menumerate\u001b[39;49m\u001b[43m(\u001b[49m\u001b[43mcandidate_params\u001b[49m\u001b[43m)\u001b[49m\u001b[43m,\u001b[49m\u001b[43m \u001b[49m\u001b[38;5;28;43menumerate\u001b[39;49m\u001b[43m(\u001b[49m\u001b[43mcv\u001b[49m\u001b[38;5;241;43m.\u001b[39;49m\u001b[43msplit\u001b[49m\u001b[43m(\u001b[49m\u001b[43mX\u001b[49m\u001b[43m,\u001b[49m\u001b[43m \u001b[49m\u001b[43my\u001b[49m\u001b[43m,\u001b[49m\u001b[43m \u001b[49m\u001b[43mgroups\u001b[49m\u001b[43m)\u001b[49m\u001b[43m)\u001b[49m\n\u001b[0;32m    852\u001b[0m \u001b[43m    \u001b[49m\u001b[43m)\u001b[49m\n\u001b[0;32m    853\u001b[0m \u001b[43m\u001b[49m\u001b[43m)\u001b[49m\n\u001b[0;32m    855\u001b[0m \u001b[38;5;28;01mif\u001b[39;00m \u001b[38;5;28mlen\u001b[39m(out) \u001b[38;5;241m<\u001b[39m \u001b[38;5;241m1\u001b[39m:\n\u001b[0;32m    856\u001b[0m     \u001b[38;5;28;01mraise\u001b[39;00m \u001b[38;5;167;01mValueError\u001b[39;00m(\n\u001b[0;32m    857\u001b[0m         \u001b[38;5;124m\"\u001b[39m\u001b[38;5;124mNo fits were performed. \u001b[39m\u001b[38;5;124m\"\u001b[39m\n\u001b[0;32m    858\u001b[0m         \u001b[38;5;124m\"\u001b[39m\u001b[38;5;124mWas the CV iterator empty? \u001b[39m\u001b[38;5;124m\"\u001b[39m\n\u001b[0;32m    859\u001b[0m         \u001b[38;5;124m\"\u001b[39m\u001b[38;5;124mWere there no candidates?\u001b[39m\u001b[38;5;124m\"\u001b[39m\n\u001b[0;32m    860\u001b[0m     )\n",
      "File \u001b[1;32m~\\anaconda3\\lib\\site-packages\\joblib\\parallel.py:1056\u001b[0m, in \u001b[0;36mParallel.__call__\u001b[1;34m(self, iterable)\u001b[0m\n\u001b[0;32m   1053\u001b[0m     \u001b[38;5;28mself\u001b[39m\u001b[38;5;241m.\u001b[39m_iterating \u001b[38;5;241m=\u001b[39m \u001b[38;5;28;01mFalse\u001b[39;00m\n\u001b[0;32m   1055\u001b[0m \u001b[38;5;28;01mwith\u001b[39;00m \u001b[38;5;28mself\u001b[39m\u001b[38;5;241m.\u001b[39m_backend\u001b[38;5;241m.\u001b[39mretrieval_context():\n\u001b[1;32m-> 1056\u001b[0m     \u001b[38;5;28;43mself\u001b[39;49m\u001b[38;5;241;43m.\u001b[39;49m\u001b[43mretrieve\u001b[49m\u001b[43m(\u001b[49m\u001b[43m)\u001b[49m\n\u001b[0;32m   1057\u001b[0m \u001b[38;5;66;03m# Make sure that we get a last message telling us we are done\u001b[39;00m\n\u001b[0;32m   1058\u001b[0m elapsed_time \u001b[38;5;241m=\u001b[39m time\u001b[38;5;241m.\u001b[39mtime() \u001b[38;5;241m-\u001b[39m \u001b[38;5;28mself\u001b[39m\u001b[38;5;241m.\u001b[39m_start_time\n",
      "File \u001b[1;32m~\\anaconda3\\lib\\site-packages\\joblib\\parallel.py:935\u001b[0m, in \u001b[0;36mParallel.retrieve\u001b[1;34m(self)\u001b[0m\n\u001b[0;32m    933\u001b[0m \u001b[38;5;28;01mtry\u001b[39;00m:\n\u001b[0;32m    934\u001b[0m     \u001b[38;5;28;01mif\u001b[39;00m \u001b[38;5;28mgetattr\u001b[39m(\u001b[38;5;28mself\u001b[39m\u001b[38;5;241m.\u001b[39m_backend, \u001b[38;5;124m'\u001b[39m\u001b[38;5;124msupports_timeout\u001b[39m\u001b[38;5;124m'\u001b[39m, \u001b[38;5;28;01mFalse\u001b[39;00m):\n\u001b[1;32m--> 935\u001b[0m         \u001b[38;5;28mself\u001b[39m\u001b[38;5;241m.\u001b[39m_output\u001b[38;5;241m.\u001b[39mextend(\u001b[43mjob\u001b[49m\u001b[38;5;241;43m.\u001b[39;49m\u001b[43mget\u001b[49m\u001b[43m(\u001b[49m\u001b[43mtimeout\u001b[49m\u001b[38;5;241;43m=\u001b[39;49m\u001b[38;5;28;43mself\u001b[39;49m\u001b[38;5;241;43m.\u001b[39;49m\u001b[43mtimeout\u001b[49m\u001b[43m)\u001b[49m)\n\u001b[0;32m    936\u001b[0m     \u001b[38;5;28;01melse\u001b[39;00m:\n\u001b[0;32m    937\u001b[0m         \u001b[38;5;28mself\u001b[39m\u001b[38;5;241m.\u001b[39m_output\u001b[38;5;241m.\u001b[39mextend(job\u001b[38;5;241m.\u001b[39mget())\n",
      "File \u001b[1;32m~\\anaconda3\\lib\\site-packages\\joblib\\_parallel_backends.py:542\u001b[0m, in \u001b[0;36mLokyBackend.wrap_future_result\u001b[1;34m(future, timeout)\u001b[0m\n\u001b[0;32m    539\u001b[0m \u001b[38;5;124;03m\"\"\"Wrapper for Future.result to implement the same behaviour as\u001b[39;00m\n\u001b[0;32m    540\u001b[0m \u001b[38;5;124;03mAsyncResults.get from multiprocessing.\"\"\"\u001b[39;00m\n\u001b[0;32m    541\u001b[0m \u001b[38;5;28;01mtry\u001b[39;00m:\n\u001b[1;32m--> 542\u001b[0m     \u001b[38;5;28;01mreturn\u001b[39;00m \u001b[43mfuture\u001b[49m\u001b[38;5;241;43m.\u001b[39;49m\u001b[43mresult\u001b[49m\u001b[43m(\u001b[49m\u001b[43mtimeout\u001b[49m\u001b[38;5;241;43m=\u001b[39;49m\u001b[43mtimeout\u001b[49m\u001b[43m)\u001b[49m\n\u001b[0;32m    543\u001b[0m \u001b[38;5;28;01mexcept\u001b[39;00m CfTimeoutError \u001b[38;5;28;01mas\u001b[39;00m e:\n\u001b[0;32m    544\u001b[0m     \u001b[38;5;28;01mraise\u001b[39;00m \u001b[38;5;167;01mTimeoutError\u001b[39;00m \u001b[38;5;28;01mfrom\u001b[39;00m \u001b[38;5;21;01me\u001b[39;00m\n",
      "File \u001b[1;32m~\\anaconda3\\lib\\concurrent\\futures\\_base.py:441\u001b[0m, in \u001b[0;36mFuture.result\u001b[1;34m(self, timeout)\u001b[0m\n\u001b[0;32m    438\u001b[0m \u001b[38;5;28;01melif\u001b[39;00m \u001b[38;5;28mself\u001b[39m\u001b[38;5;241m.\u001b[39m_state \u001b[38;5;241m==\u001b[39m FINISHED:\n\u001b[0;32m    439\u001b[0m     \u001b[38;5;28;01mreturn\u001b[39;00m \u001b[38;5;28mself\u001b[39m\u001b[38;5;241m.\u001b[39m__get_result()\n\u001b[1;32m--> 441\u001b[0m \u001b[38;5;28;43mself\u001b[39;49m\u001b[38;5;241;43m.\u001b[39;49m\u001b[43m_condition\u001b[49m\u001b[38;5;241;43m.\u001b[39;49m\u001b[43mwait\u001b[49m\u001b[43m(\u001b[49m\u001b[43mtimeout\u001b[49m\u001b[43m)\u001b[49m\n\u001b[0;32m    443\u001b[0m \u001b[38;5;28;01mif\u001b[39;00m \u001b[38;5;28mself\u001b[39m\u001b[38;5;241m.\u001b[39m_state \u001b[38;5;129;01min\u001b[39;00m [CANCELLED, CANCELLED_AND_NOTIFIED]:\n\u001b[0;32m    444\u001b[0m     \u001b[38;5;28;01mraise\u001b[39;00m CancelledError()\n",
      "File \u001b[1;32m~\\anaconda3\\lib\\threading.py:312\u001b[0m, in \u001b[0;36mCondition.wait\u001b[1;34m(self, timeout)\u001b[0m\n\u001b[0;32m    310\u001b[0m \u001b[38;5;28;01mtry\u001b[39;00m:    \u001b[38;5;66;03m# restore state no matter what (e.g., KeyboardInterrupt)\u001b[39;00m\n\u001b[0;32m    311\u001b[0m     \u001b[38;5;28;01mif\u001b[39;00m timeout \u001b[38;5;129;01mis\u001b[39;00m \u001b[38;5;28;01mNone\u001b[39;00m:\n\u001b[1;32m--> 312\u001b[0m         \u001b[43mwaiter\u001b[49m\u001b[38;5;241;43m.\u001b[39;49m\u001b[43macquire\u001b[49m\u001b[43m(\u001b[49m\u001b[43m)\u001b[49m\n\u001b[0;32m    313\u001b[0m         gotit \u001b[38;5;241m=\u001b[39m \u001b[38;5;28;01mTrue\u001b[39;00m\n\u001b[0;32m    314\u001b[0m     \u001b[38;5;28;01melse\u001b[39;00m:\n",
      "\u001b[1;31mKeyboardInterrupt\u001b[0m: "
     ]
    }
   ],
   "source": [
    "catb_cv_model.fit(X_train,y_train)"
   ]
  },
  {
   "cell_type": "code",
   "execution_count": null,
   "id": "935943af-42bb-4364-aa2f-67ab05be86dc",
   "metadata": {},
   "outputs": [],
   "source": [
    "catb_cv_model.best_params_"
   ]
  },
  {
   "cell_type": "code",
   "execution_count": null,
   "id": "ab243261-5285-4bd8-a507-0b85512145a3",
   "metadata": {},
   "outputs": [],
   "source": [
    "catb_tuned =CatBoostRegressor(iterations=200, learning_rate = 0.01, depth=8)\n",
    "\n",
    "catb_tuned = catb_tuned.fit(X_train, y_train)"
   ]
  },
  {
   "cell_type": "code",
   "execution_count": null,
   "id": "ddd081b4-1693-491b-8b11-b6594e318a17",
   "metadata": {},
   "outputs": [],
   "source": [
    "y_pred = catb_tuned.predict(X_test)\n",
    "np.sqrt(mean_squared_error(y_test, y_pred))"
   ]
  }
 ],
 "metadata": {
  "kernelspec": {
   "display_name": "Python 3 (ipykernel)",
   "language": "python",
   "name": "python3"
  },
  "language_info": {
   "codemirror_mode": {
    "name": "ipython",
    "version": 3
   },
   "file_extension": ".py",
   "mimetype": "text/x-python",
   "name": "python",
   "nbconvert_exporter": "python",
   "pygments_lexer": "ipython3",
   "version": "3.9.12"
  }
 },
 "nbformat": 4,
 "nbformat_minor": 5
}
